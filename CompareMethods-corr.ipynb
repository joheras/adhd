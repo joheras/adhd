{
 "cells": [
  {
   "cell_type": "code",
   "execution_count": 1,
   "metadata": {
    "id": "9VdC2keIvxIJ"
   },
   "outputs": [],
   "source": [
    "import numpy as np\n",
    "from StatisticalAnalysis import compare_methods"
   ]
  },
  {
   "cell_type": "code",
   "execution_count": 2,
   "metadata": {
    "id": "3iCEO6wXtftF"
   },
   "outputs": [],
   "source": [
    "import warnings\n",
    "warnings.filterwarnings('ignore')"
   ]
  },
  {
   "cell_type": "markdown",
   "metadata": {
    "id": "Zb3btBk5vxIM"
   },
   "source": [
    "First we load the data and process it to have the correct form."
   ]
  },
  {
   "cell_type": "code",
   "execution_count": 3,
   "metadata": {},
   "outputs": [],
   "source": [
    "corr_hc = np.load('corr_hc.npy')\n",
    "corr_adhd = np.load('corr_adhd.npy')"
   ]
  },
  {
   "cell_type": "code",
   "execution_count": 4,
   "metadata": {},
   "outputs": [],
   "source": [
    "corr_hc = corr_hc.reshape(52,118*118)\n",
    "corr_adhd = corr_adhd.reshape(40,118*118)"
   ]
  },
  {
   "cell_type": "code",
   "execution_count": 5,
   "metadata": {},
   "outputs": [],
   "source": [
    "X = np.append(corr_hc,corr_adhd,axis=0)"
   ]
  },
  {
   "cell_type": "code",
   "execution_count": 6,
   "metadata": {
    "colab": {
     "base_uri": "https://localhost:8080/"
    },
    "id": "8d-RFXoavxIQ",
    "outputId": "a61e1d34-79c6-4f1a-df1f-0b3a74b2c53d"
   },
   "outputs": [
    {
     "data": {
      "text/plain": [
       "(92, 13924)"
      ]
     },
     "execution_count": 6,
     "metadata": {},
     "output_type": "execute_result"
    }
   ],
   "source": [
    "X.shape"
   ]
  },
  {
   "cell_type": "code",
   "execution_count": 7,
   "metadata": {
    "colab": {
     "base_uri": "https://localhost:8080/"
    },
    "id": "hnaiAVUvJmgn",
    "outputId": "6cb5c264-f346-4b38-e85b-aa3b8bf8ace6"
   },
   "outputs": [
    {
     "data": {
      "text/plain": [
       "(13924,)"
      ]
     },
     "execution_count": 7,
     "metadata": {},
     "output_type": "execute_result"
    }
   ],
   "source": [
    "X[0].shape"
   ]
  },
  {
   "cell_type": "code",
   "execution_count": 8,
   "metadata": {
    "id": "5oh4k1gEvxIR"
   },
   "outputs": [],
   "source": [
    "Y = np.append(np.zeros(52),np.ones(40),axis=0)"
   ]
  },
  {
   "cell_type": "code",
   "execution_count": 9,
   "metadata": {
    "colab": {
     "base_uri": "https://localhost:8080/"
    },
    "id": "PZuBWU5LvxIR",
    "outputId": "21a0987a-b533-41fc-bea5-9f94b3246a66",
    "scrolled": true
   },
   "outputs": [
    {
     "data": {
      "text/plain": [
       "(92,)"
      ]
     },
     "execution_count": 9,
     "metadata": {},
     "output_type": "execute_result"
    }
   ],
   "source": [
    "Y.shape"
   ]
  },
  {
   "cell_type": "markdown",
   "metadata": {
    "id": "w2w8w0VjvxIS"
   },
   "source": [
    "Now, we define the algorithms that we are going to use. "
   ]
  },
  {
   "cell_type": "code",
   "execution_count": 10,
   "metadata": {
    "id": "MEPfV3efvxIS"
   },
   "outputs": [],
   "source": [
    "from sklearn.tree import DecisionTreeClassifier\n",
    "from sklearn.neighbors import KNeighborsClassifier\n",
    "from sklearn.linear_model import LogisticRegression\n",
    "from sklearn.svm import SVC\n",
    "from sklearn.neural_network import MLPClassifier\n",
    "from sklearn.ensemble import ExtraTreesClassifier\n",
    "from sklearn.ensemble import GradientBoostingClassifier\n",
    "from sklearn.ensemble import RandomForestClassifier\n",
    "from sklearn.ensemble import AdaBoostClassifier\n",
    "from scipy.stats import randint as sp_randint"
   ]
  },
  {
   "cell_type": "code",
   "execution_count": 11,
   "metadata": {
    "id": "YwnPEwswvxIU"
   },
   "outputs": [],
   "source": [
    "# Decision tree\n",
    "clfTree = DecisionTreeClassifier(random_state=84)\n",
    "param_distTree = {\"min_samples_split\": sp_randint(3, 30)}\n",
    "# SVM\n",
    "clfSVC = SVC(random_state=84)\n",
    "param_distSVC = {'C': [1, 10, 100, 1000], 'gamma': [0.001, 0.0001],'kernel': ['rbf'], 'class_weight':['balanced', None]}\n",
    "# KNN\n",
    "clfKNN = KNeighborsClassifier()\n",
    "param_distKNN = {'n_neighbors':sp_randint(3, 30)}\n",
    "# Logistic regression\n",
    "clfLR = LogisticRegression(random_state=84)\n",
    "param_distLR = {'C': [0.1,0.5,1, 10, 100, 1000]}\n",
    "# Neural Network\n",
    "clfMLP = MLPClassifier(random_state=84)\n",
    "param_distMLP = {'activation': ['identity', 'logistic', 'tanh', 'relu'], 'solver': ['lbfgs', 'sgd', 'adam'],\n",
    "                 'alpha': sp_randint(0.0001, 1), 'learning_rate': ['constant', 'invscaling', 'adaptive'],\n",
    "                 'hidden_layer_sizes': [(5,2), (3,3,3), (5,3,2), (5,4,3,2)],\n",
    "                 'momentum': [0.9, 0.95, 0.99]}\n",
    "# RandomForest\n",
    "clfRF = RandomForestClassifier(random_state=84)\n",
    "param_distRF =  {'n_estimators': [int(x) for x in np.linspace(start = 200, stop = 2000, num = 10)], 'max_features': ['auto', 'sqrt'],'max_depth': [int(x) for x in np.linspace(10, 110, num = 11)],\n",
    "                 'min_samples_split': [2, 5, 10],'min_samples_leaf': [1, 2, 4],\n",
    "                 'bootstrap': [True, False]}\n",
    "# ExtraTreesClassifier\n",
    "clfET = ExtraTreesClassifier(random_state=84)\n",
    "param_distET =  {'n_estimators': [int(x) for x in np.linspace(start = 200, stop = 2000, num = 10)], 'max_features': ['auto', 'sqrt'],'max_depth': [int(x) for x in np.linspace(10, 110, num = 11)],\n",
    "                 'min_samples_split': [2, 5, 10],'min_samples_leaf': [1, 2, 4],\n",
    "                 'bootstrap': [True, False]}"
   ]
  },
  {
   "cell_type": "code",
   "execution_count": 12,
   "metadata": {
    "id": "GGQcPxBOvxIV"
   },
   "outputs": [],
   "source": [
    "listAlgorithms = [clfTree,clfSVC,clfKNN,clfLR,clfMLP,clfRF,clfET]"
   ]
  },
  {
   "cell_type": "code",
   "execution_count": 13,
   "metadata": {
    "id": "8Nl-1GpjvxIV"
   },
   "outputs": [],
   "source": [
    "listParams = [param_distTree,param_distSVC,param_distKNN,param_distLR,param_distMLP,param_distRF, param_distET]"
   ]
  },
  {
   "cell_type": "code",
   "execution_count": 14,
   "metadata": {
    "id": "IK_8iIWovxIV"
   },
   "outputs": [],
   "source": [
    "listNames = [\"Arbol\", \"SVM\", \"KNN\", \"LR\", \"MLP\",\"RF\",\"ET\"]"
   ]
  },
  {
   "cell_type": "markdown",
   "metadata": {},
   "source": [
    "# Plain comparison"
   ]
  },
  {
   "cell_type": "code",
   "execution_count": 15,
   "metadata": {
    "id": "LSSesjlBvxIV",
    "scrolled": true
   },
   "outputs": [
    {
     "name": "stdout",
     "output_type": "stream",
     "text": [
      "temp.csv\n",
      "['Arbol' 'SVM' 'KNN' 'LR' 'MLP' 'RF' 'ET']\n",
      "==========================================================\n",
      "Report\n",
      "==========================================================\n",
      "**********************************************************\n",
      "Mean and std\n",
      "**********************************************************\n",
      "Arbol: 0.497500 (0.140230)\n",
      "SVM: 0.475000 (0.075000)\n",
      "KNN: 0.397976 (0.149399)\n",
      "LR: 0.520952 (0.203621)\n",
      "MLP: 0.475000 (0.075000)\n",
      "RF: 0.476310 (0.117990)\n",
      "ET: 0.479286 (0.156826)\n",
      "**********************************************************\n",
      "Statistical tests\n",
      "**********************************************************\n",
      "----------------------------------------------------------\n",
      "Checking parametric conditions \n",
      "----------------------------------------------------------\n",
      "Checking independence \n",
      "Ok\n",
      "Checking normality using Shapiro-Wilk's test for normality, alpha=0.05\n",
      "W: 0.913178, p:0.000134\n",
      "The null hypothesis (normality) is rejected\n",
      "Checking heteroscedasticity using Levene's test, alpha=0.05\n",
      "W: 3.421236, p:0.005495\n",
      "The null hypothesis (heteroscedasticity) is rejected\n",
      "Conditions for a parametric test are not fulfilled, applying a non-parametric test\n",
      "----------------------------------------------------------\n",
      "Working with more than 2 algorithms\n",
      "----------------------------------------------------------\n",
      "----------------------------------------------------------\n",
      "Applying Friedman test\n",
      "----------------------------------------------------------\n",
      "F-value: 0.457684, p-value: 0.8363690310998886\n",
      "Null hypothesis is accepted; hence, we can't say that there is a significant difference in the performance of the models\n",
      "----------------------------------------------------------\n",
      "Analysing effect size\n",
      "----------------------------------------------------------\n",
      "We take the model with the best mean (LR, mean: 0.520952) and compare it with the other models: \n",
      "Comparing effect size of LR and Arbol: Cohen's d=0.12726532217209852, Small\n",
      "Comparing effect size of LR and SVM: Cohen's d=0.2841162210260606, Medium\n",
      "Comparing effect size of LR and KNN: Cohen's d=0.6532957152437149, Large\n",
      "Comparing effect size of LR and MLP: Cohen's d=0.2841162210260606, Medium\n",
      "Comparing effect size of LR and RF: Cohen's d=0.2545068772491817, Medium\n",
      "Comparing effect size of LR and ET: Cohen's d=0.2175048931383316, Medium\n",
      "Eta squared: 0.060441 (Large)\n"
     ]
    },
    {
     "data": {
      "image/png": "[encoded data removed]",
      "text/plain": [
       "<Figure size 432x288 with 1 Axes>"
      ]
     },
     "metadata": {
      "needs_background": "light"
     },
     "output_type": "display_data"
    }
   ],
   "source": [
    "compare_methods(X,Y,listAlgorithms,listParams,listNames,metric='auroc')"
   ]
  },
  {
   "cell_type": "code",
   "execution_count": 16,
   "metadata": {},
   "outputs": [
    {
     "name": "stdout",
     "output_type": "stream",
     "text": [
      "temp.csv\n",
      "['Arbol' 'SVM' 'KNN' 'LR' 'MLP' 'RF' 'ET']\n",
      "==========================================================\n",
      "Report\n",
      "==========================================================\n",
      "**********************************************************\n",
      "Mean and std\n",
      "**********************************************************\n",
      "Arbol: 0.453571 (0.236215)\n",
      "SVM: 0.000000 (0.000000)\n",
      "KNN: 0.225000 (0.197379)\n",
      "LR: 0.401667 (0.299856)\n",
      "MLP: 0.000000 (0.000000)\n",
      "RF: 0.365833 (0.355794)\n",
      "ET: 0.333333 (0.387298)\n",
      "**********************************************************\n",
      "Statistical tests\n",
      "**********************************************************\n",
      "----------------------------------------------------------\n",
      "Checking parametric conditions \n",
      "----------------------------------------------------------\n",
      "Checking independence \n",
      "Ok\n",
      "Checking normality using Shapiro-Wilk's test for normality, alpha=0.05\n",
      "W: 0.785632, p:0.000000\n",
      "The null hypothesis (normality) is rejected\n",
      "Checking heteroscedasticity using Levene's test, alpha=0.05\n",
      "W: 5.320386, p:0.000171\n",
      "The null hypothesis (heteroscedasticity) is rejected\n",
      "Conditions for a parametric test are not fulfilled, applying a non-parametric test\n",
      "----------------------------------------------------------\n",
      "Working with more than 2 algorithms\n",
      "----------------------------------------------------------\n",
      "----------------------------------------------------------\n",
      "Applying Friedman test\n",
      "----------------------------------------------------------\n",
      "F-value: 4.827160, p-value: 0.00052091424813272\n",
      "Null hypothesis is rejected; hence, models have different performance\n",
      "Technique      Ranking\n",
      "-----------  ---------\n",
      "Arbol             5.15\n",
      "RF                4.95\n",
      "LR                4.9\n",
      "ET                4.5\n",
      "KNN               4.1\n",
      "MLP               2.2\n",
      "SVM               2.2\n",
      "Winner model: Arbol\n",
      "----------------------------------------------------------\n",
      "Applying Holm p-value adjustment procedure and analysing effect size\n",
      "----------------------------------------------------------\n",
      "Comparison      Zvalue     p-value    adjusted p-value\n",
      "------------  --------  ----------  ------------------\n",
      "Arbol vs SVM  3.05354   0.00226158           0.0135695\n",
      "Arbol vs MLP  3.05354   0.00226158           0.0135695\n",
      "Arbol vs KNN  1.08685   0.277102             1\n",
      "Arbol vs ET   0.672814  0.501066             1\n",
      "Arbol vs LR   0.258775  0.795809             1\n",
      "Arbol vs RF   0.20702   0.835994             1\n",
      "There is a significant difference between the models: Arbol (mean: 0.453571, std: 0.236215) and SVM (mean: 0.000000, std: 0.000000) (Cohen's d=2.576174111050884, Large)\n",
      "There is a significant difference between the models: Arbol (mean: 0.453571, std: 0.236215) and MLP (mean: 0.000000, std: 0.000000) (Cohen's d=2.576174111050884, Large)\n",
      "We can't say that there is a significant difference in the performance of the models: Arbol (mean: 0.453571, std: 0.236215) and KNN (mean: 0.225000, std: 0.197379) (Cohen's d=0.996220775139637, Large)\n",
      "We can't say that there is a significant difference in the performance of the models: Arbol (mean: 0.453571, std: 0.236215) and ET (mean: 0.333333, std: 0.387298) (Cohen's d=0.3555973095061439, Medium)\n",
      "We can't say that there is a significant difference in the performance of the models: Arbol (mean: 0.453571, std: 0.236215) and LR (mean: 0.401667, std: 0.299856) (Cohen's d=0.18243029140338576, Small)\n",
      "We can't say that there is a significant difference in the performance of the models: Arbol (mean: 0.453571, std: 0.236215) and RF (mean: 0.365833, std: 0.355794) (Cohen's d=0.2756307145183554, Medium)\n",
      "Eta squared: 0.313159 (Large)\n"
     ]
    },
    {
     "data": {
      "image/png": "[encoded data removed]",
      "text/plain": [
       "<Figure size 432x288 with 1 Axes>"
      ]
     },
     "metadata": {
      "needs_background": "light"
     },
     "output_type": "display_data"
    }
   ],
   "source": [
    "compare_methods(X,Y,listAlgorithms,listParams,listNames,metric='precision')"
   ]
  },
  {
   "cell_type": "code",
   "execution_count": 17,
   "metadata": {},
   "outputs": [
    {
     "name": "stdout",
     "output_type": "stream",
     "text": [
      "temp.csv\n",
      "['Arbol' 'SVM' 'KNN' 'LR' 'MLP' 'RF' 'ET']\n",
      "==========================================================\n",
      "Report\n",
      "==========================================================\n",
      "**********************************************************\n",
      "Mean and std\n",
      "**********************************************************\n",
      "Arbol: 0.498333 (0.214793)\n",
      "SVM: 0.000000 (0.000000)\n",
      "KNN: 0.225000 (0.244523)\n",
      "LR: 0.425000 (0.330088)\n",
      "MLP: 0.000000 (0.000000)\n",
      "RF: 0.275000 (0.226844)\n",
      "ET: 0.191667 (0.204294)\n",
      "**********************************************************\n",
      "Statistical tests\n",
      "**********************************************************\n",
      "----------------------------------------------------------\n",
      "Checking parametric conditions \n",
      "----------------------------------------------------------\n",
      "Checking independence \n",
      "Ok\n",
      "Checking normality using Shapiro-Wilk's test for normality, alpha=0.05\n",
      "W: 0.800777, p:0.000000\n",
      "The null hypothesis (normality) is rejected\n",
      "Checking heteroscedasticity using Levene's test, alpha=0.05\n",
      "W: 4.491352, p:0.000758\n",
      "The null hypothesis (heteroscedasticity) is rejected\n",
      "Conditions for a parametric test are not fulfilled, applying a non-parametric test\n",
      "----------------------------------------------------------\n",
      "Working with more than 2 algorithms\n",
      "----------------------------------------------------------\n",
      "----------------------------------------------------------\n",
      "Applying Friedman test\n",
      "----------------------------------------------------------\n",
      "F-value: 6.779587, p-value: 2.1466896061084206e-05\n",
      "Null hypothesis is rejected; hence, models have different performance\n",
      "Technique      Ranking\n",
      "-----------  ---------\n",
      "Arbol             5.95\n",
      "LR                5.25\n",
      "RF                4.35\n",
      "KNN               4.2\n",
      "ET                3.85\n",
      "MLP               2.2\n",
      "SVM               2.2\n",
      "Winner model: Arbol\n",
      "----------------------------------------------------------\n",
      "Applying Holm p-value adjustment procedure and analysing effect size\n",
      "----------------------------------------------------------\n",
      "Comparison      Zvalue      p-value    adjusted p-value\n",
      "------------  --------  -----------  ------------------\n",
      "Arbol vs SVM  3.88162   0.000103763         0.000622581\n",
      "Arbol vs MLP  3.88162   0.000103763         0.000622581\n",
      "Arbol vs ET   2.17371   0.0297272           0.118909\n",
      "Arbol vs KNN  1.81142   0.0700755           0.210227\n",
      "Arbol vs RF   1.65616   0.09769             0.210227\n",
      "Arbol vs LR   0.724569  0.468717            0.468717\n",
      "There is a significant difference between the models: Arbol (mean: 0.498333, std: 0.214793) and SVM (mean: 0.000000, std: 0.000000) (Cohen's d=3.112688766403327, Large)\n",
      "There is a significant difference between the models: Arbol (mean: 0.498333, std: 0.214793) and MLP (mean: 0.000000, std: 0.000000) (Cohen's d=3.112688766403327, Large)\n",
      "There is a significant difference between the models: Arbol (mean: 0.498333, std: 0.214793) and ET (mean: 0.191667, std: 0.204294) (Cohen's d=1.3879602242565723, Large)\n",
      "There is a significant difference between the models: Arbol (mean: 0.498333, std: 0.214793) and KNN (mean: 0.225000, std: 0.244523) (Cohen's d=1.1267405374517616, Large)\n",
      "There is a significant difference between the models: Arbol (mean: 0.498333, std: 0.214793) and RF (mean: 0.275000, std: 0.226844) (Cohen's d=0.9591295079936367, Large)\n",
      "There is a significant difference between the models: Arbol (mean: 0.498333, std: 0.214793) and LR (mean: 0.425000, std: 0.330088) (Cohen's d=0.2498271064584378, Medium)\n",
      "Eta squared: 0.415877 (Large)\n"
     ]
    },
    {
     "data": {
      "image/png": "[encoded data removed]",
      "text/plain": [
       "<Figure size 432x288 with 1 Axes>"
      ]
     },
     "metadata": {
      "needs_background": "light"
     },
     "output_type": "display_data"
    }
   ],
   "source": [
    "compare_methods(X,Y,listAlgorithms,listParams,listNames,metric='recall')"
   ]
  },
  {
   "cell_type": "code",
   "execution_count": 18,
   "metadata": {},
   "outputs": [
    {
     "name": "stdout",
     "output_type": "stream",
     "text": [
      "temp.csv\n",
      "['Arbol' 'SVM' 'KNN' 'LR' 'MLP' 'RF' 'ET']\n",
      "==========================================================\n",
      "Report\n",
      "==========================================================\n",
      "**********************************************************\n",
      "Mean and std\n",
      "**********************************************************\n",
      "Arbol: 0.481111 (0.120498)\n",
      "SVM: 0.530000 (0.154444)\n",
      "KNN: 0.398889 (0.139527)\n",
      "LR: 0.506667 (0.172362)\n",
      "MLP: 0.530000 (0.154444)\n",
      "RF: 0.466667 (0.174696)\n",
      "ET: 0.497778 (0.184645)\n",
      "**********************************************************\n",
      "Statistical tests\n",
      "**********************************************************\n",
      "----------------------------------------------------------\n",
      "Checking parametric conditions \n",
      "----------------------------------------------------------\n",
      "Checking independence \n",
      "Ok\n",
      "Checking normality using Shapiro-Wilk's test for normality, alpha=0.05\n",
      "W: 0.939046, p:0.002018\n",
      "The null hypothesis (normality) is rejected\n",
      "Checking heteroscedasticity using Levene's test, alpha=0.05\n",
      "W: 0.624044, p:0.710337\n",
      "The null hypothesis (heteroscedasticity) is accepted\n",
      "Conditions for a parametric test are not fulfilled, applying a non-parametric test\n",
      "----------------------------------------------------------\n",
      "Working with more than 2 algorithms\n",
      "----------------------------------------------------------\n",
      "----------------------------------------------------------\n",
      "Applying Friedman test\n",
      "----------------------------------------------------------\n",
      "F-value: 0.921260, p-value: 0.4870830357580881\n",
      "Null hypothesis is rejected; hence, models have different performance\n",
      "Technique      Ranking\n",
      "-----------  ---------\n",
      "MLP               4.7\n",
      "SVM               4.7\n",
      "ET                4.1\n",
      "LR                4.05\n",
      "RF                3.85\n",
      "Arbol             3.85\n",
      "KNN               2.75\n",
      "Winner model: MLP\n",
      "----------------------------------------------------------\n",
      "Applying Holm p-value adjustment procedure and analysing effect size\n",
      "----------------------------------------------------------\n",
      "Comparison      Zvalue    p-value    adjusted p-value\n",
      "------------  --------  ---------  ------------------\n",
      "MLP vs KNN    2.01844   0.0435453            0.261272\n",
      "MLP vs Arbol  0.879834  0.378949             1\n",
      "MLP vs RF     0.879834  0.378949             1\n",
      "MLP vs LR     0.672814  0.501066             1\n",
      "MLP vs ET     0.621059  0.534561             1\n",
      "MLP vs SVM    0         1                    1\n",
      "There is a significant difference between the models: MLP (mean: 0.530000, std: 0.154444) and KNN (mean: 0.398889, std: 0.139527) (Cohen's d=0.8451359496789417, Large)\n",
      "We can't say that there is a significant difference in the performance of the models: MLP (mean: 0.530000, std: 0.154444) and Arbol (mean: 0.481111, std: 0.120498) (Cohen's d=0.33483777778205376, Medium)\n",
      "We can't say that there is a significant difference in the performance of the models: MLP (mean: 0.530000, std: 0.154444) and RF (mean: 0.466667, std: 0.174696) (Cohen's d=0.3644034856037416, Medium)\n",
      "We can't say that there is a significant difference in the performance of the models: MLP (mean: 0.530000, std: 0.154444) and LR (mean: 0.506667, std: 0.172362) (Cohen's d=0.135265096408228, Small)\n",
      "We can't say that there is a significant difference in the performance of the models: MLP (mean: 0.530000, std: 0.154444) and ET (mean: 0.497778, std: 0.184645) (Cohen's d=0.1795876991787478, Small)\n",
      "We can't say that there is a significant difference in the performance of the models: MLP (mean: 0.530000, std: 0.154444) and SVM (mean: 0.530000, std: 0.154444) (Cohen's d=0.0, Small)\n",
      "Eta squared: 0.065872 (Large)\n"
     ]
    },
    {
     "data": {
      "image/png": "[encoded data removed]",
      "text/plain": [
       "<Figure size 432x288 with 1 Axes>"
      ]
     },
     "metadata": {
      "needs_background": "light"
     },
     "output_type": "display_data"
    }
   ],
   "source": [
    "compare_methods(X,Y,listAlgorithms,listParams,listNames,metric='accuracy')"
   ]
  },
  {
   "cell_type": "markdown",
   "metadata": {
    "id": "9RmrYzBMOAXv"
   },
   "source": [
    "# PCA with 2 components"
   ]
  },
  {
   "cell_type": "code",
   "execution_count": 15,
   "metadata": {
    "id": "Sjjc5WXGvxIX"
   },
   "outputs": [],
   "source": [
    "from sklearn.decomposition import PCA"
   ]
  },
  {
   "cell_type": "code",
   "execution_count": 20,
   "metadata": {
    "id": "edHm_G34N87W"
   },
   "outputs": [],
   "source": [
    "pca = PCA(n_components=2)"
   ]
  },
  {
   "cell_type": "code",
   "execution_count": 21,
   "metadata": {
    "id": "H4lw_jzBODCv"
   },
   "outputs": [
    {
     "data": {
      "text/plain": [
       "PCA(n_components=2)"
      ]
     },
     "execution_count": 21,
     "metadata": {},
     "output_type": "execute_result"
    }
   ],
   "source": [
    "pca.fit(X)"
   ]
  },
  {
   "cell_type": "code",
   "execution_count": 22,
   "metadata": {
    "id": "ImTFoLrKOFHZ"
   },
   "outputs": [],
   "source": [
    "X_pca2 = pca.transform(X)"
   ]
  },
  {
   "cell_type": "code",
   "execution_count": 23,
   "metadata": {
    "id": "5nt7OQ61JuKG"
   },
   "outputs": [
    {
     "data": {
      "text/plain": [
       "(92, 2)"
      ]
     },
     "execution_count": 23,
     "metadata": {},
     "output_type": "execute_result"
    }
   ],
   "source": [
    "X_pca2.shape"
   ]
  },
  {
   "cell_type": "code",
   "execution_count": 24,
   "metadata": {
    "id": "KyVbCZLpOInH",
    "scrolled": true
   },
   "outputs": [
    {
     "name": "stdout",
     "output_type": "stream",
     "text": [
      "temp.csv\n",
      "['Arbol' 'SVM' 'KNN' 'LR' 'MLP' 'RF' 'ET']\n",
      "==========================================================\n",
      "Report\n",
      "==========================================================\n",
      "**********************************************************\n",
      "Mean and std\n",
      "**********************************************************\n",
      "Arbol: 0.445238 (0.158811)\n",
      "SVM: 0.492857 (0.021429)\n",
      "KNN: 0.476905 (0.102894)\n",
      "LR: 0.550595 (0.127782)\n",
      "MLP: 0.478571 (0.133526)\n",
      "RF: 0.361190 (0.174174)\n",
      "ET: 0.500000 (0.000000)\n",
      "**********************************************************\n",
      "Statistical tests\n",
      "**********************************************************\n",
      "----------------------------------------------------------\n",
      "Checking parametric conditions \n",
      "----------------------------------------------------------\n",
      "Checking independence \n",
      "Ok\n",
      "Checking normality using Shapiro-Wilk's test for normality, alpha=0.05\n",
      "W: 0.871977, p:0.000004\n",
      "The null hypothesis (normality) is rejected\n",
      "Checking heteroscedasticity using Levene's test, alpha=0.05\n",
      "W: 3.884690, p:0.002313\n",
      "The null hypothesis (heteroscedasticity) is rejected\n",
      "Conditions for a parametric test are not fulfilled, applying a non-parametric test\n",
      "----------------------------------------------------------\n",
      "Working with more than 2 algorithms\n",
      "----------------------------------------------------------\n",
      "----------------------------------------------------------\n",
      "Applying Friedman test\n",
      "----------------------------------------------------------\n",
      "F-value: 2.091549, p-value: 0.06926637935412439\n",
      "Null hypothesis is rejected; hence, models have different performance\n",
      "Technique      Ranking\n",
      "-----------  ---------\n",
      "LR                5.35\n",
      "ET                4.35\n",
      "SVM               4.2\n",
      "KNN               4.15\n",
      "MLP               3.9\n",
      "Arbol             3.85\n",
      "RF                2.2\n",
      "Winner model: LR\n",
      "----------------------------------------------------------\n",
      "Applying Holm p-value adjustment procedure and analysing effect size\n",
      "----------------------------------------------------------\n",
      "Comparison      Zvalue     p-value    adjusted p-value\n",
      "------------  --------  ----------  ------------------\n",
      "LR vs RF       3.26056  0.00111193          0.00667155\n",
      "LR vs Arbol    1.55265  0.120507            0.602537\n",
      "LR vs MLP      1.50089  0.133383            0.602537\n",
      "LR vs KNN      1.24212  0.214193            0.642579\n",
      "LR vs SVM      1.19036  0.233904            0.642579\n",
      "LR vs ET       1.0351   0.300623            0.642579\n",
      "There is a significant difference between the models: LR (mean: 0.550595, std: 0.127782) and RF (mean: 0.361190, std: 0.174174) (Cohen's d=1.1763387265210221, Large)\n",
      "We can't say that there is a significant difference in the performance of the models: LR (mean: 0.550595, std: 0.127782) and Arbol (mean: 0.445238, std: 0.158811) (Cohen's d=0.6934567652154701, Large)\n",
      "We can't say that there is a significant difference in the performance of the models: LR (mean: 0.550595, std: 0.127782) and MLP (mean: 0.478571, std: 0.133526) (Cohen's d=0.5228414873410975, Large)\n",
      "We can't say that there is a significant difference in the performance of the models: LR (mean: 0.550595, std: 0.127782) and KNN (mean: 0.476905, std: 0.102894) (Cohen's d=0.6026253295512949, Large)\n",
      "We can't say that there is a significant difference in the performance of the models: LR (mean: 0.550595, std: 0.127782) and SVM (mean: 0.492857, std: 0.021429) (Cohen's d=0.5978687798694923, Large)\n",
      "We can't say that there is a significant difference in the performance of the models: LR (mean: 0.550595, std: 0.127782) and ET (mean: 0.500000, std: 0.000000) (Cohen's d=0.5312211801882234, Large)\n",
      "Eta squared: 0.168770 (Large)\n"
     ]
    },
    {
     "data": {
      "image/png": "[encoded data removed]",
      "text/plain": [
       "<Figure size 432x288 with 1 Axes>"
      ]
     },
     "metadata": {
      "needs_background": "light"
     },
     "output_type": "display_data"
    }
   ],
   "source": [
    "compare_methods(X_pca2,Y,listAlgorithms,listParams,listNames,metric='auroc')"
   ]
  },
  {
   "cell_type": "code",
   "execution_count": 25,
   "metadata": {},
   "outputs": [
    {
     "name": "stdout",
     "output_type": "stream",
     "text": [
      "temp.csv\n",
      "['Arbol' 'SVM' 'KNN' 'LR' 'MLP' 'RF' 'ET']\n",
      "==========================================================\n",
      "Report\n",
      "==========================================================\n",
      "**********************************************************\n",
      "Mean and std\n",
      "**********************************************************\n",
      "Arbol: 0.325000 (0.242813)\n",
      "SVM: 0.000000 (0.000000)\n",
      "KNN: 0.283333 (0.394757)\n",
      "LR: 0.383333 (0.373050)\n",
      "MLP: 0.093333 (0.149666)\n",
      "RF: 0.189524 (0.245982)\n",
      "ET: 0.000000 (0.000000)\n",
      "**********************************************************\n",
      "Statistical tests\n",
      "**********************************************************\n",
      "----------------------------------------------------------\n",
      "Checking parametric conditions \n",
      "----------------------------------------------------------\n",
      "Checking independence \n",
      "Ok\n",
      "Checking normality using Shapiro-Wilk's test for normality, alpha=0.05\n",
      "W: 0.673288, p:0.000000\n",
      "The null hypothesis (normality) is rejected\n",
      "Checking heteroscedasticity using Levene's test, alpha=0.05\n",
      "W: 3.648972, p:0.003588\n",
      "The null hypothesis (heteroscedasticity) is rejected\n",
      "Conditions for a parametric test are not fulfilled, applying a non-parametric test\n",
      "----------------------------------------------------------\n",
      "Working with more than 2 algorithms\n",
      "----------------------------------------------------------\n",
      "----------------------------------------------------------\n",
      "Applying Friedman test\n",
      "----------------------------------------------------------\n",
      "F-value: 2.538462, p-value: 0.030800730991364378\n",
      "Null hypothesis is rejected; hence, models have different performance\n",
      "Technique      Ranking\n",
      "-----------  ---------\n",
      "LR                5.2\n",
      "Arbol             5.2\n",
      "KNN               4.3\n",
      "RF                4.05\n",
      "MLP               3.75\n",
      "ET                2.75\n",
      "SVM               2.75\n",
      "Winner model: LR\n",
      "----------------------------------------------------------\n",
      "Applying Holm p-value adjustment procedure and analysing effect size\n",
      "----------------------------------------------------------\n",
      "Comparison      Zvalue    p-value    adjusted p-value\n",
      "------------  --------  ---------  ------------------\n",
      "LR vs SVM     2.53599    0.011213           0.0672778\n",
      "LR vs ET      2.53599    0.011213           0.0672778\n",
      "LR vs MLP     1.50089    0.133383           0.533533\n",
      "LR vs RF      1.19036    0.233904           0.701711\n",
      "LR vs KNN     0.931589   0.351549           0.703098\n",
      "LR vs Arbol   0          1                  1\n",
      "There is a significant difference between the models: LR (mean: 0.383333, std: 0.373050) and SVM (mean: 0.000000, std: 0.000000) (Cohen's d=1.3786220665560265, Large)\n",
      "There is a significant difference between the models: LR (mean: 0.383333, std: 0.373050) and ET (mean: 0.000000, std: 0.000000) (Cohen's d=1.3786220665560265, Large)\n",
      "We can't say that there is a significant difference in the performance of the models: LR (mean: 0.383333, std: 0.373050) and MLP (mean: 0.093333, std: 0.149666) (Cohen's d=0.9679621331173881, Large)\n",
      "We can't say that there is a significant difference in the performance of the models: LR (mean: 0.383333, std: 0.373050) and RF (mean: 0.189524, std: 0.245982) (Cohen's d=0.5819034585587497, Large)\n",
      "We can't say that there is a significant difference in the performance of the models: LR (mean: 0.383333, std: 0.373050) and KNN (mean: 0.283333, std: 0.394757) (Cohen's d=0.24701609087778545, Medium)\n",
      "We can't say that there is a significant difference in the performance of the models: LR (mean: 0.383333, std: 0.373050) and Arbol (mean: 0.325000, std: 0.242813) (Cohen's d=0.17582612575616494, Small)\n",
      "Eta squared: 0.249739 (Large)\n"
     ]
    },
    {
     "data": {
      "image/png": "[encoded data removed]",
      "text/plain": [
       "<Figure size 432x288 with 1 Axes>"
      ]
     },
     "metadata": {
      "needs_background": "light"
     },
     "output_type": "display_data"
    }
   ],
   "source": [
    "compare_methods(X_pca2,Y,listAlgorithms,listParams,listNames,metric='precision')"
   ]
  },
  {
   "cell_type": "code",
   "execution_count": 26,
   "metadata": {},
   "outputs": [
    {
     "name": "stdout",
     "output_type": "stream",
     "text": [
      "temp.csv\n",
      "['Arbol' 'SVM' 'KNN' 'LR' 'MLP' 'RF' 'ET']\n",
      "==========================================================\n",
      "Report\n",
      "==========================================================\n",
      "**********************************************************\n",
      "Mean and std\n",
      "**********************************************************\n",
      "Arbol: 0.308333 (0.252900)\n",
      "SVM: 0.000000 (0.000000)\n",
      "KNN: 0.100000 (0.128019)\n",
      "LR: 0.233333 (0.288194)\n",
      "MLP: 0.191667 (0.337577)\n",
      "RF: 0.241667 (0.269902)\n",
      "ET: 0.000000 (0.000000)\n",
      "**********************************************************\n",
      "Statistical tests\n",
      "**********************************************************\n",
      "----------------------------------------------------------\n",
      "Checking parametric conditions \n",
      "----------------------------------------------------------\n",
      "Checking independence \n",
      "Ok\n",
      "Checking normality using Shapiro-Wilk's test for normality, alpha=0.05\n",
      "W: 0.668919, p:0.000000\n",
      "The null hypothesis (normality) is rejected\n",
      "Checking heteroscedasticity using Levene's test, alpha=0.05\n",
      "W: 3.142949, p:0.009271\n",
      "The null hypothesis (heteroscedasticity) is rejected\n",
      "Conditions for a parametric test are not fulfilled, applying a non-parametric test\n",
      "----------------------------------------------------------\n",
      "Working with more than 2 algorithms\n",
      "----------------------------------------------------------\n",
      "----------------------------------------------------------\n",
      "Applying Friedman test\n",
      "----------------------------------------------------------\n",
      "F-value: 2.472798, p-value: 0.03471395342265349\n",
      "Null hypothesis is rejected; hence, models have different performance\n",
      "Technique      Ranking\n",
      "-----------  ---------\n",
      "Arbol             5.45\n",
      "RF                4.65\n",
      "LR                4.6\n",
      "MLP               3.95\n",
      "KNN               3.85\n",
      "ET                2.75\n",
      "SVM               2.75\n",
      "Winner model: Arbol\n",
      "----------------------------------------------------------\n",
      "Applying Holm p-value adjustment procedure and analysing effect size\n",
      "----------------------------------------------------------\n",
      "Comparison      Zvalue     p-value    adjusted p-value\n",
      "------------  --------  ----------  ------------------\n",
      "Arbol vs SVM  2.79477   0.00519374           0.0311624\n",
      "Arbol vs ET   2.79477   0.00519374           0.0311624\n",
      "Arbol vs KNN  1.65616   0.09769              0.39076\n",
      "Arbol vs MLP  1.55265   0.120507             0.39076\n",
      "Arbol vs LR   0.879834  0.378949             0.757899\n",
      "Arbol vs RF   0.828079  0.407626             0.757899\n",
      "There is a significant difference between the models: Arbol (mean: 0.308333, std: 0.252900) and SVM (mean: 0.000000, std: 0.000000) (Cohen's d=1.6357169781393386, Large)\n",
      "There is a significant difference between the models: Arbol (mean: 0.308333, std: 0.252900) and ET (mean: 0.000000, std: 0.000000) (Cohen's d=1.6357169781393386, Large)\n",
      "There is a significant difference between the models: Arbol (mean: 0.308333, std: 0.252900) and KNN (mean: 0.100000, std: 0.128019) (Cohen's d=0.9860741678378435, Large)\n",
      "There is a significant difference between the models: Arbol (mean: 0.308333, std: 0.252900) and MLP (mean: 0.191667, std: 0.337577) (Cohen's d=0.37108613290284354, Medium)\n",
      "We can't say that there is a significant difference in the performance of the models: Arbol (mean: 0.308333, std: 0.252900) and LR (mean: 0.233333, std: 0.288194) (Cohen's d=0.2624329322514416, Medium)\n",
      "We can't say that there is a significant difference in the performance of the models: Arbol (mean: 0.308333, std: 0.252900) and RF (mean: 0.241667, std: 0.269902) (Cohen's d=0.2418205064927416, Medium)\n",
      "Eta squared: 0.203659 (Large)\n"
     ]
    },
    {
     "data": {
      "image/png": "[encoded data removed]",
      "text/plain": [
       "<Figure size 432x288 with 1 Axes>"
      ]
     },
     "metadata": {
      "needs_background": "light"
     },
     "output_type": "display_data"
    }
   ],
   "source": [
    "compare_methods(X_pca2,Y,listAlgorithms,listParams,listNames,metric='recall')"
   ]
  },
  {
   "cell_type": "code",
   "execution_count": 27,
   "metadata": {},
   "outputs": [
    {
     "name": "stdout",
     "output_type": "stream",
     "text": [
      "temp.csv\n",
      "['Arbol' 'SVM' 'KNN' 'LR' 'MLP' 'RF' 'ET']\n",
      "==========================================================\n",
      "Report\n",
      "==========================================================\n",
      "**********************************************************\n",
      "Mean and std\n",
      "**********************************************************\n",
      "Arbol: 0.465556 (0.178640)\n",
      "SVM: 0.552222 (0.130720)\n",
      "KNN: 0.518889 (0.139492)\n",
      "LR: 0.563333 (0.160251)\n",
      "MLP: 0.474444 (0.163000)\n",
      "RF: 0.358889 (0.189740)\n",
      "ET: 0.563333 (0.144021)\n",
      "**********************************************************\n",
      "Statistical tests\n",
      "**********************************************************\n",
      "----------------------------------------------------------\n",
      "Checking parametric conditions \n",
      "----------------------------------------------------------\n",
      "Checking independence \n",
      "Ok\n",
      "Checking normality using Shapiro-Wilk's test for normality, alpha=0.05\n",
      "W: 0.918225, p:0.000220\n",
      "The null hypothesis (normality) is rejected\n",
      "Checking heteroscedasticity using Levene's test, alpha=0.05\n",
      "W: 0.432613, p:0.854424\n",
      "The null hypothesis (heteroscedasticity) is accepted\n",
      "Conditions for a parametric test are not fulfilled, applying a non-parametric test\n",
      "----------------------------------------------------------\n",
      "Working with more than 2 algorithms\n",
      "----------------------------------------------------------\n",
      "----------------------------------------------------------\n",
      "Applying Friedman test\n",
      "----------------------------------------------------------\n",
      "F-value: 2.971496, p-value: 0.013988408823691345\n",
      "Null hypothesis is rejected; hence, models have different performance\n",
      "Technique      Ranking\n",
      "-----------  ---------\n",
      "ET                5.05\n",
      "LR                5.05\n",
      "SVM               4.75\n",
      "KNN               4.1\n",
      "MLP               3.55\n",
      "Arbol             3.4\n",
      "RF                2.1\n",
      "Winner model: ET\n",
      "----------------------------------------------------------\n",
      "Applying Holm p-value adjustment procedure and analysing effect size\n",
      "----------------------------------------------------------\n",
      "Comparison      Zvalue     p-value    adjusted p-value\n",
      "------------  --------  ----------  ------------------\n",
      "ET vs RF      3.05354   0.00226158           0.0135695\n",
      "ET vs Arbol   1.70791   0.0876526            0.438263\n",
      "ET vs MLP     1.55265   0.120507             0.482029\n",
      "ET vs KNN     0.983343  0.325438             0.976315\n",
      "ET vs SVM     0.31053   0.756158             1\n",
      "ET vs LR      0         1                    1\n",
      "There is a significant difference between the models: ET (mean: 0.563333, std: 0.144021) and RF (mean: 0.358889, std: 0.189740) (Cohen's d=1.1514752732112925, Large)\n",
      "There is a significant difference between the models: ET (mean: 0.563333, std: 0.144021) and Arbol (mean: 0.465556, std: 0.178640) (Cohen's d=0.5716884353014702, Large)\n",
      "There is a significant difference between the models: ET (mean: 0.563333, std: 0.144021) and MLP (mean: 0.474444, std: 0.163000) (Cohen's d=0.5482796871236005, Large)\n",
      "We can't say that there is a significant difference in the performance of the models: ET (mean: 0.563333, std: 0.144021) and KNN (mean: 0.518889, std: 0.139492) (Cohen's d=0.29739982449697927, Medium)\n",
      "We can't say that there is a significant difference in the performance of the models: ET (mean: 0.563333, std: 0.144021) and SVM (mean: 0.552222, std: 0.130720) (Cohen's d=0.07664391815359742, Small)\n",
      "We can't say that there is a significant difference in the performance of the models: ET (mean: 0.563333, std: 0.144021) and LR (mean: 0.563333, std: 0.160251) (Cohen's d=0.0, Small)\n",
      "Eta squared: 0.156231 (Large)\n"
     ]
    },
    {
     "data": {
      "image/png": "[encoded data removed]",
      "text/plain": [
       "<Figure size 432x288 with 1 Axes>"
      ]
     },
     "metadata": {
      "needs_background": "light"
     },
     "output_type": "display_data"
    }
   ],
   "source": [
    "compare_methods(X_pca2,Y,listAlgorithms,listParams,listNames,metric='accuracy')"
   ]
  },
  {
   "cell_type": "markdown",
   "metadata": {
    "id": "4_aNOwHHORLf"
   },
   "source": [
    "# PCA with 10 components"
   ]
  },
  {
   "cell_type": "code",
   "execution_count": 16,
   "metadata": {
    "id": "XoW_W87nONDr"
   },
   "outputs": [],
   "source": [
    "pca = PCA(n_components=10)"
   ]
  },
  {
   "cell_type": "code",
   "execution_count": 17,
   "metadata": {
    "id": "D6xAEHgfOXqw"
   },
   "outputs": [
    {
     "data": {
      "text/plain": [
       "PCA(n_components=10)"
      ]
     },
     "execution_count": 17,
     "metadata": {},
     "output_type": "execute_result"
    }
   ],
   "source": [
    "pca.fit(X)"
   ]
  },
  {
   "cell_type": "code",
   "execution_count": 18,
   "metadata": {
    "id": "UsP9oOY0OYu2"
   },
   "outputs": [],
   "source": [
    "X_pca10 = pca.transform(X)"
   ]
  },
  {
   "cell_type": "code",
   "execution_count": 19,
   "metadata": {
    "id": "GJl8Qwv_OgCN"
   },
   "outputs": [],
   "source": [
    "!mv temp.csv temppca2.csv"
   ]
  },
  {
   "cell_type": "code",
   "execution_count": 20,
   "metadata": {
    "id": "fQo9oAaWObE9"
   },
   "outputs": [
    {
     "name": "stdout",
     "output_type": "stream",
     "text": [
      "temp.csv\n",
      "['Arbol' 'SVM' 'KNN' 'LR' 'MLP' 'RF' 'ET']\n",
      "==========================================================\n",
      "Report\n",
      "==========================================================\n",
      "**********************************************************\n",
      "Mean and std\n",
      "**********************************************************\n",
      "Arbol: 0.307738 (0.157349)\n",
      "SVM: 0.491667 (0.025000)\n",
      "KNN: 0.447262 (0.142241)\n",
      "LR: 0.534643 (0.250771)\n",
      "MLP: 0.524524 (0.098461)\n",
      "RF: 0.485000 (0.110336)\n",
      "ET: 0.501190 (0.040001)\n",
      "**********************************************************\n",
      "Statistical tests\n",
      "**********************************************************\n",
      "----------------------------------------------------------\n",
      "Checking parametric conditions \n",
      "----------------------------------------------------------\n",
      "Checking independence \n",
      "Ok\n",
      "Checking normality using Shapiro-Wilk's test for normality, alpha=0.05\n",
      "W: 0.947618, p:0.005451\n",
      "The null hypothesis (normality) is rejected\n",
      "Checking heteroscedasticity using Levene's test, alpha=0.05\n",
      "W: 5.892806, p:0.000063\n",
      "The null hypothesis (heteroscedasticity) is rejected\n",
      "Conditions for a parametric test are not fulfilled, applying a non-parametric test\n",
      "----------------------------------------------------------\n",
      "Working with more than 2 algorithms\n",
      "----------------------------------------------------------\n",
      "----------------------------------------------------------\n",
      "Applying Friedman test\n",
      "----------------------------------------------------------\n",
      "F-value: 2.594203, p-value: 0.02782528818279284\n",
      "Null hypothesis is rejected; hence, models have different performance\n",
      "Technique      Ranking\n",
      "-----------  ---------\n",
      "MLP               4.75\n",
      "LR                4.7\n",
      "ET                4.6\n",
      "KNN               4.1\n",
      "SVM               4.05\n",
      "RF                4\n",
      "Arbol             1.8\n",
      "Winner model: MLP\n",
      "----------------------------------------------------------\n",
      "Applying Holm p-value adjustment procedure and analysing effect size\n",
      "----------------------------------------------------------\n",
      "Comparison       Zvalue     p-value    adjusted p-value\n",
      "------------  ---------  ----------  ------------------\n",
      "MLP vs Arbol  3.05354    0.00226158           0.0135695\n",
      "MLP vs RF     0.776324   0.437558             1\n",
      "MLP vs SVM    0.724569   0.468717             1\n",
      "MLP vs KNN    0.672814   0.501066             1\n",
      "MLP vs ET     0.155265   0.876613             1\n",
      "MLP vs LR     0.0517549  0.958724             1\n",
      "There is a significant difference between the models: MLP (mean: 0.524524, std: 0.098461) and Arbol (mean: 0.307738, std: 0.157349) (Cohen's d=1.56693553113467, Large)\n",
      "We can't say that there is a significant difference in the performance of the models: MLP (mean: 0.524524, std: 0.098461) and RF (mean: 0.485000, std: 0.110336) (Cohen's d=0.35857880723449553, Medium)\n",
      "We can't say that there is a significant difference in the performance of the models: MLP (mean: 0.524524, std: 0.098461) and SVM (mean: 0.491667, std: 0.025000) (Cohen's d=0.43394700668914915, Medium)\n",
      "We can't say that there is a significant difference in the performance of the models: MLP (mean: 0.524524, std: 0.098461) and KNN (mean: 0.447262, std: 0.142241) (Cohen's d=0.5991981932079101, Large)\n",
      "We can't say that there is a significant difference in the performance of the models: MLP (mean: 0.524524, std: 0.098461) and ET (mean: 0.501190, std: 0.040001) (Cohen's d=0.29456315395066224, Medium)\n",
      "We can't say that there is a significant difference in the performance of the models: MLP (mean: 0.524524, std: 0.098461) and LR (mean: 0.534643, std: 0.250771) (Cohen's d=0.05039253597930821, Small)\n",
      "Eta squared: 0.212749 (Large)\n"
     ]
    },
    {
     "data": {
      "image/png": "[encoded data removed]",
      "text/plain": [
       "<Figure size 432x288 with 1 Axes>"
      ]
     },
     "metadata": {
      "needs_background": "light"
     },
     "output_type": "display_data"
    }
   ],
   "source": [
    "compare_methods(X_pca10,Y,listAlgorithms,listParams,listNames,metric='auroc')"
   ]
  },
  {
   "cell_type": "code",
   "execution_count": 21,
   "metadata": {},
   "outputs": [
    {
     "name": "stdout",
     "output_type": "stream",
     "text": [
      "temp.csv\n",
      "['Arbol' 'SVM' 'KNN' 'LR' 'MLP' 'RF' 'ET']\n",
      "==========================================================\n",
      "Report\n",
      "==========================================================\n",
      "**********************************************************\n",
      "Mean and std\n",
      "**********************************************************\n",
      "Arbol: 0.235000 (0.195995)\n",
      "SVM: 0.025000 (0.075000)\n",
      "KNN: 0.325000 (0.388104)\n",
      "LR: 0.510000 (0.366379)\n",
      "MLP: 0.425000 (0.296859)\n",
      "RF: 0.343333 (0.220630)\n",
      "ET: 0.050000 (0.150000)\n",
      "**********************************************************\n",
      "Statistical tests\n",
      "**********************************************************\n",
      "----------------------------------------------------------\n",
      "Checking parametric conditions \n",
      "----------------------------------------------------------\n",
      "Checking independence \n",
      "Ok\n",
      "Checking normality using Shapiro-Wilk's test for normality, alpha=0.05\n",
      "W: 0.807779, p:0.000000\n",
      "The null hypothesis (normality) is rejected\n",
      "Checking heteroscedasticity using Levene's test, alpha=0.05\n",
      "W: 3.629821, p:0.003718\n",
      "The null hypothesis (heteroscedasticity) is rejected\n",
      "Conditions for a parametric test are not fulfilled, applying a non-parametric test\n",
      "----------------------------------------------------------\n",
      "Working with more than 2 algorithms\n",
      "----------------------------------------------------------\n",
      "----------------------------------------------------------\n",
      "Applying Friedman test\n",
      "----------------------------------------------------------\n",
      "F-value: 3.534195, p-value: 0.00504971432890422\n",
      "Null hypothesis is rejected; hence, models have different performance\n",
      "Technique      Ranking\n",
      "-----------  ---------\n",
      "LR                5.3\n",
      "MLP               5.2\n",
      "RF                4.6\n",
      "KNN               4.05\n",
      "Arbol             3.8\n",
      "ET                2.6\n",
      "SVM               2.45\n",
      "Winner model: LR\n",
      "----------------------------------------------------------\n",
      "Applying Holm p-value adjustment procedure and analysing effect size\n",
      "----------------------------------------------------------\n",
      "Comparison      Zvalue     p-value    adjusted p-value\n",
      "------------  --------  ----------  ------------------\n",
      "LR vs SVM     2.95003   0.00317743           0.0190646\n",
      "LR vs ET      2.79477   0.00519374           0.0259687\n",
      "LR vs Arbol   1.55265   0.120507             0.482029\n",
      "LR vs KNN     1.29387   0.195709             0.587128\n",
      "LR vs RF      0.724569  0.468717             0.937433\n",
      "LR vs MLP     0.10351   0.917558             0.937433\n",
      "There is a significant difference between the models: LR (mean: 0.510000, std: 0.366379) and SVM (mean: 0.025000, std: 0.075000) (Cohen's d=1.7399381752582557, Large)\n",
      "There is a significant difference between the models: LR (mean: 0.510000, std: 0.366379) and ET (mean: 0.050000, std: 0.150000) (Cohen's d=1.5588825628465144, Large)\n",
      "There is a significant difference between the models: LR (mean: 0.510000, std: 0.366379) and Arbol (mean: 0.235000, std: 0.195995) (Cohen's d=0.8879513027917418, Large)\n",
      "We can't say that there is a significant difference in the performance of the models: LR (mean: 0.510000, std: 0.366379) and KNN (mean: 0.325000, std: 0.388104) (Cohen's d=0.4650434335408097, Medium)\n",
      "We can't say that there is a significant difference in the performance of the models: LR (mean: 0.510000, std: 0.366379) and RF (mean: 0.343333, std: 0.220630) (Cohen's d=0.5228353677510277, Large)\n",
      "We can't say that there is a significant difference in the performance of the models: LR (mean: 0.510000, std: 0.366379) and MLP (mean: 0.425000, std: 0.296859) (Cohen's d=0.24184018878257688, Medium)\n",
      "Eta squared: 0.290201 (Large)\n"
     ]
    },
    {
     "data": {
      "image/png": "[encoded data removed]",
      "text/plain": [
       "<Figure size 432x288 with 1 Axes>"
      ]
     },
     "metadata": {
      "needs_background": "light"
     },
     "output_type": "display_data"
    }
   ],
   "source": [
    "compare_methods(X_pca10,Y,listAlgorithms,listParams,listNames,metric='precision')"
   ]
  },
  {
   "cell_type": "code",
   "execution_count": 22,
   "metadata": {},
   "outputs": [
    {
     "name": "stdout",
     "output_type": "stream",
     "text": [
      "temp.csv\n",
      "['Arbol' 'SVM' 'KNN' 'LR' 'MLP' 'RF' 'ET']\n",
      "==========================================================\n",
      "Report\n",
      "==========================================================\n",
      "**********************************************************\n",
      "Mean and std\n",
      "**********************************************************\n",
      "Arbol: 0.295000 (0.260134)\n",
      "SVM: 0.033333 (0.100000)\n",
      "KNN: 0.145000 (0.167672)\n",
      "LR: 0.416667 (0.311805)\n",
      "MLP: 0.261667 (0.162797)\n",
      "RF: 0.325000 (0.239936)\n",
      "ET: 0.033333 (0.100000)\n",
      "**********************************************************\n",
      "Statistical tests\n",
      "**********************************************************\n",
      "----------------------------------------------------------\n",
      "Checking parametric conditions \n",
      "----------------------------------------------------------\n",
      "Checking independence \n",
      "Ok\n",
      "Checking normality using Shapiro-Wilk's test for normality, alpha=0.05\n",
      "W: 0.822365, p:0.000000\n",
      "The null hypothesis (normality) is rejected\n",
      "Checking heteroscedasticity using Levene's test, alpha=0.05\n",
      "W: 4.609389, p:0.000612\n",
      "The null hypothesis (heteroscedasticity) is rejected\n",
      "Conditions for a parametric test are not fulfilled, applying a non-parametric test\n",
      "----------------------------------------------------------\n",
      "Working with more than 2 algorithms\n",
      "----------------------------------------------------------\n",
      "----------------------------------------------------------\n",
      "Applying Friedman test\n",
      "----------------------------------------------------------\n",
      "F-value: 3.740142, p-value: 0.0034908676804064065\n",
      "Null hypothesis is rejected; hence, models have different performance\n",
      "Technique      Ranking\n",
      "-----------  ---------\n",
      "LR                5.2\n",
      "MLP               4.95\n",
      "RF                4.7\n",
      "Arbol             4.65\n",
      "KNN               3.6\n",
      "ET                2.45\n",
      "SVM               2.45\n",
      "Winner model: LR\n",
      "----------------------------------------------------------\n",
      "Applying Holm p-value adjustment procedure and analysing effect size\n",
      "----------------------------------------------------------\n",
      "Comparison      Zvalue     p-value    adjusted p-value\n",
      "------------  --------  ----------  ------------------\n",
      "LR vs SVM     2.84652   0.00441999           0.0265199\n",
      "LR vs ET      2.84652   0.00441999           0.0265199\n",
      "LR vs KNN     1.65616   0.09769              0.39076\n",
      "LR vs Arbol   0.569304  0.56915              1\n",
      "LR vs RF      0.517549  0.604773             1\n",
      "LR vs MLP     0.258775  0.795809             1\n",
      "There is a significant difference between the models: LR (mean: 0.416667, std: 0.311805) and SVM (mean: 0.033333, std: 0.100000) (Cohen's d=1.5706175149406496, Large)\n",
      "There is a significant difference between the models: LR (mean: 0.416667, std: 0.311805) and ET (mean: 0.033333, std: 0.100000) (Cohen's d=1.5706175149406496, Large)\n",
      "There is a significant difference between the models: LR (mean: 0.416667, std: 0.311805) and KNN (mean: 0.145000, std: 0.167672) (Cohen's d=1.0295193148866804, Large)\n",
      "We can't say that there is a significant difference in the performance of the models: LR (mean: 0.416667, std: 0.311805) and Arbol (mean: 0.295000, std: 0.260134) (Cohen's d=0.40198376030480937, Medium)\n",
      "We can't say that there is a significant difference in the performance of the models: LR (mean: 0.416667, std: 0.311805) and RF (mean: 0.325000, std: 0.239936) (Cohen's d=0.3125891528279246, Medium)\n",
      "We can't say that there is a significant difference in the performance of the models: LR (mean: 0.416667, std: 0.311805) and MLP (mean: 0.261667, std: 0.162797) (Cohen's d=0.5912065261795512, Large)\n",
      "Eta squared: 0.308038 (Large)\n"
     ]
    },
    {
     "data": {
      "image/png": "[encoded data removed]",
      "text/plain": [
       "<Figure size 432x288 with 1 Axes>"
      ]
     },
     "metadata": {
      "needs_background": "light"
     },
     "output_type": "display_data"
    }
   ],
   "source": [
    "compare_methods(X_pca10,Y,listAlgorithms,listParams,listNames,metric='recall')"
   ]
  },
  {
   "cell_type": "code",
   "execution_count": 23,
   "metadata": {},
   "outputs": [
    {
     "name": "stdout",
     "output_type": "stream",
     "text": [
      "temp.csv\n",
      "['Arbol' 'SVM' 'KNN' 'LR' 'MLP' 'RF' 'ET']\n",
      "==========================================================\n",
      "Report\n",
      "==========================================================\n",
      "**********************************************************\n",
      "Mean and std\n",
      "**********************************************************\n",
      "Arbol: 0.312222 (0.146940)\n",
      "SVM: 0.541111 (0.143505)\n",
      "KNN: 0.475556 (0.174823)\n",
      "LR: 0.530000 (0.246759)\n",
      "MLP: 0.576667 (0.118055)\n",
      "RF: 0.485556 (0.130909)\n",
      "ET: 0.553333 (0.144598)\n",
      "**********************************************************\n",
      "Statistical tests\n",
      "**********************************************************\n",
      "----------------------------------------------------------\n",
      "Checking parametric conditions \n",
      "----------------------------------------------------------\n",
      "Checking independence \n",
      "Ok\n",
      "Checking normality using Shapiro-Wilk's test for normality, alpha=0.05\n",
      "W: 0.962474, p:0.034340\n",
      "The null hypothesis (normality) is rejected\n",
      "Checking heteroscedasticity using Levene's test, alpha=0.05\n",
      "W: 1.084679, p:0.381324\n",
      "The null hypothesis (heteroscedasticity) is rejected\n",
      "Conditions for a parametric test are not fulfilled, applying a non-parametric test\n",
      "----------------------------------------------------------\n",
      "Working with more than 2 algorithms\n",
      "----------------------------------------------------------\n",
      "----------------------------------------------------------\n",
      "Applying Friedman test\n",
      "----------------------------------------------------------\n",
      "F-value: 1.951760, p-value: 0.08898587909411781\n",
      "Null hypothesis is rejected; hence, models have different performance\n",
      "Technique      Ranking\n",
      "-----------  ---------\n",
      "MLP               4.85\n",
      "ET                4.65\n",
      "SVM               4.55\n",
      "LR                4.2\n",
      "RF                3.8\n",
      "KNN               3.8\n",
      "Arbol             2.15\n",
      "Winner model: MLP\n",
      "----------------------------------------------------------\n",
      "Applying Holm p-value adjustment procedure and analysing effect size\n",
      "----------------------------------------------------------\n",
      "Comparison      Zvalue     p-value    adjusted p-value\n",
      "------------  --------  ----------  ------------------\n",
      "MLP vs Arbol  2.79477   0.00519374           0.0311624\n",
      "MLP vs KNN    1.08685   0.277102             1\n",
      "MLP vs RF     1.08685   0.277102             1\n",
      "MLP vs LR     0.672814  0.501066             1\n",
      "MLP vs SVM    0.31053   0.756158             1\n",
      "MLP vs ET     0.20702   0.835994             1\n",
      "There is a significant difference between the models: MLP (mean: 0.576667, std: 0.118055) and Arbol (mean: 0.312222, std: 0.146940) (Cohen's d=1.8822742693473, Large)\n",
      "We can't say that there is a significant difference in the performance of the models: MLP (mean: 0.576667, std: 0.118055) and KNN (mean: 0.475556, std: 0.174823) (Cohen's d=0.6430653805371924, Large)\n",
      "We can't say that there is a significant difference in the performance of the models: MLP (mean: 0.576667, std: 0.118055) and RF (mean: 0.485556, std: 0.130909) (Cohen's d=0.6934393733279984, Large)\n",
      "We can't say that there is a significant difference in the performance of the models: MLP (mean: 0.576667, std: 0.118055) and LR (mean: 0.530000, std: 0.246759) (Cohen's d=0.22888292819547978, Medium)\n",
      "We can't say that there is a significant difference in the performance of the models: MLP (mean: 0.576667, std: 0.118055) and SVM (mean: 0.541111, std: 0.143505) (Cohen's d=0.2567083514231335, Medium)\n",
      "We can't say that there is a significant difference in the performance of the models: MLP (mean: 0.576667, std: 0.118055) and ET (mean: 0.553333, std: 0.144598) (Cohen's d=0.1677021274252614, Small)\n",
      "Eta squared: 0.203024 (Large)\n"
     ]
    },
    {
     "data": {
      "image/png": "[encoded data removed]",
      "text/plain": [
       "<Figure size 432x288 with 1 Axes>"
      ]
     },
     "metadata": {
      "needs_background": "light"
     },
     "output_type": "display_data"
    }
   ],
   "source": [
    "compare_methods(X_pca10,Y,listAlgorithms,listParams,listNames,metric='accuracy')"
   ]
  },
  {
   "cell_type": "code",
   "execution_count": 24,
   "metadata": {
    "id": "uUqwDOQLOjtd"
   },
   "outputs": [],
   "source": [
    "!mv temp.csv temppca10.csv"
   ]
  },
  {
   "cell_type": "markdown",
   "metadata": {
    "id": "7wgUs9MrOuQE"
   },
   "source": [
    "# PCA with 50 components"
   ]
  },
  {
   "cell_type": "code",
   "execution_count": 27,
   "metadata": {
    "id": "Ef54_v0COuQF"
   },
   "outputs": [],
   "source": [
    "pca = PCA(n_components=50)"
   ]
  },
  {
   "cell_type": "code",
   "execution_count": 28,
   "metadata": {
    "id": "ejF2FGo0OuQG"
   },
   "outputs": [
    {
     "data": {
      "text/plain": [
       "PCA(n_components=50)"
      ]
     },
     "execution_count": 28,
     "metadata": {},
     "output_type": "execute_result"
    }
   ],
   "source": [
    "pca.fit(X)"
   ]
  },
  {
   "cell_type": "code",
   "execution_count": 29,
   "metadata": {
    "id": "AAI4QlOZOuQG"
   },
   "outputs": [],
   "source": [
    "X_pca100 = pca.transform(X)"
   ]
  },
  {
   "cell_type": "code",
   "execution_count": 30,
   "metadata": {
    "id": "JVbgf7IdOuQH",
    "scrolled": true
   },
   "outputs": [
    {
     "name": "stdout",
     "output_type": "stream",
     "text": [
      "temp.csv\n",
      "['Arbol' 'SVM' 'KNN' 'LR' 'MLP' 'RF' 'ET']\n",
      "==========================================================\n",
      "Report\n",
      "==========================================================\n",
      "**********************************************************\n",
      "Mean and std\n",
      "**********************************************************\n",
      "Arbol: 0.528095 (0.152171)\n",
      "SVM: 0.524167 (0.123516)\n",
      "KNN: 0.402143 (0.177932)\n",
      "LR: 0.550833 (0.181559)\n",
      "MLP: 0.514881 (0.125661)\n",
      "RF: 0.510952 (0.102696)\n",
      "ET: 0.557024 (0.090367)\n",
      "**********************************************************\n",
      "Statistical tests\n",
      "**********************************************************\n",
      "----------------------------------------------------------\n",
      "Checking parametric conditions \n",
      "----------------------------------------------------------\n",
      "Checking independence \n",
      "Ok\n",
      "Checking normality using Shapiro-Wilk's test for normality, alpha=0.05\n",
      "W: 0.962026, p:0.032425\n",
      "The null hypothesis (normality) is rejected\n",
      "Checking heteroscedasticity using Levene's test, alpha=0.05\n",
      "W: 1.549074, p:0.177047\n",
      "The null hypothesis (heteroscedasticity) is rejected\n",
      "Conditions for a parametric test are not fulfilled, applying a non-parametric test\n",
      "----------------------------------------------------------\n",
      "Working with more than 2 algorithms\n",
      "----------------------------------------------------------\n",
      "----------------------------------------------------------\n",
      "Applying Friedman test\n",
      "----------------------------------------------------------\n",
      "F-value: 0.942790, p-value: 0.4724550155669629\n",
      "Null hypothesis is rejected; hence, models have different performance\n",
      "Technique      Ranking\n",
      "-----------  ---------\n",
      "LR                4.85\n",
      "ET                4.5\n",
      "SVM               4.45\n",
      "MLP               3.9\n",
      "Arbol             3.9\n",
      "RF                3.5\n",
      "KNN               2.9\n",
      "Winner model: LR\n",
      "----------------------------------------------------------\n",
      "Applying Holm p-value adjustment procedure and analysing effect size\n",
      "----------------------------------------------------------\n",
      "Comparison      Zvalue    p-value    adjusted p-value\n",
      "------------  --------  ---------  ------------------\n",
      "LR vs KNN     2.01844   0.0435453            0.261272\n",
      "LR vs RF      1.39738   0.162299             0.811493\n",
      "LR vs Arbol   0.983343  0.325438             1\n",
      "LR vs MLP     0.983343  0.325438             1\n",
      "LR vs SVM     0.414039  0.678845             1\n",
      "LR vs ET      0.362284  0.71714              1\n",
      "There is a significant difference between the models: LR (mean: 0.550833, std: 0.181559) and KNN (mean: 0.402143, std: 0.177932) (Cohen's d=0.7847368227596234, Large)\n",
      "We can't say that there is a significant difference in the performance of the models: LR (mean: 0.550833, std: 0.181559) and RF (mean: 0.510952, std: 0.102696) (Cohen's d=0.25651125503251637, Medium)\n",
      "We can't say that there is a significant difference in the performance of the models: LR (mean: 0.550833, std: 0.181559) and Arbol (mean: 0.528095, std: 0.152171) (Cohen's d=0.12877534437458205, Small)\n",
      "We can't say that there is a significant difference in the performance of the models: LR (mean: 0.550833, std: 0.181559) and MLP (mean: 0.514881, std: 0.125661) (Cohen's d=0.21845263277449103, Medium)\n",
      "We can't say that there is a significant difference in the performance of the models: LR (mean: 0.550833, std: 0.181559) and SVM (mean: 0.524167, std: 0.123516) (Cohen's d=0.16292639883100074, Small)\n",
      "We can't say that there is a significant difference in the performance of the models: LR (mean: 0.550833, std: 0.181559) and ET (mean: 0.557024, std: 0.090367) (Cohen's d=0.04095257033436398, Small)\n",
      "Eta squared: 0.104312 (Large)\n"
     ]
    },
    {
     "data": {
      "image/png": "[encoded data removed]",
      "text/plain": [
       "<Figure size 432x288 with 1 Axes>"
      ]
     },
     "metadata": {
      "needs_background": "light"
     },
     "output_type": "display_data"
    }
   ],
   "source": [
    "compare_methods(X_pca100,Y,listAlgorithms,listParams,listNames,metric='auroc')"
   ]
  },
  {
   "cell_type": "code",
   "execution_count": 31,
   "metadata": {},
   "outputs": [
    {
     "name": "stdout",
     "output_type": "stream",
     "text": [
      "temp.csv\n",
      "['Arbol' 'SVM' 'KNN' 'LR' 'MLP' 'RF' 'ET']\n",
      "==========================================================\n",
      "Report\n",
      "==========================================================\n",
      "**********************************************************\n",
      "Mean and std\n",
      "**********************************************************\n",
      "Arbol: 0.515238 (0.323477)\n",
      "SVM: 0.200000 (0.331662)\n",
      "KNN: 0.233333 (0.213437)\n",
      "LR: 0.441667 (0.293565)\n",
      "MLP: 0.283333 (0.247768)\n",
      "RF: 0.391667 (0.361421)\n",
      "ET: 0.350000 (0.390512)\n",
      "**********************************************************\n",
      "Statistical tests\n",
      "**********************************************************\n",
      "----------------------------------------------------------\n",
      "Checking parametric conditions \n",
      "----------------------------------------------------------\n",
      "Checking independence \n",
      "Ok\n",
      "Checking normality using Shapiro-Wilk's test for normality, alpha=0.05\n",
      "W: 0.854501, p:0.000001\n",
      "The null hypothesis (normality) is rejected\n",
      "Checking heteroscedasticity using Levene's test, alpha=0.05\n",
      "W: 0.631560, p:0.704420\n",
      "The null hypothesis (heteroscedasticity) is accepted\n",
      "Conditions for a parametric test are not fulfilled, applying a non-parametric test\n",
      "----------------------------------------------------------\n",
      "Working with more than 2 algorithms\n",
      "----------------------------------------------------------\n",
      "----------------------------------------------------------\n",
      "Applying Friedman test\n",
      "----------------------------------------------------------\n",
      "F-value: 0.737249, p-value: 0.6218829069689311\n",
      "Null hypothesis is accepted; hence, we can't say that there is a significant difference in the performance of the models\n",
      "----------------------------------------------------------\n",
      "Analysing effect size\n",
      "----------------------------------------------------------\n",
      "We take the model with the best mean (Arbol, mean: 0.515238) and compare it with the other models: \n",
      "Comparing effect size of Arbol and SVM: Cohen's d=0.9128979517708418, Large\n",
      "Comparing effect size of Arbol and KNN: Cohen's d=0.9759191973385182, Large\n",
      "Comparing effect size of Arbol and LR: Cohen's d=0.22596220566106953, Medium\n",
      "Comparing effect size of Arbol and MLP: Cohen's d=0.7635851420641845, Large\n",
      "Comparing effect size of Arbol and RF: Cohen's d=0.341804711352557, Medium\n",
      "Comparing effect size of Arbol and ET: Cohen's d=0.4371835334192612, Medium\n",
      "Eta squared: 0.101241 (Large)\n"
     ]
    },
    {
     "data": {
      "image/png": "[encoded data removed]",
      "text/plain": [
       "<Figure size 432x288 with 1 Axes>"
      ]
     },
     "metadata": {
      "needs_background": "light"
     },
     "output_type": "display_data"
    }
   ],
   "source": [
    "compare_methods(X_pca100,Y,listAlgorithms,listParams,listNames,metric='precision')"
   ]
  },
  {
   "cell_type": "code",
   "execution_count": 32,
   "metadata": {},
   "outputs": [
    {
     "name": "stdout",
     "output_type": "stream",
     "text": [
      "temp.csv\n",
      "['Arbol' 'SVM' 'KNN' 'LR' 'MLP' 'RF' 'ET']\n",
      "==========================================================\n",
      "Report\n",
      "==========================================================\n",
      "**********************************************************\n",
      "Mean and std\n",
      "**********************************************************\n",
      "Arbol: 0.415000 (0.190095)\n",
      "SVM: 0.191667 (0.298259)\n",
      "KNN: 0.241667 (0.262070)\n",
      "LR: 0.541667 (0.375000)\n",
      "MLP: 0.320000 (0.327346)\n",
      "RF: 0.240000 (0.170978)\n",
      "ET: 0.198333 (0.209821)\n",
      "**********************************************************\n",
      "Statistical tests\n",
      "**********************************************************\n",
      "----------------------------------------------------------\n",
      "Checking parametric conditions \n",
      "----------------------------------------------------------\n",
      "Checking independence \n",
      "Ok\n",
      "Checking normality using Shapiro-Wilk's test for normality, alpha=0.05\n",
      "W: 0.870283, p:0.000003\n",
      "The null hypothesis (normality) is rejected\n",
      "Checking heteroscedasticity using Levene's test, alpha=0.05\n",
      "W: 1.543438, p:0.178792\n",
      "The null hypothesis (heteroscedasticity) is rejected\n",
      "Conditions for a parametric test are not fulfilled, applying a non-parametric test\n",
      "----------------------------------------------------------\n",
      "Working with more than 2 algorithms\n",
      "----------------------------------------------------------\n",
      "----------------------------------------------------------\n",
      "Applying Friedman test\n",
      "----------------------------------------------------------\n",
      "F-value: 1.813130, p-value: 0.11380769224495302\n",
      "Null hypothesis is rejected; hence, models have different performance\n",
      "Technique      Ranking\n",
      "-----------  ---------\n",
      "LR                5.4\n",
      "Arbol             5\n",
      "MLP               4.05\n",
      "KNN               3.65\n",
      "RF                3.6\n",
      "SVM               3.2\n",
      "ET                3.1\n",
      "Winner model: LR\n",
      "----------------------------------------------------------\n",
      "Applying Holm p-value adjustment procedure and analysing effect size\n",
      "----------------------------------------------------------\n",
      "Comparison      Zvalue    p-value    adjusted p-value\n",
      "------------  --------  ---------  ------------------\n",
      "LR vs ET      2.38073   0.0172786            0.103671\n",
      "LR vs SVM     2.27722   0.0227733            0.113867\n",
      "LR vs RF      1.86318   0.0624374            0.249749\n",
      "LR vs KNN     1.81142   0.0700755            0.249749\n",
      "LR vs MLP     1.39738   0.162299             0.324597\n",
      "LR vs Arbol   0.414039  0.678845             0.678845\n",
      "There is a significant difference between the models: LR (mean: 0.541667, std: 0.375000) and ET (mean: 0.198333, std: 0.209821) (Cohen's d=1.0719574984198903, Large)\n",
      "There is a significant difference between the models: LR (mean: 0.541667, std: 0.375000) and SVM (mean: 0.191667, std: 0.298259) (Cohen's d=0.9800181486522789, Large)\n",
      "There is a significant difference between the models: LR (mean: 0.541667, std: 0.375000) and RF (mean: 0.240000, std: 0.170978) (Cohen's d=0.9820195817354346, Large)\n",
      "There is a significant difference between the models: LR (mean: 0.541667, std: 0.375000) and KNN (mean: 0.241667, std: 0.262070) (Cohen's d=0.8797659096258962, Large)\n",
      "There is a significant difference between the models: LR (mean: 0.541667, std: 0.375000) and MLP (mean: 0.320000, std: 0.327346) (Cohen's d=0.597452017427991, Large)\n",
      "We can't say that there is a significant difference in the performance of the models: LR (mean: 0.541667, std: 0.375000) and Arbol (mean: 0.415000, std: 0.190095) (Cohen's d=0.40420830555051157, Medium)\n",
      "Eta squared: 0.163697 (Large)\n"
     ]
    },
    {
     "data": {
      "image/png": "[encoded data removed]",
      "text/plain": [
       "<Figure size 432x288 with 1 Axes>"
      ]
     },
     "metadata": {
      "needs_background": "light"
     },
     "output_type": "display_data"
    }
   ],
   "source": [
    "compare_methods(X_pca100,Y,listAlgorithms,listParams,listNames,metric='recall')"
   ]
  },
  {
   "cell_type": "code",
   "execution_count": 33,
   "metadata": {},
   "outputs": [
    {
     "name": "stdout",
     "output_type": "stream",
     "text": [
      "temp.csv\n",
      "['Arbol' 'SVM' 'KNN' 'LR' 'MLP' 'RF' 'ET']\n",
      "==========================================================\n",
      "Report\n",
      "==========================================================\n",
      "**********************************************************\n",
      "Mean and std\n",
      "**********************************************************\n",
      "Arbol: 0.556667 (0.157954)\n",
      "SVM: 0.550000 (0.173934)\n",
      "KNN: 0.407778 (0.183118)\n",
      "LR: 0.518889 (0.153160)\n",
      "MLP: 0.518889 (0.139492)\n",
      "RF: 0.533333 (0.127172)\n",
      "ET: 0.585556 (0.149571)\n",
      "**********************************************************\n",
      "Statistical tests\n",
      "**********************************************************\n",
      "----------------------------------------------------------\n",
      "Checking parametric conditions \n",
      "----------------------------------------------------------\n",
      "Checking independence \n",
      "Ok\n",
      "Checking normality using Shapiro-Wilk's test for normality, alpha=0.05\n",
      "W: 0.959095, p:0.022321\n",
      "The null hypothesis (normality) is rejected\n",
      "Checking heteroscedasticity using Levene's test, alpha=0.05\n",
      "W: 0.544662, p:0.772226\n",
      "The null hypothesis (heteroscedasticity) is accepted\n",
      "Conditions for a parametric test are not fulfilled, applying a non-parametric test\n",
      "----------------------------------------------------------\n",
      "Working with more than 2 algorithms\n",
      "----------------------------------------------------------\n",
      "----------------------------------------------------------\n",
      "Applying Friedman test\n",
      "----------------------------------------------------------\n",
      "F-value: 1.231425, p-value: 0.30491225634642116\n",
      "Null hypothesis is rejected; hence, models have different performance\n",
      "Technique      Ranking\n",
      "-----------  ---------\n",
      "ET                4.95\n",
      "SVM               4.4\n",
      "Arbol             4.15\n",
      "MLP               4.1\n",
      "LR                4.05\n",
      "RF                3.85\n",
      "KNN               2.5\n",
      "Winner model: ET\n",
      "----------------------------------------------------------\n",
      "Applying Holm p-value adjustment procedure and analysing effect size\n",
      "----------------------------------------------------------\n",
      "Comparison      Zvalue    p-value    adjusted p-value\n",
      "------------  --------  ---------  ------------------\n",
      "ET vs KNN     2.53599    0.011213           0.0672778\n",
      "ET vs RF      1.13861    0.254867           1\n",
      "ET vs LR      0.931589   0.351549           1\n",
      "ET vs MLP     0.879834   0.378949           1\n",
      "ET vs Arbol   0.828079   0.407626           1\n",
      "ET vs SVM     0.569304   0.56915            1\n",
      "There is a significant difference between the models: ET (mean: 0.585556, std: 0.149571) and KNN (mean: 0.407778, std: 0.183118) (Cohen's d=1.0087729657931817, Large)\n",
      "We can't say that there is a significant difference in the performance of the models: ET (mean: 0.585556, std: 0.149571) and RF (mean: 0.533333, std: 0.127172) (Cohen's d=0.3568705464347739, Medium)\n",
      "We can't say that there is a significant difference in the performance of the models: ET (mean: 0.585556, std: 0.149571) and LR (mean: 0.518889, std: 0.153160) (Cohen's d=0.417803255574336, Medium)\n",
      "We can't say that there is a significant difference in the performance of the models: ET (mean: 0.585556, std: 0.149571) and MLP (mean: 0.518889, std: 0.139492) (Cohen's d=0.43732366984677545, Medium)\n",
      "We can't say that there is a significant difference in the performance of the models: ET (mean: 0.585556, std: 0.149571) and Arbol (mean: 0.556667, std: 0.157954) (Cohen's d=0.17817230189492358, Small)\n",
      "We can't say that there is a significant difference in the performance of the models: ET (mean: 0.585556, std: 0.149571) and SVM (mean: 0.550000, std: 0.173934) (Cohen's d=0.20794521942656588, Medium)\n",
      "Eta squared: 0.101270 (Large)\n"
     ]
    },
    {
     "data": {
      "image/png": "[encoded data removed]",
      "text/plain": [
       "<Figure size 432x288 with 1 Axes>"
      ]
     },
     "metadata": {
      "needs_background": "light"
     },
     "output_type": "display_data"
    }
   ],
   "source": [
    "compare_methods(X_pca100,Y,listAlgorithms,listParams,listNames,metric='accuracy')"
   ]
  },
  {
   "cell_type": "code",
   "execution_count": 34,
   "metadata": {
    "id": "DNplq4INOuQI"
   },
   "outputs": [],
   "source": [
    "!mv temp.csv temppca100.csv"
   ]
  },
  {
   "cell_type": "markdown",
   "metadata": {
    "id": "B9xyvRUBJ4Yg"
   },
   "source": [
    "# TSNE with 2 components"
   ]
  },
  {
   "cell_type": "code",
   "execution_count": 35,
   "metadata": {
    "id": "cgeSd7wqJ4MA"
   },
   "outputs": [],
   "source": [
    "from sklearn.manifold import TSNE"
   ]
  },
  {
   "cell_type": "code",
   "execution_count": 36,
   "metadata": {
    "id": "VqpY0-F7JWkP"
   },
   "outputs": [],
   "source": [
    "Xtsne2 = TSNE(n_components=2).fit_transform(X)"
   ]
  },
  {
   "cell_type": "code",
   "execution_count": 37,
   "metadata": {
    "id": "JLGsE9ymKGAf",
    "scrolled": true
   },
   "outputs": [
    {
     "name": "stdout",
     "output_type": "stream",
     "text": [
      "temp.csv\n",
      "['Arbol' 'SVM' 'KNN' 'LR' 'MLP' 'RF' 'ET']\n",
      "==========================================================\n",
      "Report\n",
      "==========================================================\n",
      "**********************************************************\n",
      "Mean and std\n",
      "**********************************************************\n",
      "Arbol: 0.481190 (0.176128)\n",
      "SVM: 0.451786 (0.099944)\n",
      "KNN: 0.502619 (0.114356)\n",
      "LR: 0.532976 (0.123686)\n",
      "MLP: 0.497143 (0.093517)\n",
      "RF: 0.580357 (0.131072)\n",
      "ET: 0.456667 (0.122715)\n",
      "**********************************************************\n",
      "Statistical tests\n",
      "**********************************************************\n",
      "----------------------------------------------------------\n",
      "Checking parametric conditions \n",
      "----------------------------------------------------------\n",
      "Checking independence \n",
      "Ok\n",
      "Checking normality using Shapiro-Wilk's test for normality, alpha=0.05\n",
      "W: 0.920024, p:0.000264\n",
      "The null hypothesis (normality) is rejected\n",
      "Checking heteroscedasticity using Levene's test, alpha=0.05\n",
      "W: 1.000000, p:0.433357\n",
      "The null hypothesis (heteroscedasticity) is rejected\n",
      "Conditions for a parametric test are not fulfilled, applying a non-parametric test\n",
      "----------------------------------------------------------\n",
      "Working with more than 2 algorithms\n",
      "----------------------------------------------------------\n",
      "----------------------------------------------------------\n",
      "Applying Friedman test\n",
      "----------------------------------------------------------\n",
      "F-value: 2.740042, p-value: 0.02132792502787595\n",
      "Null hypothesis is rejected; hence, models have different performance\n",
      "Technique      Ranking\n",
      "-----------  ---------\n",
      "RF                5.8\n",
      "LR                4.5\n",
      "KNN               4.45\n",
      "MLP               3.8\n",
      "Arbol             3.8\n",
      "ET                2.85\n",
      "SVM               2.8\n",
      "Winner model: RF\n",
      "----------------------------------------------------------\n",
      "Applying Holm p-value adjustment procedure and analysing effect size\n",
      "----------------------------------------------------------\n",
      "Comparison      Zvalue     p-value    adjusted p-value\n",
      "------------  --------  ----------  ------------------\n",
      "RF vs SVM      3.1053   0.00190089           0.0114054\n",
      "RF vs ET       3.05354  0.00226158           0.0114054\n",
      "RF vs Arbol    2.0702   0.0384339            0.153736\n",
      "RF vs MLP      2.0702   0.0384339            0.153736\n",
      "RF vs KNN      1.39738  0.162299             0.324597\n",
      "RF vs LR       1.34563  0.178423             0.324597\n",
      "There is a significant difference between the models: RF (mean: 0.580357, std: 0.131072) and SVM (mean: 0.451786, std: 0.099944) (Cohen's d=1.0465206899451551, Large)\n",
      "There is a significant difference between the models: RF (mean: 0.580357, std: 0.131072) and ET (mean: 0.456667, std: 0.122715) (Cohen's d=0.9242365719840467, Large)\n",
      "There is a significant difference between the models: RF (mean: 0.580357, std: 0.131072) and Arbol (mean: 0.481190, std: 0.176128) (Cohen's d=0.6060037620193556, Large)\n",
      "There is a significant difference between the models: RF (mean: 0.580357, std: 0.131072) and MLP (mean: 0.497143, std: 0.093517) (Cohen's d=0.6933815267179401, Large)\n",
      "There is a significant difference between the models: RF (mean: 0.580357, std: 0.131072) and KNN (mean: 0.502619, std: 0.114356) (Cohen's d=0.5995929185738765, Large)\n",
      "There is a significant difference between the models: RF (mean: 0.580357, std: 0.131072) and LR (mean: 0.532976, std: 0.123686) (Cohen's d=0.35273256705717254, Medium)\n",
      "Eta squared: 0.098909 (Large)\n"
     ]
    },
    {
     "data": {
      "image/png": "[encoded data removed]",
      "text/plain": [
       "<Figure size 432x288 with 1 Axes>"
      ]
     },
     "metadata": {
      "needs_background": "light"
     },
     "output_type": "display_data"
    }
   ],
   "source": [
    "compare_methods(Xtsne2,Y,listAlgorithms,listParams,listNames,metric='auroc')"
   ]
  },
  {
   "cell_type": "code",
   "execution_count": 38,
   "metadata": {},
   "outputs": [
    {
     "name": "stdout",
     "output_type": "stream",
     "text": [
      "temp.csv\n",
      "['Arbol' 'SVM' 'KNN' 'LR' 'MLP' 'RF' 'ET']\n",
      "==========================================================\n",
      "Report\n",
      "==========================================================\n",
      "**********************************************************\n",
      "Mean and std\n",
      "**********************************************************\n",
      "Arbol: 0.485000 (0.328164)\n",
      "SVM: 0.206667 (0.213333)\n",
      "KNN: 0.433333 (0.351188)\n",
      "LR: 0.503333 (0.377256)\n",
      "MLP: 0.336667 (0.371319)\n",
      "RF: 0.689524 (0.318385)\n",
      "ET: 0.166667 (0.307318)\n",
      "**********************************************************\n",
      "Statistical tests\n",
      "**********************************************************\n",
      "----------------------------------------------------------\n",
      "Checking parametric conditions \n",
      "----------------------------------------------------------\n",
      "Checking independence \n",
      "Ok\n",
      "Checking normality using Shapiro-Wilk's test for normality, alpha=0.05\n",
      "W: 0.849639, p:0.000001\n",
      "The null hypothesis (normality) is rejected\n",
      "Checking heteroscedasticity using Levene's test, alpha=0.05\n",
      "W: 0.622169, p:0.711813\n",
      "The null hypothesis (heteroscedasticity) is accepted\n",
      "Conditions for a parametric test are not fulfilled, applying a non-parametric test\n",
      "----------------------------------------------------------\n",
      "Working with more than 2 algorithms\n",
      "----------------------------------------------------------\n",
      "----------------------------------------------------------\n",
      "Applying Friedman test\n",
      "----------------------------------------------------------\n",
      "F-value: 2.650485, p-value: 0.025111573015869637\n",
      "Null hypothesis is rejected; hence, models have different performance\n",
      "Technique      Ranking\n",
      "-----------  ---------\n",
      "RF                5.6\n",
      "LR                4.5\n",
      "KNN               4.45\n",
      "Arbol             4.35\n",
      "MLP               3.55\n",
      "SVM               2.9\n",
      "ET                2.65\n",
      "Winner model: RF\n",
      "----------------------------------------------------------\n",
      "Applying Holm p-value adjustment procedure and analysing effect size\n",
      "----------------------------------------------------------\n",
      "Comparison      Zvalue     p-value    adjusted p-value\n",
      "------------  --------  ----------  ------------------\n",
      "RF vs ET       3.05354  0.00226158           0.0135695\n",
      "RF vs SVM      2.79477  0.00519374           0.0259687\n",
      "RF vs MLP      2.12195  0.0338418            0.135367\n",
      "RF vs Arbol    1.29387  0.195709             0.587128\n",
      "RF vs KNN      1.19036  0.233904             0.587128\n",
      "RF vs LR       1.13861  0.254867             0.587128\n",
      "There is a significant difference between the models: RF (mean: 0.689524, std: 0.318385) and ET (mean: 0.166667, std: 0.307318) (Cohen's d=1.5852522156673852, Large)\n",
      "There is a significant difference between the models: RF (mean: 0.689524, std: 0.318385) and SVM (mean: 0.206667, std: 0.213333) (Cohen's d=1.6903391452708942, Large)\n",
      "There is a significant difference between the models: RF (mean: 0.689524, std: 0.318385) and MLP (mean: 0.336667, std: 0.371319) (Cohen's d=0.9678596457691616, Large)\n",
      "We can't say that there is a significant difference in the performance of the models: RF (mean: 0.689524, std: 0.318385) and Arbol (mean: 0.485000, std: 0.328164) (Cohen's d=0.6001285172808118, Large)\n",
      "We can't say that there is a significant difference in the performance of the models: RF (mean: 0.689524, std: 0.318385) and KNN (mean: 0.433333, std: 0.351188) (Cohen's d=0.7250963601663962, Large)\n",
      "We can't say that there is a significant difference in the performance of the models: RF (mean: 0.689524, std: 0.318385) and LR (mean: 0.503333, std: 0.377256) (Cohen's d=0.5060273993725614, Large)\n",
      "Eta squared: 0.208806 (Large)\n"
     ]
    },
    {
     "data": {
      "image/png": "[encoded data removed]",
      "text/plain": [
       "<Figure size 432x288 with 1 Axes>"
      ]
     },
     "metadata": {
      "needs_background": "light"
     },
     "output_type": "display_data"
    }
   ],
   "source": [
    "compare_methods(Xtsne2,Y,listAlgorithms,listParams,listNames,metric='precision')"
   ]
  },
  {
   "cell_type": "code",
   "execution_count": 39,
   "metadata": {},
   "outputs": [
    {
     "name": "stdout",
     "output_type": "stream",
     "text": [
      "temp.csv\n",
      "['Arbol' 'SVM' 'KNN' 'LR' 'MLP' 'RF' 'ET']\n",
      "==========================================================\n",
      "Report\n",
      "==========================================================\n",
      "**********************************************************\n",
      "Mean and std\n",
      "**********************************************************\n",
      "Arbol: 0.348333 (0.202957)\n",
      "SVM: 0.166667 (0.178730)\n",
      "KNN: 0.223333 (0.169181)\n",
      "LR: 0.275000 (0.182764)\n",
      "MLP: 0.183333 (0.169967)\n",
      "RF: 0.390000 (0.266166)\n",
      "ET: 0.091667 (0.141667)\n",
      "**********************************************************\n",
      "Statistical tests\n",
      "**********************************************************\n",
      "----------------------------------------------------------\n",
      "Checking parametric conditions \n",
      "----------------------------------------------------------\n",
      "Checking independence \n",
      "Ok\n",
      "Checking normality using Shapiro-Wilk's test for normality, alpha=0.05\n",
      "W: 0.883443, p:0.000009\n",
      "The null hypothesis (normality) is rejected\n",
      "Checking heteroscedasticity using Levene's test, alpha=0.05\n",
      "W: 0.557779, p:0.762122\n",
      "The null hypothesis (heteroscedasticity) is accepted\n",
      "Conditions for a parametric test are not fulfilled, applying a non-parametric test\n",
      "----------------------------------------------------------\n",
      "Working with more than 2 algorithms\n",
      "----------------------------------------------------------\n",
      "----------------------------------------------------------\n",
      "Applying Friedman test\n",
      "----------------------------------------------------------\n",
      "F-value: 1.982785, p-value: 0.08418894703712299\n",
      "Null hypothesis is rejected; hence, models have different performance\n",
      "Technique      Ranking\n",
      "-----------  ---------\n",
      "RF                5.05\n",
      "Arbol             4.85\n",
      "LR                4.6\n",
      "KNN               4.1\n",
      "MLP               3.5\n",
      "SVM               3.4\n",
      "ET                2.5\n",
      "Winner model: RF\n",
      "----------------------------------------------------------\n",
      "Applying Holm p-value adjustment procedure and analysing effect size\n",
      "----------------------------------------------------------\n",
      "Comparison      Zvalue     p-value    adjusted p-value\n",
      "------------  --------  ----------  ------------------\n",
      "RF vs ET      2.6395    0.00830282           0.0498169\n",
      "RF vs SVM     1.70791   0.0876526            0.438263\n",
      "RF vs MLP     1.6044    0.108625             0.438263\n",
      "RF vs KNN     0.983343  0.325438             0.976315\n",
      "RF vs LR      0.465794  0.641363             1\n",
      "RF vs Arbol   0.20702   0.835994             1\n",
      "There is a significant difference between the models: RF (mean: 0.390000, std: 0.266166) and ET (mean: 0.091667, std: 0.141667) (Cohen's d=1.3274644993391398, Large)\n",
      "There is a significant difference between the models: RF (mean: 0.390000, std: 0.266166) and SVM (mean: 0.166667, std: 0.178730) (Cohen's d=0.9345804990007702, Large)\n",
      "There is a significant difference between the models: RF (mean: 0.390000, std: 0.266166) and MLP (mean: 0.183333, std: 0.169967) (Cohen's d=0.8779838352573823, Large)\n",
      "We can't say that there is a significant difference in the performance of the models: RF (mean: 0.390000, std: 0.266166) and KNN (mean: 0.223333, std: 0.169181) (Cohen's d=0.7089999754213347, Large)\n",
      "We can't say that there is a significant difference in the performance of the models: RF (mean: 0.390000, std: 0.266166) and LR (mean: 0.275000, std: 0.182764) (Cohen's d=0.47786128556757035, Medium)\n",
      "We can't say that there is a significant difference in the performance of the models: RF (mean: 0.390000, std: 0.266166) and Arbol (mean: 0.348333, std: 0.202957) (Cohen's d=0.16701135441166112, Small)\n",
      "Eta squared: 0.206447 (Large)\n"
     ]
    },
    {
     "data": {
      "image/png": "[encoded data removed]",
      "text/plain": [
       "<Figure size 432x288 with 1 Axes>"
      ]
     },
     "metadata": {
      "needs_background": "light"
     },
     "output_type": "display_data"
    }
   ],
   "source": [
    "compare_methods(Xtsne2,Y,listAlgorithms,listParams,listNames,metric='recall')"
   ]
  },
  {
   "cell_type": "code",
   "execution_count": 40,
   "metadata": {},
   "outputs": [
    {
     "name": "stdout",
     "output_type": "stream",
     "text": [
      "temp.csv\n",
      "['Arbol' 'SVM' 'KNN' 'LR' 'MLP' 'RF' 'ET']\n",
      "==========================================================\n",
      "Report\n",
      "==========================================================\n",
      "**********************************************************\n",
      "Mean and std\n",
      "**********************************************************\n",
      "Arbol: 0.475556 (0.207144)\n",
      "SVM: 0.463333 (0.126496)\n",
      "KNN: 0.528889 (0.139682)\n",
      "LR: 0.540000 (0.152364)\n",
      "MLP: 0.507778 (0.140550)\n",
      "RF: 0.596667 (0.124132)\n",
      "ET: 0.475556 (0.153703)\n",
      "**********************************************************\n",
      "Statistical tests\n",
      "**********************************************************\n",
      "----------------------------------------------------------\n",
      "Checking parametric conditions \n",
      "----------------------------------------------------------\n",
      "Checking independence \n",
      "Ok\n",
      "Checking normality using Shapiro-Wilk's test for normality, alpha=0.05\n",
      "W: 0.947167, p:0.005167\n",
      "The null hypothesis (normality) is rejected\n",
      "Checking heteroscedasticity using Levene's test, alpha=0.05\n",
      "W: 0.811220, p:0.565163\n",
      "The null hypothesis (heteroscedasticity) is accepted\n",
      "Conditions for a parametric test are not fulfilled, applying a non-parametric test\n",
      "----------------------------------------------------------\n",
      "Working with more than 2 algorithms\n",
      "----------------------------------------------------------\n",
      "----------------------------------------------------------\n",
      "Applying Friedman test\n",
      "----------------------------------------------------------\n",
      "F-value: 2.125828, p-value: 0.06512007068674786\n",
      "Null hypothesis is rejected; hence, models have different performance\n",
      "Technique      Ranking\n",
      "-----------  ---------\n",
      "RF                5.5\n",
      "LR                4.65\n",
      "KNN               4.45\n",
      "MLP               4\n",
      "Arbol             3.5\n",
      "ET                3.05\n",
      "SVM               2.85\n",
      "Winner model: RF\n",
      "----------------------------------------------------------\n",
      "Applying Holm p-value adjustment procedure and analysing effect size\n",
      "----------------------------------------------------------\n",
      "Comparison      Zvalue     p-value    adjusted p-value\n",
      "------------  --------  ----------  ------------------\n",
      "RF vs SVM     2.74301   0.00608787           0.0365272\n",
      "RF vs ET      2.53599   0.011213             0.0560648\n",
      "RF vs Arbol   2.0702    0.0384339            0.153736\n",
      "RF vs MLP     1.55265   0.120507             0.361522\n",
      "RF vs KNN     1.08685   0.277102             0.554203\n",
      "RF vs LR      0.879834  0.378949             0.554203\n",
      "There is a significant difference between the models: RF (mean: 0.596667, std: 0.124132) and SVM (mean: 0.463333, std: 0.126496) (Cohen's d=1.0093502024299346, Large)\n",
      "There is a significant difference between the models: RF (mean: 0.596667, std: 0.124132) and ET (mean: 0.475556, std: 0.153703) (Cohen's d=0.8224365845872379, Large)\n",
      "There is a significant difference between the models: RF (mean: 0.596667, std: 0.124132) and Arbol (mean: 0.475556, std: 0.207144) (Cohen's d=0.6728551742897689, Large)\n",
      "There is a significant difference between the models: RF (mean: 0.596667, std: 0.124132) and MLP (mean: 0.507778, std: 0.140550) (Cohen's d=0.6359763977638981, Large)\n",
      "We can't say that there is a significant difference in the performance of the models: RF (mean: 0.596667, std: 0.124132) and KNN (mean: 0.528889, std: 0.139682) (Cohen's d=0.4866178056856562, Medium)\n",
      "We can't say that there is a significant difference in the performance of the models: RF (mean: 0.596667, std: 0.124132) and LR (mean: 0.540000, std: 0.152364) (Cohen's d=0.3868462123492348, Medium)\n",
      "Eta squared: 0.076443 (Large)\n"
     ]
    },
    {
     "data": {
      "image/png": "[encoded data removed]",
      "text/plain": [
       "<Figure size 432x288 with 1 Axes>"
      ]
     },
     "metadata": {
      "needs_background": "light"
     },
     "output_type": "display_data"
    }
   ],
   "source": [
    "compare_methods(Xtsne2,Y,listAlgorithms,listParams,listNames,metric='accuracy')"
   ]
  },
  {
   "cell_type": "code",
   "execution_count": 41,
   "metadata": {
    "id": "9s4RecsnKMgQ"
   },
   "outputs": [],
   "source": [
    "!mv temp.csv temptsne2.csv"
   ]
  },
  {
   "cell_type": "markdown",
   "metadata": {},
   "source": [
    "# TSNE with 3 components"
   ]
  },
  {
   "cell_type": "code",
   "execution_count": 42,
   "metadata": {
    "id": "ROSlAByBKUuE",
    "scrolled": true
   },
   "outputs": [
    {
     "name": "stdout",
     "output_type": "stream",
     "text": [
      "temp.csv\n",
      "['Arbol' 'SVM' 'KNN' 'LR' 'MLP' 'RF' 'ET']\n",
      "==========================================================\n",
      "Report\n",
      "==========================================================\n",
      "**********************************************************\n",
      "Mean and std\n",
      "**********************************************************\n",
      "Arbol: 0.468333 (0.164595)\n",
      "SVM: 0.500000 (0.000000)\n",
      "KNN: 0.420595 (0.146331)\n",
      "LR: 0.446786 (0.083439)\n",
      "MLP: 0.456786 (0.126029)\n",
      "RF: 0.427024 (0.117691)\n",
      "ET: 0.500000 (0.000000)\n",
      "**********************************************************\n",
      "Statistical tests\n",
      "**********************************************************\n",
      "----------------------------------------------------------\n",
      "Checking parametric conditions \n",
      "----------------------------------------------------------\n",
      "Checking independence \n",
      "Ok\n",
      "Checking normality using Shapiro-Wilk's test for normality, alpha=0.05\n",
      "W: 0.904939, p:0.000061\n",
      "The null hypothesis (normality) is rejected\n",
      "Checking heteroscedasticity using Levene's test, alpha=0.05\n",
      "W: 5.300189, p:0.000178\n",
      "The null hypothesis (heteroscedasticity) is rejected\n",
      "Conditions for a parametric test are not fulfilled, applying a non-parametric test\n",
      "----------------------------------------------------------\n",
      "Working with more than 2 algorithms\n",
      "----------------------------------------------------------\n",
      "----------------------------------------------------------\n",
      "Applying Friedman test\n",
      "----------------------------------------------------------\n",
      "F-value: 1.227273, p-value: 0.30693827642628424\n",
      "Null hypothesis is rejected; hence, models have different performance\n",
      "Technique      Ranking\n",
      "-----------  ---------\n",
      "ET                4.9\n",
      "SVM               4.9\n",
      "Arbol             4.55\n",
      "LR                3.55\n",
      "MLP               3.5\n",
      "KNN               3.35\n",
      "RF                3.25\n",
      "Winner model: ET\n",
      "----------------------------------------------------------\n",
      "Applying Holm p-value adjustment procedure and analysing effect size\n",
      "----------------------------------------------------------\n",
      "Comparison      Zvalue    p-value    adjusted p-value\n",
      "------------  --------  ---------  ------------------\n",
      "ET vs RF      1.70791   0.0876526            0.525916\n",
      "ET vs KNN     1.6044    0.108625             0.543127\n",
      "ET vs MLP     1.44914   0.147299             0.589197\n",
      "ET vs LR      1.39738   0.162299             0.589197\n",
      "ET vs Arbol   0.362284  0.71714              1\n",
      "ET vs SVM     0         1                    1\n",
      "We can't say that there is a significant difference in the performance of the models: ET (mean: 0.500000, std: 0.000000) and RF (mean: 0.427024, std: 0.117691) (Cohen's d=0.83190487261669, Large)\n",
      "We can't say that there is a significant difference in the performance of the models: ET (mean: 0.500000, std: 0.000000) and KNN (mean: 0.420595, std: 0.146331) (Cohen's d=0.7280261123510599, Large)\n",
      "We can't say that there is a significant difference in the performance of the models: ET (mean: 0.500000, std: 0.000000) and MLP (mean: 0.456786, std: 0.126029) (Cohen's d=0.46003844064972554, Medium)\n",
      "We can't say that there is a significant difference in the performance of the models: ET (mean: 0.500000, std: 0.000000) and LR (mean: 0.446786, std: 0.083439) (Cohen's d=0.8556506257625339, Large)\n",
      "We can't say that there is a significant difference in the performance of the models: ET (mean: 0.500000, std: 0.000000) and Arbol (mean: 0.468333, std: 0.164595) (Cohen's d=0.25811972621165175, Medium)\n",
      "We can't say that there is a significant difference in the performance of the models: ET (mean: 0.500000, std: 0.000000) and SVM (mean: 0.500000, std: 0.000000) (Cohen's d=nan, Large)\n",
      "Eta squared: 0.066756 (Large)\n"
     ]
    },
    {
     "data": {
      "image/png": "[encoded data removed]",
      "text/plain": [
       "<Figure size 432x288 with 1 Axes>"
      ]
     },
     "metadata": {
      "needs_background": "light"
     },
     "output_type": "display_data"
    }
   ],
   "source": [
    "Xtsne3 = TSNE(n_components=3).fit_transform(X)\n",
    "compare_methods(Xtsne3,Y,listAlgorithms,listParams,listNames,metric='auroc')"
   ]
  },
  {
   "cell_type": "code",
   "execution_count": 43,
   "metadata": {},
   "outputs": [
    {
     "name": "stdout",
     "output_type": "stream",
     "text": [
      "temp.csv\n",
      "['Arbol' 'SVM' 'KNN' 'LR' 'MLP' 'RF' 'ET']\n",
      "==========================================================\n",
      "Report\n",
      "==========================================================\n",
      "**********************************************************\n",
      "Mean and std\n",
      "**********************************************************\n",
      "Arbol: 0.458333 (0.305437)\n",
      "SVM: 0.000000 (0.000000)\n",
      "KNN: 0.253333 (0.388501)\n",
      "LR: 0.150000 (0.302306)\n",
      "MLP: 0.250000 (0.309570)\n",
      "RF: 0.305000 (0.244501)\n",
      "ET: 0.000000 (0.000000)\n",
      "**********************************************************\n",
      "Statistical tests\n",
      "**********************************************************\n",
      "----------------------------------------------------------\n",
      "Checking parametric conditions \n",
      "----------------------------------------------------------\n",
      "Checking independence \n",
      "Ok\n",
      "Checking normality using Shapiro-Wilk's test for normality, alpha=0.05\n",
      "W: 0.691518, p:0.000000\n",
      "The null hypothesis (normality) is rejected\n",
      "Checking heteroscedasticity using Levene's test, alpha=0.05\n",
      "W: 2.062117, p:0.070345\n",
      "The null hypothesis (heteroscedasticity) is rejected\n",
      "Conditions for a parametric test are not fulfilled, applying a non-parametric test\n",
      "----------------------------------------------------------\n",
      "Working with more than 2 algorithms\n",
      "----------------------------------------------------------\n",
      "----------------------------------------------------------\n",
      "Applying Friedman test\n",
      "----------------------------------------------------------\n",
      "F-value: 4.651138, p-value: 0.0007047331035662241\n",
      "Null hypothesis is rejected; hence, models have different performance\n",
      "Technique      Ranking\n",
      "-----------  ---------\n",
      "Arbol             6\n",
      "RF                5\n",
      "MLP               4.25\n",
      "KNN               4.15\n",
      "LR                3.5\n",
      "ET                2.55\n",
      "SVM               2.55\n",
      "Winner model: Arbol\n",
      "----------------------------------------------------------\n",
      "Applying Holm p-value adjustment procedure and analysing effect size\n",
      "----------------------------------------------------------\n",
      "Comparison      Zvalue     p-value    adjusted p-value\n",
      "------------  --------  ----------  ------------------\n",
      "Arbol vs SVM   3.57109  0.0003555            0.002133\n",
      "Arbol vs ET    3.57109  0.0003555            0.002133\n",
      "Arbol vs LR    2.58775  0.00966062           0.0386425\n",
      "Arbol vs KNN   1.91493  0.0555012            0.166504\n",
      "Arbol vs MLP   1.81142  0.0700755            0.166504\n",
      "Arbol vs RF    1.0351   0.300623             0.300623\n",
      "There is a significant difference between the models: Arbol (mean: 0.458333, std: 0.305437) and SVM (mean: 0.000000, std: 0.000000) (Cohen's d=2.013243335295144, Large)\n",
      "There is a significant difference between the models: Arbol (mean: 0.458333, std: 0.305437) and ET (mean: 0.000000, std: 0.000000) (Cohen's d=2.013243335295144, Large)\n",
      "There is a significant difference between the models: Arbol (mean: 0.458333, std: 0.305437) and LR (mean: 0.150000, std: 0.302306) (Cohen's d=0.9626006362760278, Large)\n",
      "There is a significant difference between the models: Arbol (mean: 0.458333, std: 0.305437) and KNN (mean: 0.253333, std: 0.388501) (Cohen's d=0.5565382966400276, Large)\n",
      "There is a significant difference between the models: Arbol (mean: 0.458333, std: 0.305437) and MLP (mean: 0.250000, std: 0.309570) (Cohen's d=0.642718120911326, Large)\n",
      "There is a significant difference between the models: Arbol (mean: 0.458333, std: 0.305437) and RF (mean: 0.305000, std: 0.244501) (Cohen's d=0.5258049084285725, Large)\n",
      "Eta squared: 0.252082 (Large)\n"
     ]
    },
    {
     "data": {
      "image/png": "[encoded data removed]",
      "text/plain": [
       "<Figure size 432x288 with 1 Axes>"
      ]
     },
     "metadata": {
      "needs_background": "light"
     },
     "output_type": "display_data"
    }
   ],
   "source": [
    "compare_methods(Xtsne3,Y,listAlgorithms,listParams,listNames,metric='precision')"
   ]
  },
  {
   "cell_type": "code",
   "execution_count": 44,
   "metadata": {},
   "outputs": [
    {
     "name": "stdout",
     "output_type": "stream",
     "text": [
      "temp.csv\n",
      "['Arbol' 'SVM' 'KNN' 'LR' 'MLP' 'RF' 'ET']\n",
      "==========================================================\n",
      "Report\n",
      "==========================================================\n",
      "**********************************************************\n",
      "Mean and std\n",
      "**********************************************************\n",
      "Arbol: 0.320000 (0.149778)\n",
      "SVM: 0.000000 (0.000000)\n",
      "KNN: 0.128333 (0.172892)\n",
      "LR: 0.091667 (0.160078)\n",
      "MLP: 0.158333 (0.176580)\n",
      "RF: 0.310000 (0.189033)\n",
      "ET: 0.000000 (0.000000)\n",
      "**********************************************************\n",
      "Statistical tests\n",
      "**********************************************************\n",
      "----------------------------------------------------------\n",
      "Checking parametric conditions \n",
      "----------------------------------------------------------\n",
      "Checking independence \n",
      "Ok\n",
      "Checking normality using Shapiro-Wilk's test for normality, alpha=0.05\n",
      "W: 0.740048, p:0.000000\n",
      "The null hypothesis (normality) is rejected\n",
      "Checking heteroscedasticity using Levene's test, alpha=0.05\n",
      "W: 2.912402, p:0.014316\n",
      "The null hypothesis (heteroscedasticity) is rejected\n",
      "Conditions for a parametric test are not fulfilled, applying a non-parametric test\n",
      "----------------------------------------------------------\n",
      "Working with more than 2 algorithms\n",
      "----------------------------------------------------------\n",
      "----------------------------------------------------------\n",
      "Applying Friedman test\n",
      "----------------------------------------------------------\n",
      "F-value: 5.293817, p-value: 0.00023650242809769573\n",
      "Null hypothesis is rejected; hence, models have different performance\n",
      "Technique      Ranking\n",
      "-----------  ---------\n",
      "Arbol             5.8\n",
      "RF                5.55\n",
      "MLP               4.3\n",
      "KNN               3.9\n",
      "LR                3.35\n",
      "ET                2.55\n",
      "SVM               2.55\n",
      "Winner model: Arbol\n",
      "----------------------------------------------------------\n",
      "Applying Holm p-value adjustment procedure and analysing effect size\n",
      "----------------------------------------------------------\n",
      "Comparison      Zvalue      p-value    adjusted p-value\n",
      "------------  --------  -----------  ------------------\n",
      "Arbol vs SVM  3.36407   0.000768022          0.00460813\n",
      "Arbol vs ET   3.36407   0.000768022          0.00460813\n",
      "Arbol vs LR   2.53599   0.011213             0.0448519\n",
      "Arbol vs KNN  1.96669   0.0492193            0.147658\n",
      "Arbol vs MLP  1.55265   0.120507             0.241015\n",
      "Arbol vs RF   0.258775  0.795809             0.795809\n",
      "There is a significant difference between the models: Arbol (mean: 0.320000, std: 0.149778) and SVM (mean: 0.000000, std: 0.000000) (Cohen's d=2.8664167047223685, Large)\n",
      "There is a significant difference between the models: Arbol (mean: 0.320000, std: 0.149778) and ET (mean: 0.000000, std: 0.000000) (Cohen's d=2.8664167047223685, Large)\n",
      "There is a significant difference between the models: Arbol (mean: 0.320000, std: 0.149778) and LR (mean: 0.091667, std: 0.160078) (Cohen's d=1.3974015371425363, Large)\n",
      "There is a significant difference between the models: Arbol (mean: 0.320000, std: 0.149778) and KNN (mean: 0.128333, std: 0.172892) (Cohen's d=1.1241602482458912, Large)\n",
      "There is a significant difference between the models: Arbol (mean: 0.320000, std: 0.149778) and MLP (mean: 0.158333, std: 0.176580) (Cohen's d=0.9367378773640763, Large)\n",
      "We can't say that there is a significant difference in the performance of the models: Arbol (mean: 0.320000, std: 0.149778) and RF (mean: 0.310000, std: 0.189033) (Cohen's d=0.055628732449387215, Small)\n",
      "Eta squared: 0.416007 (Large)\n"
     ]
    },
    {
     "data": {
      "image/png": "[encoded data removed]",
      "text/plain": [
       "<Figure size 432x288 with 1 Axes>"
      ]
     },
     "metadata": {
      "needs_background": "light"
     },
     "output_type": "display_data"
    }
   ],
   "source": [
    "compare_methods(Xtsne3,Y,listAlgorithms,listParams,listNames,metric='recall')"
   ]
  },
  {
   "cell_type": "code",
   "execution_count": 45,
   "metadata": {},
   "outputs": [
    {
     "name": "stdout",
     "output_type": "stream",
     "text": [
      "temp.csv\n",
      "['Arbol' 'SVM' 'KNN' 'LR' 'MLP' 'RF' 'ET']\n",
      "==========================================================\n",
      "Report\n",
      "==========================================================\n",
      "**********************************************************\n",
      "Mean and std\n",
      "**********************************************************\n",
      "Arbol: 0.490000 (0.143712)\n",
      "SVM: 0.563333 (0.144021)\n",
      "KNN: 0.443333 (0.190675)\n",
      "LR: 0.464444 (0.122807)\n",
      "MLP: 0.488889 (0.098758)\n",
      "RF: 0.424444 (0.136065)\n",
      "ET: 0.563333 (0.144021)\n",
      "**********************************************************\n",
      "Statistical tests\n",
      "**********************************************************\n",
      "----------------------------------------------------------\n",
      "Checking parametric conditions \n",
      "----------------------------------------------------------\n",
      "Checking independence \n",
      "Ok\n",
      "Checking normality using Shapiro-Wilk's test for normality, alpha=0.05\n",
      "W: 0.960110, p:0.025387\n",
      "The null hypothesis (normality) is rejected\n",
      "Checking heteroscedasticity using Levene's test, alpha=0.05\n",
      "W: 0.945232, p:0.469470\n",
      "The null hypothesis (heteroscedasticity) is rejected\n",
      "Conditions for a parametric test are not fulfilled, applying a non-parametric test\n",
      "----------------------------------------------------------\n",
      "Working with more than 2 algorithms\n",
      "----------------------------------------------------------\n",
      "----------------------------------------------------------\n",
      "Applying Friedman test\n",
      "----------------------------------------------------------\n",
      "F-value: 1.675704, p-value: 0.14478970416349757\n",
      "Null hypothesis is rejected; hence, models have different performance\n",
      "Technique      Ranking\n",
      "-----------  ---------\n",
      "ET                5.15\n",
      "SVM               5.15\n",
      "Arbol             4.05\n",
      "MLP               3.75\n",
      "LR                3.65\n",
      "KNN               3.25\n",
      "RF                3\n",
      "Winner model: ET\n",
      "----------------------------------------------------------\n",
      "Applying Holm p-value adjustment procedure and analysing effect size\n",
      "----------------------------------------------------------\n",
      "Comparison      Zvalue    p-value    adjusted p-value\n",
      "------------  --------  ---------  ------------------\n",
      "ET vs RF       2.22546  0.0260503            0.156302\n",
      "ET vs KNN      1.96669  0.0492193            0.246097\n",
      "ET vs LR       1.55265  0.120507             0.482029\n",
      "ET vs MLP      1.44914  0.147299             0.482029\n",
      "ET vs Arbol    1.13861  0.254867             0.509733\n",
      "ET vs SVM      0        1                    1\n",
      "There is a significant difference between the models: ET (mean: 0.563333, std: 0.144021) and RF (mean: 0.424444, std: 0.136065) (Cohen's d=0.940487856010153, Large)\n",
      "There is a significant difference between the models: ET (mean: 0.563333, std: 0.144021) and KNN (mean: 0.443333, std: 0.190675) (Cohen's d=0.6737583174034063, Large)\n",
      "There is a significant difference between the models: ET (mean: 0.563333, std: 0.144021) and LR (mean: 0.464444, std: 0.122807) (Cohen's d=0.7009709245770382, Large)\n",
      "There is a significant difference between the models: ET (mean: 0.563333, std: 0.144021) and MLP (mean: 0.488889, std: 0.098758) (Cohen's d=0.5719443674865713, Large)\n",
      "We can't say that there is a significant difference in the performance of the models: ET (mean: 0.563333, std: 0.144021) and Arbol (mean: 0.490000, std: 0.143712) (Cohen's d=0.4835745221997614, Medium)\n",
      "We can't say that there is a significant difference in the performance of the models: ET (mean: 0.563333, std: 0.144021) and SVM (mean: 0.563333, std: 0.144021) (Cohen's d=0.0, Small)\n",
      "Eta squared: 0.111925 (Large)\n"
     ]
    },
    {
     "data": {
      "image/png": "[encoded data removed]",
      "text/plain": [
       "<Figure size 432x288 with 1 Axes>"
      ]
     },
     "metadata": {
      "needs_background": "light"
     },
     "output_type": "display_data"
    }
   ],
   "source": [
    "compare_methods(Xtsne3,Y,listAlgorithms,listParams,listNames,metric='accuracy')"
   ]
  },
  {
   "cell_type": "code",
   "execution_count": 46,
   "metadata": {
    "id": "rAl1ayHcKbSF"
   },
   "outputs": [],
   "source": [
    "!mv temp.csv temptsne3.csv"
   ]
  },
  {
   "cell_type": "markdown",
   "metadata": {},
   "source": [
    "# UMAP with 2 components"
   ]
  },
  {
   "cell_type": "code",
   "execution_count": 47,
   "metadata": {
    "id": "T45s4ka649by"
   },
   "outputs": [],
   "source": [
    "from umap import UMAP"
   ]
  },
  {
   "cell_type": "code",
   "execution_count": 48,
   "metadata": {
    "id": "y-O-MGt_5AC4"
   },
   "outputs": [],
   "source": [
    "reducer = UMAP()"
   ]
  },
  {
   "cell_type": "code",
   "execution_count": 49,
   "metadata": {
    "id": "h3U_6qzL5bR_"
   },
   "outputs": [],
   "source": [
    "Xumap = reducer.fit_transform(X)"
   ]
  },
  {
   "cell_type": "code",
   "execution_count": 50,
   "metadata": {
    "id": "PqHq4hZsXPPy",
    "scrolled": true
   },
   "outputs": [
    {
     "name": "stdout",
     "output_type": "stream",
     "text": [
      "temp.csv\n",
      "['Arbol' 'SVM' 'KNN' 'LR' 'MLP' 'RF' 'ET']\n",
      "==========================================================\n",
      "Report\n",
      "==========================================================\n",
      "**********************************************************\n",
      "Mean and std\n",
      "**********************************************************\n",
      "Arbol: 0.427500 (0.123947)\n",
      "SVM: 0.449286 (0.111504)\n",
      "KNN: 0.483571 (0.066379)\n",
      "LR: 0.451905 (0.118597)\n",
      "MLP: 0.483333 (0.050000)\n",
      "RF: 0.444643 (0.136567)\n",
      "ET: 0.481071 (0.073687)\n",
      "**********************************************************\n",
      "Statistical tests\n",
      "**********************************************************\n",
      "----------------------------------------------------------\n",
      "Checking parametric conditions \n",
      "----------------------------------------------------------\n",
      "Checking independence \n",
      "Ok\n",
      "Checking normality using Shapiro-Wilk's test for normality, alpha=0.05\n",
      "W: 0.890408, p:0.000017\n",
      "The null hypothesis (normality) is rejected\n",
      "Checking heteroscedasticity using Levene's test, alpha=0.05\n",
      "W: 2.255811, p:0.049132\n",
      "The null hypothesis (heteroscedasticity) is rejected\n",
      "Conditions for a parametric test are not fulfilled, applying a non-parametric test\n",
      "----------------------------------------------------------\n",
      "Working with more than 2 algorithms\n",
      "----------------------------------------------------------\n",
      "----------------------------------------------------------\n",
      "Applying Friedman test\n",
      "----------------------------------------------------------\n",
      "F-value: 0.402985, p-value: 0.8738463759952868\n",
      "Null hypothesis is accepted; hence, we can't say that there is a significant difference in the performance of the models\n",
      "----------------------------------------------------------\n",
      "Analysing effect size\n",
      "----------------------------------------------------------\n",
      "We take the model with the best mean (KNN, mean: 0.483571) and compare it with the other models: \n",
      "Comparing effect size of KNN and Arbol: Cohen's d=0.5350382663197637, Large\n",
      "Comparing effect size of KNN and SVM: Cohen's d=0.3544766407466432, Medium\n",
      "Comparing effect size of KNN and LR: Cohen's d=0.31260003846311313, Medium\n",
      "Comparing effect size of KNN and MLP: Cohen's d=0.0038438800334522406, Small\n",
      "Comparing effect size of KNN and RF: Cohen's d=0.34395855172491635, Medium\n",
      "Comparing effect size of KNN and ET: Cohen's d=0.03381956287048862, Small\n",
      "Eta squared: 0.039758 (Medium)\n"
     ]
    },
    {
     "data": {
      "image/png": "[encoded data removed]",
      "text/plain": [
       "<Figure size 432x288 with 1 Axes>"
      ]
     },
     "metadata": {
      "needs_background": "light"
     },
     "output_type": "display_data"
    }
   ],
   "source": [
    "compare_methods(Xumap,Y,listAlgorithms,listParams,listNames,metric='auroc')"
   ]
  },
  {
   "cell_type": "code",
   "execution_count": 51,
   "metadata": {},
   "outputs": [
    {
     "name": "stdout",
     "output_type": "stream",
     "text": [
      "temp.csv\n",
      "['Arbol' 'SVM' 'KNN' 'LR' 'MLP' 'RF' 'ET']\n",
      "==========================================================\n",
      "Report\n",
      "==========================================================\n",
      "**********************************************************\n",
      "Mean and std\n",
      "**********************************************************\n",
      "Arbol: 0.300000 (0.234639)\n",
      "SVM: 0.033333 (0.100000)\n",
      "KNN: 0.233333 (0.334996)\n",
      "LR: 0.200000 (0.331662)\n",
      "MLP: 0.000000 (0.000000)\n",
      "RF: 0.326667 (0.202649)\n",
      "ET: 0.166667 (0.210819)\n",
      "**********************************************************\n",
      "Statistical tests\n",
      "**********************************************************\n",
      "----------------------------------------------------------\n",
      "Checking parametric conditions \n",
      "----------------------------------------------------------\n",
      "Checking independence \n",
      "Ok\n",
      "Checking normality using Shapiro-Wilk's test for normality, alpha=0.05\n",
      "W: 0.720786, p:0.000000\n",
      "The null hypothesis (normality) is rejected\n",
      "Checking heteroscedasticity using Levene's test, alpha=0.05\n",
      "W: 1.621246, p:0.156026\n",
      "The null hypothesis (heteroscedasticity) is rejected\n",
      "Conditions for a parametric test are not fulfilled, applying a non-parametric test\n",
      "----------------------------------------------------------\n",
      "Working with more than 2 algorithms\n",
      "----------------------------------------------------------\n",
      "----------------------------------------------------------\n",
      "Applying Friedman test\n",
      "----------------------------------------------------------\n",
      "F-value: 2.940299, p-value: 0.014805998520515784\n",
      "Null hypothesis is rejected; hence, models have different performance\n",
      "Technique      Ranking\n",
      "-----------  ---------\n",
      "RF                5.5\n",
      "Arbol             5.25\n",
      "ET                4\n",
      "KNN               3.9\n",
      "LR                3.8\n",
      "SVM               2.9\n",
      "MLP               2.65\n",
      "Winner model: RF\n",
      "----------------------------------------------------------\n",
      "Applying Holm p-value adjustment procedure and analysing effect size\n",
      "----------------------------------------------------------\n",
      "Comparison      Zvalue     p-value    adjusted p-value\n",
      "------------  --------  ----------  ------------------\n",
      "RF vs MLP     2.95003   0.00317743           0.0190646\n",
      "RF vs SVM     2.69126   0.00711836           0.0355918\n",
      "RF vs LR      1.75967   0.0784643            0.313857\n",
      "RF vs KNN     1.65616   0.09769              0.313857\n",
      "RF vs ET      1.55265   0.120507             0.313857\n",
      "RF vs Arbol   0.258775  0.795809             0.795809\n",
      "There is a significant difference between the models: RF (mean: 0.326667, std: 0.202649) and MLP (mean: 0.000000, std: 0.000000) (Cohen's d=2.1627003322866356, Large)\n",
      "There is a significant difference between the models: RF (mean: 0.326667, std: 0.202649) and SVM (mean: 0.033333, std: 0.100000) (Cohen's d=1.7415217978319306, Large)\n",
      "There is a significant difference between the models: RF (mean: 0.326667, std: 0.202649) and LR (mean: 0.200000, std: 0.331662) (Cohen's d=0.43723434754033225, Medium)\n",
      "There is a significant difference between the models: RF (mean: 0.326667, std: 0.202649) and KNN (mean: 0.233333, std: 0.334996) (Cohen's d=0.3198288901756871, Medium)\n",
      "There is a significant difference between the models: RF (mean: 0.326667, std: 0.202649) and ET (mean: 0.166667, std: 0.210819) (Cohen's d=0.7340826512575668, Large)\n",
      "We can't say that there is a significant difference in the performance of the models: RF (mean: 0.326667, std: 0.202649) and Arbol (mean: 0.300000, std: 0.234639) (Cohen's d=0.11539661870823457, Small)\n",
      "Eta squared: 0.200081 (Large)\n"
     ]
    },
    {
     "data": {
      "image/png": "[encoded data removed]",
      "text/plain": [
       "<Figure size 432x288 with 1 Axes>"
      ]
     },
     "metadata": {
      "needs_background": "light"
     },
     "output_type": "display_data"
    }
   ],
   "source": [
    "compare_methods(Xumap,Y,listAlgorithms,listParams,listNames,metric='precision')"
   ]
  },
  {
   "cell_type": "code",
   "execution_count": 52,
   "metadata": {},
   "outputs": [
    {
     "name": "stdout",
     "output_type": "stream",
     "text": [
      "temp.csv\n",
      "['Arbol' 'SVM' 'KNN' 'LR' 'MLP' 'RF' 'ET']\n",
      "==========================================================\n",
      "Report\n",
      "==========================================================\n",
      "**********************************************************\n",
      "Mean and std\n",
      "**********************************************************\n",
      "Arbol: 0.298333 (0.223414)\n",
      "SVM: 0.050000 (0.150000)\n",
      "KNN: 0.116667 (0.145297)\n",
      "LR: 0.083333 (0.129099)\n",
      "MLP: 0.000000 (0.000000)\n",
      "RF: 0.365000 (0.263781)\n",
      "ET: 0.158333 (0.218740)\n",
      "**********************************************************\n",
      "Statistical tests\n",
      "**********************************************************\n",
      "----------------------------------------------------------\n",
      "Checking parametric conditions \n",
      "----------------------------------------------------------\n",
      "Checking independence \n",
      "Ok\n",
      "Checking normality using Shapiro-Wilk's test for normality, alpha=0.05\n",
      "W: 0.720330, p:0.000000\n",
      "The null hypothesis (normality) is rejected\n",
      "Checking heteroscedasticity using Levene's test, alpha=0.05\n",
      "W: 2.832190, p:0.016653\n",
      "The null hypothesis (heteroscedasticity) is rejected\n",
      "Conditions for a parametric test are not fulfilled, applying a non-parametric test\n",
      "----------------------------------------------------------\n",
      "Working with more than 2 algorithms\n",
      "----------------------------------------------------------\n",
      "----------------------------------------------------------\n",
      "Applying Friedman test\n",
      "----------------------------------------------------------\n",
      "F-value: 3.106654, p-value: 0.010939991896179002\n",
      "Null hypothesis is rejected; hence, models have different performance\n",
      "Technique      Ranking\n",
      "-----------  ---------\n",
      "RF                5.7\n",
      "Arbol             5.2\n",
      "ET                3.9\n",
      "KNN               3.9\n",
      "LR                3.55\n",
      "SVM               3.1\n",
      "MLP               2.65\n",
      "Winner model: RF\n",
      "----------------------------------------------------------\n",
      "Applying Holm p-value adjustment procedure and analysing effect size\n",
      "----------------------------------------------------------\n",
      "Comparison      Zvalue     p-value    adjusted p-value\n",
      "------------  --------  ----------  ------------------\n",
      "RF vs MLP     3.15705   0.00159374          0.00956244\n",
      "RF vs SVM     2.69126   0.00711836          0.0355918\n",
      "RF vs LR      2.22546   0.0260503           0.104201\n",
      "RF vs KNN     1.86318   0.0624374           0.187312\n",
      "RF vs ET      1.86318   0.0624374           0.187312\n",
      "RF vs Arbol   0.517549  0.604773            0.604773\n",
      "There is a significant difference between the models: RF (mean: 0.365000, std: 0.263781) and MLP (mean: 0.000000, std: 0.000000) (Cohen's d=1.8564581825380058, Large)\n",
      "There is a significant difference between the models: RF (mean: 0.365000, std: 0.263781) and SVM (mean: 0.050000, std: 0.150000) (Cohen's d=1.392716884933305, Large)\n",
      "There is a significant difference between the models: RF (mean: 0.365000, std: 0.263781) and LR (mean: 0.083333, std: 0.129099) (Cohen's d=1.2867647301053822, Large)\n",
      "There is a significant difference between the models: RF (mean: 0.365000, std: 0.263781) and KNN (mean: 0.116667, std: 0.145297) (Cohen's d=1.1063373616604262, Large)\n",
      "There is a significant difference between the models: RF (mean: 0.365000, std: 0.263781) and ET (mean: 0.158333, std: 0.218740) (Cohen's d=0.8091355193003591, Large)\n",
      "We can't say that there is a significant difference in the performance of the models: RF (mean: 0.365000, std: 0.263781) and Arbol (mean: 0.298333, std: 0.223414) (Cohen's d=0.2587445055277984, Medium)\n",
      "Eta squared: 0.318311 (Large)\n"
     ]
    },
    {
     "data": {
      "image/png": "[encoded data removed]",
      "text/plain": [
       "<Figure size 432x288 with 1 Axes>"
      ]
     },
     "metadata": {
      "needs_background": "light"
     },
     "output_type": "display_data"
    }
   ],
   "source": [
    "compare_methods(Xumap,Y,listAlgorithms,listParams,listNames,metric='recall')"
   ]
  },
  {
   "cell_type": "code",
   "execution_count": 53,
   "metadata": {},
   "outputs": [
    {
     "name": "stdout",
     "output_type": "stream",
     "text": [
      "temp.csv\n",
      "['Arbol' 'SVM' 'KNN' 'LR' 'MLP' 'RF' 'ET']\n",
      "==========================================================\n",
      "Report\n",
      "==========================================================\n",
      "**********************************************************\n",
      "Mean and std\n",
      "**********************************************************\n",
      "Arbol: 0.445556 (0.123773)\n",
      "SVM: 0.485556 (0.164358)\n",
      "KNN: 0.531111 (0.104444)\n",
      "LR: 0.496667 (0.172280)\n",
      "MLP: 0.552222 (0.164208)\n",
      "RF: 0.455556 (0.140633)\n",
      "ET: 0.496667 (0.131661)\n",
      "**********************************************************\n",
      "Statistical tests\n",
      "**********************************************************\n",
      "----------------------------------------------------------\n",
      "Checking parametric conditions \n",
      "----------------------------------------------------------\n",
      "Checking independence \n",
      "Ok\n",
      "Checking normality using Shapiro-Wilk's test for normality, alpha=0.05\n",
      "W: 0.930816, p:0.000814\n",
      "The null hypothesis (normality) is rejected\n",
      "Checking heteroscedasticity using Levene's test, alpha=0.05\n",
      "W: 0.683887, p:0.663218\n",
      "The null hypothesis (heteroscedasticity) is accepted\n",
      "Conditions for a parametric test are not fulfilled, applying a non-parametric test\n",
      "----------------------------------------------------------\n",
      "Working with more than 2 algorithms\n",
      "----------------------------------------------------------\n",
      "----------------------------------------------------------\n",
      "Applying Friedman test\n",
      "----------------------------------------------------------\n",
      "F-value: 0.623830, p-value: 0.7103770575034266\n",
      "Null hypothesis is accepted; hence, we can't say that there is a significant difference in the performance of the models\n",
      "----------------------------------------------------------\n",
      "Analysing effect size\n",
      "----------------------------------------------------------\n",
      "We take the model with the best mean (MLP, mean: 0.552222) and compare it with the other models: \n",
      "Comparing effect size of MLP and Arbol: Cohen's d=0.6959486515163633, Large\n",
      "Comparing effect size of MLP and SVM: Cohen's d=0.38497940147961984, Medium\n",
      "Comparing effect size of MLP and KNN: Cohen's d=0.14554034844018143, Small\n",
      "Comparing effect size of MLP and LR: Cohen's d=0.3131735581440362, Medium\n",
      "Comparing effect size of MLP and RF: Cohen's d=0.5998732070672896, Large\n",
      "Comparing effect size of MLP and ET: Cohen's d=0.3541342536624745, Medium\n",
      "Eta squared: 0.055716 (Medium)\n"
     ]
    },
    {
     "data": {
      "image/png": "[encoded data removed]",
      "text/plain": [
       "<Figure size 432x288 with 1 Axes>"
      ]
     },
     "metadata": {
      "needs_background": "light"
     },
     "output_type": "display_data"
    }
   ],
   "source": [
    "compare_methods(Xumap,Y,listAlgorithms,listParams,listNames,metric='accuracy')"
   ]
  },
  {
   "cell_type": "code",
   "execution_count": 54,
   "metadata": {
    "id": "9NTIJDD2XWW6"
   },
   "outputs": [],
   "source": [
    "!mv temp.csv tempumap2.csv"
   ]
  },
  {
   "cell_type": "markdown",
   "metadata": {},
   "source": [
    "# UMAP with 10 components"
   ]
  },
  {
   "cell_type": "code",
   "execution_count": 55,
   "metadata": {
    "id": "vtZHePZ6XaWK"
   },
   "outputs": [],
   "source": [
    "reducer = UMAP(n_components=10)"
   ]
  },
  {
   "cell_type": "code",
   "execution_count": 56,
   "metadata": {
    "id": "RT32rbaFXsMs"
   },
   "outputs": [],
   "source": [
    "Xumap10 = reducer.fit_transform(X)"
   ]
  },
  {
   "cell_type": "code",
   "execution_count": 57,
   "metadata": {
    "id": "IZhqNI6ZX2L0",
    "scrolled": true
   },
   "outputs": [
    {
     "name": "stdout",
     "output_type": "stream",
     "text": [
      "temp.csv\n",
      "['Arbol' 'SVM' 'KNN' 'LR' 'MLP' 'RF' 'ET']\n",
      "==========================================================\n",
      "Report\n",
      "==========================================================\n",
      "**********************************************************\n",
      "Mean and std\n",
      "**********************************************************\n",
      "Arbol: 0.546667 (0.131097)\n",
      "SVM: 0.459286 (0.106524)\n",
      "KNN: 0.463095 (0.107164)\n",
      "LR: 0.460357 (0.143811)\n",
      "MLP: 0.508333 (0.025000)\n",
      "RF: 0.469167 (0.102372)\n",
      "ET: 0.437143 (0.109637)\n",
      "**********************************************************\n",
      "Statistical tests\n",
      "**********************************************************\n",
      "----------------------------------------------------------\n",
      "Checking parametric conditions \n",
      "----------------------------------------------------------\n",
      "Checking independence \n",
      "Ok\n",
      "Checking normality using Shapiro-Wilk's test for normality, alpha=0.05\n",
      "W: 0.888866, p:0.000014\n",
      "The null hypothesis (normality) is rejected\n",
      "Checking heteroscedasticity using Levene's test, alpha=0.05\n",
      "W: 1.445219, p:0.211783\n",
      "The null hypothesis (heteroscedasticity) is rejected\n",
      "Conditions for a parametric test are not fulfilled, applying a non-parametric test\n",
      "----------------------------------------------------------\n",
      "Working with more than 2 algorithms\n",
      "----------------------------------------------------------\n",
      "----------------------------------------------------------\n",
      "Applying Friedman test\n",
      "----------------------------------------------------------\n",
      "F-value: 1.524118, p-value: 0.18794616235371586\n",
      "Null hypothesis is rejected; hence, models have different performance\n",
      "Technique      Ranking\n",
      "-----------  ---------\n",
      "Arbol             5.5\n",
      "MLP               4.65\n",
      "KNN               3.85\n",
      "RF                3.8\n",
      "LR                3.6\n",
      "SVM               3.6\n",
      "ET                3\n",
      "Winner model: Arbol\n",
      "----------------------------------------------------------\n",
      "Applying Holm p-value adjustment procedure and analysing effect size\n",
      "----------------------------------------------------------\n",
      "Comparison      Zvalue     p-value    adjusted p-value\n",
      "------------  --------  ----------  ------------------\n",
      "Arbol vs ET   2.58775   0.00966062           0.0579637\n",
      "Arbol vs SVM  1.96669   0.0492193            0.246097\n",
      "Arbol vs LR   1.96669   0.0492193            0.246097\n",
      "Arbol vs RF   1.75967   0.0784643            0.246097\n",
      "Arbol vs KNN  1.70791   0.0876526            0.246097\n",
      "Arbol vs MLP  0.879834  0.378949             0.378949\n",
      "There is a significant difference between the models: Arbol (mean: 0.546667, std: 0.131097) and ET (mean: 0.437143, std: 0.109637) (Cohen's d=0.8598105808095933, Large)\n",
      "There is a significant difference between the models: Arbol (mean: 0.546667, std: 0.131097) and SVM (mean: 0.459286, std: 0.106524) (Cohen's d=0.6940207531167704, Large)\n",
      "There is a significant difference between the models: Arbol (mean: 0.546667, std: 0.131097) and LR (mean: 0.460357, std: 0.143811) (Cohen's d=0.5950560860542522, Large)\n",
      "There is a significant difference between the models: Arbol (mean: 0.546667, std: 0.131097) and RF (mean: 0.469167, std: 0.102372) (Cohen's d=0.6251168489926826, Large)\n",
      "There is a significant difference between the models: Arbol (mean: 0.546667, std: 0.131097) and KNN (mean: 0.463095, std: 0.107164) (Cohen's d=0.6621796846133625, Large)\n",
      "There is a significant difference between the models: Arbol (mean: 0.546667, std: 0.131097) and MLP (mean: 0.508333, std: 0.025000) (Cohen's d=0.38535694019347594, Medium)\n",
      "Eta squared: 0.089756 (Large)\n"
     ]
    },
    {
     "data": {
      "image/png": "[encoded data removed]",
      "text/plain": [
       "<Figure size 432x288 with 1 Axes>"
      ]
     },
     "metadata": {
      "needs_background": "light"
     },
     "output_type": "display_data"
    }
   ],
   "source": [
    "compare_methods(Xumap10,Y,listAlgorithms,listParams,listNames,metric='auroc')"
   ]
  },
  {
   "cell_type": "code",
   "execution_count": 58,
   "metadata": {},
   "outputs": [
    {
     "name": "stdout",
     "output_type": "stream",
     "text": [
      "temp.csv\n",
      "['Arbol' 'SVM' 'KNN' 'LR' 'MLP' 'RF' 'ET']\n",
      "==========================================================\n",
      "Report\n",
      "==========================================================\n",
      "**********************************************************\n",
      "Mean and std\n",
      "**********************************************************\n",
      "Arbol: 0.466667 (0.335659)\n",
      "SVM: 0.073333 (0.147422)\n",
      "KNN: 0.233333 (0.326599)\n",
      "LR: 0.266667 (0.388730)\n",
      "MLP: 0.040000 (0.120000)\n",
      "RF: 0.435000 (0.240538)\n",
      "ET: 0.191667 (0.302880)\n",
      "**********************************************************\n",
      "Statistical tests\n",
      "**********************************************************\n",
      "----------------------------------------------------------\n",
      "Checking parametric conditions \n",
      "----------------------------------------------------------\n",
      "Checking independence \n",
      "Ok\n",
      "Checking normality using Shapiro-Wilk's test for normality, alpha=0.05\n",
      "W: 0.747874, p:0.000000\n",
      "The null hypothesis (normality) is rejected\n",
      "Checking heteroscedasticity using Levene's test, alpha=0.05\n",
      "W: 1.100566, p:0.372091\n",
      "The null hypothesis (heteroscedasticity) is rejected\n",
      "Conditions for a parametric test are not fulfilled, applying a non-parametric test\n",
      "----------------------------------------------------------\n",
      "Working with more than 2 algorithms\n",
      "----------------------------------------------------------\n",
      "----------------------------------------------------------\n",
      "Applying Friedman test\n",
      "----------------------------------------------------------\n",
      "F-value: 2.948791, p-value: 0.014578792376132355\n",
      "Null hypothesis is rejected; hence, models have different performance\n",
      "Technique      Ranking\n",
      "-----------  ---------\n",
      "Arbol             5.65\n",
      "RF                5.3\n",
      "LR                3.85\n",
      "KNN               3.8\n",
      "ET                3.45\n",
      "SVM               3.1\n",
      "MLP               2.85\n",
      "Winner model: Arbol\n",
      "----------------------------------------------------------\n",
      "Applying Holm p-value adjustment procedure and analysing effect size\n",
      "----------------------------------------------------------\n",
      "Comparison      Zvalue     p-value    adjusted p-value\n",
      "------------  --------  ----------  ------------------\n",
      "Arbol vs MLP  2.89828   0.00375221           0.0225133\n",
      "Arbol vs SVM  2.6395    0.00830282           0.0415141\n",
      "Arbol vs ET   2.27722   0.0227733            0.0910932\n",
      "Arbol vs KNN  1.91493   0.0555012            0.166504\n",
      "Arbol vs LR   1.86318   0.0624374            0.166504\n",
      "Arbol vs RF   0.362284  0.71714              0.71714\n",
      "There is a significant difference between the models: Arbol (mean: 0.466667, std: 0.335659) and MLP (mean: 0.040000, std: 0.120000) (Cohen's d=1.6058654294630654, Large)\n",
      "There is a significant difference between the models: Arbol (mean: 0.466667, std: 0.335659) and SVM (mean: 0.073333, std: 0.147422) (Cohen's d=1.439452607599086, Large)\n",
      "There is a significant difference between the models: Arbol (mean: 0.466667, std: 0.335659) and ET (mean: 0.191667, std: 0.302880) (Cohen's d=0.8160664990150642, Large)\n",
      "There is a significant difference between the models: Arbol (mean: 0.466667, std: 0.335659) and KNN (mean: 0.233333, std: 0.326599) (Cohen's d=0.6684373647831917, Large)\n",
      "There is a significant difference between the models: Arbol (mean: 0.466667, std: 0.335659) and LR (mean: 0.266667, std: 0.388730) (Cohen's d=0.5224529017441275, Large)\n",
      "We can't say that there is a significant difference in the performance of the models: Arbol (mean: 0.466667, std: 0.335659) and RF (mean: 0.435000, std: 0.240538) (Cohen's d=0.10288322612199814, Small)\n",
      "Eta squared: 0.223595 (Large)\n"
     ]
    },
    {
     "data": {
      "image/png": "[encoded data removed]",
      "text/plain": [
       "<Figure size 432x288 with 1 Axes>"
      ]
     },
     "metadata": {
      "needs_background": "light"
     },
     "output_type": "display_data"
    }
   ],
   "source": [
    "compare_methods(Xumap10,Y,listAlgorithms,listParams,listNames,metric='precision')"
   ]
  },
  {
   "cell_type": "code",
   "execution_count": 59,
   "metadata": {},
   "outputs": [
    {
     "name": "stdout",
     "output_type": "stream",
     "text": [
      "temp.csv\n",
      "['Arbol' 'SVM' 'KNN' 'LR' 'MLP' 'RF' 'ET']\n",
      "==========================================================\n",
      "Report\n",
      "==========================================================\n",
      "**********************************************************\n",
      "Mean and std\n",
      "**********************************************************\n",
      "Arbol: 0.430000 (0.268618)\n",
      "SVM: 0.116667 (0.236291)\n",
      "KNN: 0.103333 (0.130128)\n",
      "LR: 0.116667 (0.145297)\n",
      "MLP: 0.066667 (0.200000)\n",
      "RF: 0.336667 (0.119443)\n",
      "ET: 0.116667 (0.145297)\n",
      "**********************************************************\n",
      "Statistical tests\n",
      "**********************************************************\n",
      "----------------------------------------------------------\n",
      "Checking parametric conditions \n",
      "----------------------------------------------------------\n",
      "Checking independence \n",
      "Ok\n",
      "Checking normality using Shapiro-Wilk's test for normality, alpha=0.05\n",
      "W: 0.785105, p:0.000000\n",
      "The null hypothesis (normality) is rejected\n",
      "Checking heteroscedasticity using Levene's test, alpha=0.05\n",
      "W: 0.679840, p:0.666398\n",
      "The null hypothesis (heteroscedasticity) is accepted\n",
      "Conditions for a parametric test are not fulfilled, applying a non-parametric test\n",
      "----------------------------------------------------------\n",
      "Working with more than 2 algorithms\n",
      "----------------------------------------------------------\n",
      "----------------------------------------------------------\n",
      "Applying Friedman test\n",
      "----------------------------------------------------------\n",
      "F-value: 3.389381, p-value: 0.006555352625900679\n",
      "Null hypothesis is rejected; hence, models have different performance\n",
      "Technique      Ranking\n",
      "-----------  ---------\n",
      "RF                5.65\n",
      "Arbol             5.6\n",
      "KNN               3.55\n",
      "ET                3.45\n",
      "LR                3.45\n",
      "SVM               3.4\n",
      "MLP               2.9\n",
      "Winner model: RF\n",
      "----------------------------------------------------------\n",
      "Applying Holm p-value adjustment procedure and analysing effect size\n",
      "----------------------------------------------------------\n",
      "Comparison       Zvalue     p-value    adjusted p-value\n",
      "------------  ---------  ----------  ------------------\n",
      "RF vs MLP     2.84652    0.00441999           0.0265199\n",
      "RF vs SVM     2.32897    0.0198606            0.0993029\n",
      "RF vs LR      2.27722    0.0227733            0.0993029\n",
      "RF vs ET      2.27722    0.0227733            0.0993029\n",
      "RF vs KNN     2.17371    0.0297272            0.0993029\n",
      "RF vs Arbol   0.0517549  0.958724             0.958724\n",
      "There is a significant difference between the models: RF (mean: 0.336667, std: 0.119443) and MLP (mean: 0.066667, std: 0.200000) (Cohen's d=1.555010922167098, Large)\n",
      "There is a significant difference between the models: RF (mean: 0.336667, std: 0.119443) and SVM (mean: 0.116667, std: 0.236291) (Cohen's d=1.1148076092788992, Large)\n",
      "There is a significant difference between the models: RF (mean: 0.336667, std: 0.119443) and LR (mean: 0.116667, std: 0.145297) (Cohen's d=1.5692554967468977, Large)\n",
      "There is a significant difference between the models: RF (mean: 0.336667, std: 0.119443) and ET (mean: 0.116667, std: 0.145297) (Cohen's d=1.5692554967468977, Large)\n",
      "There is a significant difference between the models: RF (mean: 0.336667, std: 0.119443) and KNN (mean: 0.103333, std: 0.130128) (Cohen's d=1.7722938923964167, Large)\n",
      "We can't say that there is a significant difference in the performance of the models: RF (mean: 0.336667, std: 0.119443) and Arbol (mean: 0.430000, std: 0.268618) (Cohen's d=0.4259516594029304, Medium)\n",
      "Eta squared: 0.327751 (Large)\n"
     ]
    },
    {
     "data": {
      "image/png": "[encoded data removed]",
      "text/plain": [
       "<Figure size 432x288 with 1 Axes>"
      ]
     },
     "metadata": {
      "needs_background": "light"
     },
     "output_type": "display_data"
    }
   ],
   "source": [
    "compare_methods(Xumap10,Y,listAlgorithms,listParams,listNames,metric='recall')"
   ]
  },
  {
   "cell_type": "code",
   "execution_count": 60,
   "metadata": {},
   "outputs": [
    {
     "name": "stdout",
     "output_type": "stream",
     "text": [
      "temp.csv\n",
      "['Arbol' 'SVM' 'KNN' 'LR' 'MLP' 'RF' 'ET']\n",
      "==========================================================\n",
      "Report\n",
      "==========================================================\n",
      "**********************************************************\n",
      "Mean and std\n",
      "**********************************************************\n",
      "Arbol: 0.541111 (0.134628)\n",
      "SVM: 0.474444 (0.147074)\n",
      "KNN: 0.506667 (0.158869)\n",
      "LR: 0.506667 (0.211006)\n",
      "MLP: 0.552222 (0.139846)\n",
      "RF: 0.477778 (0.119670)\n",
      "ET: 0.464444 (0.157981)\n",
      "**********************************************************\n",
      "Statistical tests\n",
      "**********************************************************\n",
      "----------------------------------------------------------\n",
      "Checking parametric conditions \n",
      "----------------------------------------------------------\n",
      "Checking independence \n",
      "Ok\n",
      "Checking normality using Shapiro-Wilk's test for normality, alpha=0.05\n",
      "W: 0.947297, p:0.005247\n",
      "The null hypothesis (normality) is rejected\n",
      "Checking heteroscedasticity using Levene's test, alpha=0.05\n",
      "W: 0.635921, p:0.700984\n",
      "The null hypothesis (heteroscedasticity) is accepted\n",
      "Conditions for a parametric test are not fulfilled, applying a non-parametric test\n",
      "----------------------------------------------------------\n",
      "Working with more than 2 algorithms\n",
      "----------------------------------------------------------\n",
      "----------------------------------------------------------\n",
      "Applying Friedman test\n",
      "----------------------------------------------------------\n",
      "F-value: 0.633028, p-value: 0.7031671448666035\n",
      "Null hypothesis is accepted; hence, we can't say that there is a significant difference in the performance of the models\n",
      "----------------------------------------------------------\n",
      "Analysing effect size\n",
      "----------------------------------------------------------\n",
      "We take the model with the best mean (MLP, mean: 0.552222) and compare it with the other models: \n",
      "Comparing effect size of MLP and Arbol: Cohen's d=0.07679443659817844, Small\n",
      "Comparing effect size of MLP and SVM: Cohen's d=0.5141717996253818, Large\n",
      "Comparing effect size of MLP and KNN: Cohen's d=0.28877297399250274, Medium\n",
      "Comparing effect size of MLP and LR: Cohen's d=0.24144349639142462, Medium\n",
      "Comparing effect size of MLP and RF: Cohen's d=0.5426391057430952, Large\n",
      "Comparing effect size of MLP and ET: Cohen's d=0.5581726452350345, Large\n",
      "Eta squared: 0.039040 (Medium)\n"
     ]
    },
    {
     "data": {
      "image/png": "[encoded data removed]",
      "text/plain": [
       "<Figure size 432x288 with 1 Axes>"
      ]
     },
     "metadata": {
      "needs_background": "light"
     },
     "output_type": "display_data"
    }
   ],
   "source": [
    "compare_methods(Xumap10,Y,listAlgorithms,listParams,listNames,metric='accuracy')"
   ]
  },
  {
   "cell_type": "markdown",
   "metadata": {},
   "source": [
    "# Isomap"
   ]
  },
  {
   "cell_type": "code",
   "execution_count": 61,
   "metadata": {
    "scrolled": true
   },
   "outputs": [
    {
     "name": "stdout",
     "output_type": "stream",
     "text": [
      "temp.csv\n",
      "['Arbol' 'SVM' 'KNN' 'LR' 'MLP' 'RF' 'ET']\n",
      "==========================================================\n",
      "Report\n",
      "==========================================================\n",
      "**********************************************************\n",
      "Mean and std\n",
      "**********************************************************\n",
      "Arbol: 0.465833 (0.152208)\n",
      "SVM: 0.456786 (0.109317)\n",
      "KNN: 0.468214 (0.057951)\n",
      "LR: 0.467500 (0.064058)\n",
      "MLP: 0.502500 (0.085314)\n",
      "RF: 0.329048 (0.149796)\n",
      "ET: 0.492857 (0.060281)\n",
      "**********************************************************\n",
      "Statistical tests\n",
      "**********************************************************\n",
      "----------------------------------------------------------\n",
      "Checking parametric conditions \n",
      "----------------------------------------------------------\n",
      "Checking independence \n",
      "Ok\n",
      "Checking normality using Shapiro-Wilk's test for normality, alpha=0.05\n",
      "W: 0.819247, p:0.000000\n",
      "The null hypothesis (normality) is rejected\n",
      "Checking heteroscedasticity using Levene's test, alpha=0.05\n",
      "W: 1.816861, p:0.110058\n",
      "The null hypothesis (heteroscedasticity) is rejected\n",
      "Conditions for a parametric test are not fulfilled, applying a non-parametric test\n",
      "----------------------------------------------------------\n",
      "Working with more than 2 algorithms\n",
      "----------------------------------------------------------\n",
      "----------------------------------------------------------\n",
      "Applying Friedman test\n",
      "----------------------------------------------------------\n",
      "F-value: 2.175166, p-value: 0.05957378410499625\n",
      "Null hypothesis is rejected; hence, models have different performance\n",
      "Technique      Ranking\n",
      "-----------  ---------\n",
      "MLP               4.7\n",
      "Arbol             4.7\n",
      "ET                4.45\n",
      "SVM               4.25\n",
      "LR                4\n",
      "KNN               3.95\n",
      "RF                1.95\n",
      "Winner model: MLP\n",
      "----------------------------------------------------------\n",
      "Applying Holm p-value adjustment procedure and analysing effect size\n",
      "----------------------------------------------------------\n",
      "Comparison      Zvalue     p-value    adjusted p-value\n",
      "------------  --------  ----------  ------------------\n",
      "MLP vs RF     2.84652   0.00441999           0.0265199\n",
      "MLP vs KNN    0.776324  0.437558             1\n",
      "MLP vs LR     0.724569  0.468717             1\n",
      "MLP vs SVM    0.465794  0.641363             1\n",
      "MLP vs ET     0.258775  0.795809             1\n",
      "MLP vs Arbol  0         1                    1\n",
      "There is a significant difference between the models: MLP (mean: 0.502500, std: 0.085314) and RF (mean: 0.329048, std: 0.149796) (Cohen's d=1.3499317491731995, Large)\n",
      "We can't say that there is a significant difference in the performance of the models: MLP (mean: 0.502500, std: 0.085314) and KNN (mean: 0.468214, std: 0.057951) (Cohen's d=0.4460101190721332, Medium)\n",
      "We can't say that there is a significant difference in the performance of the models: MLP (mean: 0.502500, std: 0.085314) and LR (mean: 0.467500, std: 0.064058) (Cohen's d=0.4401452974364267, Medium)\n",
      "We can't say that there is a significant difference in the performance of the models: MLP (mean: 0.502500, std: 0.085314) and SVM (mean: 0.456786, std: 0.109317) (Cohen's d=0.4422973739327115, Medium)\n",
      "We can't say that there is a significant difference in the performance of the models: MLP (mean: 0.502500, std: 0.085314) and ET (mean: 0.492857, std: 0.060281) (Cohen's d=0.12384676056364216, Small)\n",
      "We can't say that there is a significant difference in the performance of the models: MLP (mean: 0.502500, std: 0.085314) and Arbol (mean: 0.465833, std: 0.152208) (Cohen's d=0.28193212114912625, Medium)\n",
      "Eta squared: 0.208519 (Large)\n"
     ]
    },
    {
     "data": {
      "image/png": "[encoded data removed]",
      "text/plain": [
       "<Figure size 432x288 with 1 Axes>"
      ]
     },
     "metadata": {
      "needs_background": "light"
     },
     "output_type": "display_data"
    }
   ],
   "source": [
    "from sklearn import manifold\n",
    "clf = manifold.Isomap(10, n_components=2)\n",
    "X_iso2 = clf.fit_transform(X)\n",
    "compare_methods(X_iso2,Y,listAlgorithms,listParams,listNames,metric='auroc')\n",
    "!mv temp.csv tempiso2.csv"
   ]
  },
  {
   "cell_type": "code",
   "execution_count": 62,
   "metadata": {},
   "outputs": [
    {
     "name": "stdout",
     "output_type": "stream",
     "text": [
      "temp.csv\n",
      "['Arbol' 'SVM' 'KNN' 'LR' 'MLP' 'RF' 'ET']\n",
      "==========================================================\n",
      "Report\n",
      "==========================================================\n",
      "**********************************************************\n",
      "Mean and std\n",
      "**********************************************************\n",
      "Arbol: 0.395238 (0.227926)\n",
      "SVM: 0.083333 (0.170783)\n",
      "KNN: 0.158333 (0.205649)\n",
      "LR: 0.125000 (0.201556)\n",
      "MLP: 0.166667 (0.341565)\n",
      "RF: 0.283333 (0.208167)\n",
      "ET: 0.050000 (0.150000)\n",
      "**********************************************************\n",
      "Statistical tests\n",
      "**********************************************************\n",
      "----------------------------------------------------------\n",
      "Checking parametric conditions \n",
      "----------------------------------------------------------\n",
      "Checking independence \n",
      "Ok\n",
      "Checking normality using Shapiro-Wilk's test for normality, alpha=0.05\n",
      "W: 0.728770, p:0.000000\n",
      "The null hypothesis (normality) is rejected\n",
      "Checking heteroscedasticity using Levene's test, alpha=0.05\n",
      "W: 0.480395, p:0.820475\n",
      "The null hypothesis (heteroscedasticity) is accepted\n",
      "Conditions for a parametric test are not fulfilled, applying a non-parametric test\n",
      "----------------------------------------------------------\n",
      "Working with more than 2 algorithms\n",
      "----------------------------------------------------------\n",
      "----------------------------------------------------------\n",
      "Applying Friedman test\n",
      "----------------------------------------------------------\n",
      "F-value: 2.204980, p-value: 0.056448926522699505\n",
      "Null hypothesis is rejected; hence, models have different performance\n",
      "Technique      Ranking\n",
      "-----------  ---------\n",
      "Arbol             5.75\n",
      "RF                4.85\n",
      "KNN               3.8\n",
      "MLP               3.65\n",
      "LR                3.55\n",
      "SVM               3.4\n",
      "ET                3\n",
      "Winner model: Arbol\n",
      "----------------------------------------------------------\n",
      "Applying Holm p-value adjustment procedure and analysing effect size\n",
      "----------------------------------------------------------\n",
      "Comparison      Zvalue     p-value    adjusted p-value\n",
      "------------  --------  ----------  ------------------\n",
      "Arbol vs ET   2.84652   0.00441999           0.0265199\n",
      "Arbol vs SVM  2.43248   0.0149958            0.0749789\n",
      "Arbol vs LR   2.27722   0.0227733            0.0910932\n",
      "Arbol vs MLP  2.17371   0.0297272            0.0910932\n",
      "Arbol vs KNN  2.01844   0.0435453            0.0910932\n",
      "Arbol vs RF   0.931589  0.351549             0.351549\n",
      "There is a significant difference between the models: Arbol (mean: 0.395238, std: 0.227926) and ET (mean: 0.050000, std: 0.150000) (Cohen's d=1.6975488575172033, Large)\n",
      "There is a significant difference between the models: Arbol (mean: 0.395238, std: 0.227926) and SVM (mean: 0.083333, std: 0.170783) (Cohen's d=1.4692743819479737, Large)\n",
      "There is a significant difference between the models: Arbol (mean: 0.395238, std: 0.227926) and LR (mean: 0.125000, std: 0.201556) (Cohen's d=1.19161427541594, Large)\n",
      "There is a significant difference between the models: Arbol (mean: 0.395238, std: 0.227926) and MLP (mean: 0.166667, std: 0.341565) (Cohen's d=0.7468060014977451, Large)\n",
      "There is a significant difference between the models: Arbol (mean: 0.395238, std: 0.227926) and KNN (mean: 0.158333, std: 0.205649) (Cohen's d=1.0353526576945409, Large)\n",
      "There is a significant difference between the models: Arbol (mean: 0.395238, std: 0.227926) and RF (mean: 0.283333, std: 0.208167) (Cohen's d=0.48638042825550143, Medium)\n",
      "Eta squared: 0.200532 (Large)\n"
     ]
    },
    {
     "data": {
      "image/png": "[encoded data removed]",
      "text/plain": [
       "<Figure size 432x288 with 1 Axes>"
      ]
     },
     "metadata": {
      "needs_background": "light"
     },
     "output_type": "display_data"
    }
   ],
   "source": [
    "compare_methods(X_iso2,Y,listAlgorithms,listParams,listNames,metric='precision')"
   ]
  },
  {
   "cell_type": "code",
   "execution_count": 63,
   "metadata": {},
   "outputs": [
    {
     "name": "stdout",
     "output_type": "stream",
     "text": [
      "temp.csv\n",
      "['Arbol' 'SVM' 'KNN' 'LR' 'MLP' 'RF' 'ET']\n",
      "==========================================================\n",
      "Report\n",
      "==========================================================\n",
      "**********************************************************\n",
      "Mean and std\n",
      "**********************************************************\n",
      "Arbol: 0.425000 (0.253996)\n",
      "SVM: 0.058333 (0.118145)\n",
      "KNN: 0.108333 (0.139692)\n",
      "LR: 0.083333 (0.129099)\n",
      "MLP: 0.075000 (0.160078)\n",
      "RF: 0.220000 (0.123783)\n",
      "ET: 0.033333 (0.100000)\n",
      "**********************************************************\n",
      "Statistical tests\n",
      "**********************************************************\n",
      "----------------------------------------------------------\n",
      "Checking parametric conditions \n",
      "----------------------------------------------------------\n",
      "Checking independence \n",
      "Ok\n",
      "Checking normality using Shapiro-Wilk's test for normality, alpha=0.05\n",
      "W: 0.724877, p:0.000000\n",
      "The null hypothesis (normality) is rejected\n",
      "Checking heteroscedasticity using Levene's test, alpha=0.05\n",
      "W: 1.645477, p:0.149496\n",
      "The null hypothesis (heteroscedasticity) is rejected\n",
      "Conditions for a parametric test are not fulfilled, applying a non-parametric test\n",
      "----------------------------------------------------------\n",
      "Working with more than 2 algorithms\n",
      "----------------------------------------------------------\n",
      "----------------------------------------------------------\n",
      "Applying Friedman test\n",
      "----------------------------------------------------------\n",
      "F-value: 3.743363, p-value: 0.0034708348942035228\n",
      "Null hypothesis is rejected; hence, models have different performance\n",
      "Technique      Ranking\n",
      "-----------  ---------\n",
      "Arbol             6.15\n",
      "RF                5.05\n",
      "KNN               3.8\n",
      "LR                3.5\n",
      "MLP               3.4\n",
      "SVM               3.2\n",
      "ET                2.9\n",
      "Winner model: Arbol\n",
      "----------------------------------------------------------\n",
      "Applying Holm p-value adjustment procedure and analysing effect size\n",
      "----------------------------------------------------------\n",
      "Comparison      Zvalue      p-value    adjusted p-value\n",
      "------------  --------  -----------  ------------------\n",
      "Arbol vs ET    3.36407  0.000768022          0.00460813\n",
      "Arbol vs SVM   3.05354  0.00226158           0.0113079\n",
      "Arbol vs MLP   2.84652  0.00441999           0.01768\n",
      "Arbol vs LR    2.74301  0.00608787           0.0182636\n",
      "Arbol vs KNN   2.43248  0.0149958            0.0299915\n",
      "Arbol vs RF    1.13861  0.254867             0.254867\n",
      "There is a significant difference between the models: Arbol (mean: 0.425000, std: 0.253996) and ET (mean: 0.033333, std: 0.100000) (Cohen's d=1.925015583142165, Large)\n",
      "There is a significant difference between the models: Arbol (mean: 0.425000, std: 0.253996) and SVM (mean: 0.058333, std: 0.118145) (Cohen's d=1.756101877827632, Large)\n",
      "There is a significant difference between the models: Arbol (mean: 0.425000, std: 0.253996) and MLP (mean: 0.075000, std: 0.160078) (Cohen's d=1.5640412275509874, Large)\n",
      "There is a significant difference between the models: Arbol (mean: 0.425000, std: 0.253996) and LR (mean: 0.083333, std: 0.129099) (Cohen's d=1.6088399935646402, Large)\n",
      "There is a significant difference between the models: Arbol (mean: 0.425000, std: 0.253996) and KNN (mean: 0.108333, std: 0.139692) (Cohen's d=1.465639510095753, Large)\n",
      "There is a significant difference between the models: Arbol (mean: 0.425000, std: 0.253996) and RF (mean: 0.220000, std: 0.123783) (Cohen's d=0.9733979485974937, Large)\n",
      "Eta squared: 0.407796 (Large)\n"
     ]
    },
    {
     "data": {
      "image/png": "[encoded data removed]",
      "text/plain": [
       "<Figure size 432x288 with 1 Axes>"
      ]
     },
     "metadata": {
      "needs_background": "light"
     },
     "output_type": "display_data"
    }
   ],
   "source": [
    "compare_methods(X_iso2,Y,listAlgorithms,listParams,listNames,metric='recall')"
   ]
  },
  {
   "cell_type": "code",
   "execution_count": 64,
   "metadata": {},
   "outputs": [
    {
     "name": "stdout",
     "output_type": "stream",
     "text": [
      "temp.csv\n",
      "['Arbol' 'SVM' 'KNN' 'LR' 'MLP' 'RF' 'ET']\n",
      "==========================================================\n",
      "Report\n",
      "==========================================================\n",
      "**********************************************************\n",
      "Mean and std\n",
      "**********************************************************\n",
      "Arbol: 0.463333 (0.152999)\n",
      "SVM: 0.485556 (0.148578)\n",
      "KNN: 0.507778 (0.131473)\n",
      "LR: 0.518889 (0.171273)\n",
      "MLP: 0.563333 (0.167778)\n",
      "RF: 0.323333 (0.147108)\n",
      "ET: 0.541111 (0.143505)\n",
      "**********************************************************\n",
      "Statistical tests\n",
      "**********************************************************\n",
      "----------------------------------------------------------\n",
      "Checking parametric conditions \n",
      "----------------------------------------------------------\n",
      "Checking independence \n",
      "Ok\n",
      "Checking normality using Shapiro-Wilk's test for normality, alpha=0.05\n",
      "W: 0.952730, p:0.010102\n",
      "The null hypothesis (normality) is rejected\n",
      "Checking heteroscedasticity using Levene's test, alpha=0.05\n",
      "W: 0.115770, p:0.994217\n",
      "The null hypothesis (heteroscedasticity) is accepted\n",
      "Conditions for a parametric test are not fulfilled, applying a non-parametric test\n",
      "----------------------------------------------------------\n",
      "Working with more than 2 algorithms\n",
      "----------------------------------------------------------\n",
      "----------------------------------------------------------\n",
      "Applying Friedman test\n",
      "----------------------------------------------------------\n",
      "F-value: 1.568253, p-value: 0.17430184763745937\n",
      "Null hypothesis is rejected; hence, models have different performance\n",
      "Technique      Ranking\n",
      "-----------  ---------\n",
      "MLP               4.9\n",
      "ET                4.6\n",
      "SVM               4.25\n",
      "Arbol             4.1\n",
      "LR                4\n",
      "KNN               3.85\n",
      "RF                2.3\n",
      "Winner model: MLP\n",
      "----------------------------------------------------------\n",
      "Applying Holm p-value adjustment procedure and analysing effect size\n",
      "----------------------------------------------------------\n",
      "Comparison      Zvalue     p-value    adjusted p-value\n",
      "------------  --------  ----------  ------------------\n",
      "MLP vs RF     2.69126   0.00711836           0.0427102\n",
      "MLP vs KNN    1.08685   0.277102             1\n",
      "MLP vs LR     0.931589  0.351549             1\n",
      "MLP vs Arbol  0.828079  0.407626             1\n",
      "MLP vs SVM    0.672814  0.501066             1\n",
      "MLP vs ET     0.31053   0.756158             1\n",
      "There is a significant difference between the models: MLP (mean: 0.563333, std: 0.167778) and RF (mean: 0.323333, std: 0.147108) (Cohen's d=1.4430317700290476, Large)\n",
      "We can't say that there is a significant difference in the performance of the models: MLP (mean: 0.563333, std: 0.167778) and KNN (mean: 0.507778, std: 0.131473) (Cohen's d=0.34967980105071306, Medium)\n",
      "We can't say that there is a significant difference in the performance of the models: MLP (mean: 0.563333, std: 0.167778) and LR (mean: 0.518889, std: 0.171273) (Cohen's d=0.24870266019228454, Medium)\n",
      "We can't say that there is a significant difference in the performance of the models: MLP (mean: 0.563333, std: 0.167778) and Arbol (mean: 0.463333, std: 0.152999) (Cohen's d=0.590864798976879, Large)\n",
      "We can't say that there is a significant difference in the performance of the models: MLP (mean: 0.563333, std: 0.167778) and SVM (mean: 0.485556, std: 0.148578) (Cohen's d=0.46562162784771066, Medium)\n",
      "We can't say that there is a significant difference in the performance of the models: MLP (mean: 0.563333, std: 0.167778) and ET (mean: 0.541111, std: 0.143505) (Cohen's d=0.13504132052571485, Small)\n",
      "Eta squared: 0.187706 (Large)\n"
     ]
    },
    {
     "data": {
      "image/png": "[encoded data removed]",
      "text/plain": [
       "<Figure size 432x288 with 1 Axes>"
      ]
     },
     "metadata": {
      "needs_background": "light"
     },
     "output_type": "display_data"
    }
   ],
   "source": [
    "compare_methods(X_iso2,Y,listAlgorithms,listParams,listNames,metric='accuracy')"
   ]
  },
  {
   "cell_type": "code",
   "execution_count": 65,
   "metadata": {},
   "outputs": [
    {
     "name": "stdout",
     "output_type": "stream",
     "text": [
      "temp.csv\n",
      "['Arbol' 'SVM' 'KNN' 'LR' 'MLP' 'RF' 'ET']\n",
      "==========================================================\n",
      "Report\n",
      "==========================================================\n",
      "**********************************************************\n",
      "Mean and std\n",
      "**********************************************************\n",
      "Arbol: 0.424405 (0.156257)\n",
      "SVM: 0.455952 (0.107282)\n",
      "KNN: 0.466905 (0.082559)\n",
      "LR: 0.411667 (0.153956)\n",
      "MLP: 0.500000 (0.000000)\n",
      "RF: 0.457857 (0.140510)\n",
      "ET: 0.460952 (0.105324)\n",
      "**********************************************************\n",
      "Statistical tests\n",
      "**********************************************************\n",
      "----------------------------------------------------------\n",
      "Checking parametric conditions \n",
      "----------------------------------------------------------\n",
      "Checking independence \n",
      "Ok\n",
      "Checking normality using Shapiro-Wilk's test for normality, alpha=0.05\n",
      "W: 0.893692, p:0.000022\n",
      "The null hypothesis (normality) is rejected\n",
      "Checking heteroscedasticity using Levene's test, alpha=0.05\n",
      "W: 3.358824, p:0.006177\n",
      "The null hypothesis (heteroscedasticity) is rejected\n",
      "Conditions for a parametric test are not fulfilled, applying a non-parametric test\n",
      "----------------------------------------------------------\n",
      "Working with more than 2 algorithms\n",
      "----------------------------------------------------------\n",
      "----------------------------------------------------------\n",
      "Applying Friedman test\n",
      "----------------------------------------------------------\n",
      "F-value: 0.509434, p-value: 0.7985465086277993\n",
      "Null hypothesis is accepted; hence, we can't say that there is a significant difference in the performance of the models\n",
      "----------------------------------------------------------\n",
      "Analysing effect size\n",
      "----------------------------------------------------------\n",
      "We take the model with the best mean (MLP, mean: 0.500000) and compare it with the other models: \n",
      "Comparing effect size of MLP and Arbol: Cohen's d=0.6490705672806873, Large\n",
      "Comparing effect size of MLP and SVM: Cohen's d=0.5508498320734813, Large\n",
      "Comparing effect size of MLP and KNN: Cohen's d=0.5378205654554102, Large\n",
      "Comparing effect size of MLP and LR: Cohen's d=0.7697778390541907, Large\n",
      "Comparing effect size of MLP and RF: Cohen's d=0.4023963011261391, Medium\n",
      "Comparing effect size of MLP and ET: Cohen's d=0.4973961758858406, Medium\n",
      "Eta squared: 0.049048 (Medium)\n"
     ]
    },
    {
     "data": {
      "image/png": "[encoded data removed]",
      "text/plain": [
       "<Figure size 432x288 with 1 Axes>"
      ]
     },
     "metadata": {
      "needs_background": "light"
     },
     "output_type": "display_data"
    }
   ],
   "source": [
    "clf = manifold.Isomap(10, n_components=10)\n",
    "X_iso10 = clf.fit_transform(X)\n",
    "compare_methods(X_iso10,Y,listAlgorithms,listParams,listNames,metric='auroc')"
   ]
  },
  {
   "cell_type": "code",
   "execution_count": 66,
   "metadata": {},
   "outputs": [
    {
     "name": "stdout",
     "output_type": "stream",
     "text": [
      "temp.csv\n",
      "['Arbol' 'SVM' 'KNN' 'LR' 'MLP' 'RF' 'ET']\n",
      "==========================================================\n",
      "Report\n",
      "==========================================================\n",
      "**********************************************************\n",
      "Mean and std\n",
      "**********************************************************\n",
      "Arbol: 0.335952 (0.213396)\n",
      "SVM: 0.000000 (0.000000)\n",
      "KNN: 0.133333 (0.208167)\n",
      "LR: 0.141667 (0.235850)\n",
      "MLP: 0.000000 (0.000000)\n",
      "RF: 0.273333 (0.189033)\n",
      "ET: 0.125000 (0.214897)\n",
      "**********************************************************\n",
      "Statistical tests\n",
      "**********************************************************\n",
      "----------------------------------------------------------\n",
      "Checking parametric conditions \n",
      "----------------------------------------------------------\n",
      "Checking independence \n",
      "Ok\n",
      "Checking normality using Shapiro-Wilk's test for normality, alpha=0.05\n",
      "W: 0.699309, p:0.000000\n",
      "The null hypothesis (normality) is rejected\n",
      "Checking heteroscedasticity using Levene's test, alpha=0.05\n",
      "W: 1.604217, p:0.160770\n",
      "The null hypothesis (heteroscedasticity) is rejected\n",
      "Conditions for a parametric test are not fulfilled, applying a non-parametric test\n",
      "----------------------------------------------------------\n",
      "Working with more than 2 algorithms\n",
      "----------------------------------------------------------\n",
      "----------------------------------------------------------\n",
      "Applying Friedman test\n",
      "----------------------------------------------------------\n",
      "F-value: 3.562313, p-value: 0.004800832052001103\n",
      "Null hypothesis is rejected; hence, models have different performance\n",
      "Technique      Ranking\n",
      "-----------  ---------\n",
      "Arbol             5.8\n",
      "RF                5.2\n",
      "LR                3.95\n",
      "KNN               3.9\n",
      "ET                3.65\n",
      "MLP               2.75\n",
      "SVM               2.75\n",
      "Winner model: Arbol\n",
      "----------------------------------------------------------\n",
      "Applying Holm p-value adjustment procedure and analysing effect size\n",
      "----------------------------------------------------------\n",
      "Comparison      Zvalue     p-value    adjusted p-value\n",
      "------------  --------  ----------  ------------------\n",
      "Arbol vs SVM  3.15705   0.00159374          0.00956244\n",
      "Arbol vs MLP  3.15705   0.00159374          0.00956244\n",
      "Arbol vs ET   2.22546   0.0260503           0.104201\n",
      "Arbol vs KNN  1.96669   0.0492193           0.147658\n",
      "Arbol vs LR   1.91493   0.0555012           0.147658\n",
      "Arbol vs RF   0.621059  0.534561            0.534561\n",
      "There is a significant difference between the models: Arbol (mean: 0.335952, std: 0.213396) and SVM (mean: 0.000000, std: 0.000000) (Cohen's d=2.1121626390961747, Large)\n",
      "There is a significant difference between the models: Arbol (mean: 0.335952, std: 0.213396) and MLP (mean: 0.000000, std: 0.000000) (Cohen's d=2.1121626390961747, Large)\n",
      "There is a significant difference between the models: Arbol (mean: 0.335952, std: 0.213396) and ET (mean: 0.125000, std: 0.214897) (Cohen's d=0.9345278705403235, Large)\n",
      "There is a significant difference between the models: Arbol (mean: 0.335952, std: 0.213396) and KNN (mean: 0.133333, std: 0.208167) (Cohen's d=0.91187615036552, Large)\n",
      "There is a significant difference between the models: Arbol (mean: 0.335952, std: 0.213396) and LR (mean: 0.141667, std: 0.235850) (Cohen's d=0.8195329729222967, Large)\n",
      "We can't say that there is a significant difference in the performance of the models: Arbol (mean: 0.335952, std: 0.213396) and RF (mean: 0.273333, std: 0.189033) (Cohen's d=0.29469598445514833, Medium)\n",
      "Eta squared: 0.296721 (Large)\n"
     ]
    },
    {
     "data": {
      "image/png": "[encoded data removed]",
      "text/plain": [
       "<Figure size 432x288 with 1 Axes>"
      ]
     },
     "metadata": {
      "needs_background": "light"
     },
     "output_type": "display_data"
    }
   ],
   "source": [
    "compare_methods(X_iso10,Y,listAlgorithms,listParams,listNames,metric='precision')"
   ]
  },
  {
   "cell_type": "code",
   "execution_count": 67,
   "metadata": {},
   "outputs": [
    {
     "name": "stdout",
     "output_type": "stream",
     "text": [
      "temp.csv\n",
      "['Arbol' 'SVM' 'KNN' 'LR' 'MLP' 'RF' 'ET']\n",
      "==========================================================\n",
      "Report\n",
      "==========================================================\n",
      "**********************************************************\n",
      "Mean and std\n",
      "**********************************************************\n",
      "Arbol: 0.391667 (0.214249)\n",
      "SVM: 0.000000 (0.000000)\n",
      "KNN: 0.091667 (0.141667)\n",
      "LR: 0.150000 (0.240947)\n",
      "MLP: 0.000000 (0.000000)\n",
      "RF: 0.311667 (0.310560)\n",
      "ET: 0.116667 (0.183333)\n",
      "**********************************************************\n",
      "Statistical tests\n",
      "**********************************************************\n",
      "----------------------------------------------------------\n",
      "Checking parametric conditions \n",
      "----------------------------------------------------------\n",
      "Checking independence \n",
      "Ok\n",
      "Checking normality using Shapiro-Wilk's test for normality, alpha=0.05\n",
      "W: 0.689506, p:0.000000\n",
      "The null hypothesis (normality) is rejected\n",
      "Checking heteroscedasticity using Levene's test, alpha=0.05\n",
      "W: 2.771736, p:0.018663\n",
      "The null hypothesis (heteroscedasticity) is rejected\n",
      "Conditions for a parametric test are not fulfilled, applying a non-parametric test\n",
      "----------------------------------------------------------\n",
      "Working with more than 2 algorithms\n",
      "----------------------------------------------------------\n",
      "----------------------------------------------------------\n",
      "Applying Friedman test\n",
      "----------------------------------------------------------\n",
      "F-value: 3.827692, p-value: 0.0029860630484203066\n",
      "Null hypothesis is rejected; hence, models have different performance\n",
      "Technique      Ranking\n",
      "-----------  ---------\n",
      "Arbol             5.85\n",
      "RF                5.25\n",
      "LR                4.05\n",
      "ET                3.8\n",
      "KNN               3.55\n",
      "MLP               2.75\n",
      "SVM               2.75\n",
      "Winner model: Arbol\n",
      "----------------------------------------------------------\n",
      "Applying Holm p-value adjustment procedure and analysing effect size\n",
      "----------------------------------------------------------\n",
      "Comparison      Zvalue     p-value    adjusted p-value\n",
      "------------  --------  ----------  ------------------\n",
      "Arbol vs SVM  3.2088    0.00133288          0.00799728\n",
      "Arbol vs MLP  3.2088    0.00133288          0.00799728\n",
      "Arbol vs KNN  2.38073   0.0172786           0.0691142\n",
      "Arbol vs ET   2.12195   0.0338418           0.101525\n",
      "Arbol vs LR   1.86318   0.0624374           0.124875\n",
      "Arbol vs RF   0.621059  0.534561            0.534561\n",
      "There is a significant difference between the models: Arbol (mean: 0.391667, std: 0.214249) and SVM (mean: 0.000000, std: 0.000000) (Cohen's d=2.452637593469868, Large)\n",
      "There is a significant difference between the models: Arbol (mean: 0.391667, std: 0.214249) and MLP (mean: 0.000000, std: 0.000000) (Cohen's d=2.452637593469868, Large)\n",
      "There is a significant difference between the models: Arbol (mean: 0.391667, std: 0.214249) and KNN (mean: 0.091667, std: 0.141667) (Cohen's d=1.5670287002376253, Large)\n",
      "There is a significant difference between the models: Arbol (mean: 0.391667, std: 0.214249) and ET (mean: 0.116667, std: 0.183333) (Cohen's d=1.308420828901078, Large)\n",
      "There is a significant difference between the models: Arbol (mean: 0.391667, std: 0.214249) and LR (mean: 0.150000, std: 0.240947) (Cohen's d=1.005595567258418, Large)\n",
      "We can't say that there is a significant difference in the performance of the models: Arbol (mean: 0.391667, std: 0.214249) and RF (mean: 0.311667, std: 0.310560) (Cohen's d=0.28447722560197314, Medium)\n",
      "Eta squared: 0.345340 (Large)\n"
     ]
    },
    {
     "data": {
      "image/png": "[encoded data removed]",
      "text/plain": [
       "<Figure size 432x288 with 1 Axes>"
      ]
     },
     "metadata": {
      "needs_background": "light"
     },
     "output_type": "display_data"
    }
   ],
   "source": [
    "compare_methods(X_iso10,Y,listAlgorithms,listParams,listNames,metric='recall')"
   ]
  },
  {
   "cell_type": "code",
   "execution_count": 68,
   "metadata": {},
   "outputs": [
    {
     "name": "stdout",
     "output_type": "stream",
     "text": [
      "temp.csv\n",
      "['Arbol' 'SVM' 'KNN' 'LR' 'MLP' 'RF' 'ET']\n",
      "==========================================================\n",
      "Report\n",
      "==========================================================\n",
      "**********************************************************\n",
      "Mean and std\n",
      "**********************************************************\n",
      "Arbol: 0.414444 (0.169826)\n",
      "SVM: 0.496667 (0.149241)\n",
      "KNN: 0.496667 (0.131661)\n",
      "LR: 0.413333 (0.138493)\n",
      "MLP: 0.563333 (0.144021)\n",
      "RF: 0.436667 (0.115475)\n",
      "ET: 0.475556 (0.117252)\n",
      "**********************************************************\n",
      "Statistical tests\n",
      "**********************************************************\n",
      "----------------------------------------------------------\n",
      "Checking parametric conditions \n",
      "----------------------------------------------------------\n",
      "Checking independence \n",
      "Ok\n",
      "Checking normality using Shapiro-Wilk's test for normality, alpha=0.05\n",
      "W: 0.938679, p:0.001936\n",
      "The null hypothesis (normality) is rejected\n",
      "Checking heteroscedasticity using Levene's test, alpha=0.05\n",
      "W: 0.486401, p:0.816075\n",
      "The null hypothesis (heteroscedasticity) is accepted\n",
      "Conditions for a parametric test are not fulfilled, applying a non-parametric test\n",
      "----------------------------------------------------------\n",
      "Working with more than 2 algorithms\n",
      "----------------------------------------------------------\n",
      "----------------------------------------------------------\n",
      "Applying Friedman test\n",
      "----------------------------------------------------------\n",
      "F-value: 1.601599, p-value: 0.16459909043377785\n",
      "Null hypothesis is rejected; hence, models have different performance\n",
      "Technique      Ranking\n",
      "-----------  ---------\n",
      "MLP               5.4\n",
      "SVM               4.55\n",
      "KNN               4.35\n",
      "ET                4.05\n",
      "RF                3.25\n",
      "LR                3.2\n",
      "Arbol             3.2\n",
      "Winner model: MLP\n",
      "----------------------------------------------------------\n",
      "Applying Holm p-value adjustment procedure and analysing effect size\n",
      "----------------------------------------------------------\n",
      "Comparison      Zvalue    p-value    adjusted p-value\n",
      "------------  --------  ---------  ------------------\n",
      "MLP vs Arbol  2.27722   0.0227733            0.13664\n",
      "MLP vs LR     2.27722   0.0227733            0.13664\n",
      "MLP vs RF     2.22546   0.0260503            0.13664\n",
      "MLP vs ET     1.39738   0.162299             0.486896\n",
      "MLP vs KNN    1.08685   0.277102             0.554203\n",
      "MLP vs SVM    0.879834  0.378949             0.554203\n",
      "There is a significant difference between the models: MLP (mean: 0.563333, std: 0.144021) and Arbol (mean: 0.414444, std: 0.169826) (Cohen's d=0.8970845662966748, Large)\n",
      "There is a significant difference between the models: MLP (mean: 0.563333, std: 0.144021) and LR (mean: 0.413333, std: 0.138493) (Cohen's d=1.00721029858867, Large)\n",
      "There is a significant difference between the models: MLP (mean: 0.563333, std: 0.144021) and RF (mean: 0.436667, std: 0.115475) (Cohen's d=0.9205996980621745, Large)\n",
      "There is a significant difference between the models: MLP (mean: 0.563333, std: 0.144021) and ET (mean: 0.475556, std: 0.117252) (Cohen's d=0.6341229333654769, Large)\n",
      "We can't say that there is a significant difference in the performance of the models: MLP (mean: 0.563333, std: 0.144021) and KNN (mean: 0.496667, std: 0.131661) (Cohen's d=0.4583700537272759, Medium)\n",
      "We can't say that there is a significant difference in the performance of the models: MLP (mean: 0.563333, std: 0.144021) and SVM (mean: 0.496667, std: 0.149241) (Cohen's d=0.4312568086329189, Medium)\n",
      "Eta squared: 0.114799 (Large)\n"
     ]
    },
    {
     "data": {
      "image/png": "[encoded data removed]",
      "text/plain": [
       "<Figure size 432x288 with 1 Axes>"
      ]
     },
     "metadata": {
      "needs_background": "light"
     },
     "output_type": "display_data"
    }
   ],
   "source": [
    "compare_methods(X_iso10,Y,listAlgorithms,listParams,listNames,metric='accuracy')"
   ]
  },
  {
   "cell_type": "markdown",
   "metadata": {},
   "source": [
    "# LLE"
   ]
  },
  {
   "cell_type": "code",
   "execution_count": 69,
   "metadata": {
    "scrolled": true
   },
   "outputs": [
    {
     "name": "stdout",
     "output_type": "stream",
     "text": [
      "temp.csv\n",
      "['Arbol' 'SVM' 'KNN' 'LR' 'MLP' 'RF' 'ET']\n",
      "==========================================================\n",
      "Report\n",
      "==========================================================\n",
      "**********************************************************\n",
      "Mean and std\n",
      "**********************************************************\n",
      "Arbol: 0.478929 (0.137111)\n",
      "SVM: 0.500000 (0.000000)\n",
      "KNN: 0.510357 (0.126574)\n",
      "LR: 0.470833 (0.059073)\n",
      "MLP: 0.475000 (0.093541)\n",
      "RF: 0.470595 (0.112377)\n",
      "ET: 0.542381 (0.111344)\n",
      "**********************************************************\n",
      "Statistical tests\n",
      "**********************************************************\n",
      "----------------------------------------------------------\n",
      "Checking parametric conditions \n",
      "----------------------------------------------------------\n",
      "Checking independence \n",
      "Ok\n",
      "Checking normality using Shapiro-Wilk's test for normality, alpha=0.05\n",
      "W: 0.906394, p:0.000070\n",
      "The null hypothesis (normality) is rejected\n",
      "Checking heteroscedasticity using Levene's test, alpha=0.05\n",
      "W: 3.175474, p:0.008720\n",
      "The null hypothesis (heteroscedasticity) is rejected\n",
      "Conditions for a parametric test are not fulfilled, applying a non-parametric test\n",
      "----------------------------------------------------------\n",
      "Working with more than 2 algorithms\n",
      "----------------------------------------------------------\n",
      "----------------------------------------------------------\n",
      "Applying Friedman test\n",
      "----------------------------------------------------------\n",
      "F-value: 0.545455, p-value: 0.7712631646337522\n",
      "Null hypothesis is accepted; hence, we can't say that there is a significant difference in the performance of the models\n",
      "----------------------------------------------------------\n",
      "Analysing effect size\n",
      "----------------------------------------------------------\n",
      "We take the model with the best mean (ET, mean: 0.542381) and compare it with the other models: \n",
      "Comparing effect size of ET and Arbol: Cohen's d=0.4819802807575863, Medium\n",
      "Comparing effect size of ET and SVM: Cohen's d=0.5106705341210931, Large\n",
      "Comparing effect size of ET and KNN: Cohen's d=0.25486438039503273, Medium\n",
      "Comparing effect size of ET and LR: Cohen's d=0.761570387908779, Large\n",
      "Comparing effect size of ET and MLP: Cohen's d=0.6216478053303064, Large\n",
      "Comparing effect size of ET and RF: Cohen's d=0.6088036880914705, Large\n",
      "Eta squared: 0.056329 (Medium)\n"
     ]
    },
    {
     "data": {
      "image/png": "[encoded data removed]",
      "text/plain": [
       "<Figure size 432x288 with 1 Axes>"
      ]
     },
     "metadata": {
      "needs_background": "light"
     },
     "output_type": "display_data"
    }
   ],
   "source": [
    "clf = manifold.LocallyLinearEmbedding(10, n_components=2,method='standard')\n",
    "X_lle2 = clf.fit_transform(X)\n",
    "compare_methods(X_lle2,Y,listAlgorithms,listParams,listNames,metric='auroc')"
   ]
  },
  {
   "cell_type": "code",
   "execution_count": 70,
   "metadata": {},
   "outputs": [
    {
     "name": "stdout",
     "output_type": "stream",
     "text": [
      "temp.csv\n",
      "['Arbol' 'SVM' 'KNN' 'LR' 'MLP' 'RF' 'ET']\n",
      "==========================================================\n",
      "Report\n",
      "==========================================================\n",
      "**********************************************************\n",
      "Mean and std\n",
      "**********************************************************\n",
      "Arbol: 0.346667 (0.228133)\n",
      "SVM: 0.000000 (0.000000)\n",
      "KNN: 0.425000 (0.419076)\n",
      "LR: 0.033333 (0.100000)\n",
      "MLP: 0.100000 (0.300000)\n",
      "RF: 0.376667 (0.157092)\n",
      "ET: 0.466667 (0.452155)\n",
      "**********************************************************\n",
      "Statistical tests\n",
      "**********************************************************\n",
      "----------------------------------------------------------\n",
      "Checking parametric conditions \n",
      "----------------------------------------------------------\n",
      "Checking independence \n",
      "Ok\n",
      "Checking normality using Shapiro-Wilk's test for normality, alpha=0.05\n",
      "W: 0.731838, p:0.000000\n",
      "The null hypothesis (normality) is rejected\n",
      "Checking heteroscedasticity using Levene's test, alpha=0.05\n",
      "W: 6.702412, p:0.000016\n",
      "The null hypothesis (heteroscedasticity) is rejected\n",
      "Conditions for a parametric test are not fulfilled, applying a non-parametric test\n",
      "----------------------------------------------------------\n",
      "Working with more than 2 algorithms\n",
      "----------------------------------------------------------\n",
      "----------------------------------------------------------\n",
      "Applying Friedman test\n",
      "----------------------------------------------------------\n",
      "F-value: 4.235294, p-value: 0.001452486050942392\n",
      "Null hypothesis is rejected; hence, models have different performance\n",
      "Technique      Ranking\n",
      "-----------  ---------\n",
      "RF                5.3\n",
      "Arbol             5\n",
      "ET                4.8\n",
      "KNN               4.75\n",
      "MLP               2.95\n",
      "LR                2.75\n",
      "SVM               2.45\n",
      "Winner model: RF\n",
      "----------------------------------------------------------\n",
      "Applying Holm p-value adjustment procedure and analysing effect size\n",
      "----------------------------------------------------------\n",
      "Comparison      Zvalue     p-value    adjusted p-value\n",
      "------------  --------  ----------  ------------------\n",
      "RF vs SVM     2.95003   0.00317743           0.0190646\n",
      "RF vs LR      2.6395    0.00830282           0.0415141\n",
      "RF vs MLP     2.43248   0.0149958            0.0599831\n",
      "RF vs KNN     0.569304  0.56915              1\n",
      "RF vs ET      0.517549  0.604773             1\n",
      "RF vs Arbol   0.31053   0.756158             1\n",
      "There is a significant difference between the models: RF (mean: 0.376667, std: 0.157092) and SVM (mean: 0.000000, std: 0.000000) (Cohen's d=3.216921155382266, Large)\n",
      "There is a significant difference between the models: RF (mean: 0.376667, std: 0.157092) and LR (mean: 0.033333, std: 0.100000) (Cohen's d=2.473583600418667, Large)\n",
      "There is a significant difference between the models: RF (mean: 0.376667, std: 0.157092) and MLP (mean: 0.100000, std: 0.300000) (Cohen's d=1.0961082736408128, Large)\n",
      "We can't say that there is a significant difference in the performance of the models: RF (mean: 0.376667, std: 0.157092) and KNN (mean: 0.425000, std: 0.419076) (Cohen's d=0.14489036751841022, Small)\n",
      "We can't say that there is a significant difference in the performance of the models: RF (mean: 0.376667, std: 0.157092) and ET (mean: 0.466667, std: 0.452155) (Cohen's d=0.25225812048795704, Medium)\n",
      "We can't say that there is a significant difference in the performance of the models: RF (mean: 0.376667, std: 0.157092) and Arbol (mean: 0.346667, std: 0.228133) (Cohen's d=0.1453104743674658, Small)\n",
      "Eta squared: 0.296709 (Large)\n"
     ]
    },
    {
     "data": {
      "image/png": "[encoded data removed]",
      "text/plain": [
       "<Figure size 432x288 with 1 Axes>"
      ]
     },
     "metadata": {
      "needs_background": "light"
     },
     "output_type": "display_data"
    }
   ],
   "source": [
    "compare_methods(X_lle2,Y,listAlgorithms,listParams,listNames,metric='precision')"
   ]
  },
  {
   "cell_type": "code",
   "execution_count": 71,
   "metadata": {},
   "outputs": [
    {
     "name": "stdout",
     "output_type": "stream",
     "text": [
      "temp.csv\n",
      "['Arbol' 'SVM' 'KNN' 'LR' 'MLP' 'RF' 'ET']\n",
      "==========================================================\n",
      "Report\n",
      "==========================================================\n",
      "**********************************************************\n",
      "Mean and std\n",
      "**********************************************************\n",
      "Arbol: 0.378333 (0.289449)\n",
      "SVM: 0.000000 (0.000000)\n",
      "KNN: 0.211667 (0.194086)\n",
      "LR: 0.033333 (0.100000)\n",
      "MLP: 0.025000 (0.075000)\n",
      "RF: 0.378333 (0.259063)\n",
      "ET: 0.186667 (0.169935)\n",
      "**********************************************************\n",
      "Statistical tests\n",
      "**********************************************************\n",
      "----------------------------------------------------------\n",
      "Checking parametric conditions \n",
      "----------------------------------------------------------\n",
      "Checking independence \n",
      "Ok\n",
      "Checking normality using Shapiro-Wilk's test for normality, alpha=0.05\n",
      "W: 0.742712, p:0.000000\n",
      "The null hypothesis (normality) is rejected\n",
      "Checking heteroscedasticity using Levene's test, alpha=0.05\n",
      "W: 4.977978, p:0.000315\n",
      "The null hypothesis (heteroscedasticity) is rejected\n",
      "Conditions for a parametric test are not fulfilled, applying a non-parametric test\n",
      "----------------------------------------------------------\n",
      "Working with more than 2 algorithms\n",
      "----------------------------------------------------------\n",
      "----------------------------------------------------------\n",
      "Applying Friedman test\n",
      "----------------------------------------------------------\n",
      "F-value: 7.363636, p-value: 8.761144645541563e-06\n",
      "Null hypothesis is rejected; hence, models have different performance\n",
      "Technique      Ranking\n",
      "-----------  ---------\n",
      "RF                5.9\n",
      "Arbol             5.75\n",
      "KNN               4.35\n",
      "ET                4.15\n",
      "MLP               2.7\n",
      "LR                2.7\n",
      "SVM               2.45\n",
      "Winner model: RF\n",
      "----------------------------------------------------------\n",
      "Applying Holm p-value adjustment procedure and analysing effect size\n",
      "----------------------------------------------------------\n",
      "Comparison      Zvalue      p-value    adjusted p-value\n",
      "------------  --------  -----------  ------------------\n",
      "RF vs SVM     3.57109   0.0003555            0.002133\n",
      "RF vs LR      3.31231   0.000925274          0.00462637\n",
      "RF vs MLP     3.31231   0.000925274          0.00462637\n",
      "RF vs ET      1.81142   0.0700755            0.210227\n",
      "RF vs KNN     1.6044    0.108625             0.217251\n",
      "RF vs Arbol   0.155265  0.876613             0.876613\n",
      "There is a significant difference between the models: RF (mean: 0.378333, std: 0.259063) and SVM (mean: 0.000000, std: 0.000000) (Cohen's d=1.9593167763381565, Large)\n",
      "There is a significant difference between the models: RF (mean: 0.378333, std: 0.259063) and LR (mean: 0.033333, std: 0.100000) (Cohen's d=1.666821312902689, Large)\n",
      "There is a significant difference between the models: RF (mean: 0.378333, std: 0.259063) and MLP (mean: 0.025000, std: 0.075000) (Cohen's d=1.7576707749518923, Large)\n",
      "There is a significant difference between the models: RF (mean: 0.378333, std: 0.259063) and ET (mean: 0.186667, std: 0.169935) (Cohen's d=0.829977036050733, Large)\n",
      "There is a significant difference between the models: RF (mean: 0.378333, std: 0.259063) and KNN (mean: 0.211667, std: 0.194086) (Cohen's d=0.6907786355050654, Large)\n",
      "We can't say that there is a significant difference in the performance of the models: RF (mean: 0.378333, std: 0.259063) and Arbol (mean: 0.378333, std: 0.289449) (Cohen's d=0.0, Small)\n",
      "Eta squared: 0.403022 (Large)\n"
     ]
    },
    {
     "data": {
      "image/png": "[encoded data removed]",
      "text/plain": [
       "<Figure size 432x288 with 1 Axes>"
      ]
     },
     "metadata": {
      "needs_background": "light"
     },
     "output_type": "display_data"
    }
   ],
   "source": [
    "compare_methods(X_lle2,Y,listAlgorithms,listParams,listNames,metric='recall')"
   ]
  },
  {
   "cell_type": "code",
   "execution_count": 72,
   "metadata": {},
   "outputs": [
    {
     "name": "stdout",
     "output_type": "stream",
     "text": [
      "temp.csv\n",
      "['Arbol' 'SVM' 'KNN' 'LR' 'MLP' 'RF' 'ET']\n",
      "==========================================================\n",
      "Report\n",
      "==========================================================\n",
      "**********************************************************\n",
      "Mean and std\n",
      "**********************************************************\n",
      "Arbol: 0.487778 (0.143540)\n",
      "SVM: 0.563333 (0.144021)\n",
      "KNN: 0.551111 (0.149005)\n",
      "LR: 0.530000 (0.169680)\n",
      "MLP: 0.528889 (0.171428)\n",
      "RF: 0.488889 (0.108412)\n",
      "ET: 0.583333 (0.126222)\n",
      "**********************************************************\n",
      "Statistical tests\n",
      "**********************************************************\n",
      "----------------------------------------------------------\n",
      "Checking parametric conditions \n",
      "----------------------------------------------------------\n",
      "Checking independence \n",
      "Ok\n",
      "Checking normality using Shapiro-Wilk's test for normality, alpha=0.05\n",
      "W: 0.936337, p:0.001489\n",
      "The null hypothesis (normality) is rejected\n",
      "Checking heteroscedasticity using Levene's test, alpha=0.05\n",
      "W: 0.445480, p:0.845483\n",
      "The null hypothesis (heteroscedasticity) is accepted\n",
      "Conditions for a parametric test are not fulfilled, applying a non-parametric test\n",
      "----------------------------------------------------------\n",
      "Working with more than 2 algorithms\n",
      "----------------------------------------------------------\n",
      "----------------------------------------------------------\n",
      "Applying Friedman test\n",
      "----------------------------------------------------------\n",
      "F-value: 1.194175, p-value: 0.323482435065241\n",
      "Null hypothesis is rejected; hence, models have different performance\n",
      "Technique      Ranking\n",
      "-----------  ---------\n",
      "ET                4.85\n",
      "SVM               4.8\n",
      "MLP               4.3\n",
      "KNN               4\n",
      "LR                3.95\n",
      "RF                3.15\n",
      "Arbol             2.95\n",
      "Winner model: ET\n",
      "----------------------------------------------------------\n",
      "Applying Holm p-value adjustment procedure and analysing effect size\n",
      "----------------------------------------------------------\n",
      "Comparison       Zvalue    p-value    adjusted p-value\n",
      "------------  ---------  ---------  ------------------\n",
      "ET vs Arbol   1.96669    0.0492193            0.295316\n",
      "ET vs RF      1.75967    0.0784643            0.392321\n",
      "ET vs LR      0.931589   0.351549             1\n",
      "ET vs KNN     0.879834   0.378949             1\n",
      "ET vs MLP     0.569304   0.56915              1\n",
      "ET vs SVM     0.0517549  0.958724             1\n",
      "There is a significant difference between the models: ET (mean: 0.583333, std: 0.126222) and Arbol (mean: 0.487778, std: 0.143540) (Cohen's d=0.6707070464445982, Large)\n",
      "There is a significant difference between the models: ET (mean: 0.583333, std: 0.126222) and RF (mean: 0.488889, std: 0.108412) (Cohen's d=0.7615333941252308, Large)\n",
      "We can't say that there is a significant difference in the performance of the models: ET (mean: 0.583333, std: 0.126222) and LR (mean: 0.530000, std: 0.169680) (Cohen's d=0.33835087079100395, Medium)\n",
      "We can't say that there is a significant difference in the performance of the models: ET (mean: 0.583333, std: 0.126222) and KNN (mean: 0.551111, std: 0.149005) (Cohen's d=0.22137691248691616, Medium)\n",
      "We can't say that there is a significant difference in the performance of the models: ET (mean: 0.583333, std: 0.126222) and MLP (mean: 0.528889, std: 0.171428) (Cohen's d=0.343120017685171, Medium)\n",
      "We can't say that there is a significant difference in the performance of the models: ET (mean: 0.583333, std: 0.126222) and SVM (mean: 0.563333, std: 0.144021) (Cohen's d=0.14011565756708175, Small)\n",
      "Eta squared: 0.049599 (Medium)\n"
     ]
    },
    {
     "data": {
      "image/png": "[encoded data removed]",
      "text/plain": [
       "<Figure size 432x288 with 1 Axes>"
      ]
     },
     "metadata": {
      "needs_background": "light"
     },
     "output_type": "display_data"
    }
   ],
   "source": [
    "compare_methods(X_lle2,Y,listAlgorithms,listParams,listNames,metric='accuracy')"
   ]
  },
  {
   "cell_type": "code",
   "execution_count": 73,
   "metadata": {
    "scrolled": true
   },
   "outputs": [
    {
     "name": "stdout",
     "output_type": "stream",
     "text": [
      "temp.csv\n",
      "['Arbol' 'SVM' 'KNN' 'LR' 'MLP' 'RF' 'ET']\n",
      "==========================================================\n",
      "Report\n",
      "==========================================================\n",
      "**********************************************************\n",
      "Mean and std\n",
      "**********************************************************\n",
      "Arbol: 0.533095 (0.188284)\n",
      "SVM: 0.500000 (0.000000)\n",
      "KNN: 0.525000 (0.053359)\n",
      "LR: 0.500000 (0.000000)\n",
      "MLP: 0.500000 (0.000000)\n",
      "RF: 0.470119 (0.150554)\n",
      "ET: 0.420238 (0.132170)\n",
      "**********************************************************\n",
      "Statistical tests\n",
      "**********************************************************\n",
      "----------------------------------------------------------\n",
      "Checking parametric conditions \n",
      "----------------------------------------------------------\n",
      "Checking independence \n",
      "Ok\n",
      "Checking normality using Shapiro-Wilk's test for normality, alpha=0.05\n",
      "W: 0.798717, p:0.000000\n",
      "The null hypothesis (normality) is rejected\n",
      "Checking heteroscedasticity using Levene's test, alpha=0.05\n",
      "W: 7.503961, p:0.000004\n",
      "The null hypothesis (heteroscedasticity) is rejected\n",
      "Conditions for a parametric test are not fulfilled, applying a non-parametric test\n",
      "----------------------------------------------------------\n",
      "Working with more than 2 algorithms\n",
      "----------------------------------------------------------\n",
      "----------------------------------------------------------\n",
      "Applying Friedman test\n",
      "----------------------------------------------------------\n",
      "F-value: 0.579928, p-value: 0.7446601594347516\n",
      "Null hypothesis is accepted; hence, we can't say that there is a significant difference in the performance of the models\n",
      "----------------------------------------------------------\n",
      "Analysing effect size\n",
      "----------------------------------------------------------\n",
      "We take the model with the best mean (Arbol, mean: 0.533095) and compare it with the other models: \n",
      "Comparing effect size of Arbol and SVM: Cohen's d=0.23582404628805517, Medium\n",
      "Comparing effect size of Arbol and KNN: Cohen's d=0.05549797014245368, Small\n",
      "Comparing effect size of Arbol and LR: Cohen's d=0.23582404628805517, Medium\n",
      "Comparing effect size of Arbol and MLP: Cohen's d=0.23582404628805517, Medium\n",
      "Comparing effect size of Arbol and RF: Cohen's d=0.35047696834993186, Medium\n",
      "Comparing effect size of Arbol and ET: Cohen's d=0.6581979155938915, Large\n",
      "Eta squared: 0.098766 (Large)\n"
     ]
    },
    {
     "data": {
      "image/png": "[encoded data removed]",
      "text/plain": [
       "<Figure size 432x288 with 1 Axes>"
      ]
     },
     "metadata": {
      "needs_background": "light"
     },
     "output_type": "display_data"
    }
   ],
   "source": [
    "clf = manifold.LocallyLinearEmbedding(10, n_components=10,method='standard')\n",
    "X_lle10 = clf.fit_transform(X)\n",
    "compare_methods(X_lle10,Y,listAlgorithms,listParams,listNames,metric='auroc')"
   ]
  },
  {
   "cell_type": "code",
   "execution_count": 74,
   "metadata": {},
   "outputs": [
    {
     "name": "stdout",
     "output_type": "stream",
     "text": [
      "temp.csv\n",
      "['Arbol' 'SVM' 'KNN' 'LR' 'MLP' 'RF' 'ET']\n",
      "==========================================================\n",
      "Report\n",
      "==========================================================\n",
      "**********************************************************\n",
      "Mean and std\n",
      "**********************************************************\n",
      "Arbol: 0.563810 (0.253190)\n",
      "SVM: 0.000000 (0.000000)\n",
      "KNN: 0.150000 (0.320156)\n",
      "LR: 0.000000 (0.000000)\n",
      "MLP: 0.000000 (0.000000)\n",
      "RF: 0.462619 (0.303584)\n",
      "ET: 0.100000 (0.169967)\n",
      "**********************************************************\n",
      "Statistical tests\n",
      "**********************************************************\n",
      "----------------------------------------------------------\n",
      "Checking parametric conditions \n",
      "----------------------------------------------------------\n",
      "Checking independence \n",
      "Ok\n",
      "Checking normality using Shapiro-Wilk's test for normality, alpha=0.05\n",
      "W: 0.661942, p:0.000000\n",
      "The null hypothesis (normality) is rejected\n",
      "Checking heteroscedasticity using Levene's test, alpha=0.05\n",
      "W: 3.702956, p:0.003244\n",
      "The null hypothesis (heteroscedasticity) is rejected\n",
      "Conditions for a parametric test are not fulfilled, applying a non-parametric test\n",
      "----------------------------------------------------------\n",
      "Working with more than 2 algorithms\n",
      "----------------------------------------------------------\n",
      "----------------------------------------------------------\n",
      "Applying Friedman test\n",
      "----------------------------------------------------------\n",
      "F-value: 7.159025, p-value: 1.1957376871429837e-05\n",
      "Null hypothesis is rejected; hence, models have different performance\n",
      "Technique      Ranking\n",
      "-----------  ---------\n",
      "Arbol             6.3\n",
      "RF                5.65\n",
      "ET                3.9\n",
      "KNN               3.75\n",
      "MLP               2.8\n",
      "LR                2.8\n",
      "SVM               2.8\n",
      "Winner model: Arbol\n",
      "----------------------------------------------------------\n",
      "Applying Holm p-value adjustment procedure and analysing effect size\n",
      "----------------------------------------------------------\n",
      "Comparison      Zvalue      p-value    adjusted p-value\n",
      "------------  --------  -----------  ------------------\n",
      "Arbol vs SVM  3.62284   0.000291381          0.00174829\n",
      "Arbol vs LR   3.62284   0.000291381          0.00174829\n",
      "Arbol vs MLP  3.62284   0.000291381          0.00174829\n",
      "Arbol vs KNN  2.6395    0.00830282           0.0249085\n",
      "Arbol vs ET   2.48424   0.012983             0.0259659\n",
      "Arbol vs RF   0.672814  0.501066             0.501066\n",
      "There is a significant difference between the models: Arbol (mean: 0.563810, std: 0.253190) and SVM (mean: 0.000000, std: 0.000000) (Cohen's d=2.987596749391451, Large)\n",
      "There is a significant difference between the models: Arbol (mean: 0.563810, std: 0.253190) and LR (mean: 0.000000, std: 0.000000) (Cohen's d=2.987596749391451, Large)\n",
      "There is a significant difference between the models: Arbol (mean: 0.563810, std: 0.253190) and MLP (mean: 0.000000, std: 0.000000) (Cohen's d=2.987596749391451, Large)\n",
      "There is a significant difference between the models: Arbol (mean: 0.563810, std: 0.253190) and KNN (mean: 0.150000, std: 0.320156) (Cohen's d=1.360167639316851, Large)\n",
      "There is a significant difference between the models: Arbol (mean: 0.563810, std: 0.253190) and ET (mean: 0.100000, std: 0.169967) (Cohen's d=2.0405545386094204, Large)\n",
      "We can't say that there is a significant difference in the performance of the models: Arbol (mean: 0.563810, std: 0.253190) and RF (mean: 0.462619, std: 0.303584) (Cohen's d=0.3434314934892114, Medium)\n",
      "Eta squared: 0.535514 (Large)\n"
     ]
    },
    {
     "data": {
      "image/png": "[encoded data removed]",
      "text/plain": [
       "<Figure size 432x288 with 1 Axes>"
      ]
     },
     "metadata": {
      "needs_background": "light"
     },
     "output_type": "display_data"
    }
   ],
   "source": [
    "compare_methods(X_lle10,Y,listAlgorithms,listParams,listNames,metric='precision')"
   ]
  },
  {
   "cell_type": "code",
   "execution_count": 75,
   "metadata": {},
   "outputs": [
    {
     "name": "stdout",
     "output_type": "stream",
     "text": [
      "temp.csv\n",
      "['Arbol' 'SVM' 'KNN' 'LR' 'MLP' 'RF' 'ET']\n",
      "==========================================================\n",
      "Report\n",
      "==========================================================\n",
      "**********************************************************\n",
      "Mean and std\n",
      "**********************************************************\n",
      "Arbol: 0.551667 (0.135902)\n",
      "SVM: 0.000000 (0.000000)\n",
      "KNN: 0.066667 (0.133333)\n",
      "LR: 0.000000 (0.000000)\n",
      "MLP: 0.000000 (0.000000)\n",
      "RF: 0.340000 (0.163673)\n",
      "ET: 0.091667 (0.141667)\n",
      "**********************************************************\n",
      "Statistical tests\n",
      "**********************************************************\n",
      "----------------------------------------------------------\n",
      "Checking parametric conditions \n",
      "----------------------------------------------------------\n",
      "Checking independence \n",
      "Ok\n",
      "Checking normality using Shapiro-Wilk's test for normality, alpha=0.05\n",
      "W: 0.685616, p:0.000000\n",
      "The null hypothesis (normality) is rejected\n",
      "Checking heteroscedasticity using Levene's test, alpha=0.05\n",
      "W: 3.132561, p:0.009454\n",
      "The null hypothesis (heteroscedasticity) is rejected\n",
      "Conditions for a parametric test are not fulfilled, applying a non-parametric test\n",
      "----------------------------------------------------------\n",
      "Working with more than 2 algorithms\n",
      "----------------------------------------------------------\n",
      "----------------------------------------------------------\n",
      "Applying Friedman test\n",
      "----------------------------------------------------------\n",
      "F-value: 10.339985, p-value: 1.323863126900804e-07\n",
      "Null hypothesis is rejected; hence, models have different performance\n",
      "Technique      Ranking\n",
      "-----------  ---------\n",
      "Arbol             6.75\n",
      "RF                5.65\n",
      "ET                3.75\n",
      "KNN               3.45\n",
      "MLP               2.8\n",
      "LR                2.8\n",
      "SVM               2.8\n",
      "Winner model: Arbol\n",
      "----------------------------------------------------------\n",
      "Applying Holm p-value adjustment procedure and analysing effect size\n",
      "----------------------------------------------------------\n",
      "Comparison      Zvalue      p-value    adjusted p-value\n",
      "------------  --------  -----------  ------------------\n",
      "Arbol vs SVM   4.08864  4.33913e-05         0.000260348\n",
      "Arbol vs LR    4.08864  4.33913e-05         0.000260348\n",
      "Arbol vs MLP   4.08864  4.33913e-05         0.000260348\n",
      "Arbol vs KNN   3.41582  0.000635892         0.00190768\n",
      "Arbol vs ET    3.1053   0.00190089          0.00380179\n",
      "Arbol vs RF    1.13861  0.254867            0.254867\n",
      "There is a significant difference between the models: Arbol (mean: 0.551667, std: 0.135902) and SVM (mean: 0.000000, std: 0.000000) (Cohen's d=5.446105873313136, Large)\n",
      "There is a significant difference between the models: Arbol (mean: 0.551667, std: 0.135902) and LR (mean: 0.000000, std: 0.000000) (Cohen's d=5.446105873313136, Large)\n",
      "There is a significant difference between the models: Arbol (mean: 0.551667, std: 0.135902) and MLP (mean: 0.000000, std: 0.000000) (Cohen's d=5.446105873313136, Large)\n",
      "There is a significant difference between the models: Arbol (mean: 0.551667, std: 0.135902) and KNN (mean: 0.066667, std: 0.133333) (Cohen's d=3.4177526284608284, Large)\n",
      "There is a significant difference between the models: Arbol (mean: 0.551667, std: 0.135902) and ET (mean: 0.091667, std: 0.141667) (Cohen's d=3.1437245713455035, Large)\n",
      "There is a significant difference between the models: Arbol (mean: 0.551667, std: 0.135902) and RF (mean: 0.340000, std: 0.163673) (Cohen's d=1.3348714506369694, Large)\n",
      "Eta squared: 0.768113 (Large)\n"
     ]
    },
    {
     "data": {
      "image/png": "[encoded data removed]",
      "text/plain": [
       "<Figure size 432x288 with 1 Axes>"
      ]
     },
     "metadata": {
      "needs_background": "light"
     },
     "output_type": "display_data"
    }
   ],
   "source": [
    "compare_methods(X_lle10,Y,listAlgorithms,listParams,listNames,metric='recall')"
   ]
  },
  {
   "cell_type": "code",
   "execution_count": 76,
   "metadata": {},
   "outputs": [
    {
     "name": "stdout",
     "output_type": "stream",
     "text": [
      "temp.csv\n",
      "['Arbol' 'SVM' 'KNN' 'LR' 'MLP' 'RF' 'ET']\n",
      "==========================================================\n",
      "Report\n",
      "==========================================================\n",
      "**********************************************************\n",
      "Mean and std\n",
      "**********************************************************\n",
      "Arbol: 0.554444 (0.206107)\n",
      "SVM: 0.563333 (0.144021)\n",
      "KNN: 0.574444 (0.155401)\n",
      "LR: 0.563333 (0.144021)\n",
      "MLP: 0.563333 (0.144021)\n",
      "RF: 0.500000 (0.177847)\n",
      "ET: 0.442222 (0.175387)\n",
      "**********************************************************\n",
      "Statistical tests\n",
      "**********************************************************\n",
      "----------------------------------------------------------\n",
      "Checking parametric conditions \n",
      "----------------------------------------------------------\n",
      "Checking independence \n",
      "Ok\n",
      "Checking normality using Shapiro-Wilk's test for normality, alpha=0.05\n",
      "W: 0.957597, p:0.018478\n",
      "The null hypothesis (normality) is rejected\n",
      "Checking heteroscedasticity using Levene's test, alpha=0.05\n",
      "W: 0.398956, p:0.876987\n",
      "The null hypothesis (heteroscedasticity) is accepted\n",
      "Conditions for a parametric test are not fulfilled, applying a non-parametric test\n",
      "----------------------------------------------------------\n",
      "Working with more than 2 algorithms\n",
      "----------------------------------------------------------\n",
      "----------------------------------------------------------\n",
      "Applying Friedman test\n",
      "----------------------------------------------------------\n",
      "F-value: 0.970326, p-value: 0.4541536163466606\n",
      "Null hypothesis is rejected; hence, models have different performance\n",
      "Technique      Ranking\n",
      "-----------  ---------\n",
      "Arbol             4.65\n",
      "KNN               4.4\n",
      "MLP               4.2\n",
      "LR                4.2\n",
      "SVM               4.2\n",
      "RF                3.75\n",
      "ET                2.6\n",
      "Winner model: Arbol\n",
      "----------------------------------------------------------\n",
      "Applying Holm p-value adjustment procedure and analysing effect size\n",
      "----------------------------------------------------------\n",
      "Comparison      Zvalue    p-value    adjusted p-value\n",
      "------------  --------  ---------  ------------------\n",
      "Arbol vs ET   2.12195   0.0338418            0.203051\n",
      "Arbol vs RF   0.931589  0.351549             1\n",
      "Arbol vs SVM  0.465794  0.641363             1\n",
      "Arbol vs LR   0.465794  0.641363             1\n",
      "Arbol vs MLP  0.465794  0.641363             1\n",
      "Arbol vs KNN  0.258775  0.795809             1\n",
      "There is a significant difference between the models: Arbol (mean: 0.554444, std: 0.206107) and ET (mean: 0.442222, std: 0.175387) (Cohen's d=0.5563380358323352, Large)\n",
      "We can't say that there is a significant difference in the performance of the models: Arbol (mean: 0.554444, std: 0.206107) and RF (mean: 0.500000, std: 0.177847) (Cohen's d=0.2683192172001093, Medium)\n",
      "We can't say that there is a significant difference in the performance of the models: Arbol (mean: 0.554444, std: 0.206107) and SVM (mean: 0.563333, std: 0.144021) (Cohen's d=0.0474295333382993, Small)\n",
      "We can't say that there is a significant difference in the performance of the models: Arbol (mean: 0.554444, std: 0.206107) and LR (mean: 0.563333, std: 0.144021) (Cohen's d=0.0474295333382993, Small)\n",
      "We can't say that there is a significant difference in the performance of the models: Arbol (mean: 0.554444, std: 0.206107) and MLP (mean: 0.563333, std: 0.144021) (Cohen's d=0.0474295333382993, Small)\n",
      "We can't say that there is a significant difference in the performance of the models: Arbol (mean: 0.554444, std: 0.206107) and KNN (mean: 0.574444, std: 0.155401) (Cohen's d=0.10395192800129355, Small)\n",
      "Eta squared: 0.068837 (Large)\n"
     ]
    },
    {
     "data": {
      "image/png": "[encoded data removed]",
      "text/plain": [
       "<Figure size 432x288 with 1 Axes>"
      ]
     },
     "metadata": {
      "needs_background": "light"
     },
     "output_type": "display_data"
    }
   ],
   "source": [
    "compare_methods(X_lle10,Y,listAlgorithms,listParams,listNames,metric='accuracy')"
   ]
  },
  {
   "cell_type": "code",
   "execution_count": 78,
   "metadata": {},
   "outputs": [
    {
     "name": "stdout",
     "output_type": "stream",
     "text": [
      "temp.csv\n",
      "['Arbol' 'SVM' 'KNN' 'LR' 'MLP' 'RF' 'ET']\n",
      "==========================================================\n",
      "Report\n",
      "==========================================================\n",
      "**********************************************************\n",
      "Mean and std\n",
      "**********************************************************\n",
      "Arbol: 0.625833 (0.149253)\n",
      "SVM: 0.500000 (0.000000)\n",
      "KNN: 0.535476 (0.097890)\n",
      "LR: 0.492857 (0.021429)\n",
      "MLP: 0.500000 (0.037268)\n",
      "RF: 0.417976 (0.161952)\n",
      "ET: 0.469048 (0.053293)\n",
      "**********************************************************\n",
      "Statistical tests\n",
      "**********************************************************\n",
      "----------------------------------------------------------\n",
      "Checking parametric conditions \n",
      "----------------------------------------------------------\n",
      "Checking independence \n",
      "Ok\n",
      "Checking normality using Shapiro-Wilk's test for normality, alpha=0.05\n",
      "W: 0.850221, p:0.000001\n",
      "The null hypothesis (normality) is rejected\n",
      "Checking heteroscedasticity using Levene's test, alpha=0.05\n",
      "W: 9.129724, p:0.000000\n",
      "The null hypothesis (heteroscedasticity) is rejected\n",
      "Conditions for a parametric test are not fulfilled, applying a non-parametric test\n",
      "----------------------------------------------------------\n",
      "Working with more than 2 algorithms\n",
      "----------------------------------------------------------\n",
      "----------------------------------------------------------\n",
      "Applying Friedman test\n",
      "----------------------------------------------------------\n",
      "F-value: 2.214953, p-value: 0.05543985316902955\n",
      "Null hypothesis is rejected; hence, models have different performance\n",
      "Technique      Ranking\n",
      "-----------  ---------\n",
      "Arbol             5.55\n",
      "KNN               4.65\n",
      "MLP               4.15\n",
      "SVM               4.1\n",
      "LR                3.8\n",
      "ET                3.1\n",
      "RF                2.65\n",
      "Winner model: Arbol\n",
      "----------------------------------------------------------\n",
      "Applying Holm p-value adjustment procedure and analysing effect size\n",
      "----------------------------------------------------------\n",
      "Comparison      Zvalue     p-value    adjusted p-value\n",
      "------------  --------  ----------  ------------------\n",
      "Arbol vs RF   3.00179   0.00268402           0.0161041\n",
      "Arbol vs ET   2.53599   0.011213             0.0560648\n",
      "Arbol vs LR   1.81142   0.0700755            0.280302\n",
      "Arbol vs SVM  1.50089   0.133383             0.40015\n",
      "Arbol vs MLP  1.44914   0.147299             0.40015\n",
      "Arbol vs KNN  0.931589  0.351549             0.40015\n",
      "There is a significant difference between the models: Arbol (mean: 0.625833, std: 0.149253) and RF (mean: 0.417976, std: 0.161952) (Cohen's d=1.2662169681206805, Large)\n",
      "There is a significant difference between the models: Arbol (mean: 0.625833, std: 0.149253) and ET (mean: 0.469048, std: 0.053293) (Cohen's d=1.327281644155353, Large)\n",
      "There is a significant difference between the models: Arbol (mean: 0.625833, std: 0.149253) and LR (mean: 0.492857, std: 0.021429) (Cohen's d=1.1831977281074755, Large)\n",
      "There is a significant difference between the models: Arbol (mean: 0.625833, std: 0.149253) and SVM (mean: 0.500000, std: 0.000000) (Cohen's d=1.131122643564174, Large)\n",
      "There is a significant difference between the models: Arbol (mean: 0.625833, std: 0.149253) and MLP (mean: 0.500000, std: 0.037268) (Cohen's d=1.0974286163608042, Large)\n",
      "There is a significant difference between the models: Arbol (mean: 0.625833, std: 0.149253) and KNN (mean: 0.535476, std: 0.097890) (Cohen's d=0.679178655104943, Large)\n",
      "Eta squared: 0.281438 (Large)\n"
     ]
    },
    {
     "data": {
      "image/png": "[encoded data removed]",
      "text/plain": [
       "<Figure size 432x288 with 1 Axes>"
      ]
     },
     "metadata": {
      "needs_background": "light"
     },
     "output_type": "display_data"
    }
   ],
   "source": [
    "clf = manifold.LocallyLinearEmbedding(10, n_components=50,method='standard')\n",
    "X_lle100 = clf.fit_transform(X)\n",
    "compare_methods(X_lle100,Y,listAlgorithms,listParams,listNames,metric='auroc')"
   ]
  },
  {
   "cell_type": "code",
   "execution_count": 79,
   "metadata": {},
   "outputs": [
    {
     "name": "stdout",
     "output_type": "stream",
     "text": [
      "temp.csv\n",
      "['Arbol' 'SVM' 'KNN' 'LR' 'MLP' 'RF' 'ET']\n",
      "==========================================================\n",
      "Report\n",
      "==========================================================\n",
      "**********************************************************\n",
      "Mean and std\n",
      "**********************************************************\n",
      "Arbol: 0.609048 (0.278467)\n",
      "SVM: 0.040000 (0.120000)\n",
      "KNN: 0.300000 (0.339935)\n",
      "LR: 0.000000 (0.000000)\n",
      "MLP: 0.100000 (0.300000)\n",
      "RF: 0.255000 (0.192650)\n",
      "ET: 0.133333 (0.305505)\n",
      "**********************************************************\n",
      "Statistical tests\n",
      "**********************************************************\n",
      "----------------------------------------------------------\n",
      "Checking parametric conditions \n",
      "----------------------------------------------------------\n",
      "Checking independence \n",
      "Ok\n",
      "Checking normality using Shapiro-Wilk's test for normality, alpha=0.05\n",
      "W: 0.685649, p:0.000000\n",
      "The null hypothesis (normality) is rejected\n",
      "Checking heteroscedasticity using Levene's test, alpha=0.05\n",
      "W: 2.569715, p:0.027299\n",
      "The null hypothesis (heteroscedasticity) is rejected\n",
      "Conditions for a parametric test are not fulfilled, applying a non-parametric test\n",
      "----------------------------------------------------------\n",
      "Working with more than 2 algorithms\n",
      "----------------------------------------------------------\n",
      "----------------------------------------------------------\n",
      "Applying Friedman test\n",
      "----------------------------------------------------------\n",
      "F-value: 6.700935, p-value: 2.4268730000276406e-05\n",
      "Null hypothesis is rejected; hence, models have different performance\n",
      "Technique      Ranking\n",
      "-----------  ---------\n",
      "Arbol             6.65\n",
      "RF                4.75\n",
      "KNN               4.55\n",
      "ET                3.25\n",
      "MLP               3.1\n",
      "SVM               3\n",
      "LR                2.7\n",
      "Winner model: Arbol\n",
      "----------------------------------------------------------\n",
      "Applying Holm p-value adjustment procedure and analysing effect size\n",
      "----------------------------------------------------------\n",
      "Comparison      Zvalue      p-value    adjusted p-value\n",
      "------------  --------  -----------  ------------------\n",
      "Arbol vs LR    4.08864  4.33913e-05         0.000260348\n",
      "Arbol vs SVM   3.77811  0.000158024         0.000790119\n",
      "Arbol vs MLP   3.6746   0.000238223         0.000952893\n",
      "Arbol vs ET    3.51933  0.000432631         0.00129789\n",
      "Arbol vs KNN   2.17371  0.0297272           0.0594544\n",
      "Arbol vs RF    1.96669  0.0492193           0.0594544\n",
      "There is a significant difference between the models: Arbol (mean: 0.609048, std: 0.278467) and LR (mean: 0.000000, std: 0.000000) (Cohen's d=2.934360229228673, Large)\n",
      "There is a significant difference between the models: Arbol (mean: 0.609048, std: 0.278467) and SVM (mean: 0.040000, std: 0.120000) (Cohen's d=2.5178113541405804, Large)\n",
      "There is a significant difference between the models: Arbol (mean: 0.609048, std: 0.278467) and MLP (mean: 0.100000, std: 0.300000) (Cohen's d=1.6685154594693705, Large)\n",
      "There is a significant difference between the models: Arbol (mean: 0.609048, std: 0.278467) and ET (mean: 0.133333, std: 0.305505) (Cohen's d=1.5439748742886636, Large)\n",
      "There is a significant difference between the models: Arbol (mean: 0.609048, std: 0.278467) and KNN (mean: 0.300000, std: 0.339935) (Cohen's d=0.9435632719978998, Large)\n",
      "There is a significant difference between the models: Arbol (mean: 0.609048, std: 0.278467) and RF (mean: 0.255000, std: 0.192650) (Cohen's d=1.4028007108086058, Large)\n",
      "Eta squared: 0.378108 (Large)\n"
     ]
    },
    {
     "data": {
      "image/png": "[encoded data removed]",
      "text/plain": [
       "<Figure size 432x288 with 1 Axes>"
      ]
     },
     "metadata": {
      "needs_background": "light"
     },
     "output_type": "display_data"
    }
   ],
   "source": [
    "compare_methods(X_lle100,Y,listAlgorithms,listParams,listNames,metric='precision')"
   ]
  },
  {
   "cell_type": "code",
   "execution_count": 80,
   "metadata": {},
   "outputs": [
    {
     "name": "stdout",
     "output_type": "stream",
     "text": [
      "temp.csv\n",
      "['Arbol' 'SVM' 'KNN' 'LR' 'MLP' 'RF' 'ET']\n",
      "==========================================================\n",
      "Report\n",
      "==========================================================\n",
      "**********************************************************\n",
      "Mean and std\n",
      "**********************************************************\n",
      "Arbol: 0.556667 (0.272356)\n",
      "SVM: 0.100000 (0.300000)\n",
      "KNN: 0.248333 (0.310953)\n",
      "LR: 0.000000 (0.000000)\n",
      "MLP: 0.016667 (0.050000)\n",
      "RF: 0.275000 (0.288795)\n",
      "ET: 0.066667 (0.152753)\n",
      "**********************************************************\n",
      "Statistical tests\n",
      "**********************************************************\n",
      "----------------------------------------------------------\n",
      "Checking parametric conditions \n",
      "----------------------------------------------------------\n",
      "Checking independence \n",
      "Ok\n",
      "Checking normality using Shapiro-Wilk's test for normality, alpha=0.05\n",
      "W: 0.662718, p:0.000000\n",
      "The null hypothesis (normality) is rejected\n",
      "Checking heteroscedasticity using Levene's test, alpha=0.05\n",
      "W: 3.137486, p:0.009367\n",
      "The null hypothesis (heteroscedasticity) is rejected\n",
      "Conditions for a parametric test are not fulfilled, applying a non-parametric test\n",
      "----------------------------------------------------------\n",
      "Working with more than 2 algorithms\n",
      "----------------------------------------------------------\n",
      "----------------------------------------------------------\n",
      "Applying Friedman test\n",
      "----------------------------------------------------------\n",
      "F-value: 6.351812, p-value: 4.2077945010543516e-05\n",
      "Null hypothesis is rejected; hence, models have different performance\n",
      "Technique      Ranking\n",
      "-----------  ---------\n",
      "Arbol             6.6\n",
      "RF                4.9\n",
      "KNN               4.35\n",
      "ET                3.25\n",
      "SVM               3.2\n",
      "MLP               3\n",
      "LR                2.7\n",
      "Winner model: Arbol\n",
      "----------------------------------------------------------\n",
      "Applying Holm p-value adjustment procedure and analysing effect size\n",
      "----------------------------------------------------------\n",
      "Comparison      Zvalue      p-value    adjusted p-value\n",
      "------------  --------  -----------  ------------------\n",
      "Arbol vs LR    4.03688  5.41659e-05         0.000324996\n",
      "Arbol vs MLP   3.72635  0.000194269         0.000971347\n",
      "Arbol vs SVM   3.51933  0.000432631         0.00173052\n",
      "Arbol vs ET    3.46758  0.000525168         0.00173052\n",
      "Arbol vs KNN   2.32897  0.0198606           0.0397212\n",
      "Arbol vs RF    1.75967  0.0784643           0.0784643\n",
      "There is a significant difference between the models: Arbol (mean: 0.556667, std: 0.272356) and LR (mean: 0.000000, std: 0.000000) (Cohen's d=2.742171164647693, Large)\n",
      "There is a significant difference between the models: Arbol (mean: 0.556667, std: 0.272356) and MLP (mean: 0.016667, std: 0.050000) (Cohen's d=2.616346460548173, Large)\n",
      "There is a significant difference between the models: Arbol (mean: 0.556667, std: 0.272356) and SVM (mean: 0.100000, std: 0.300000) (Cohen's d=1.5120925668418685, Large)\n",
      "There is a significant difference between the models: Arbol (mean: 0.556667, std: 0.272356) and ET (mean: 0.066667, std: 0.152753) (Cohen's d=2.1052577753853376, Large)\n",
      "There is a significant difference between the models: Arbol (mean: 0.556667, std: 0.272356) and KNN (mean: 0.248333, std: 0.310953) (Cohen's d=1.0007475300055872, Large)\n",
      "There is a significant difference between the models: Arbol (mean: 0.556667, std: 0.272356) and RF (mean: 0.275000, std: 0.288795) (Cohen's d=0.9519637106050535, Large)\n",
      "Eta squared: 0.387241 (Large)\n"
     ]
    },
    {
     "data": {
      "image/png": "[encoded data removed]",
      "text/plain": [
       "<Figure size 432x288 with 1 Axes>"
      ]
     },
     "metadata": {
      "needs_background": "light"
     },
     "output_type": "display_data"
    }
   ],
   "source": [
    "compare_methods(X_lle100,Y,listAlgorithms,listParams,listNames,metric='recall')"
   ]
  },
  {
   "cell_type": "code",
   "execution_count": 81,
   "metadata": {},
   "outputs": [
    {
     "name": "stdout",
     "output_type": "stream",
     "text": [
      "temp.csv\n",
      "['Arbol' 'SVM' 'KNN' 'LR' 'MLP' 'RF' 'ET']\n",
      "==========================================================\n",
      "Report\n",
      "==========================================================\n",
      "**********************************************************\n",
      "Mean and std\n",
      "**********************************************************\n",
      "Arbol: 0.598889 (0.141111)\n",
      "SVM: 0.543333 (0.151246)\n",
      "KNN: 0.532222 (0.110939)\n",
      "LR: 0.553333 (0.137509)\n",
      "MLP: 0.564444 (0.130885)\n",
      "RF: 0.412222 (0.151409)\n",
      "ET: 0.511111 (0.096353)\n",
      "**********************************************************\n",
      "Statistical tests\n",
      "**********************************************************\n",
      "----------------------------------------------------------\n",
      "Checking parametric conditions \n",
      "----------------------------------------------------------\n",
      "Checking independence \n",
      "Ok\n",
      "Checking normality using Shapiro-Wilk's test for normality, alpha=0.05\n",
      "W: 0.953336, p:0.010882\n",
      "The null hypothesis (normality) is rejected\n",
      "Checking heteroscedasticity using Levene's test, alpha=0.05\n",
      "W: 0.754294, p:0.608390\n",
      "The null hypothesis (heteroscedasticity) is accepted\n",
      "Conditions for a parametric test are not fulfilled, applying a non-parametric test\n",
      "----------------------------------------------------------\n",
      "Working with more than 2 algorithms\n",
      "----------------------------------------------------------\n",
      "----------------------------------------------------------\n",
      "Applying Friedman test\n",
      "----------------------------------------------------------\n",
      "F-value: 1.762332, p-value: 0.12445158240213361\n",
      "Null hypothesis is rejected; hence, models have different performance\n",
      "Technique      Ranking\n",
      "-----------  ---------\n",
      "MLP               4.75\n",
      "Arbol             4.65\n",
      "LR                4.45\n",
      "SVM               4.25\n",
      "KNN               4.15\n",
      "ET                3.5\n",
      "RF                2.25\n",
      "Winner model: MLP\n",
      "----------------------------------------------------------\n",
      "Applying Holm p-value adjustment procedure and analysing effect size\n",
      "----------------------------------------------------------\n",
      "Comparison      Zvalue     p-value    adjusted p-value\n",
      "------------  --------  ----------  ------------------\n",
      "MLP vs RF     2.58775   0.00966062           0.0579637\n",
      "MLP vs ET     1.29387   0.195709             0.978547\n",
      "MLP vs KNN    0.621059  0.534561             1\n",
      "MLP vs SVM    0.517549  0.604773             1\n",
      "MLP vs LR     0.31053   0.756158             1\n",
      "MLP vs Arbol  0.10351   0.917558             1\n",
      "There is a significant difference between the models: MLP (mean: 0.564444, std: 0.130885) and RF (mean: 0.412222, std: 0.151409) (Cohen's d=1.020429324131686, Large)\n",
      "We can't say that there is a significant difference in the performance of the models: MLP (mean: 0.564444, std: 0.130885) and ET (mean: 0.511111, std: 0.096353) (Cohen's d=0.44026199307488534, Medium)\n",
      "We can't say that there is a significant difference in the performance of the models: MLP (mean: 0.564444, std: 0.130885) and KNN (mean: 0.532222, std: 0.110939) (Cohen's d=0.2519623133309126, Medium)\n",
      "We can't say that there is a significant difference in the performance of the models: MLP (mean: 0.564444, std: 0.130885) and SVM (mean: 0.543333, std: 0.151246) (Cohen's d=0.14160671255262908, Small)\n",
      "We can't say that there is a significant difference in the performance of the models: MLP (mean: 0.564444, std: 0.130885) and LR (mean: 0.553333, std: 0.137509) (Cohen's d=0.07852434588510737, Small)\n",
      "We can't say that there is a significant difference in the performance of the models: MLP (mean: 0.564444, std: 0.130885) and Arbol (mean: 0.598889, std: 0.141111) (Cohen's d=0.24010495955185923, Medium)\n",
      "Eta squared: 0.144795 (Large)\n"
     ]
    },
    {
     "data": {
      "image/png": "[encoded data removed]",
      "text/plain": [
       "<Figure size 432x288 with 1 Axes>"
      ]
     },
     "metadata": {
      "needs_background": "light"
     },
     "output_type": "display_data"
    }
   ],
   "source": [
    "compare_methods(X_lle100,Y,listAlgorithms,listParams,listNames,metric='accuracy')"
   ]
  },
  {
   "cell_type": "markdown",
   "metadata": {},
   "source": [
    "# MDS"
   ]
  },
  {
   "cell_type": "code",
   "execution_count": 82,
   "metadata": {},
   "outputs": [
    {
     "name": "stdout",
     "output_type": "stream",
     "text": [
      "temp.csv\n",
      "['Arbol' 'SVM' 'KNN' 'LR' 'MLP' 'RF' 'ET']\n",
      "==========================================================\n",
      "Report\n",
      "==========================================================\n",
      "**********************************************************\n",
      "Mean and std\n",
      "**********************************************************\n",
      "Arbol: 0.476071 (0.091299)\n",
      "SVM: 0.501429 (0.019378)\n",
      "KNN: 0.463929 (0.154721)\n",
      "LR: 0.493452 (0.080182)\n",
      "MLP: 0.463929 (0.155693)\n",
      "RF: 0.512738 (0.148826)\n",
      "ET: 0.473690 (0.035629)\n",
      "**********************************************************\n",
      "Statistical tests\n",
      "**********************************************************\n",
      "----------------------------------------------------------\n",
      "Checking parametric conditions \n",
      "----------------------------------------------------------\n",
      "Checking independence \n",
      "Ok\n",
      "Checking normality using Shapiro-Wilk's test for normality, alpha=0.05\n",
      "W: 0.943587, p:0.003395\n",
      "The null hypothesis (normality) is rejected\n",
      "Checking heteroscedasticity using Levene's test, alpha=0.05\n",
      "W: 3.678490, p:0.003395\n",
      "The null hypothesis (heteroscedasticity) is rejected\n",
      "Conditions for a parametric test are not fulfilled, applying a non-parametric test\n",
      "----------------------------------------------------------\n",
      "Working with more than 2 algorithms\n",
      "----------------------------------------------------------\n",
      "----------------------------------------------------------\n",
      "Applying Friedman test\n",
      "----------------------------------------------------------\n",
      "F-value: 0.220637, p-value: 0.9685024865007478\n",
      "Null hypothesis is accepted; hence, we can't say that there is a significant difference in the performance of the models\n",
      "----------------------------------------------------------\n",
      "Analysing effect size\n",
      "----------------------------------------------------------\n",
      "We take the model with the best mean (RF, mean: 0.512738) and compare it with the other models: \n",
      "Comparing effect size of RF and Arbol: Cohen's d=0.28175249684225667, Medium\n",
      "Comparing effect size of RF and SVM: Cohen's d=0.10110016418203965, Small\n",
      "Comparing effect size of RF and KNN: Cohen's d=0.30503432582864914, Medium\n",
      "Comparing effect size of RF and LR: Cohen's d=0.15305716382590862, Small\n",
      "Comparing effect size of RF and MLP: Cohen's d=0.30404022952512527, Medium\n",
      "Comparing effect size of RF and ET: Cohen's d=0.34233490992299104, Medium\n",
      "Eta squared: 0.024657 (Medium)\n"
     ]
    },
    {
     "data": {
      "image/png": "[encoded data removed]",
      "text/plain": [
       "<Figure size 432x288 with 1 Axes>"
      ]
     },
     "metadata": {
      "needs_background": "light"
     },
     "output_type": "display_data"
    }
   ],
   "source": [
    "clf = manifold.MDS(n_components=2, n_init=1, max_iter=100)\n",
    "X_mds2 = clf.fit_transform(X)\n",
    "compare_methods(X_mds2,Y,listAlgorithms,listParams,listNames,metric='auroc')"
   ]
  },
  {
   "cell_type": "code",
   "execution_count": 83,
   "metadata": {},
   "outputs": [
    {
     "name": "stdout",
     "output_type": "stream",
     "text": [
      "temp.csv\n",
      "['Arbol' 'SVM' 'KNN' 'LR' 'MLP' 'RF' 'ET']\n",
      "==========================================================\n",
      "Report\n",
      "==========================================================\n",
      "**********************************************************\n",
      "Mean and std\n",
      "**********************************************************\n",
      "Arbol: 0.485000 (0.238799)\n",
      "SVM: 0.070000 (0.155242)\n",
      "KNN: 0.433333 (0.351188)\n",
      "LR: 0.378333 (0.279687)\n",
      "MLP: 0.170000 (0.210000)\n",
      "RF: 0.400000 (0.288194)\n",
      "ET: 0.100000 (0.200000)\n",
      "**********************************************************\n",
      "Statistical tests\n",
      "**********************************************************\n",
      "----------------------------------------------------------\n",
      "Checking parametric conditions \n",
      "----------------------------------------------------------\n",
      "Checking independence \n",
      "Ok\n",
      "Checking normality using Shapiro-Wilk's test for normality, alpha=0.05\n",
      "W: 0.826786, p:0.000000\n",
      "The null hypothesis (normality) is rejected\n",
      "Checking heteroscedasticity using Levene's test, alpha=0.05\n",
      "W: 1.272932, p:0.282629\n",
      "The null hypothesis (heteroscedasticity) is rejected\n",
      "Conditions for a parametric test are not fulfilled, applying a non-parametric test\n",
      "----------------------------------------------------------\n",
      "Working with more than 2 algorithms\n",
      "----------------------------------------------------------\n",
      "----------------------------------------------------------\n",
      "Applying Friedman test\n",
      "----------------------------------------------------------\n",
      "F-value: 3.866990, p-value: 0.0027843048877969068\n",
      "Null hypothesis is rejected; hence, models have different performance\n",
      "Technique      Ranking\n",
      "-----------  ---------\n",
      "Arbol             5.45\n",
      "RF                5.05\n",
      "KNN               4.7\n",
      "LR                4.4\n",
      "MLP               3.2\n",
      "ET                2.6\n",
      "SVM               2.6\n",
      "Winner model: Arbol\n",
      "----------------------------------------------------------\n",
      "Applying Holm p-value adjustment procedure and analysing effect size\n",
      "----------------------------------------------------------\n",
      "Comparison      Zvalue     p-value    adjusted p-value\n",
      "------------  --------  ----------  ------------------\n",
      "Arbol vs SVM  2.95003   0.00317743           0.0190646\n",
      "Arbol vs ET   2.95003   0.00317743           0.0190646\n",
      "Arbol vs MLP  2.32897   0.0198606            0.0794424\n",
      "Arbol vs LR   1.08685   0.277102             0.831305\n",
      "Arbol vs KNN  0.776324  0.437558             0.875116\n",
      "Arbol vs RF   0.414039  0.678845             0.875116\n",
      "There is a significant difference between the models: Arbol (mean: 0.485000, std: 0.238799) and SVM (mean: 0.070000, std: 0.155242) (Cohen's d=1.9548209932273604, Large)\n",
      "There is a significant difference between the models: Arbol (mean: 0.485000, std: 0.238799) and ET (mean: 0.100000, std: 0.200000) (Cohen's d=1.6582696656296394, Large)\n",
      "There is a significant difference between the models: Arbol (mean: 0.485000, std: 0.238799) and MLP (mean: 0.170000, std: 0.210000) (Cohen's d=1.3289772269364506, Large)\n",
      "We can't say that there is a significant difference in the performance of the models: Arbol (mean: 0.485000, std: 0.238799) and LR (mean: 0.378333, std: 0.279687) (Cohen's d=0.3891314561987081, Medium)\n",
      "We can't say that there is a significant difference in the performance of the models: Arbol (mean: 0.485000, std: 0.238799) and KNN (mean: 0.433333, std: 0.351188) (Cohen's d=0.1632219602490297, Small)\n",
      "We can't say that there is a significant difference in the performance of the models: Arbol (mean: 0.485000, std: 0.238799) and RF (mean: 0.400000, std: 0.288194) (Cohen's d=0.3046956475323793, Medium)\n",
      "Eta squared: 0.282788 (Large)\n"
     ]
    },
    {
     "data": {
      "image/png": "[encoded data removed]",
      "text/plain": [
       "<Figure size 432x288 with 1 Axes>"
      ]
     },
     "metadata": {
      "needs_background": "light"
     },
     "output_type": "display_data"
    }
   ],
   "source": [
    "compare_methods(X_mds2,Y,listAlgorithms,listParams,listNames,metric='precision')"
   ]
  },
  {
   "cell_type": "code",
   "execution_count": 84,
   "metadata": {},
   "outputs": [
    {
     "name": "stdout",
     "output_type": "stream",
     "text": [
      "temp.csv\n",
      "['Arbol' 'SVM' 'KNN' 'LR' 'MLP' 'RF' 'ET']\n",
      "==========================================================\n",
      "Report\n",
      "==========================================================\n",
      "**********************************************************\n",
      "Mean and std\n",
      "**********************************************************\n",
      "Arbol: 0.348333 (0.088647)\n",
      "SVM: 0.100000 (0.200000)\n",
      "KNN: 0.178333 (0.126282)\n",
      "LR: 0.228333 (0.143575)\n",
      "MLP: 0.220000 (0.333400)\n",
      "RF: 0.448333 (0.336027)\n",
      "ET: 0.036667 (0.073711)\n",
      "**********************************************************\n",
      "Statistical tests\n",
      "**********************************************************\n",
      "----------------------------------------------------------\n",
      "Checking parametric conditions \n",
      "----------------------------------------------------------\n",
      "Checking independence \n",
      "Ok\n",
      "Checking normality using Shapiro-Wilk's test for normality, alpha=0.05\n",
      "W: 0.812243, p:0.000000\n",
      "The null hypothesis (normality) is rejected\n",
      "Checking heteroscedasticity using Levene's test, alpha=0.05\n",
      "W: 1.914622, p:0.092177\n",
      "The null hypothesis (heteroscedasticity) is rejected\n",
      "Conditions for a parametric test are not fulfilled, applying a non-parametric test\n",
      "----------------------------------------------------------\n",
      "Working with more than 2 algorithms\n",
      "----------------------------------------------------------\n",
      "----------------------------------------------------------\n",
      "Applying Friedman test\n",
      "----------------------------------------------------------\n",
      "F-value: 4.654836, p-value: 0.0007002549741454978\n",
      "Null hypothesis is rejected; hence, models have different performance\n",
      "Technique      Ranking\n",
      "-----------  ---------\n",
      "RF                5.7\n",
      "Arbol             5.5\n",
      "LR                4.15\n",
      "KNN               3.9\n",
      "MLP               3.65\n",
      "SVM               2.7\n",
      "ET                2.4\n",
      "Winner model: RF\n",
      "----------------------------------------------------------\n",
      "Applying Holm p-value adjustment procedure and analysing effect size\n",
      "----------------------------------------------------------\n",
      "Comparison      Zvalue      p-value    adjusted p-value\n",
      "------------  --------  -----------  ------------------\n",
      "RF vs ET       3.41582  0.000635892          0.00381535\n",
      "RF vs SVM      3.1053   0.00190089           0.00950447\n",
      "RF vs MLP      2.12195  0.0338418            0.135367\n",
      "RF vs KNN      1.86318  0.0624374            0.187312\n",
      "RF vs LR       1.6044   0.108625             0.217251\n",
      "RF vs Arbol    0.20702  0.835994             0.835994\n",
      "There is a significant difference between the models: RF (mean: 0.448333, std: 0.336027) and ET (mean: 0.036667, std: 0.073711) (Cohen's d=1.6054726848984913, Large)\n",
      "There is a significant difference between the models: RF (mean: 0.448333, std: 0.336027) and SVM (mean: 0.100000, std: 0.200000) (Cohen's d=1.1951098383240593, Large)\n",
      "There is a significant difference between the models: RF (mean: 0.448333, std: 0.336027) and MLP (mean: 0.220000, std: 0.333400) (Cohen's d=0.6471638509849685, Large)\n",
      "There is a significant difference between the models: RF (mean: 0.448333, std: 0.336027) and KNN (mean: 0.178333, std: 0.126282) (Cohen's d=1.0091113265271014, Large)\n",
      "There is a significant difference between the models: RF (mean: 0.448333, std: 0.336027) and LR (mean: 0.228333, std: 0.143575) (Cohen's d=0.8077428505321558, Large)\n",
      "We can't say that there is a significant difference in the performance of the models: RF (mean: 0.448333, std: 0.336027) and Arbol (mean: 0.348333, std: 0.088647) (Cohen's d=0.3860581487876739, Medium)\n",
      "Eta squared: 0.273811 (Large)\n"
     ]
    },
    {
     "data": {
      "image/png": "[encoded data removed]",
      "text/plain": [
       "<Figure size 432x288 with 1 Axes>"
      ]
     },
     "metadata": {
      "needs_background": "light"
     },
     "output_type": "display_data"
    }
   ],
   "source": [
    "compare_methods(X_mds2,Y,listAlgorithms,listParams,listNames,metric='recall')"
   ]
  },
  {
   "cell_type": "code",
   "execution_count": 85,
   "metadata": {},
   "outputs": [
    {
     "name": "stdout",
     "output_type": "stream",
     "text": [
      "temp.csv\n",
      "['Arbol' 'SVM' 'KNN' 'LR' 'MLP' 'RF' 'ET']\n",
      "==========================================================\n",
      "Report\n",
      "==========================================================\n",
      "**********************************************************\n",
      "Mean and std\n",
      "**********************************************************\n",
      "Arbol: 0.490000 (0.121559)\n",
      "SVM: 0.530000 (0.128241)\n",
      "KNN: 0.506667 (0.192655)\n",
      "LR: 0.507778 (0.140550)\n",
      "MLP: 0.486667 (0.146885)\n",
      "RF: 0.478889 (0.109370)\n",
      "ET: 0.542222 (0.132292)\n",
      "**********************************************************\n",
      "Statistical tests\n",
      "**********************************************************\n",
      "----------------------------------------------------------\n",
      "Checking parametric conditions \n",
      "----------------------------------------------------------\n",
      "Checking independence \n",
      "Ok\n",
      "Checking normality using Shapiro-Wilk's test for normality, alpha=0.05\n",
      "W: 0.944968, p:0.003987\n",
      "The null hypothesis (normality) is rejected\n",
      "Checking heteroscedasticity using Levene's test, alpha=0.05\n",
      "W: 0.685839, p:0.661685\n",
      "The null hypothesis (heteroscedasticity) is accepted\n",
      "Conditions for a parametric test are not fulfilled, applying a non-parametric test\n",
      "----------------------------------------------------------\n",
      "Working with more than 2 algorithms\n",
      "----------------------------------------------------------\n",
      "----------------------------------------------------------\n",
      "Applying Friedman test\n",
      "----------------------------------------------------------\n",
      "F-value: 0.292035, p-value: 0.9381829580669093\n",
      "Null hypothesis is accepted; hence, we can't say that there is a significant difference in the performance of the models\n",
      "----------------------------------------------------------\n",
      "Analysing effect size\n",
      "----------------------------------------------------------\n",
      "We take the model with the best mean (ET, mean: 0.542222) and compare it with the other models: \n",
      "Comparing effect size of ET and Arbol: Cohen's d=0.38997771241316054, Medium\n",
      "Comparing effect size of ET and SVM: Cohen's d=0.08899923648135899, Small\n",
      "Comparing effect size of ET and KNN: Cohen's d=0.2041167626700306, Medium\n",
      "Comparing effect size of ET and LR: Cohen's d=0.23941971800982959, Medium\n",
      "Comparing effect size of ET and MLP: Cohen's d=0.37705584577125933, Medium\n",
      "Comparing effect size of ET and RF: Cohen's d=0.4950287118122972, Medium\n",
      "Eta squared: 0.022870 (Medium)\n"
     ]
    },
    {
     "data": {
      "image/png": "[encoded data removed]",
      "text/plain": [
       "<Figure size 432x288 with 1 Axes>"
      ]
     },
     "metadata": {
      "needs_background": "light"
     },
     "output_type": "display_data"
    }
   ],
   "source": [
    "compare_methods(X_mds2,Y,listAlgorithms,listParams,listNames,metric='accuracy')"
   ]
  },
  {
   "cell_type": "code",
   "execution_count": 86,
   "metadata": {
    "scrolled": true
   },
   "outputs": [
    {
     "name": "stdout",
     "output_type": "stream",
     "text": [
      "temp.csv\n",
      "['Arbol' 'SVM' 'KNN' 'LR' 'MLP' 'RF' 'ET']\n",
      "==========================================================\n",
      "Report\n",
      "==========================================================\n",
      "**********************************************************\n",
      "Mean and std\n",
      "**********************************************************\n",
      "Arbol: 0.542976 (0.165509)\n",
      "SVM: 0.487500 (0.087500)\n",
      "KNN: 0.457857 (0.108010)\n",
      "LR: 0.504405 (0.161473)\n",
      "MLP: 0.500238 (0.097169)\n",
      "RF: 0.559762 (0.189733)\n",
      "ET: 0.479762 (0.118337)\n",
      "**********************************************************\n",
      "Statistical tests\n",
      "**********************************************************\n",
      "----------------------------------------------------------\n",
      "Checking parametric conditions \n",
      "----------------------------------------------------------\n",
      "Checking independence \n",
      "Ok\n",
      "Checking normality using Shapiro-Wilk's test for normality, alpha=0.05\n",
      "W: 0.943298, p:0.003282\n",
      "The null hypothesis (normality) is rejected\n",
      "Checking heteroscedasticity using Levene's test, alpha=0.05\n",
      "W: 1.235819, p:0.300256\n",
      "The null hypothesis (heteroscedasticity) is rejected\n",
      "Conditions for a parametric test are not fulfilled, applying a non-parametric test\n",
      "----------------------------------------------------------\n",
      "Working with more than 2 algorithms\n",
      "----------------------------------------------------------\n",
      "----------------------------------------------------------\n",
      "Applying Friedman test\n",
      "----------------------------------------------------------\n",
      "F-value: 0.631187, p-value: 0.7046105610909772\n",
      "Null hypothesis is accepted; hence, we can't say that there is a significant difference in the performance of the models\n",
      "----------------------------------------------------------\n",
      "Analysing effect size\n",
      "----------------------------------------------------------\n",
      "We take the model with the best mean (RF, mean: 0.559762) and compare it with the other models: \n",
      "Comparing effect size of RF and Arbol: Cohen's d=0.08944571852048483, Small\n",
      "Comparing effect size of RF and SVM: Cohen's d=0.4640126014781111, Medium\n",
      "Comparing effect size of RF and KNN: Cohen's d=0.6262278511776823, Large\n",
      "Comparing effect size of RF and LR: Cohen's d=0.2981001637205062, Medium\n",
      "Comparing effect size of RF and MLP: Cohen's d=0.37463303934414244, Medium\n",
      "Comparing effect size of RF and ET: Cohen's d=0.4799893881070255, Medium\n",
      "Eta squared: 0.054546 (Medium)\n"
     ]
    },
    {
     "data": {
      "image/png": "[encoded data removed]",
      "text/plain": [
       "<Figure size 432x288 with 1 Axes>"
      ]
     },
     "metadata": {
      "needs_background": "light"
     },
     "output_type": "display_data"
    }
   ],
   "source": [
    "clf = manifold.MDS(n_components=10, n_init=1, max_iter=100)\n",
    "X_mds10 = clf.fit_transform(X)\n",
    "compare_methods(X_mds10,Y,listAlgorithms,listParams,listNames,metric='auroc')"
   ]
  },
  {
   "cell_type": "code",
   "execution_count": 87,
   "metadata": {},
   "outputs": [
    {
     "name": "stdout",
     "output_type": "stream",
     "text": [
      "temp.csv\n",
      "['Arbol' 'SVM' 'KNN' 'LR' 'MLP' 'RF' 'ET']\n",
      "==========================================================\n",
      "Report\n",
      "==========================================================\n",
      "**********************************************************\n",
      "Mean and std\n",
      "**********************************************************\n",
      "Arbol: 0.448333 (0.199785)\n",
      "SVM: 0.173333 (0.311555)\n",
      "KNN: 0.366667 (0.208167)\n",
      "LR: 0.500000 (0.220479)\n",
      "MLP: 0.270833 (0.240983)\n",
      "RF: 0.570000 (0.255365)\n",
      "ET: 0.150000 (0.320156)\n",
      "**********************************************************\n",
      "Statistical tests\n",
      "**********************************************************\n",
      "----------------------------------------------------------\n",
      "Checking parametric conditions \n",
      "----------------------------------------------------------\n",
      "Checking independence \n",
      "Ok\n",
      "Checking normality using Shapiro-Wilk's test for normality, alpha=0.05\n",
      "W: 0.883124, p:0.000009\n",
      "The null hypothesis (normality) is rejected\n",
      "Checking heteroscedasticity using Levene's test, alpha=0.05\n",
      "W: 0.172883, p:0.983188\n",
      "The null hypothesis (heteroscedasticity) is accepted\n",
      "Conditions for a parametric test are not fulfilled, applying a non-parametric test\n",
      "----------------------------------------------------------\n",
      "Working with more than 2 algorithms\n",
      "----------------------------------------------------------\n",
      "----------------------------------------------------------\n",
      "Applying Friedman test\n",
      "----------------------------------------------------------\n",
      "F-value: 3.074748, p-value: 0.011593022050324087\n",
      "Null hypothesis is rejected; hence, models have different performance\n",
      "Technique      Ranking\n",
      "-----------  ---------\n",
      "RF                5.25\n",
      "Arbol             4.95\n",
      "LR                4.8\n",
      "KNN               4.1\n",
      "MLP               3.7\n",
      "SVM               2.65\n",
      "ET                2.55\n",
      "Winner model: RF\n",
      "----------------------------------------------------------\n",
      "Applying Holm p-value adjustment procedure and analysing effect size\n",
      "----------------------------------------------------------\n",
      "Comparison      Zvalue     p-value    adjusted p-value\n",
      "------------  --------  ----------  ------------------\n",
      "RF vs ET      2.79477   0.00519374           0.0311624\n",
      "RF vs SVM     2.69126   0.00711836           0.0355918\n",
      "RF vs MLP     1.6044    0.108625             0.434502\n",
      "RF vs KNN     1.19036   0.233904             0.701711\n",
      "RF vs LR      0.465794  0.641363             1\n",
      "RF vs Arbol   0.31053   0.756158             1\n",
      "There is a significant difference between the models: RF (mean: 0.570000, std: 0.255365) and ET (mean: 0.150000, std: 0.320156) (Cohen's d=1.3759562486688883, Large)\n",
      "There is a significant difference between the models: RF (mean: 0.570000, std: 0.255365) and SVM (mean: 0.173333, std: 0.311555) (Cohen's d=1.321090085511313, Large)\n",
      "There is a significant difference between the models: RF (mean: 0.570000, std: 0.255365) and MLP (mean: 0.270833, std: 0.240983) (Cohen's d=1.1431311195751712, Large)\n",
      "We can't say that there is a significant difference in the performance of the models: RF (mean: 0.570000, std: 0.255365) and KNN (mean: 0.366667, std: 0.208167) (Cohen's d=0.8280203925619921, Large)\n",
      "We can't say that there is a significant difference in the performance of the models: RF (mean: 0.570000, std: 0.255365) and LR (mean: 0.500000, std: 0.220479) (Cohen's d=0.2783689314687047, Medium)\n",
      "We can't say that there is a significant difference in the performance of the models: RF (mean: 0.570000, std: 0.255365) and Arbol (mean: 0.448333, std: 0.199785) (Cohen's d=0.5034482758620686, Large)\n",
      "Eta squared: 0.258118 (Large)\n"
     ]
    },
    {
     "data": {
      "image/png": "[encoded data removed]",
      "text/plain": [
       "<Figure size 432x288 with 1 Axes>"
      ]
     },
     "metadata": {
      "needs_background": "light"
     },
     "output_type": "display_data"
    }
   ],
   "source": [
    "compare_methods(X_mds10,Y,listAlgorithms,listParams,listNames,metric='precision')"
   ]
  },
  {
   "cell_type": "code",
   "execution_count": 88,
   "metadata": {},
   "outputs": [
    {
     "name": "stdout",
     "output_type": "stream",
     "text": [
      "temp.csv\n",
      "['Arbol' 'SVM' 'KNN' 'LR' 'MLP' 'RF' 'ET']\n",
      "==========================================================\n",
      "Report\n",
      "==========================================================\n",
      "**********************************************************\n",
      "Mean and std\n",
      "**********************************************************\n",
      "Arbol: 0.506667 (0.283059)\n",
      "SVM: 0.091667 (0.160078)\n",
      "KNN: 0.228333 (0.178115)\n",
      "LR: 0.353333 (0.149034)\n",
      "MLP: 0.300000 (0.303223)\n",
      "RF: 0.428333 (0.239450)\n",
      "ET: 0.066667 (0.133333)\n",
      "**********************************************************\n",
      "Statistical tests\n",
      "**********************************************************\n",
      "----------------------------------------------------------\n",
      "Checking parametric conditions \n",
      "----------------------------------------------------------\n",
      "Checking independence \n",
      "Ok\n",
      "Checking normality using Shapiro-Wilk's test for normality, alpha=0.05\n",
      "W: 0.886311, p:0.000012\n",
      "The null hypothesis (normality) is rejected\n",
      "Checking heteroscedasticity using Levene's test, alpha=0.05\n",
      "W: 1.804909, p:0.112456\n",
      "The null hypothesis (heteroscedasticity) is rejected\n",
      "Conditions for a parametric test are not fulfilled, applying a non-parametric test\n",
      "----------------------------------------------------------\n",
      "Working with more than 2 algorithms\n",
      "----------------------------------------------------------\n",
      "----------------------------------------------------------\n",
      "Applying Friedman test\n",
      "----------------------------------------------------------\n",
      "F-value: 5.334471, p-value: 0.00022095950687839316\n",
      "Null hypothesis is rejected; hence, models have different performance\n",
      "Technique      Ranking\n",
      "-----------  ---------\n",
      "Arbol             5.75\n",
      "RF                5.1\n",
      "LR                4.7\n",
      "MLP               3.9\n",
      "KNN               3.85\n",
      "SVM               2.65\n",
      "ET                2.05\n",
      "Winner model: Arbol\n",
      "----------------------------------------------------------\n",
      "Applying Holm p-value adjustment procedure and analysing effect size\n",
      "----------------------------------------------------------\n",
      "Comparison      Zvalue      p-value    adjusted p-value\n",
      "------------  --------  -----------  ------------------\n",
      "Arbol vs ET   3.82986   0.000128214         0.000769285\n",
      "Arbol vs SVM  3.2088    0.00133288          0.0066644\n",
      "Arbol vs KNN  1.96669   0.0492193           0.196877\n",
      "Arbol vs MLP  1.91493   0.0555012           0.196877\n",
      "Arbol vs LR   1.08685   0.277102            0.554203\n",
      "Arbol vs RF   0.672814  0.501066            0.554203\n",
      "There is a significant difference between the models: Arbol (mean: 0.506667, std: 0.283059) and ET (mean: 0.066667, std: 0.133333) (Cohen's d=1.8866771217666662, Large)\n",
      "There is a significant difference between the models: Arbol (mean: 0.506667, std: 0.283059) and SVM (mean: 0.091667, std: 0.160078) (Cohen's d=1.712181756220645, Large)\n",
      "There is a significant difference between the models: Arbol (mean: 0.506667, std: 0.283059) and KNN (mean: 0.228333, std: 0.178115) (Cohen's d=1.1165774994625193, Large)\n",
      "There is a significant difference between the models: Arbol (mean: 0.506667, std: 0.283059) and MLP (mean: 0.300000, std: 0.303223) (Cohen's d=0.6684336650034015, Large)\n",
      "We can't say that there is a significant difference in the performance of the models: Arbol (mean: 0.506667, std: 0.283059) and LR (mean: 0.353333, std: 0.149034) (Cohen's d=0.6430789131975547, Large)\n",
      "We can't say that there is a significant difference in the performance of the models: Arbol (mean: 0.506667, std: 0.283059) and RF (mean: 0.428333, std: 0.239450) (Cohen's d=0.2834636161900613, Medium)\n",
      "Eta squared: 0.332523 (Large)\n"
     ]
    },
    {
     "data": {
      "image/png": "[encoded data removed]",
      "text/plain": [
       "<Figure size 432x288 with 1 Axes>"
      ]
     },
     "metadata": {
      "needs_background": "light"
     },
     "output_type": "display_data"
    }
   ],
   "source": [
    "compare_methods(X_mds10,Y,listAlgorithms,listParams,listNames,metric='recall')"
   ]
  },
  {
   "cell_type": "code",
   "execution_count": 89,
   "metadata": {},
   "outputs": [
    {
     "name": "stdout",
     "output_type": "stream",
     "text": [
      "temp.csv\n",
      "['Arbol' 'SVM' 'KNN' 'LR' 'MLP' 'RF' 'ET']\n",
      "==========================================================\n",
      "Report\n",
      "==========================================================\n",
      "**********************************************************\n",
      "Mean and std\n",
      "**********************************************************\n",
      "Arbol: 0.542222 (0.141317)\n",
      "SVM: 0.553333 (0.168274)\n",
      "KNN: 0.478889 (0.120129)\n",
      "LR: 0.528889 (0.177166)\n",
      "MLP: 0.533333 (0.115042)\n",
      "RF: 0.565556 (0.200521)\n",
      "ET: 0.523333 (0.184622)\n",
      "**********************************************************\n",
      "Statistical tests\n",
      "**********************************************************\n",
      "----------------------------------------------------------\n",
      "Checking parametric conditions \n",
      "----------------------------------------------------------\n",
      "Checking independence \n",
      "Ok\n",
      "Checking normality using Shapiro-Wilk's test for normality, alpha=0.05\n",
      "W: 0.967754, p:0.068015\n",
      "The null hypothesis (normality) is rejected\n",
      "Checking heteroscedasticity using Levene's test, alpha=0.05\n",
      "W: 0.506480, p:0.801185\n",
      "The null hypothesis (heteroscedasticity) is accepted\n",
      "Conditions for a parametric test are not fulfilled, applying a non-parametric test\n",
      "----------------------------------------------------------\n",
      "Working with more than 2 algorithms\n",
      "----------------------------------------------------------\n",
      "----------------------------------------------------------\n",
      "Applying Friedman test\n",
      "----------------------------------------------------------\n",
      "F-value: 0.406495, p-value: 0.8715360297005253\n",
      "Null hypothesis is accepted; hence, we can't say that there is a significant difference in the performance of the models\n",
      "----------------------------------------------------------\n",
      "Analysing effect size\n",
      "----------------------------------------------------------\n",
      "We take the model with the best mean (RF, mean: 0.565556) and compare it with the other models: \n",
      "Comparing effect size of RF and Arbol: Cohen's d=0.12761170461033028, Small\n",
      "Comparing effect size of RF and SVM: Cohen's d=0.06264160608924531, Small\n",
      "Comparing effect size of RF and KNN: Cohen's d=0.4974334235307239, Medium\n",
      "Comparing effect size of RF and LR: Cohen's d=0.1838494794951865, Small\n",
      "Comparing effect size of RF and MLP: Cohen's d=0.1870016651474214, Small\n",
      "Comparing effect size of RF and ET: Cohen's d=0.2078265241406766, Medium\n",
      "Eta squared: 0.024661 (Medium)\n"
     ]
    },
    {
     "data": {
      "image/png": "[encoded data removed]",
      "text/plain": [
       "<Figure size 432x288 with 1 Axes>"
      ]
     },
     "metadata": {
      "needs_background": "light"
     },
     "output_type": "display_data"
    }
   ],
   "source": [
    "compare_methods(X_mds10,Y,listAlgorithms,listParams,listNames,metric='accuracy')"
   ]
  },
  {
   "cell_type": "code",
   "execution_count": 90,
   "metadata": {},
   "outputs": [
    {
     "name": "stdout",
     "output_type": "stream",
     "text": [
      "temp.csv\n",
      "['Arbol' 'SVM' 'KNN' 'LR' 'MLP' 'RF' 'ET']\n",
      "==========================================================\n",
      "Report\n",
      "==========================================================\n",
      "**********************************************************\n",
      "Mean and std\n",
      "**********************************************************\n",
      "Arbol: 0.419762 (0.130941)\n",
      "SVM: 0.514881 (0.070097)\n",
      "KNN: 0.447976 (0.097937)\n",
      "LR: 0.519881 (0.094797)\n",
      "MLP: 0.422024 (0.122271)\n",
      "RF: 0.479286 (0.105053)\n",
      "ET: 0.532738 (0.050455)\n",
      "**********************************************************\n",
      "Statistical tests\n",
      "**********************************************************\n",
      "----------------------------------------------------------\n",
      "Checking parametric conditions \n",
      "----------------------------------------------------------\n",
      "Checking independence \n",
      "Ok\n",
      "Checking normality using Shapiro-Wilk's test for normality, alpha=0.05\n",
      "W: 0.951330, p:0.008517\n",
      "The null hypothesis (normality) is rejected\n",
      "Checking heteroscedasticity using Levene's test, alpha=0.05\n",
      "W: 1.043884, p:0.405803\n",
      "The null hypothesis (heteroscedasticity) is rejected\n",
      "Conditions for a parametric test are not fulfilled, applying a non-parametric test\n",
      "----------------------------------------------------------\n",
      "Working with more than 2 algorithms\n",
      "----------------------------------------------------------\n",
      "----------------------------------------------------------\n",
      "Applying Friedman test\n",
      "----------------------------------------------------------\n",
      "F-value: 2.546392, p-value: 0.030358845975230087\n",
      "Null hypothesis is rejected; hence, models have different performance\n",
      "Technique      Ranking\n",
      "-----------  ---------\n",
      "ET                5.1\n",
      "SVM               5.1\n",
      "LR                4.85\n",
      "RF                3.9\n",
      "MLP               3.3\n",
      "Arbol             2.9\n",
      "KNN               2.85\n",
      "Winner model: ET\n",
      "----------------------------------------------------------\n",
      "Applying Holm p-value adjustment procedure and analysing effect size\n",
      "----------------------------------------------------------\n",
      "Comparison      Zvalue    p-value    adjusted p-value\n",
      "------------  --------  ---------  ------------------\n",
      "ET vs KNN     2.32897   0.0198606            0.119164\n",
      "ET vs Arbol   2.27722   0.0227733            0.119164\n",
      "ET vs MLP     1.86318   0.0624374            0.249749\n",
      "ET vs RF      1.24212   0.214193             0.642579\n",
      "ET vs LR      0.258775  0.795809             1\n",
      "ET vs SVM     0         1                    1\n",
      "There is a significant difference between the models: ET (mean: 0.532738, std: 0.050455) and KNN (mean: 0.447976, std: 0.097937) (Cohen's d=1.0322298065038755, Large)\n",
      "There is a significant difference between the models: ET (mean: 0.532738, std: 0.050455) and Arbol (mean: 0.419762, std: 0.130941) (Cohen's d=1.0801583099089707, Large)\n",
      "There is a significant difference between the models: ET (mean: 0.532738, std: 0.050455) and MLP (mean: 0.422024, std: 0.122271) (Cohen's d=1.1229796724824856, Large)\n",
      "We can't say that there is a significant difference in the performance of the models: ET (mean: 0.532738, std: 0.050455) and RF (mean: 0.479286, std: 0.105053) (Cohen's d=0.6153543546375503, Large)\n",
      "We can't say that there is a significant difference in the performance of the models: ET (mean: 0.532738, std: 0.050455) and LR (mean: 0.519881, std: 0.094797) (Cohen's d=0.16062984817203083, Small)\n",
      "We can't say that there is a significant difference in the performance of the models: ET (mean: 0.532738, std: 0.050455) and SVM (mean: 0.514881, std: 0.070097) (Cohen's d=0.27739488532793005, Medium)\n",
      "Eta squared: 0.163563 (Large)\n"
     ]
    },
    {
     "data": {
      "image/png": "[encoded data removed]",
      "text/plain": [
       "<Figure size 432x288 with 1 Axes>"
      ]
     },
     "metadata": {
      "needs_background": "light"
     },
     "output_type": "display_data"
    }
   ],
   "source": [
    "clf = manifold.MDS(n_components=50, n_init=1, max_iter=100)\n",
    "X_mds100 = clf.fit_transform(X)\n",
    "compare_methods(X_mds100,Y,listAlgorithms,listParams,listNames,metric='auroc')"
   ]
  },
  {
   "cell_type": "code",
   "execution_count": 91,
   "metadata": {},
   "outputs": [
    {
     "ename": "NameError",
     "evalue": "name 'XumaX_mds10p10' is not defined",
     "output_type": "error",
     "traceback": [
      "\u001b[0;31m---------------------------------------------------------------------------\u001b[0m",
      "\u001b[0;31mNameError\u001b[0m                                 Traceback (most recent call last)",
      "\u001b[0;32m<ipython-input-91-2e1da5bf3a2d>\u001b[0m in \u001b[0;36m<module>\u001b[0;34m\u001b[0m\n\u001b[0;32m----> 1\u001b[0;31m \u001b[0mcompare_methods\u001b[0m\u001b[0;34m(\u001b[0m\u001b[0mXumaX_mds10p10\u001b[0m\u001b[0;34m,\u001b[0m\u001b[0mY\u001b[0m\u001b[0;34m,\u001b[0m\u001b[0mlistAlgorithms\u001b[0m\u001b[0;34m,\u001b[0m\u001b[0mlistParams\u001b[0m\u001b[0;34m,\u001b[0m\u001b[0mlistNames\u001b[0m\u001b[0;34m,\u001b[0m\u001b[0mmetric\u001b[0m\u001b[0;34m=\u001b[0m\u001b[0;34m'precision'\u001b[0m\u001b[0;34m)\u001b[0m\u001b[0;34m\u001b[0m\u001b[0;34m\u001b[0m\u001b[0m\n\u001b[0m",
      "\u001b[0;31mNameError\u001b[0m: name 'XumaX_mds10p10' is not defined"
     ]
    }
   ],
   "source": [
    "compare_methods(XumaX_mds10p10,Y,listAlgorithms,listParams,listNames,metric='precision')"
   ]
  },
  {
   "cell_type": "code",
   "execution_count": null,
   "metadata": {},
   "outputs": [],
   "source": [
    "compare_methods(Xumap10,Y,listAlgorithms,listParams,listNames,metric='recall')"
   ]
  },
  {
   "cell_type": "code",
   "execution_count": null,
   "metadata": {},
   "outputs": [],
   "source": [
    "compare_methods(Xumap10,Y,listAlgorithms,listParams,listNames,metric='accuracy')"
   ]
  }
 ],
 "metadata": {
  "colab": {
   "name": "CompareMethods.ipynb",
   "provenance": []
  },
  "kernelspec": {
   "display_name": "Python 3",
   "language": "python",
   "name": "python3"
  },
  "language_info": {
   "codemirror_mode": {
    "name": "ipython",
    "version": 3
   },
   "file_extension": ".py",
   "mimetype": "text/x-python",
   "name": "python",
   "nbconvert_exporter": "python",
   "pygments_lexer": "ipython3",
   "version": "3.6.7"
  }
 },
 "nbformat": 4,
 "nbformat_minor": 1
}
