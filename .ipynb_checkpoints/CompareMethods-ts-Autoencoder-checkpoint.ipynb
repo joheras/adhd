{
 "cells": [
  {
   "cell_type": "code",
   "execution_count": 1,
   "metadata": {
    "id": "9VdC2keIvxIJ"
   },
   "outputs": [],
   "source": [
    "import numpy as np\n",
    "from StatisticalAnalysis import compare_methods"
   ]
  },
  {
   "cell_type": "code",
   "execution_count": 2,
   "metadata": {
    "id": "3iCEO6wXtftF"
   },
   "outputs": [],
   "source": [
    "import warnings\n",
    "warnings.filterwarnings('ignore')"
   ]
  },
  {
   "cell_type": "markdown",
   "metadata": {
    "id": "Zb3btBk5vxIM"
   },
   "source": [
    "First we load the data and process it to have the correct form."
   ]
  },
  {
   "cell_type": "code",
   "execution_count": 3,
   "metadata": {},
   "outputs": [],
   "source": [
    "ts = np.load('tsAutoencoder.npy')"
   ]
  },
  {
   "cell_type": "code",
   "execution_count": 6,
   "metadata": {},
   "outputs": [],
   "source": [
    "ts_hc = ts[0:52]\n",
    "ts_adhd = ts[52:]"
   ]
  },
  {
   "cell_type": "code",
   "execution_count": 7,
   "metadata": {
    "id": "StF6b56QvxIN"
   },
   "outputs": [
    {
     "data": {
      "text/plain": [
       "(52, 18, 15, 1)"
      ]
     },
     "execution_count": 7,
     "metadata": {},
     "output_type": "execute_result"
    }
   ],
   "source": [
    "ts_hc.shape"
   ]
  },
  {
   "cell_type": "code",
   "execution_count": 8,
   "metadata": {
    "id": "qd1nFcAfvxIO"
   },
   "outputs": [],
   "source": [
    "ts_hc = ts_hc.reshape(52,18*15)"
   ]
  },
  {
   "cell_type": "code",
   "execution_count": 9,
   "metadata": {
    "id": "fc006UE6vxIO"
   },
   "outputs": [],
   "source": [
    "ts_adhd = ts_adhd.reshape(40,18*15)"
   ]
  },
  {
   "cell_type": "code",
   "execution_count": 10,
   "metadata": {
    "id": "SEhdGg3IvxIP"
   },
   "outputs": [],
   "source": [
    "X = np.append(ts_hc,ts_adhd,axis=0)"
   ]
  },
  {
   "cell_type": "code",
   "execution_count": 11,
   "metadata": {
    "colab": {
     "base_uri": "https://localhost:8080/"
    },
    "id": "8d-RFXoavxIQ",
    "outputId": "a61e1d34-79c6-4f1a-df1f-0b3a74b2c53d"
   },
   "outputs": [
    {
     "data": {
      "text/plain": [
       "(92, 270)"
      ]
     },
     "execution_count": 11,
     "metadata": {},
     "output_type": "execute_result"
    }
   ],
   "source": [
    "X.shape"
   ]
  },
  {
   "cell_type": "code",
   "execution_count": 12,
   "metadata": {
    "colab": {
     "base_uri": "https://localhost:8080/"
    },
    "id": "hnaiAVUvJmgn",
    "outputId": "6cb5c264-f346-4b38-e85b-aa3b8bf8ace6"
   },
   "outputs": [
    {
     "data": {
      "text/plain": [
       "(270,)"
      ]
     },
     "execution_count": 12,
     "metadata": {},
     "output_type": "execute_result"
    }
   ],
   "source": [
    "X[0].shape"
   ]
  },
  {
   "cell_type": "code",
   "execution_count": 14,
   "metadata": {
    "id": "5oh4k1gEvxIR"
   },
   "outputs": [],
   "source": [
    "Y = np.append(np.zeros(52),np.ones(40),axis=0)"
   ]
  },
  {
   "cell_type": "code",
   "execution_count": 15,
   "metadata": {
    "colab": {
     "base_uri": "https://localhost:8080/"
    },
    "id": "PZuBWU5LvxIR",
    "outputId": "21a0987a-b533-41fc-bea5-9f94b3246a66",
    "scrolled": true
   },
   "outputs": [
    {
     "data": {
      "text/plain": [
       "(92,)"
      ]
     },
     "execution_count": 15,
     "metadata": {},
     "output_type": "execute_result"
    }
   ],
   "source": [
    "Y.shape"
   ]
  },
  {
   "cell_type": "markdown",
   "metadata": {
    "id": "w2w8w0VjvxIS"
   },
   "source": [
    "Now, we define the algorithms that we are going to use. "
   ]
  },
  {
   "cell_type": "code",
   "execution_count": 16,
   "metadata": {
    "id": "MEPfV3efvxIS"
   },
   "outputs": [],
   "source": [
    "from sklearn.tree import DecisionTreeClassifier\n",
    "from sklearn.neighbors import KNeighborsClassifier\n",
    "from sklearn.linear_model import LogisticRegression\n",
    "from sklearn.svm import SVC\n",
    "from sklearn.neural_network import MLPClassifier\n",
    "from sklearn.ensemble import ExtraTreesClassifier\n",
    "from sklearn.ensemble import GradientBoostingClassifier\n",
    "from sklearn.ensemble import RandomForestClassifier\n",
    "from sklearn.ensemble import AdaBoostClassifier\n",
    "from scipy.stats import randint as sp_randint"
   ]
  },
  {
   "cell_type": "code",
   "execution_count": 17,
   "metadata": {
    "id": "YwnPEwswvxIU"
   },
   "outputs": [],
   "source": [
    "# Decision tree\n",
    "clfTree = DecisionTreeClassifier(random_state=84)\n",
    "param_distTree = {\"min_samples_split\": sp_randint(3, 30)}\n",
    "# SVM\n",
    "clfSVC = SVC(random_state=84)\n",
    "param_distSVC = {'C': [1, 10, 100, 1000], 'gamma': [0.001, 0.0001],'kernel': ['rbf'], 'class_weight':['balanced', None]}\n",
    "# KNN\n",
    "clfKNN = KNeighborsClassifier()\n",
    "param_distKNN = {'n_neighbors':sp_randint(3, 30)}\n",
    "# Logistic regression\n",
    "clfLR = LogisticRegression(random_state=84)\n",
    "param_distLR = {'C': [0.1,0.5,1, 10, 100, 1000]}\n",
    "# Neural Network\n",
    "clfMLP = MLPClassifier(random_state=84)\n",
    "param_distMLP = {'activation': ['identity', 'logistic', 'tanh', 'relu'], 'solver': ['lbfgs', 'sgd', 'adam'],\n",
    "                 'alpha': sp_randint(0.0001, 1), 'learning_rate': ['constant', 'invscaling', 'adaptive'],\n",
    "                 'hidden_layer_sizes': [(5,2), (3,3,3), (5,3,2), (5,4,3,2)],\n",
    "                 'momentum': [0.9, 0.95, 0.99]}\n",
    "# RandomForest\n",
    "clfRF = RandomForestClassifier(random_state=84)\n",
    "param_distRF =  {'n_estimators': [int(x) for x in np.linspace(start = 200, stop = 2000, num = 10)], 'max_features': ['auto', 'sqrt'],'max_depth': [int(x) for x in np.linspace(10, 110, num = 11)],\n",
    "                 'min_samples_split': [2, 5, 10],'min_samples_leaf': [1, 2, 4],\n",
    "                 'bootstrap': [True, False]}\n",
    "# ExtraTreesClassifier\n",
    "clfET = ExtraTreesClassifier(random_state=84)\n",
    "param_distET =  {'n_estimators': [int(x) for x in np.linspace(start = 200, stop = 2000, num = 10)], 'max_features': ['auto', 'sqrt'],'max_depth': [int(x) for x in np.linspace(10, 110, num = 11)],\n",
    "                 'min_samples_split': [2, 5, 10],'min_samples_leaf': [1, 2, 4],\n",
    "                 'bootstrap': [True, False]}"
   ]
  },
  {
   "cell_type": "code",
   "execution_count": 18,
   "metadata": {
    "id": "GGQcPxBOvxIV"
   },
   "outputs": [],
   "source": [
    "listAlgorithms = [clfTree,clfSVC,clfKNN,clfLR,clfMLP,clfRF,clfET]"
   ]
  },
  {
   "cell_type": "code",
   "execution_count": 19,
   "metadata": {
    "id": "8Nl-1GpjvxIV"
   },
   "outputs": [],
   "source": [
    "listParams = [param_distTree,param_distSVC,param_distKNN,param_distLR,param_distMLP,param_distRF, param_distET]"
   ]
  },
  {
   "cell_type": "code",
   "execution_count": 20,
   "metadata": {
    "id": "IK_8iIWovxIV"
   },
   "outputs": [],
   "source": [
    "listNames = [\"Arbol\", \"SVM\", \"KNN\", \"LR\", \"MLP\",\"RF\",\"ET\"]"
   ]
  },
  {
   "cell_type": "markdown",
   "metadata": {},
   "source": [
    "# Plain comparison"
   ]
  },
  {
   "cell_type": "code",
   "execution_count": 21,
   "metadata": {
    "id": "LSSesjlBvxIV"
   },
   "outputs": [
    {
     "name": "stdout",
     "output_type": "stream",
     "text": [
      "temp.csv\n",
      "['Arbol' 'SVM' 'KNN' 'LR' 'MLP' 'RF' 'ET']\n",
      "==========================================================\n",
      "Report\n",
      "==========================================================\n",
      "**********************************************************\n",
      "Mean and std\n",
      "**********************************************************\n",
      "Arbol: 0.532976 (0.147286)\n",
      "SVM: 0.500000 (0.000000)\n",
      "KNN: 0.428929 (0.103827)\n",
      "LR: 0.568690 (0.159131)\n",
      "MLP: 0.506905 (0.074685)\n",
      "RF: 0.523095 (0.150590)\n",
      "ET: 0.509762 (0.140033)\n",
      "**********************************************************\n",
      "Statistical tests\n",
      "**********************************************************\n",
      "----------------------------------------------------------\n",
      "Checking parametric conditions \n",
      "----------------------------------------------------------\n",
      "Checking independence \n",
      "Ok\n",
      "Checking normality using Shapiro-Wilk's test for normality, alpha=0.05\n",
      "W: 0.908691, p:0.000087\n",
      "The null hypothesis (normality) is rejected\n",
      "Checking heteroscedasticity using Levene's test, alpha=0.05\n",
      "W: 2.540857, p:0.028820\n",
      "The null hypothesis (heteroscedasticity) is rejected\n",
      "Conditions for a parametric test are not fulfilled, applying a non-parametric test\n",
      "----------------------------------------------------------\n",
      "Working with more than 2 algorithms\n",
      "----------------------------------------------------------\n",
      "----------------------------------------------------------\n",
      "Applying Friedman test\n",
      "----------------------------------------------------------\n",
      "F-value: 1.132690, p-value: 0.3561034900715214\n",
      "Null hypothesis is rejected; hence, models have different performance\n",
      "Technique      Ranking\n",
      "-----------  ---------\n",
      "LR                4.7\n",
      "Arbol             4.55\n",
      "RF                4.4\n",
      "MLP               4.1\n",
      "SVM               3.95\n",
      "ET                3.75\n",
      "KNN               2.55\n",
      "Winner model: LR\n",
      "----------------------------------------------------------\n",
      "Applying Holm p-value adjustment procedure and analysing effect size\n",
      "----------------------------------------------------------\n",
      "Comparison      Zvalue    p-value    adjusted p-value\n",
      "------------  --------  ---------  ------------------\n",
      "LR vs KNN     2.22546   0.0260503            0.156302\n",
      "LR vs ET      0.983343  0.325438             1\n",
      "LR vs SVM     0.776324  0.437558             1\n",
      "LR vs MLP     0.621059  0.534561             1\n",
      "LR vs RF      0.31053   0.756158             1\n",
      "LR vs Arbol   0.155265  0.876613             1\n",
      "There is a significant difference between the models: LR (mean: 0.568690, std: 0.159131) and KNN (mean: 0.428929, std: 0.103827) (Cohen's d=0.9868601374640164, Large)\n",
      "We can't say that there is a significant difference in the performance of the models: LR (mean: 0.568690, std: 0.159131) and ET (mean: 0.509762, std: 0.140033) (Cohen's d=0.3729792121910024, Medium)\n",
      "We can't say that there is a significant difference in the performance of the models: LR (mean: 0.568690, std: 0.159131) and SVM (mean: 0.500000, std: 0.000000) (Cohen's d=0.5791336947342552, Large)\n",
      "We can't say that there is a significant difference in the performance of the models: LR (mean: 0.568690, std: 0.159131) and MLP (mean: 0.506905, std: 0.074685) (Cohen's d=0.4715652542395503, Medium)\n",
      "We can't say that there is a significant difference in the performance of the models: LR (mean: 0.568690, std: 0.159131) and RF (mean: 0.523095, std: 0.150590) (Cohen's d=0.2792132883833579, Medium)\n",
      "We can't say that there is a significant difference in the performance of the models: LR (mean: 0.568690, std: 0.159131) and Arbol (mean: 0.532976, std: 0.147286) (Cohen's d=0.22098212579110046, Medium)\n",
      "Eta squared: 0.092939 (Large)\n"
     ]
    },
    {
     "data": {
      "image/png": "[encoded data removed]",
      "text/plain": [
       "<Figure size 432x288 with 1 Axes>"
      ]
     },
     "metadata": {
      "needs_background": "light"
     },
     "output_type": "display_data"
    }
   ],
   "source": [
    "compare_methods(X,Y,listAlgorithms,listParams,listNames,metric='auroc')"
   ]
  },
  {
   "cell_type": "code",
   "execution_count": 22,
   "metadata": {},
   "outputs": [
    {
     "name": "stdout",
     "output_type": "stream",
     "text": [
      "temp.csv\n",
      "['Arbol' 'SVM' 'KNN' 'LR' 'MLP' 'RF' 'ET']\n",
      "==========================================================\n",
      "Report\n",
      "==========================================================\n",
      "**********************************************************\n",
      "Mean and std\n",
      "**********************************************************\n",
      "Arbol: 0.492262 (0.253717)\n",
      "SVM: 0.000000 (0.000000)\n",
      "KNN: 0.150000 (0.320156)\n",
      "LR: 0.208333 (0.352077)\n",
      "MLP: 0.213333 (0.218174)\n",
      "RF: 0.431667 (0.361052)\n",
      "ET: 0.291667 (0.378686)\n",
      "**********************************************************\n",
      "Statistical tests\n",
      "**********************************************************\n",
      "----------------------------------------------------------\n",
      "Checking parametric conditions \n",
      "----------------------------------------------------------\n",
      "Checking independence \n",
      "Ok\n",
      "Checking normality using Shapiro-Wilk's test for normality, alpha=0.05\n",
      "W: 0.752709, p:0.000000\n",
      "The null hypothesis (normality) is rejected\n",
      "Checking heteroscedasticity using Levene's test, alpha=0.05\n",
      "W: 1.701731, p:0.135296\n",
      "The null hypothesis (heteroscedasticity) is rejected\n",
      "Conditions for a parametric test are not fulfilled, applying a non-parametric test\n",
      "----------------------------------------------------------\n",
      "Working with more than 2 algorithms\n",
      "----------------------------------------------------------\n",
      "----------------------------------------------------------\n",
      "Applying Friedman test\n",
      "----------------------------------------------------------\n",
      "F-value: 2.740042, p-value: 0.02132792502787595\n",
      "Null hypothesis is rejected; hence, models have different performance\n",
      "Technique      Ranking\n",
      "-----------  ---------\n",
      "Arbol             5.4\n",
      "RF                5\n",
      "MLP               4.25\n",
      "ET                4.1\n",
      "LR                3.8\n",
      "KNN               3.05\n",
      "SVM               2.4\n",
      "Winner model: Arbol\n",
      "----------------------------------------------------------\n",
      "Applying Holm p-value adjustment procedure and analysing effect size\n",
      "----------------------------------------------------------\n",
      "Comparison      Zvalue     p-value    adjusted p-value\n",
      "------------  --------  ----------  ------------------\n",
      "Arbol vs SVM  3.1053    0.00190089           0.0114054\n",
      "Arbol vs KNN  2.43248   0.0149958            0.0749789\n",
      "Arbol vs LR   1.65616   0.09769              0.39076\n",
      "Arbol vs ET   1.34563   0.178423             0.535268\n",
      "Arbol vs MLP  1.19036   0.233904             0.535268\n",
      "Arbol vs RF   0.414039  0.678845             0.678845\n",
      "There is a significant difference between the models: Arbol (mean: 0.492262, std: 0.253717) and SVM (mean: 0.000000, std: 0.000000) (Cohen's d=2.603054024319861, Large)\n",
      "There is a significant difference between the models: Arbol (mean: 0.492262, std: 0.253717) and KNN (mean: 0.150000, std: 0.320156) (Cohen's d=1.1240943691876861, Large)\n",
      "There is a significant difference between the models: Arbol (mean: 0.492262, std: 0.253717) and LR (mean: 0.208333, std: 0.352077) (Cohen's d=0.8777785011693782, Large)\n",
      "We can't say that there is a significant difference in the performance of the models: Arbol (mean: 0.492262, std: 0.253717) and ET (mean: 0.291667, std: 0.378686) (Cohen's d=0.5904188457321017, Large)\n",
      "We can't say that there is a significant difference in the performance of the models: Arbol (mean: 0.492262, std: 0.253717) and MLP (mean: 0.213333, std: 0.218174) (Cohen's d=1.1183405670134128, Large)\n",
      "We can't say that there is a significant difference in the performance of the models: Arbol (mean: 0.492262, std: 0.253717) and RF (mean: 0.431667, std: 0.361052) (Cohen's d=0.18422886715720485, Small)\n",
      "Eta squared: 0.216147 (Large)\n"
     ]
    },
    {
     "data": {
      "image/png": "[encoded data removed]",
      "text/plain": [
       "<Figure size 432x288 with 1 Axes>"
      ]
     },
     "metadata": {
      "needs_background": "light"
     },
     "output_type": "display_data"
    }
   ],
   "source": [
    "compare_methods(X,Y,listAlgorithms,listParams,listNames,metric='precision')"
   ]
  },
  {
   "cell_type": "code",
   "execution_count": 23,
   "metadata": {},
   "outputs": [
    {
     "name": "stdout",
     "output_type": "stream",
     "text": [
      "temp.csv\n",
      "['Arbol' 'SVM' 'KNN' 'LR' 'MLP' 'RF' 'ET']\n",
      "==========================================================\n",
      "Report\n",
      "==========================================================\n",
      "**********************************************************\n",
      "Mean and std\n",
      "**********************************************************\n",
      "Arbol: 0.515000 (0.252922)\n",
      "SVM: 0.000000 (0.000000)\n",
      "KNN: 0.050000 (0.106719)\n",
      "LR: 0.191667 (0.337577)\n",
      "MLP: 0.266667 (0.302306)\n",
      "RF: 0.295000 (0.265419)\n",
      "ET: 0.203333 (0.233071)\n",
      "**********************************************************\n",
      "Statistical tests\n",
      "**********************************************************\n",
      "----------------------------------------------------------\n",
      "Checking parametric conditions \n",
      "----------------------------------------------------------\n",
      "Checking independence \n",
      "Ok\n",
      "Checking normality using Shapiro-Wilk's test for normality, alpha=0.05\n",
      "W: 0.757657, p:0.000000\n",
      "The null hypothesis (normality) is rejected\n",
      "Checking heteroscedasticity using Levene's test, alpha=0.05\n",
      "W: 2.624960, p:0.024605\n",
      "The null hypothesis (heteroscedasticity) is rejected\n",
      "Conditions for a parametric test are not fulfilled, applying a non-parametric test\n",
      "----------------------------------------------------------\n",
      "Working with more than 2 algorithms\n",
      "----------------------------------------------------------\n",
      "----------------------------------------------------------\n",
      "Applying Friedman test\n",
      "----------------------------------------------------------\n",
      "F-value: 4.961219, p-value: 0.00041447156508045424\n",
      "Null hypothesis is rejected; hence, models have different performance\n",
      "Technique      Ranking\n",
      "-----------  ---------\n",
      "Arbol             6.25\n",
      "RF                4.75\n",
      "MLP               4.3\n",
      "ET                3.85\n",
      "LR                3.7\n",
      "KNN               2.75\n",
      "SVM               2.4\n",
      "Winner model: Arbol\n",
      "----------------------------------------------------------\n",
      "Applying Holm p-value adjustment procedure and analysing effect size\n",
      "----------------------------------------------------------\n",
      "Comparison      Zvalue      p-value    adjusted p-value\n",
      "------------  --------  -----------  ------------------\n",
      "Arbol vs SVM   3.98513  6.74436e-05         0.000404662\n",
      "Arbol vs KNN   3.62284  0.000291381         0.00145691\n",
      "Arbol vs LR    2.6395   0.00830282          0.0332113\n",
      "Arbol vs ET    2.48424  0.012983            0.0389489\n",
      "Arbol vs MLP   2.01844  0.0435453           0.0870905\n",
      "Arbol vs RF    1.55265  0.120507            0.120507\n",
      "There is a significant difference between the models: Arbol (mean: 0.515000, std: 0.252922) and SVM (mean: 0.000000, std: 0.000000) (Cohen's d=2.7318521550349386, Large)\n",
      "There is a significant difference between the models: Arbol (mean: 0.515000, std: 0.252922) and KNN (mean: 0.050000, std: 0.106719) (Cohen's d=2.2726029340793006, Large)\n",
      "There is a significant difference between the models: Arbol (mean: 0.515000, std: 0.252922) and LR (mean: 0.191667, std: 0.337577) (Cohen's d=1.0284065990709952, Large)\n",
      "There is a significant difference between the models: Arbol (mean: 0.515000, std: 0.252922) and ET (mean: 0.203333, std: 0.233071) (Cohen's d=1.215764710926966, Large)\n",
      "There is a significant difference between the models: Arbol (mean: 0.515000, std: 0.252922) and MLP (mean: 0.266667, std: 0.302306) (Cohen's d=0.845286618467608, Large)\n",
      "There is a significant difference between the models: Arbol (mean: 0.515000, std: 0.252922) and RF (mean: 0.295000, std: 0.265419) (Cohen's d=0.8050676443413199, Large)\n",
      "Eta squared: 0.299256 (Large)\n"
     ]
    },
    {
     "data": {
      "image/png": "[encoded data removed]",
      "text/plain": [
       "<Figure size 432x288 with 1 Axes>"
      ]
     },
     "metadata": {
      "needs_background": "light"
     },
     "output_type": "display_data"
    }
   ],
   "source": [
    "compare_methods(X,Y,listAlgorithms,listParams,listNames,metric='recall')"
   ]
  },
  {
   "cell_type": "code",
   "execution_count": 24,
   "metadata": {},
   "outputs": [
    {
     "name": "stdout",
     "output_type": "stream",
     "text": [
      "temp.csv\n",
      "['Arbol' 'SVM' 'KNN' 'LR' 'MLP' 'RF' 'ET']\n",
      "==========================================================\n",
      "Report\n",
      "==========================================================\n",
      "**********************************************************\n",
      "Mean and std\n",
      "**********************************************************\n",
      "Arbol: 0.546667 (0.164264)\n",
      "SVM: 0.563333 (0.144021)\n",
      "KNN: 0.464444 (0.114374)\n",
      "LR: 0.616667 (0.167572)\n",
      "MLP: 0.532222 (0.131323)\n",
      "RF: 0.530000 (0.137531)\n",
      "ET: 0.510000 (0.167513)\n",
      "**********************************************************\n",
      "Statistical tests\n",
      "**********************************************************\n",
      "----------------------------------------------------------\n",
      "Checking parametric conditions \n",
      "----------------------------------------------------------\n",
      "Checking independence \n",
      "Ok\n",
      "Checking normality using Shapiro-Wilk's test for normality, alpha=0.05\n",
      "W: 0.931638, p:0.000890\n",
      "The null hypothesis (normality) is rejected\n",
      "Checking heteroscedasticity using Levene's test, alpha=0.05\n",
      "W: 0.501210, p:0.805118\n",
      "The null hypothesis (heteroscedasticity) is accepted\n",
      "Conditions for a parametric test are not fulfilled, applying a non-parametric test\n",
      "----------------------------------------------------------\n",
      "Working with more than 2 algorithms\n",
      "----------------------------------------------------------\n",
      "----------------------------------------------------------\n",
      "Applying Friedman test\n",
      "----------------------------------------------------------\n",
      "F-value: 1.475993, p-value: 0.2039177865047761\n",
      "Null hypothesis is rejected; hence, models have different performance\n",
      "Technique      Ranking\n",
      "-----------  ---------\n",
      "LR                5.2\n",
      "SVM               4.7\n",
      "RF                4.1\n",
      "MLP               3.95\n",
      "Arbol             3.9\n",
      "ET                3.45\n",
      "KNN               2.7\n",
      "Winner model: LR\n",
      "----------------------------------------------------------\n",
      "Applying Holm p-value adjustment procedure and analysing effect size\n",
      "----------------------------------------------------------\n",
      "Comparison      Zvalue     p-value    adjusted p-value\n",
      "------------  --------  ----------  ------------------\n",
      "LR vs KNN     2.58775   0.00966062           0.0579637\n",
      "LR vs ET      1.81142   0.0700755            0.350378\n",
      "LR vs Arbol   1.34563   0.178423             0.71369\n",
      "LR vs MLP     1.29387   0.195709             0.71369\n",
      "LR vs RF      1.13861   0.254867             0.71369\n",
      "LR vs SVM     0.517549  0.604773             0.71369\n",
      "There is a significant difference between the models: LR (mean: 0.616667, std: 0.167572) and KNN (mean: 0.464444, std: 0.114374) (Cohen's d=1.0066245291185782, Large)\n",
      "There is a significant difference between the models: LR (mean: 0.616667, std: 0.167572) and ET (mean: 0.510000, std: 0.167513) (Cohen's d=0.6039846576563515, Large)\n",
      "We can't say that there is a significant difference in the performance of the models: LR (mean: 0.616667, std: 0.167572) and Arbol (mean: 0.546667, std: 0.164264) (Cohen's d=0.4002252678386014, Medium)\n",
      "We can't say that there is a significant difference in the performance of the models: LR (mean: 0.616667, std: 0.167572) and MLP (mean: 0.532222, std: 0.131323) (Cohen's d=0.5321499100066193, Large)\n",
      "We can't say that there is a significant difference in the performance of the models: LR (mean: 0.616667, std: 0.167572) and RF (mean: 0.530000, std: 0.137531) (Cohen's d=0.5363672267420676, Large)\n",
      "We can't say that there is a significant difference in the performance of the models: LR (mean: 0.616667, std: 0.167572) and SVM (mean: 0.563333, std: 0.144021) (Cohen's d=0.3238368071287506, Medium)\n",
      "Eta squared: 0.079350 (Large)\n"
     ]
    },
    {
     "data": {
      "image/png": "[encoded data removed]",
      "text/plain": [
       "<Figure size 432x288 with 1 Axes>"
      ]
     },
     "metadata": {
      "needs_background": "light"
     },
     "output_type": "display_data"
    }
   ],
   "source": [
    "compare_methods(X,Y,listAlgorithms,listParams,listNames,metric='accuracy')"
   ]
  },
  {
   "cell_type": "code",
   "execution_count": null,
   "metadata": {},
   "outputs": [],
   "source": []
  }
 ],
 "metadata": {
  "colab": {
   "name": "CompareMethods.ipynb",
   "provenance": []
  },
  "kernelspec": {
   "display_name": "Python 3",
   "language": "python",
   "name": "python3"
  },
  "language_info": {
   "codemirror_mode": {
    "name": "ipython",
    "version": 3
   },
   "file_extension": ".py",
   "mimetype": "text/x-python",
   "name": "python",
   "nbconvert_exporter": "python",
   "pygments_lexer": "ipython3",
   "version": "3.6.7"
  }
 },
 "nbformat": 4,
 "nbformat_minor": 1
}
