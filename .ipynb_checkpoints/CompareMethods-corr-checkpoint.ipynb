{
 "cells": [
  {
   "cell_type": "code",
   "execution_count": 1,
   "metadata": {
    "id": "9VdC2keIvxIJ"
   },
   "outputs": [],
   "source": [
    "import numpy as np\n",
    "from StatisticalAnalysis import compare_methods"
   ]
  },
  {
   "cell_type": "code",
   "execution_count": 2,
   "metadata": {
    "id": "3iCEO6wXtftF"
   },
   "outputs": [],
   "source": [
    "import warnings\n",
    "warnings.filterwarnings('ignore')"
   ]
  },
  {
   "cell_type": "markdown",
   "metadata": {
    "id": "Zb3btBk5vxIM"
   },
   "source": [
    "First we load the data and process it to have the correct form."
   ]
  },
  {
   "cell_type": "code",
   "execution_count": 3,
   "metadata": {},
   "outputs": [],
   "source": [
    "corr_hc = np.load('corr_hc.npy')\n",
    "corr_adhd = np.load('corr_adhd.npy')"
   ]
  },
  {
   "cell_type": "code",
   "execution_count": 4,
   "metadata": {},
   "outputs": [],
   "source": [
    "corr_hc = corr_hc.reshape(52,118*118)\n",
    "corr_adhd = corr_adhd.reshape(40,118*118)"
   ]
  },
  {
   "cell_type": "code",
   "execution_count": 5,
   "metadata": {},
   "outputs": [],
   "source": [
    "X = np.append(corr_hc,corr_adhd,axis=0)"
   ]
  },
  {
   "cell_type": "code",
   "execution_count": 6,
   "metadata": {
    "colab": {
     "base_uri": "https://localhost:8080/"
    },
    "id": "8d-RFXoavxIQ",
    "outputId": "a61e1d34-79c6-4f1a-df1f-0b3a74b2c53d"
   },
   "outputs": [
    {
     "data": {
      "text/plain": [
       "(92, 13924)"
      ]
     },
     "execution_count": 6,
     "metadata": {},
     "output_type": "execute_result"
    }
   ],
   "source": [
    "X.shape"
   ]
  },
  {
   "cell_type": "code",
   "execution_count": 7,
   "metadata": {
    "colab": {
     "base_uri": "https://localhost:8080/"
    },
    "id": "hnaiAVUvJmgn",
    "outputId": "6cb5c264-f346-4b38-e85b-aa3b8bf8ace6"
   },
   "outputs": [
    {
     "data": {
      "text/plain": [
       "(13924,)"
      ]
     },
     "execution_count": 7,
     "metadata": {},
     "output_type": "execute_result"
    }
   ],
   "source": [
    "X[0].shape"
   ]
  },
  {
   "cell_type": "code",
   "execution_count": 8,
   "metadata": {
    "id": "5oh4k1gEvxIR"
   },
   "outputs": [],
   "source": [
    "Y = np.append(np.zeros(52),np.ones(40),axis=0)"
   ]
  },
  {
   "cell_type": "code",
   "execution_count": 9,
   "metadata": {
    "colab": {
     "base_uri": "https://localhost:8080/"
    },
    "id": "PZuBWU5LvxIR",
    "outputId": "21a0987a-b533-41fc-bea5-9f94b3246a66",
    "scrolled": true
   },
   "outputs": [
    {
     "data": {
      "text/plain": [
       "(92,)"
      ]
     },
     "execution_count": 9,
     "metadata": {},
     "output_type": "execute_result"
    }
   ],
   "source": [
    "Y.shape"
   ]
  },
  {
   "cell_type": "markdown",
   "metadata": {
    "id": "w2w8w0VjvxIS"
   },
   "source": [
    "Now, we define the algorithms that we are going to use. "
   ]
  },
  {
   "cell_type": "code",
   "execution_count": 10,
   "metadata": {
    "id": "MEPfV3efvxIS"
   },
   "outputs": [],
   "source": [
    "from sklearn.tree import DecisionTreeClassifier\n",
    "from sklearn.neighbors import KNeighborsClassifier\n",
    "from sklearn.linear_model import LogisticRegression\n",
    "from sklearn.svm import SVC\n",
    "from sklearn.neural_network import MLPClassifier\n",
    "from sklearn.ensemble import ExtraTreesClassifier\n",
    "from sklearn.ensemble import GradientBoostingClassifier\n",
    "from sklearn.ensemble import RandomForestClassifier\n",
    "from sklearn.ensemble import AdaBoostClassifier\n",
    "from scipy.stats import randint as sp_randint"
   ]
  },
  {
   "cell_type": "code",
   "execution_count": 11,
   "metadata": {
    "id": "YwnPEwswvxIU"
   },
   "outputs": [],
   "source": [
    "# Decision tree\n",
    "clfTree = DecisionTreeClassifier(random_state=84)\n",
    "param_distTree = {\"min_samples_split\": sp_randint(3, 30)}\n",
    "# SVM\n",
    "clfSVC = SVC(random_state=84)\n",
    "param_distSVC = {'C': [1, 10, 100, 1000], 'gamma': [0.001, 0.0001],'kernel': ['rbf'], 'class_weight':['balanced', None]}\n",
    "# KNN\n",
    "clfKNN = KNeighborsClassifier()\n",
    "param_distKNN = {'n_neighbors':sp_randint(3, 30)}\n",
    "# Logistic regression\n",
    "clfLR = LogisticRegression(random_state=84)\n",
    "param_distLR = {'C': [0.1,0.5,1, 10, 100, 1000]}\n",
    "# Neural Network\n",
    "clfMLP = MLPClassifier(random_state=84)\n",
    "param_distMLP = {'activation': ['identity', 'logistic', 'tanh', 'relu'], 'solver': ['lbfgs', 'sgd', 'adam'],\n",
    "                 'alpha': sp_randint(0.0001, 1), 'learning_rate': ['constant', 'invscaling', 'adaptive'],\n",
    "                 'hidden_layer_sizes': [(5,2), (3,3,3), (5,3,2), (5,4,3,2)],\n",
    "                 'momentum': [0.9, 0.95, 0.99]}\n",
    "# RandomForest\n",
    "clfRF = RandomForestClassifier(random_state=84)\n",
    "param_distRF =  {'n_estimators': [int(x) for x in np.linspace(start = 200, stop = 2000, num = 10)], 'max_features': ['auto', 'sqrt'],'max_depth': [int(x) for x in np.linspace(10, 110, num = 11)],\n",
    "                 'min_samples_split': [2, 5, 10],'min_samples_leaf': [1, 2, 4],\n",
    "                 'bootstrap': [True, False]}\n",
    "# ExtraTreesClassifier\n",
    "clfET = ExtraTreesClassifier(random_state=84)\n",
    "param_distET =  {'n_estimators': [int(x) for x in np.linspace(start = 200, stop = 2000, num = 10)], 'max_features': ['auto', 'sqrt'],'max_depth': [int(x) for x in np.linspace(10, 110, num = 11)],\n",
    "                 'min_samples_split': [2, 5, 10],'min_samples_leaf': [1, 2, 4],\n",
    "                 'bootstrap': [True, False]}"
   ]
  },
  {
   "cell_type": "code",
   "execution_count": 12,
   "metadata": {
    "id": "GGQcPxBOvxIV"
   },
   "outputs": [],
   "source": [
    "listAlgorithms = [clfTree,clfSVC,clfKNN,clfLR,clfMLP,clfRF,clfET]"
   ]
  },
  {
   "cell_type": "code",
   "execution_count": 13,
   "metadata": {
    "id": "8Nl-1GpjvxIV"
   },
   "outputs": [],
   "source": [
    "listParams = [param_distTree,param_distSVC,param_distKNN,param_distLR,param_distMLP,param_distRF, param_distET]"
   ]
  },
  {
   "cell_type": "code",
   "execution_count": 14,
   "metadata": {
    "id": "IK_8iIWovxIV"
   },
   "outputs": [],
   "source": [
    "listNames = [\"Arbol\", \"SVM\", \"KNN\", \"LR\", \"MLP\",\"RF\",\"ET\"]"
   ]
  },
  {
   "cell_type": "markdown",
   "metadata": {},
   "source": [
    "# Plain comparison"
   ]
  },
  {
   "cell_type": "code",
   "execution_count": 15,
   "metadata": {
    "id": "LSSesjlBvxIV",
    "scrolled": true
   },
   "outputs": [
    {
     "name": "stdout",
     "output_type": "stream",
     "text": [
      "temp.csv\n",
      "['Arbol' 'SVM' 'KNN' 'LR' 'MLP' 'RF' 'ET']\n",
      "==========================================================\n",
      "Report\n",
      "==========================================================\n",
      "**********************************************************\n",
      "Mean and std\n",
      "**********************************************************\n",
      "Arbol: 0.497500 (0.140230)\n",
      "SVM: 0.475000 (0.075000)\n",
      "KNN: 0.397976 (0.149399)\n",
      "LR: 0.520952 (0.203621)\n",
      "MLP: 0.475000 (0.075000)\n",
      "RF: 0.476310 (0.117990)\n",
      "ET: 0.479286 (0.156826)\n",
      "**********************************************************\n",
      "Statistical tests\n",
      "**********************************************************\n",
      "----------------------------------------------------------\n",
      "Checking parametric conditions \n",
      "----------------------------------------------------------\n",
      "Checking independence \n",
      "Ok\n",
      "Checking normality using Shapiro-Wilk's test for normality, alpha=0.05\n",
      "W: 0.913178, p:0.000134\n",
      "The null hypothesis (normality) is rejected\n",
      "Checking heteroscedasticity using Levene's test, alpha=0.05\n",
      "W: 3.421236, p:0.005495\n",
      "The null hypothesis (heteroscedasticity) is rejected\n",
      "Conditions for a parametric test are not fulfilled, applying a non-parametric test\n",
      "----------------------------------------------------------\n",
      "Working with more than 2 algorithms\n",
      "----------------------------------------------------------\n",
      "----------------------------------------------------------\n",
      "Applying Friedman test\n",
      "----------------------------------------------------------\n",
      "F-value: 0.457684, p-value: 0.8363690310998886\n",
      "Null hypothesis is accepted; hence, we can't say that there is a significant difference in the performance of the models\n",
      "----------------------------------------------------------\n",
      "Analysing effect size\n",
      "----------------------------------------------------------\n",
      "We take the model with the best mean (LR, mean: 0.520952) and compare it with the other models: \n",
      "Comparing effect size of LR and Arbol: Cohen's d=0.12726532217209852, Small\n",
      "Comparing effect size of LR and SVM: Cohen's d=0.2841162210260606, Medium\n",
      "Comparing effect size of LR and KNN: Cohen's d=0.6532957152437149, Large\n",
      "Comparing effect size of LR and MLP: Cohen's d=0.2841162210260606, Medium\n",
      "Comparing effect size of LR and RF: Cohen's d=0.2545068772491817, Medium\n",
      "Comparing effect size of LR and ET: Cohen's d=0.2175048931383316, Medium\n",
      "Eta squared: 0.060441 (Large)\n"
     ]
    },
    {
     "data": {
      "image/png": "[encoded data removed]",
      "text/plain": [
       "<Figure size 432x288 with 1 Axes>"
      ]
     },
     "metadata": {
      "needs_background": "light"
     },
     "output_type": "display_data"
    }
   ],
   "source": [
    "compare_methods(X,Y,listAlgorithms,listParams,listNames,metric='auroc')"
   ]
  },
  {
   "cell_type": "code",
   "execution_count": 16,
   "metadata": {},
   "outputs": [
    {
     "name": "stdout",
     "output_type": "stream",
     "text": [
      "temp.csv\n",
      "['Arbol' 'SVM' 'KNN' 'LR' 'MLP' 'RF' 'ET']\n",
      "==========================================================\n",
      "Report\n",
      "==========================================================\n",
      "**********************************************************\n",
      "Mean and std\n",
      "**********************************************************\n",
      "Arbol: 0.453571 (0.236215)\n",
      "SVM: 0.000000 (0.000000)\n",
      "KNN: 0.225000 (0.197379)\n",
      "LR: 0.401667 (0.299856)\n",
      "MLP: 0.000000 (0.000000)\n",
      "RF: 0.365833 (0.355794)\n",
      "ET: 0.333333 (0.387298)\n",
      "**********************************************************\n",
      "Statistical tests\n",
      "**********************************************************\n",
      "----------------------------------------------------------\n",
      "Checking parametric conditions \n",
      "----------------------------------------------------------\n",
      "Checking independence \n",
      "Ok\n",
      "Checking normality using Shapiro-Wilk's test for normality, alpha=0.05\n",
      "W: 0.785632, p:0.000000\n",
      "The null hypothesis (normality) is rejected\n",
      "Checking heteroscedasticity using Levene's test, alpha=0.05\n",
      "W: 5.320386, p:0.000171\n",
      "The null hypothesis (heteroscedasticity) is rejected\n",
      "Conditions for a parametric test are not fulfilled, applying a non-parametric test\n",
      "----------------------------------------------------------\n",
      "Working with more than 2 algorithms\n",
      "----------------------------------------------------------\n",
      "----------------------------------------------------------\n",
      "Applying Friedman test\n",
      "----------------------------------------------------------\n",
      "F-value: 4.827160, p-value: 0.00052091424813272\n",
      "Null hypothesis is rejected; hence, models have different performance\n",
      "Technique      Ranking\n",
      "-----------  ---------\n",
      "Arbol             5.15\n",
      "RF                4.95\n",
      "LR                4.9\n",
      "ET                4.5\n",
      "KNN               4.1\n",
      "MLP               2.2\n",
      "SVM               2.2\n",
      "Winner model: Arbol\n",
      "----------------------------------------------------------\n",
      "Applying Holm p-value adjustment procedure and analysing effect size\n",
      "----------------------------------------------------------\n",
      "Comparison      Zvalue     p-value    adjusted p-value\n",
      "------------  --------  ----------  ------------------\n",
      "Arbol vs SVM  3.05354   0.00226158           0.0135695\n",
      "Arbol vs MLP  3.05354   0.00226158           0.0135695\n",
      "Arbol vs KNN  1.08685   0.277102             1\n",
      "Arbol vs ET   0.672814  0.501066             1\n",
      "Arbol vs LR   0.258775  0.795809             1\n",
      "Arbol vs RF   0.20702   0.835994             1\n",
      "There is a significant difference between the models: Arbol (mean: 0.453571, std: 0.236215) and SVM (mean: 0.000000, std: 0.000000) (Cohen's d=2.576174111050884, Large)\n",
      "There is a significant difference between the models: Arbol (mean: 0.453571, std: 0.236215) and MLP (mean: 0.000000, std: 0.000000) (Cohen's d=2.576174111050884, Large)\n",
      "We can't say that there is a significant difference in the performance of the models: Arbol (mean: 0.453571, std: 0.236215) and KNN (mean: 0.225000, std: 0.197379) (Cohen's d=0.996220775139637, Large)\n",
      "We can't say that there is a significant difference in the performance of the models: Arbol (mean: 0.453571, std: 0.236215) and ET (mean: 0.333333, std: 0.387298) (Cohen's d=0.3555973095061439, Medium)\n",
      "We can't say that there is a significant difference in the performance of the models: Arbol (mean: 0.453571, std: 0.236215) and LR (mean: 0.401667, std: 0.299856) (Cohen's d=0.18243029140338576, Small)\n",
      "We can't say that there is a significant difference in the performance of the models: Arbol (mean: 0.453571, std: 0.236215) and RF (mean: 0.365833, std: 0.355794) (Cohen's d=0.2756307145183554, Medium)\n",
      "Eta squared: 0.313159 (Large)\n"
     ]
    },
    {
     "data": {
      "image/png": "[encoded data removed]",
      "text/plain": [
       "<Figure size 432x288 with 1 Axes>"
      ]
     },
     "metadata": {
      "needs_background": "light"
     },
     "output_type": "display_data"
    }
   ],
   "source": [
    "compare_methods(X,Y,listAlgorithms,listParams,listNames,metric='precision')"
   ]
  },
  {
   "cell_type": "code",
   "execution_count": 17,
   "metadata": {},
   "outputs": [
    {
     "name": "stdout",
     "output_type": "stream",
     "text": [
      "temp.csv\n",
      "['Arbol' 'SVM' 'KNN' 'LR' 'MLP' 'RF' 'ET']\n",
      "==========================================================\n",
      "Report\n",
      "==========================================================\n",
      "**********************************************************\n",
      "Mean and std\n",
      "**********************************************************\n",
      "Arbol: 0.498333 (0.214793)\n",
      "SVM: 0.000000 (0.000000)\n",
      "KNN: 0.225000 (0.244523)\n",
      "LR: 0.425000 (0.330088)\n",
      "MLP: 0.000000 (0.000000)\n",
      "RF: 0.275000 (0.226844)\n",
      "ET: 0.191667 (0.204294)\n",
      "**********************************************************\n",
      "Statistical tests\n",
      "**********************************************************\n",
      "----------------------------------------------------------\n",
      "Checking parametric conditions \n",
      "----------------------------------------------------------\n",
      "Checking independence \n",
      "Ok\n",
      "Checking normality using Shapiro-Wilk's test for normality, alpha=0.05\n",
      "W: 0.800777, p:0.000000\n",
      "The null hypothesis (normality) is rejected\n",
      "Checking heteroscedasticity using Levene's test, alpha=0.05\n",
      "W: 4.491352, p:0.000758\n",
      "The null hypothesis (heteroscedasticity) is rejected\n",
      "Conditions for a parametric test are not fulfilled, applying a non-parametric test\n",
      "----------------------------------------------------------\n",
      "Working with more than 2 algorithms\n",
      "----------------------------------------------------------\n",
      "----------------------------------------------------------\n",
      "Applying Friedman test\n",
      "----------------------------------------------------------\n",
      "F-value: 6.779587, p-value: 2.1466896061084206e-05\n",
      "Null hypothesis is rejected; hence, models have different performance\n",
      "Technique      Ranking\n",
      "-----------  ---------\n",
      "Arbol             5.95\n",
      "LR                5.25\n",
      "RF                4.35\n",
      "KNN               4.2\n",
      "ET                3.85\n",
      "MLP               2.2\n",
      "SVM               2.2\n",
      "Winner model: Arbol\n",
      "----------------------------------------------------------\n",
      "Applying Holm p-value adjustment procedure and analysing effect size\n",
      "----------------------------------------------------------\n",
      "Comparison      Zvalue      p-value    adjusted p-value\n",
      "------------  --------  -----------  ------------------\n",
      "Arbol vs SVM  3.88162   0.000103763         0.000622581\n",
      "Arbol vs MLP  3.88162   0.000103763         0.000622581\n",
      "Arbol vs ET   2.17371   0.0297272           0.118909\n",
      "Arbol vs KNN  1.81142   0.0700755           0.210227\n",
      "Arbol vs RF   1.65616   0.09769             0.210227\n",
      "Arbol vs LR   0.724569  0.468717            0.468717\n",
      "There is a significant difference between the models: Arbol (mean: 0.498333, std: 0.214793) and SVM (mean: 0.000000, std: 0.000000) (Cohen's d=3.112688766403327, Large)\n",
      "There is a significant difference between the models: Arbol (mean: 0.498333, std: 0.214793) and MLP (mean: 0.000000, std: 0.000000) (Cohen's d=3.112688766403327, Large)\n",
      "There is a significant difference between the models: Arbol (mean: 0.498333, std: 0.214793) and ET (mean: 0.191667, std: 0.204294) (Cohen's d=1.3879602242565723, Large)\n",
      "There is a significant difference between the models: Arbol (mean: 0.498333, std: 0.214793) and KNN (mean: 0.225000, std: 0.244523) (Cohen's d=1.1267405374517616, Large)\n",
      "There is a significant difference between the models: Arbol (mean: 0.498333, std: 0.214793) and RF (mean: 0.275000, std: 0.226844) (Cohen's d=0.9591295079936367, Large)\n",
      "There is a significant difference between the models: Arbol (mean: 0.498333, std: 0.214793) and LR (mean: 0.425000, std: 0.330088) (Cohen's d=0.2498271064584378, Medium)\n",
      "Eta squared: 0.415877 (Large)\n"
     ]
    },
    {
     "data": {
      "image/png": "[encoded data removed]",
      "text/plain": [
       "<Figure size 432x288 with 1 Axes>"
      ]
     },
     "metadata": {
      "needs_background": "light"
     },
     "output_type": "display_data"
    }
   ],
   "source": [
    "compare_methods(X,Y,listAlgorithms,listParams,listNames,metric='recall')"
   ]
  },
  {
   "cell_type": "code",
   "execution_count": 18,
   "metadata": {},
   "outputs": [
    {
     "name": "stdout",
     "output_type": "stream",
     "text": [
      "temp.csv\n",
      "['Arbol' 'SVM' 'KNN' 'LR' 'MLP' 'RF' 'ET']\n",
      "==========================================================\n",
      "Report\n",
      "==========================================================\n",
      "**********************************************************\n",
      "Mean and std\n",
      "**********************************************************\n",
      "Arbol: 0.481111 (0.120498)\n",
      "SVM: 0.530000 (0.154444)\n",
      "KNN: 0.398889 (0.139527)\n",
      "LR: 0.506667 (0.172362)\n",
      "MLP: 0.530000 (0.154444)\n",
      "RF: 0.466667 (0.174696)\n",
      "ET: 0.497778 (0.184645)\n",
      "**********************************************************\n",
      "Statistical tests\n",
      "**********************************************************\n",
      "----------------------------------------------------------\n",
      "Checking parametric conditions \n",
      "----------------------------------------------------------\n",
      "Checking independence \n",
      "Ok\n",
      "Checking normality using Shapiro-Wilk's test for normality, alpha=0.05\n",
      "W: 0.939046, p:0.002018\n",
      "The null hypothesis (normality) is rejected\n",
      "Checking heteroscedasticity using Levene's test, alpha=0.05\n",
      "W: 0.624044, p:0.710337\n",
      "The null hypothesis (heteroscedasticity) is accepted\n",
      "Conditions for a parametric test are not fulfilled, applying a non-parametric test\n",
      "----------------------------------------------------------\n",
      "Working with more than 2 algorithms\n",
      "----------------------------------------------------------\n",
      "----------------------------------------------------------\n",
      "Applying Friedman test\n",
      "----------------------------------------------------------\n",
      "F-value: 0.921260, p-value: 0.4870830357580881\n",
      "Null hypothesis is rejected; hence, models have different performance\n",
      "Technique      Ranking\n",
      "-----------  ---------\n",
      "MLP               4.7\n",
      "SVM               4.7\n",
      "ET                4.1\n",
      "LR                4.05\n",
      "RF                3.85\n",
      "Arbol             3.85\n",
      "KNN               2.75\n",
      "Winner model: MLP\n",
      "----------------------------------------------------------\n",
      "Applying Holm p-value adjustment procedure and analysing effect size\n",
      "----------------------------------------------------------\n",
      "Comparison      Zvalue    p-value    adjusted p-value\n",
      "------------  --------  ---------  ------------------\n",
      "MLP vs KNN    2.01844   0.0435453            0.261272\n",
      "MLP vs Arbol  0.879834  0.378949             1\n",
      "MLP vs RF     0.879834  0.378949             1\n",
      "MLP vs LR     0.672814  0.501066             1\n",
      "MLP vs ET     0.621059  0.534561             1\n",
      "MLP vs SVM    0         1                    1\n",
      "There is a significant difference between the models: MLP (mean: 0.530000, std: 0.154444) and KNN (mean: 0.398889, std: 0.139527) (Cohen's d=0.8451359496789417, Large)\n",
      "We can't say that there is a significant difference in the performance of the models: MLP (mean: 0.530000, std: 0.154444) and Arbol (mean: 0.481111, std: 0.120498) (Cohen's d=0.33483777778205376, Medium)\n",
      "We can't say that there is a significant difference in the performance of the models: MLP (mean: 0.530000, std: 0.154444) and RF (mean: 0.466667, std: 0.174696) (Cohen's d=0.3644034856037416, Medium)\n",
      "We can't say that there is a significant difference in the performance of the models: MLP (mean: 0.530000, std: 0.154444) and LR (mean: 0.506667, std: 0.172362) (Cohen's d=0.135265096408228, Small)\n",
      "We can't say that there is a significant difference in the performance of the models: MLP (mean: 0.530000, std: 0.154444) and ET (mean: 0.497778, std: 0.184645) (Cohen's d=0.1795876991787478, Small)\n",
      "We can't say that there is a significant difference in the performance of the models: MLP (mean: 0.530000, std: 0.154444) and SVM (mean: 0.530000, std: 0.154444) (Cohen's d=0.0, Small)\n",
      "Eta squared: 0.065872 (Large)\n"
     ]
    },
    {
     "data": {
      "image/png": "[encoded data removed]",
      "text/plain": [
       "<Figure size 432x288 with 1 Axes>"
      ]
     },
     "metadata": {
      "needs_background": "light"
     },
     "output_type": "display_data"
    }
   ],
   "source": [
    "compare_methods(X,Y,listAlgorithms,listParams,listNames,metric='accuracy')"
   ]
  },
  {
   "cell_type": "markdown",
   "metadata": {
    "id": "9RmrYzBMOAXv"
   },
   "source": [
    "# PCA with 2 components"
   ]
  },
  {
   "cell_type": "code",
   "execution_count": 19,
   "metadata": {
    "id": "Sjjc5WXGvxIX"
   },
   "outputs": [],
   "source": [
    "from sklearn.decomposition import PCA"
   ]
  },
  {
   "cell_type": "code",
   "execution_count": 20,
   "metadata": {
    "id": "edHm_G34N87W"
   },
   "outputs": [],
   "source": [
    "pca = PCA(n_components=2)"
   ]
  },
  {
   "cell_type": "code",
   "execution_count": 21,
   "metadata": {
    "id": "H4lw_jzBODCv"
   },
   "outputs": [
    {
     "data": {
      "text/plain": [
       "PCA(n_components=2)"
      ]
     },
     "execution_count": 21,
     "metadata": {},
     "output_type": "execute_result"
    }
   ],
   "source": [
    "pca.fit(X)"
   ]
  },
  {
   "cell_type": "code",
   "execution_count": 22,
   "metadata": {
    "id": "ImTFoLrKOFHZ"
   },
   "outputs": [],
   "source": [
    "X_pca2 = pca.transform(X)"
   ]
  },
  {
   "cell_type": "code",
   "execution_count": 23,
   "metadata": {
    "id": "5nt7OQ61JuKG"
   },
   "outputs": [
    {
     "data": {
      "text/plain": [
       "(92, 2)"
      ]
     },
     "execution_count": 23,
     "metadata": {},
     "output_type": "execute_result"
    }
   ],
   "source": [
    "X_pca2.shape"
   ]
  },
  {
   "cell_type": "code",
   "execution_count": 24,
   "metadata": {
    "id": "KyVbCZLpOInH",
    "scrolled": true
   },
   "outputs": [
    {
     "name": "stdout",
     "output_type": "stream",
     "text": [
      "temp.csv\n",
      "['Arbol' 'SVM' 'KNN' 'LR' 'MLP' 'RF' 'ET']\n",
      "==========================================================\n",
      "Report\n",
      "==========================================================\n",
      "**********************************************************\n",
      "Mean and std\n",
      "**********************************************************\n",
      "Arbol: 0.445238 (0.158811)\n",
      "SVM: 0.492857 (0.021429)\n",
      "KNN: 0.476905 (0.102894)\n",
      "LR: 0.550595 (0.127782)\n",
      "MLP: 0.478571 (0.133526)\n",
      "RF: 0.361190 (0.174174)\n",
      "ET: 0.500000 (0.000000)\n",
      "**********************************************************\n",
      "Statistical tests\n",
      "**********************************************************\n",
      "----------------------------------------------------------\n",
      "Checking parametric conditions \n",
      "----------------------------------------------------------\n",
      "Checking independence \n",
      "Ok\n",
      "Checking normality using Shapiro-Wilk's test for normality, alpha=0.05\n",
      "W: 0.871977, p:0.000004\n",
      "The null hypothesis (normality) is rejected\n",
      "Checking heteroscedasticity using Levene's test, alpha=0.05\n",
      "W: 3.884690, p:0.002313\n",
      "The null hypothesis (heteroscedasticity) is rejected\n",
      "Conditions for a parametric test are not fulfilled, applying a non-parametric test\n",
      "----------------------------------------------------------\n",
      "Working with more than 2 algorithms\n",
      "----------------------------------------------------------\n",
      "----------------------------------------------------------\n",
      "Applying Friedman test\n",
      "----------------------------------------------------------\n",
      "F-value: 2.091549, p-value: 0.06926637935412439\n",
      "Null hypothesis is rejected; hence, models have different performance\n",
      "Technique      Ranking\n",
      "-----------  ---------\n",
      "LR                5.35\n",
      "ET                4.35\n",
      "SVM               4.2\n",
      "KNN               4.15\n",
      "MLP               3.9\n",
      "Arbol             3.85\n",
      "RF                2.2\n",
      "Winner model: LR\n",
      "----------------------------------------------------------\n",
      "Applying Holm p-value adjustment procedure and analysing effect size\n",
      "----------------------------------------------------------\n",
      "Comparison      Zvalue     p-value    adjusted p-value\n",
      "------------  --------  ----------  ------------------\n",
      "LR vs RF       3.26056  0.00111193          0.00667155\n",
      "LR vs Arbol    1.55265  0.120507            0.602537\n",
      "LR vs MLP      1.50089  0.133383            0.602537\n",
      "LR vs KNN      1.24212  0.214193            0.642579\n",
      "LR vs SVM      1.19036  0.233904            0.642579\n",
      "LR vs ET       1.0351   0.300623            0.642579\n",
      "There is a significant difference between the models: LR (mean: 0.550595, std: 0.127782) and RF (mean: 0.361190, std: 0.174174) (Cohen's d=1.1763387265210221, Large)\n",
      "We can't say that there is a significant difference in the performance of the models: LR (mean: 0.550595, std: 0.127782) and Arbol (mean: 0.445238, std: 0.158811) (Cohen's d=0.6934567652154701, Large)\n",
      "We can't say that there is a significant difference in the performance of the models: LR (mean: 0.550595, std: 0.127782) and MLP (mean: 0.478571, std: 0.133526) (Cohen's d=0.5228414873410975, Large)\n",
      "We can't say that there is a significant difference in the performance of the models: LR (mean: 0.550595, std: 0.127782) and KNN (mean: 0.476905, std: 0.102894) (Cohen's d=0.6026253295512949, Large)\n",
      "We can't say that there is a significant difference in the performance of the models: LR (mean: 0.550595, std: 0.127782) and SVM (mean: 0.492857, std: 0.021429) (Cohen's d=0.5978687798694923, Large)\n",
      "We can't say that there is a significant difference in the performance of the models: LR (mean: 0.550595, std: 0.127782) and ET (mean: 0.500000, std: 0.000000) (Cohen's d=0.5312211801882234, Large)\n",
      "Eta squared: 0.168770 (Large)\n"
     ]
    },
    {
     "data": {
      "image/png": "[encoded data removed]",
      "text/plain": [
       "<Figure size 432x288 with 1 Axes>"
      ]
     },
     "metadata": {
      "needs_background": "light"
     },
     "output_type": "display_data"
    }
   ],
   "source": [
    "compare_methods(X_pca2,Y,listAlgorithms,listParams,listNames,metric='auroc')"
   ]
  },
  {
   "cell_type": "code",
   "execution_count": 25,
   "metadata": {},
   "outputs": [
    {
     "name": "stdout",
     "output_type": "stream",
     "text": [
      "temp.csv\n",
      "['Arbol' 'SVM' 'KNN' 'LR' 'MLP' 'RF' 'ET']\n",
      "==========================================================\n",
      "Report\n",
      "==========================================================\n",
      "**********************************************************\n",
      "Mean and std\n",
      "**********************************************************\n",
      "Arbol: 0.325000 (0.242813)\n",
      "SVM: 0.000000 (0.000000)\n",
      "KNN: 0.283333 (0.394757)\n",
      "LR: 0.383333 (0.373050)\n",
      "MLP: 0.093333 (0.149666)\n",
      "RF: 0.189524 (0.245982)\n",
      "ET: 0.000000 (0.000000)\n",
      "**********************************************************\n",
      "Statistical tests\n",
      "**********************************************************\n",
      "----------------------------------------------------------\n",
      "Checking parametric conditions \n",
      "----------------------------------------------------------\n",
      "Checking independence \n",
      "Ok\n",
      "Checking normality using Shapiro-Wilk's test for normality, alpha=0.05\n",
      "W: 0.673288, p:0.000000\n",
      "The null hypothesis (normality) is rejected\n",
      "Checking heteroscedasticity using Levene's test, alpha=0.05\n",
      "W: 3.648972, p:0.003588\n",
      "The null hypothesis (heteroscedasticity) is rejected\n",
      "Conditions for a parametric test are not fulfilled, applying a non-parametric test\n",
      "----------------------------------------------------------\n",
      "Working with more than 2 algorithms\n",
      "----------------------------------------------------------\n",
      "----------------------------------------------------------\n",
      "Applying Friedman test\n",
      "----------------------------------------------------------\n",
      "F-value: 2.538462, p-value: 0.030800730991364378\n",
      "Null hypothesis is rejected; hence, models have different performance\n",
      "Technique      Ranking\n",
      "-----------  ---------\n",
      "LR                5.2\n",
      "Arbol             5.2\n",
      "KNN               4.3\n",
      "RF                4.05\n",
      "MLP               3.75\n",
      "ET                2.75\n",
      "SVM               2.75\n",
      "Winner model: LR\n",
      "----------------------------------------------------------\n",
      "Applying Holm p-value adjustment procedure and analysing effect size\n",
      "----------------------------------------------------------\n",
      "Comparison      Zvalue    p-value    adjusted p-value\n",
      "------------  --------  ---------  ------------------\n",
      "LR vs SVM     2.53599    0.011213           0.0672778\n",
      "LR vs ET      2.53599    0.011213           0.0672778\n",
      "LR vs MLP     1.50089    0.133383           0.533533\n",
      "LR vs RF      1.19036    0.233904           0.701711\n",
      "LR vs KNN     0.931589   0.351549           0.703098\n",
      "LR vs Arbol   0          1                  1\n",
      "There is a significant difference between the models: LR (mean: 0.383333, std: 0.373050) and SVM (mean: 0.000000, std: 0.000000) (Cohen's d=1.3786220665560265, Large)\n",
      "There is a significant difference between the models: LR (mean: 0.383333, std: 0.373050) and ET (mean: 0.000000, std: 0.000000) (Cohen's d=1.3786220665560265, Large)\n",
      "We can't say that there is a significant difference in the performance of the models: LR (mean: 0.383333, std: 0.373050) and MLP (mean: 0.093333, std: 0.149666) (Cohen's d=0.9679621331173881, Large)\n",
      "We can't say that there is a significant difference in the performance of the models: LR (mean: 0.383333, std: 0.373050) and RF (mean: 0.189524, std: 0.245982) (Cohen's d=0.5819034585587497, Large)\n",
      "We can't say that there is a significant difference in the performance of the models: LR (mean: 0.383333, std: 0.373050) and KNN (mean: 0.283333, std: 0.394757) (Cohen's d=0.24701609087778545, Medium)\n",
      "We can't say that there is a significant difference in the performance of the models: LR (mean: 0.383333, std: 0.373050) and Arbol (mean: 0.325000, std: 0.242813) (Cohen's d=0.17582612575616494, Small)\n",
      "Eta squared: 0.249739 (Large)\n"
     ]
    },
    {
     "data": {
      "image/png": "[encoded data removed]",
      "text/plain": [
       "<Figure size 432x288 with 1 Axes>"
      ]
     },
     "metadata": {
      "needs_background": "light"
     },
     "output_type": "display_data"
    }
   ],
   "source": [
    "compare_methods(X_pca2,Y,listAlgorithms,listParams,listNames,metric='precision')"
   ]
  },
  {
   "cell_type": "code",
   "execution_count": 26,
   "metadata": {},
   "outputs": [
    {
     "name": "stdout",
     "output_type": "stream",
     "text": [
      "temp.csv\n",
      "['Arbol' 'SVM' 'KNN' 'LR' 'MLP' 'RF' 'ET']\n",
      "==========================================================\n",
      "Report\n",
      "==========================================================\n",
      "**********************************************************\n",
      "Mean and std\n",
      "**********************************************************\n",
      "Arbol: 0.308333 (0.252900)\n",
      "SVM: 0.000000 (0.000000)\n",
      "KNN: 0.100000 (0.128019)\n",
      "LR: 0.233333 (0.288194)\n",
      "MLP: 0.191667 (0.337577)\n",
      "RF: 0.241667 (0.269902)\n",
      "ET: 0.000000 (0.000000)\n",
      "**********************************************************\n",
      "Statistical tests\n",
      "**********************************************************\n",
      "----------------------------------------------------------\n",
      "Checking parametric conditions \n",
      "----------------------------------------------------------\n",
      "Checking independence \n",
      "Ok\n",
      "Checking normality using Shapiro-Wilk's test for normality, alpha=0.05\n",
      "W: 0.668919, p:0.000000\n",
      "The null hypothesis (normality) is rejected\n",
      "Checking heteroscedasticity using Levene's test, alpha=0.05\n",
      "W: 3.142949, p:0.009271\n",
      "The null hypothesis (heteroscedasticity) is rejected\n",
      "Conditions for a parametric test are not fulfilled, applying a non-parametric test\n",
      "----------------------------------------------------------\n",
      "Working with more than 2 algorithms\n",
      "----------------------------------------------------------\n",
      "----------------------------------------------------------\n",
      "Applying Friedman test\n",
      "----------------------------------------------------------\n",
      "F-value: 2.472798, p-value: 0.03471395342265349\n",
      "Null hypothesis is rejected; hence, models have different performance\n",
      "Technique      Ranking\n",
      "-----------  ---------\n",
      "Arbol             5.45\n",
      "RF                4.65\n",
      "LR                4.6\n",
      "MLP               3.95\n",
      "KNN               3.85\n",
      "ET                2.75\n",
      "SVM               2.75\n",
      "Winner model: Arbol\n",
      "----------------------------------------------------------\n",
      "Applying Holm p-value adjustment procedure and analysing effect size\n",
      "----------------------------------------------------------\n",
      "Comparison      Zvalue     p-value    adjusted p-value\n",
      "------------  --------  ----------  ------------------\n",
      "Arbol vs SVM  2.79477   0.00519374           0.0311624\n",
      "Arbol vs ET   2.79477   0.00519374           0.0311624\n",
      "Arbol vs KNN  1.65616   0.09769              0.39076\n",
      "Arbol vs MLP  1.55265   0.120507             0.39076\n",
      "Arbol vs LR   0.879834  0.378949             0.757899\n",
      "Arbol vs RF   0.828079  0.407626             0.757899\n",
      "There is a significant difference between the models: Arbol (mean: 0.308333, std: 0.252900) and SVM (mean: 0.000000, std: 0.000000) (Cohen's d=1.6357169781393386, Large)\n",
      "There is a significant difference between the models: Arbol (mean: 0.308333, std: 0.252900) and ET (mean: 0.000000, std: 0.000000) (Cohen's d=1.6357169781393386, Large)\n",
      "There is a significant difference between the models: Arbol (mean: 0.308333, std: 0.252900) and KNN (mean: 0.100000, std: 0.128019) (Cohen's d=0.9860741678378435, Large)\n",
      "There is a significant difference between the models: Arbol (mean: 0.308333, std: 0.252900) and MLP (mean: 0.191667, std: 0.337577) (Cohen's d=0.37108613290284354, Medium)\n",
      "We can't say that there is a significant difference in the performance of the models: Arbol (mean: 0.308333, std: 0.252900) and LR (mean: 0.233333, std: 0.288194) (Cohen's d=0.2624329322514416, Medium)\n",
      "We can't say that there is a significant difference in the performance of the models: Arbol (mean: 0.308333, std: 0.252900) and RF (mean: 0.241667, std: 0.269902) (Cohen's d=0.2418205064927416, Medium)\n",
      "Eta squared: 0.203659 (Large)\n"
     ]
    },
    {
     "data": {
      "image/png": "[encoded data removed]",
      "text/plain": [
       "<Figure size 432x288 with 1 Axes>"
      ]
     },
     "metadata": {
      "needs_background": "light"
     },
     "output_type": "display_data"
    }
   ],
   "source": [
    "compare_methods(X_pca2,Y,listAlgorithms,listParams,listNames,metric='recall')"
   ]
  },
  {
   "cell_type": "code",
   "execution_count": 27,
   "metadata": {},
   "outputs": [
    {
     "name": "stdout",
     "output_type": "stream",
     "text": [
      "temp.csv\n",
      "['Arbol' 'SVM' 'KNN' 'LR' 'MLP' 'RF' 'ET']\n",
      "==========================================================\n",
      "Report\n",
      "==========================================================\n",
      "**********************************************************\n",
      "Mean and std\n",
      "**********************************************************\n",
      "Arbol: 0.465556 (0.178640)\n",
      "SVM: 0.552222 (0.130720)\n",
      "KNN: 0.518889 (0.139492)\n",
      "LR: 0.563333 (0.160251)\n",
      "MLP: 0.474444 (0.163000)\n",
      "RF: 0.358889 (0.189740)\n",
      "ET: 0.563333 (0.144021)\n",
      "**********************************************************\n",
      "Statistical tests\n",
      "**********************************************************\n",
      "----------------------------------------------------------\n",
      "Checking parametric conditions \n",
      "----------------------------------------------------------\n",
      "Checking independence \n",
      "Ok\n",
      "Checking normality using Shapiro-Wilk's test for normality, alpha=0.05\n",
      "W: 0.918225, p:0.000220\n",
      "The null hypothesis (normality) is rejected\n",
      "Checking heteroscedasticity using Levene's test, alpha=0.05\n",
      "W: 0.432613, p:0.854424\n",
      "The null hypothesis (heteroscedasticity) is accepted\n",
      "Conditions for a parametric test are not fulfilled, applying a non-parametric test\n",
      "----------------------------------------------------------\n",
      "Working with more than 2 algorithms\n",
      "----------------------------------------------------------\n",
      "----------------------------------------------------------\n",
      "Applying Friedman test\n",
      "----------------------------------------------------------\n",
      "F-value: 2.971496, p-value: 0.013988408823691345\n",
      "Null hypothesis is rejected; hence, models have different performance\n",
      "Technique      Ranking\n",
      "-----------  ---------\n",
      "ET                5.05\n",
      "LR                5.05\n",
      "SVM               4.75\n",
      "KNN               4.1\n",
      "MLP               3.55\n",
      "Arbol             3.4\n",
      "RF                2.1\n",
      "Winner model: ET\n",
      "----------------------------------------------------------\n",
      "Applying Holm p-value adjustment procedure and analysing effect size\n",
      "----------------------------------------------------------\n",
      "Comparison      Zvalue     p-value    adjusted p-value\n",
      "------------  --------  ----------  ------------------\n",
      "ET vs RF      3.05354   0.00226158           0.0135695\n",
      "ET vs Arbol   1.70791   0.0876526            0.438263\n",
      "ET vs MLP     1.55265   0.120507             0.482029\n",
      "ET vs KNN     0.983343  0.325438             0.976315\n",
      "ET vs SVM     0.31053   0.756158             1\n",
      "ET vs LR      0         1                    1\n",
      "There is a significant difference between the models: ET (mean: 0.563333, std: 0.144021) and RF (mean: 0.358889, std: 0.189740) (Cohen's d=1.1514752732112925, Large)\n",
      "There is a significant difference between the models: ET (mean: 0.563333, std: 0.144021) and Arbol (mean: 0.465556, std: 0.178640) (Cohen's d=0.5716884353014702, Large)\n",
      "There is a significant difference between the models: ET (mean: 0.563333, std: 0.144021) and MLP (mean: 0.474444, std: 0.163000) (Cohen's d=0.5482796871236005, Large)\n",
      "We can't say that there is a significant difference in the performance of the models: ET (mean: 0.563333, std: 0.144021) and KNN (mean: 0.518889, std: 0.139492) (Cohen's d=0.29739982449697927, Medium)\n",
      "We can't say that there is a significant difference in the performance of the models: ET (mean: 0.563333, std: 0.144021) and SVM (mean: 0.552222, std: 0.130720) (Cohen's d=0.07664391815359742, Small)\n",
      "We can't say that there is a significant difference in the performance of the models: ET (mean: 0.563333, std: 0.144021) and LR (mean: 0.563333, std: 0.160251) (Cohen's d=0.0, Small)\n",
      "Eta squared: 0.156231 (Large)\n"
     ]
    },
    {
     "data": {
      "image/png": "[encoded data removed]",
      "text/plain": [
       "<Figure size 432x288 with 1 Axes>"
      ]
     },
     "metadata": {
      "needs_background": "light"
     },
     "output_type": "display_data"
    }
   ],
   "source": [
    "compare_methods(X_pca2,Y,listAlgorithms,listParams,listNames,metric='accuracy')"
   ]
  },
  {
   "cell_type": "markdown",
   "metadata": {
    "id": "4_aNOwHHORLf"
   },
   "source": [
    "# PCA with 10 components"
   ]
  },
  {
   "cell_type": "code",
   "execution_count": null,
   "metadata": {
    "id": "XoW_W87nONDr"
   },
   "outputs": [],
   "source": [
    "pca = PCA(n_components=10)"
   ]
  },
  {
   "cell_type": "code",
   "execution_count": null,
   "metadata": {
    "id": "D6xAEHgfOXqw"
   },
   "outputs": [],
   "source": [
    "pca.fit(X)"
   ]
  },
  {
   "cell_type": "code",
   "execution_count": null,
   "metadata": {
    "id": "UsP9oOY0OYu2"
   },
   "outputs": [],
   "source": [
    "X_pca10 = pca.transform(X)"
   ]
  },
  {
   "cell_type": "code",
   "execution_count": null,
   "metadata": {
    "id": "GJl8Qwv_OgCN"
   },
   "outputs": [],
   "source": [
    "!mv temp.csv temppca2.csv"
   ]
  },
  {
   "cell_type": "code",
   "execution_count": null,
   "metadata": {
    "id": "fQo9oAaWObE9"
   },
   "outputs": [],
   "source": [
    "compare_methods(X_pca10,Y,listAlgorithms,listParams,listNames,metric='auroc')"
   ]
  },
  {
   "cell_type": "code",
   "execution_count": null,
   "metadata": {},
   "outputs": [],
   "source": [
    "compare_methods(X_pca10,Y,listAlgorithms,listParams,listNames,metric='precision')"
   ]
  },
  {
   "cell_type": "code",
   "execution_count": null,
   "metadata": {},
   "outputs": [],
   "source": [
    "compare_methods(X_pca10,Y,listAlgorithms,listParams,listNames,metric='recall')"
   ]
  },
  {
   "cell_type": "code",
   "execution_count": null,
   "metadata": {},
   "outputs": [],
   "source": [
    "compare_methods(X_pca10,Y,listAlgorithms,listParams,listNames,metric='accuracy')"
   ]
  },
  {
   "cell_type": "code",
   "execution_count": null,
   "metadata": {
    "id": "uUqwDOQLOjtd"
   },
   "outputs": [],
   "source": [
    "!mv temp.csv temppca10.csv"
   ]
  },
  {
   "cell_type": "markdown",
   "metadata": {
    "id": "7wgUs9MrOuQE"
   },
   "source": [
    "# PCA with 100 components"
   ]
  },
  {
   "cell_type": "code",
   "execution_count": null,
   "metadata": {
    "id": "Ef54_v0COuQF"
   },
   "outputs": [],
   "source": [
    "pca = PCA(n_components=100)"
   ]
  },
  {
   "cell_type": "code",
   "execution_count": null,
   "metadata": {
    "id": "ejF2FGo0OuQG"
   },
   "outputs": [],
   "source": [
    "pca.fit(X)"
   ]
  },
  {
   "cell_type": "code",
   "execution_count": null,
   "metadata": {
    "id": "AAI4QlOZOuQG"
   },
   "outputs": [],
   "source": [
    "X_pca100 = pca.transform(X)"
   ]
  },
  {
   "cell_type": "code",
   "execution_count": null,
   "metadata": {
    "id": "JVbgf7IdOuQH",
    "scrolled": true
   },
   "outputs": [],
   "source": [
    "compare_methods(X_pca100,Y,listAlgorithms,listParams,listNames,metric='auroc')"
   ]
  },
  {
   "cell_type": "code",
   "execution_count": null,
   "metadata": {},
   "outputs": [],
   "source": [
    "compare_methods(X_pca100,Y,listAlgorithms,listParams,listNames,metric='precision')"
   ]
  },
  {
   "cell_type": "code",
   "execution_count": null,
   "metadata": {},
   "outputs": [],
   "source": [
    "compare_methods(X_pca100,Y,listAlgorithms,listParams,listNames,metric='recall')"
   ]
  },
  {
   "cell_type": "code",
   "execution_count": null,
   "metadata": {},
   "outputs": [],
   "source": [
    "compare_methods(X_pca100,Y,listAlgorithms,listParams,listNames,metric='accuracy')"
   ]
  },
  {
   "cell_type": "code",
   "execution_count": null,
   "metadata": {
    "id": "DNplq4INOuQI"
   },
   "outputs": [],
   "source": [
    "!mv temp.csv temppca100.csv"
   ]
  },
  {
   "cell_type": "markdown",
   "metadata": {
    "id": "B9xyvRUBJ4Yg"
   },
   "source": [
    "# TSNE with 2 components"
   ]
  },
  {
   "cell_type": "code",
   "execution_count": null,
   "metadata": {
    "id": "cgeSd7wqJ4MA"
   },
   "outputs": [],
   "source": [
    "from sklearn.manifold import TSNE"
   ]
  },
  {
   "cell_type": "code",
   "execution_count": null,
   "metadata": {
    "id": "VqpY0-F7JWkP"
   },
   "outputs": [],
   "source": [
    "Xtsne2 = TSNE(n_components=2).fit_transform(X)"
   ]
  },
  {
   "cell_type": "code",
   "execution_count": null,
   "metadata": {
    "id": "JLGsE9ymKGAf",
    "scrolled": true
   },
   "outputs": [],
   "source": [
    "compare_methods(Xtsne2,Y,listAlgorithms,listParams,listNames,metric='auroc')"
   ]
  },
  {
   "cell_type": "code",
   "execution_count": null,
   "metadata": {},
   "outputs": [],
   "source": [
    "compare_methods(Xtsne2,Y,listAlgorithms,listParams,listNames,metric='precision')"
   ]
  },
  {
   "cell_type": "code",
   "execution_count": null,
   "metadata": {},
   "outputs": [],
   "source": [
    "compare_methods(Xtsne2,Y,listAlgorithms,listParams,listNames,metric='recall')"
   ]
  },
  {
   "cell_type": "code",
   "execution_count": null,
   "metadata": {},
   "outputs": [],
   "source": [
    "compare_methods(Xtsne2,Y,listAlgorithms,listParams,listNames,metric='accuracy')"
   ]
  },
  {
   "cell_type": "code",
   "execution_count": null,
   "metadata": {
    "id": "9s4RecsnKMgQ"
   },
   "outputs": [],
   "source": [
    "!mv temp.csv temptsne2.csv"
   ]
  },
  {
   "cell_type": "markdown",
   "metadata": {},
   "source": [
    "# TSNE with 3 components"
   ]
  },
  {
   "cell_type": "code",
   "execution_count": null,
   "metadata": {
    "id": "ROSlAByBKUuE",
    "scrolled": true
   },
   "outputs": [],
   "source": [
    "Xtsne3 = TSNE(n_components=3).fit_transform(X)\n",
    "compare_methods(Xtsne3,Y,listAlgorithms,listParams,listNames,metric='auroc')"
   ]
  },
  {
   "cell_type": "code",
   "execution_count": null,
   "metadata": {},
   "outputs": [],
   "source": [
    "compare_methods(Xtsne3,Y,listAlgorithms,listParams,listNames,metric='precision')"
   ]
  },
  {
   "cell_type": "code",
   "execution_count": null,
   "metadata": {},
   "outputs": [],
   "source": [
    "compare_methods(Xtsne3,Y,listAlgorithms,listParams,listNames,metric='recall')"
   ]
  },
  {
   "cell_type": "code",
   "execution_count": null,
   "metadata": {},
   "outputs": [],
   "source": [
    "compare_methods(Xtsne3,Y,listAlgorithms,listParams,listNames,metric='accuracy')"
   ]
  },
  {
   "cell_type": "code",
   "execution_count": null,
   "metadata": {
    "id": "rAl1ayHcKbSF"
   },
   "outputs": [],
   "source": [
    "!mv temp.csv temptsne3.csv"
   ]
  },
  {
   "cell_type": "markdown",
   "metadata": {},
   "source": [
    "# UMAP with 2 components"
   ]
  },
  {
   "cell_type": "code",
   "execution_count": null,
   "metadata": {
    "id": "T45s4ka649by"
   },
   "outputs": [],
   "source": [
    "from umap import UMAP"
   ]
  },
  {
   "cell_type": "code",
   "execution_count": null,
   "metadata": {
    "id": "y-O-MGt_5AC4"
   },
   "outputs": [],
   "source": [
    "reducer = UMAP()"
   ]
  },
  {
   "cell_type": "code",
   "execution_count": null,
   "metadata": {
    "id": "h3U_6qzL5bR_"
   },
   "outputs": [],
   "source": [
    "Xumap = reducer.fit_transform(X)"
   ]
  },
  {
   "cell_type": "code",
   "execution_count": null,
   "metadata": {
    "id": "PqHq4hZsXPPy",
    "scrolled": true
   },
   "outputs": [],
   "source": [
    "compare_methods(Xumap,Y,listAlgorithms,listParams,listNames,metric='auroc')"
   ]
  },
  {
   "cell_type": "code",
   "execution_count": null,
   "metadata": {},
   "outputs": [],
   "source": [
    "compare_methods(Xumap,Y,listAlgorithms,listParams,listNames,metric='precision')"
   ]
  },
  {
   "cell_type": "code",
   "execution_count": null,
   "metadata": {},
   "outputs": [],
   "source": [
    "compare_methods(Xumap,Y,listAlgorithms,listParams,listNames,metric='recall')"
   ]
  },
  {
   "cell_type": "code",
   "execution_count": null,
   "metadata": {},
   "outputs": [],
   "source": [
    "compare_methods(Xumap,Y,listAlgorithms,listParams,listNames,metric='accuracy')"
   ]
  },
  {
   "cell_type": "code",
   "execution_count": null,
   "metadata": {
    "id": "9NTIJDD2XWW6"
   },
   "outputs": [],
   "source": [
    "!mv temp.csv tempumap2.csv"
   ]
  },
  {
   "cell_type": "markdown",
   "metadata": {},
   "source": [
    "# UMAP with 10 components"
   ]
  },
  {
   "cell_type": "code",
   "execution_count": null,
   "metadata": {
    "id": "vtZHePZ6XaWK"
   },
   "outputs": [],
   "source": [
    "reducer = UMAP(n_components=10)"
   ]
  },
  {
   "cell_type": "code",
   "execution_count": null,
   "metadata": {
    "id": "RT32rbaFXsMs"
   },
   "outputs": [],
   "source": [
    "Xumap10 = reducer.fit_transform(X)"
   ]
  },
  {
   "cell_type": "code",
   "execution_count": null,
   "metadata": {
    "id": "IZhqNI6ZX2L0",
    "scrolled": true
   },
   "outputs": [],
   "source": [
    "compare_methods(Xumap10,Y,listAlgorithms,listParams,listNames,metric='auroc')"
   ]
  },
  {
   "cell_type": "code",
   "execution_count": null,
   "metadata": {},
   "outputs": [],
   "source": [
    "compare_methods(Xumap10,Y,listAlgorithms,listParams,listNames,metric='precision')"
   ]
  },
  {
   "cell_type": "code",
   "execution_count": null,
   "metadata": {},
   "outputs": [],
   "source": [
    "compare_methods(Xumap10,Y,listAlgorithms,listParams,listNames,metric='recall')"
   ]
  },
  {
   "cell_type": "code",
   "execution_count": null,
   "metadata": {},
   "outputs": [],
   "source": [
    "compare_methods(Xumap10,Y,listAlgorithms,listParams,listNames,metric='accuracy')"
   ]
  },
  {
   "cell_type": "markdown",
   "metadata": {},
   "source": [
    "# Isomap"
   ]
  },
  {
   "cell_type": "code",
   "execution_count": null,
   "metadata": {
    "scrolled": true
   },
   "outputs": [],
   "source": [
    "from sklearn import manifold\n",
    "clf = manifold.Isomap(10, n_components=2)\n",
    "X_iso2 = clf.fit_transform(X)\n",
    "compare_methods(X_iso2,Y,listAlgorithms,listParams,listNames,metric='auroc')\n",
    "!mv temp.csv tempiso2.csv"
   ]
  },
  {
   "cell_type": "code",
   "execution_count": null,
   "metadata": {},
   "outputs": [],
   "source": [
    "compare_methods(X_iso2,Y,listAlgorithms,listParams,listNames,metric='precision')"
   ]
  },
  {
   "cell_type": "code",
   "execution_count": null,
   "metadata": {},
   "outputs": [],
   "source": [
    "compare_methods(X_iso2,Y,listAlgorithms,listParams,listNames,metric='recall')"
   ]
  },
  {
   "cell_type": "code",
   "execution_count": null,
   "metadata": {},
   "outputs": [],
   "source": [
    "compare_methods(X_iso2,Y,listAlgorithms,listParams,listNames,metric='accuracy')"
   ]
  },
  {
   "cell_type": "code",
   "execution_count": null,
   "metadata": {},
   "outputs": [],
   "source": [
    "clf = manifold.Isomap(10, n_components=10)\n",
    "X_iso10 = clf.fit_transform(X)\n",
    "compare_methods(X_iso10,Y,listAlgorithms,listParams,listNames,metric='auroc')"
   ]
  },
  {
   "cell_type": "code",
   "execution_count": null,
   "metadata": {},
   "outputs": [],
   "source": [
    "compare_methods(X_iso10,Y,listAlgorithms,listParams,listNames,metric='precision')"
   ]
  },
  {
   "cell_type": "code",
   "execution_count": null,
   "metadata": {},
   "outputs": [],
   "source": [
    "compare_methods(X_iso10,Y,listAlgorithms,listParams,listNames,metric='recall')"
   ]
  },
  {
   "cell_type": "code",
   "execution_count": null,
   "metadata": {},
   "outputs": [],
   "source": [
    "compare_methods(X_iso10,Y,listAlgorithms,listParams,listNames,metric='accuracy')"
   ]
  },
  {
   "cell_type": "markdown",
   "metadata": {},
   "source": [
    "# LLE"
   ]
  },
  {
   "cell_type": "code",
   "execution_count": null,
   "metadata": {
    "scrolled": true
   },
   "outputs": [],
   "source": [
    "clf = manifold.LocallyLinearEmbedding(10, n_components=2,method='standard')\n",
    "X_lle2 = clf.fit_transform(X)\n",
    "compare_methods(X_lle2,Y,listAlgorithms,listParams,listNames,metric='auroc')"
   ]
  },
  {
   "cell_type": "code",
   "execution_count": null,
   "metadata": {},
   "outputs": [],
   "source": [
    "compare_methods(X_lle2,Y,listAlgorithms,listParams,listNames,metric='precision')"
   ]
  },
  {
   "cell_type": "code",
   "execution_count": null,
   "metadata": {},
   "outputs": [],
   "source": [
    "compare_methods(X_lle2,Y,listAlgorithms,listParams,listNames,metric='recall')"
   ]
  },
  {
   "cell_type": "code",
   "execution_count": null,
   "metadata": {},
   "outputs": [],
   "source": [
    "compare_methods(X_lle2,Y,listAlgorithms,listParams,listNames,metric='accuracy')"
   ]
  },
  {
   "cell_type": "code",
   "execution_count": null,
   "metadata": {
    "scrolled": true
   },
   "outputs": [],
   "source": [
    "clf = manifold.LocallyLinearEmbedding(10, n_components=10,method='standard')\n",
    "X_lle10 = clf.fit_transform(X)\n",
    "compare_methods(X_lle10,Y,listAlgorithms,listParams,listNames,metric='auroc')"
   ]
  },
  {
   "cell_type": "code",
   "execution_count": null,
   "metadata": {},
   "outputs": [],
   "source": [
    "compare_methods(X_lle10,Y,listAlgorithms,listParams,listNames,metric='precision')"
   ]
  },
  {
   "cell_type": "code",
   "execution_count": null,
   "metadata": {},
   "outputs": [],
   "source": [
    "compare_methods(X_lle10,Y,listAlgorithms,listParams,listNames,metric='recall')"
   ]
  },
  {
   "cell_type": "code",
   "execution_count": null,
   "metadata": {},
   "outputs": [],
   "source": [
    "compare_methods(X_lle10,Y,listAlgorithms,listParams,listNames,metric='accuracy')"
   ]
  },
  {
   "cell_type": "code",
   "execution_count": null,
   "metadata": {},
   "outputs": [],
   "source": [
    "clf = manifold.LocallyLinearEmbedding(10, n_components=100,method='standard')\n",
    "X_lle100 = clf.fit_transform(X)\n",
    "compare_methods(X_lle100,Y,listAlgorithms,listParams,listNames,metric='auroc')"
   ]
  },
  {
   "cell_type": "code",
   "execution_count": null,
   "metadata": {},
   "outputs": [],
   "source": [
    "compare_methods(X_lle100,Y,listAlgorithms,listParams,listNames,metric='precision')"
   ]
  },
  {
   "cell_type": "code",
   "execution_count": null,
   "metadata": {},
   "outputs": [],
   "source": [
    "compare_methods(X_lle100,Y,listAlgorithms,listParams,listNames,metric='recall')"
   ]
  },
  {
   "cell_type": "code",
   "execution_count": null,
   "metadata": {},
   "outputs": [],
   "source": [
    "compare_methods(X_lle100,Y,listAlgorithms,listParams,listNames,metric='accuracy')"
   ]
  },
  {
   "cell_type": "markdown",
   "metadata": {},
   "source": [
    "# MDS"
   ]
  },
  {
   "cell_type": "code",
   "execution_count": null,
   "metadata": {},
   "outputs": [],
   "source": [
    "clf = manifold.MDS(n_components=2, n_init=1, max_iter=100)\n",
    "X_mds2 = clf.fit_transform(X)\n",
    "compare_methods(X_mds2,Y,listAlgorithms,listParams,listNames,metric='auroc')"
   ]
  },
  {
   "cell_type": "code",
   "execution_count": null,
   "metadata": {},
   "outputs": [],
   "source": [
    "compare_methods(X_mds2,Y,listAlgorithms,listParams,listNames,metric='precision')"
   ]
  },
  {
   "cell_type": "code",
   "execution_count": null,
   "metadata": {},
   "outputs": [],
   "source": [
    "compare_methods(X_mds2,Y,listAlgorithms,listParams,listNames,metric='recall')"
   ]
  },
  {
   "cell_type": "code",
   "execution_count": null,
   "metadata": {},
   "outputs": [],
   "source": [
    "compare_methods(X_mds2,Y,listAlgorithms,listParams,listNames,metric='accuracy')"
   ]
  },
  {
   "cell_type": "code",
   "execution_count": null,
   "metadata": {
    "scrolled": true
   },
   "outputs": [],
   "source": [
    "clf = manifold.MDS(n_components=10, n_init=1, max_iter=100)\n",
    "X_mds10 = clf.fit_transform(X)\n",
    "compare_methods(X_mds10,Y,listAlgorithms,listParams,listNames,metric='auroc')"
   ]
  },
  {
   "cell_type": "code",
   "execution_count": null,
   "metadata": {},
   "outputs": [],
   "source": [
    "compare_methods(X_mds10,Y,listAlgorithms,listParams,listNames,metric='precision')"
   ]
  },
  {
   "cell_type": "code",
   "execution_count": null,
   "metadata": {},
   "outputs": [],
   "source": [
    "compare_methods(X_mds10,Y,listAlgorithms,listParams,listNames,metric='recall')"
   ]
  },
  {
   "cell_type": "code",
   "execution_count": null,
   "metadata": {},
   "outputs": [],
   "source": [
    "compare_methods(X_mds10,Y,listAlgorithms,listParams,listNames,metric='accuracy')"
   ]
  },
  {
   "cell_type": "code",
   "execution_count": null,
   "metadata": {},
   "outputs": [],
   "source": [
    "clf = manifold.MDS(n_components=100, n_init=1, max_iter=100)\n",
    "X_mds100 = clf.fit_transform(X)\n",
    "compare_methods(X_mds100,Y,listAlgorithms,listParams,listNames,metric='auroc')"
   ]
  },
  {
   "cell_type": "code",
   "execution_count": null,
   "metadata": {},
   "outputs": [],
   "source": [
    "compare_methods(XumaX_mds10p10,Y,listAlgorithms,listParams,listNames,metric='precision')"
   ]
  },
  {
   "cell_type": "code",
   "execution_count": null,
   "metadata": {},
   "outputs": [],
   "source": [
    "compare_methods(Xumap10,Y,listAlgorithms,listParams,listNames,metric='recall')"
   ]
  },
  {
   "cell_type": "code",
   "execution_count": null,
   "metadata": {},
   "outputs": [],
   "source": [
    "compare_methods(Xumap10,Y,listAlgorithms,listParams,listNames,metric='accuracy')"
   ]
  },
  {
   "cell_type": "code",
   "execution_count": null,
   "metadata": {},
   "outputs": [],
   "source": []
  }
 ],
 "metadata": {
  "colab": {
   "name": "CompareMethods.ipynb",
   "provenance": []
  },
  "kernelspec": {
   "display_name": "Python 3",
   "language": "python",
   "name": "python3"
  },
  "language_info": {
   "codemirror_mode": {
    "name": "ipython",
    "version": 3
   },
   "file_extension": ".py",
   "mimetype": "text/x-python",
   "name": "python",
   "nbconvert_exporter": "python",
   "pygments_lexer": "ipython3",
   "version": "3.6.7"
  }
 },
 "nbformat": 4,
 "nbformat_minor": 1
}
