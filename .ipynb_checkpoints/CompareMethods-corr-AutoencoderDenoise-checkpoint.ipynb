{
 "cells": [
  {
   "cell_type": "code",
   "execution_count": 1,
   "metadata": {
    "id": "9VdC2keIvxIJ"
   },
   "outputs": [],
   "source": [
    "import numpy as np\n",
    "from StatisticalAnalysis import compare_methods"
   ]
  },
  {
   "cell_type": "code",
   "execution_count": 2,
   "metadata": {
    "id": "3iCEO6wXtftF"
   },
   "outputs": [],
   "source": [
    "import warnings\n",
    "warnings.filterwarnings('ignore')"
   ]
  },
  {
   "cell_type": "markdown",
   "metadata": {
    "id": "Zb3btBk5vxIM"
   },
   "source": [
    "First we load the data and process it to have the correct form."
   ]
  },
  {
   "cell_type": "code",
   "execution_count": 3,
   "metadata": {},
   "outputs": [],
   "source": [
    "corr = np.load('corrAutoencoderDenoise.npy')"
   ]
  },
  {
   "cell_type": "code",
   "execution_count": 4,
   "metadata": {},
   "outputs": [],
   "source": [
    "corr_hc = corr[0:52]\n",
    "corr_adhd = corr[52:]"
   ]
  },
  {
   "cell_type": "code",
   "execution_count": 5,
   "metadata": {
    "id": "StF6b56QvxIN"
   },
   "outputs": [
    {
     "data": {
      "text/plain": [
       "(52, 16)"
      ]
     },
     "execution_count": 5,
     "metadata": {},
     "output_type": "execute_result"
    }
   ],
   "source": [
    "corr_hc.shape"
   ]
  },
  {
   "cell_type": "code",
   "execution_count": 6,
   "metadata": {
    "id": "qd1nFcAfvxIO"
   },
   "outputs": [],
   "source": [
    "corr_hc = corr_hc.reshape(52,16)"
   ]
  },
  {
   "cell_type": "code",
   "execution_count": 8,
   "metadata": {
    "id": "fc006UE6vxIO"
   },
   "outputs": [],
   "source": [
    "corr_adhd = corr_adhd.reshape(40,16)"
   ]
  },
  {
   "cell_type": "code",
   "execution_count": 9,
   "metadata": {
    "id": "SEhdGg3IvxIP"
   },
   "outputs": [],
   "source": [
    "X = np.append(corr_hc,corr_adhd,axis=0)"
   ]
  },
  {
   "cell_type": "code",
   "execution_count": 10,
   "metadata": {
    "colab": {
     "base_uri": "https://localhost:8080/"
    },
    "id": "8d-RFXoavxIQ",
    "outputId": "a61e1d34-79c6-4f1a-df1f-0b3a74b2c53d"
   },
   "outputs": [
    {
     "data": {
      "text/plain": [
       "(92, 16)"
      ]
     },
     "execution_count": 10,
     "metadata": {},
     "output_type": "execute_result"
    }
   ],
   "source": [
    "X.shape"
   ]
  },
  {
   "cell_type": "code",
   "execution_count": 11,
   "metadata": {
    "colab": {
     "base_uri": "https://localhost:8080/"
    },
    "id": "hnaiAVUvJmgn",
    "outputId": "6cb5c264-f346-4b38-e85b-aa3b8bf8ace6"
   },
   "outputs": [
    {
     "data": {
      "text/plain": [
       "(16,)"
      ]
     },
     "execution_count": 11,
     "metadata": {},
     "output_type": "execute_result"
    }
   ],
   "source": [
    "X[0].shape"
   ]
  },
  {
   "cell_type": "code",
   "execution_count": 13,
   "metadata": {
    "id": "5oh4k1gEvxIR"
   },
   "outputs": [],
   "source": [
    "Y = np.append(np.zeros(52),np.ones(40),axis=0)"
   ]
  },
  {
   "cell_type": "code",
   "execution_count": 14,
   "metadata": {
    "colab": {
     "base_uri": "https://localhost:8080/"
    },
    "id": "PZuBWU5LvxIR",
    "outputId": "21a0987a-b533-41fc-bea5-9f94b3246a66",
    "scrolled": true
   },
   "outputs": [
    {
     "data": {
      "text/plain": [
       "(92,)"
      ]
     },
     "execution_count": 14,
     "metadata": {},
     "output_type": "execute_result"
    }
   ],
   "source": [
    "Y.shape"
   ]
  },
  {
   "cell_type": "markdown",
   "metadata": {
    "id": "w2w8w0VjvxIS"
   },
   "source": [
    "Now, we define the algorithms that we are going to use. "
   ]
  },
  {
   "cell_type": "code",
   "execution_count": 15,
   "metadata": {
    "id": "MEPfV3efvxIS"
   },
   "outputs": [],
   "source": [
    "from sklearn.tree import DecisionTreeClassifier\n",
    "from sklearn.neighbors import KNeighborsClassifier\n",
    "from sklearn.linear_model import LogisticRegression\n",
    "from sklearn.svm import SVC\n",
    "from sklearn.neural_network import MLPClassifier\n",
    "from sklearn.ensemble import ExtraTreesClassifier\n",
    "from sklearn.ensemble import GradientBoostingClassifier\n",
    "from sklearn.ensemble import RandomForestClassifier\n",
    "from sklearn.ensemble import AdaBoostClassifier\n",
    "from scipy.stats import randint as sp_randint"
   ]
  },
  {
   "cell_type": "code",
   "execution_count": 16,
   "metadata": {
    "id": "YwnPEwswvxIU"
   },
   "outputs": [],
   "source": [
    "# Decision tree\n",
    "clfTree = DecisionTreeClassifier(random_state=84)\n",
    "param_distTree = {\"min_samples_split\": sp_randint(3, 30)}\n",
    "# SVM\n",
    "clfSVC = SVC(random_state=84)\n",
    "param_distSVC = {'C': [1, 10, 100, 1000], 'gamma': [0.001, 0.0001],'kernel': ['rbf'], 'class_weight':['balanced', None]}\n",
    "# KNN\n",
    "clfKNN = KNeighborsClassifier()\n",
    "param_distKNN = {'n_neighbors':sp_randint(3, 30)}\n",
    "# Logistic regression\n",
    "clfLR = LogisticRegression(random_state=84)\n",
    "param_distLR = {'C': [0.1,0.5,1, 10, 100, 1000]}\n",
    "# Neural Network\n",
    "clfMLP = MLPClassifier(random_state=84)\n",
    "param_distMLP = {'activation': ['identity', 'logistic', 'tanh', 'relu'], 'solver': ['lbfgs', 'sgd', 'adam'],\n",
    "                 'alpha': sp_randint(0.0001, 1), 'learning_rate': ['constant', 'invscaling', 'adaptive'],\n",
    "                 'hidden_layer_sizes': [(5,2), (3,3,3), (5,3,2), (5,4,3,2)],\n",
    "                 'momentum': [0.9, 0.95, 0.99]}\n",
    "# RandomForest\n",
    "clfRF = RandomForestClassifier(random_state=84)\n",
    "param_distRF =  {'n_estimators': [int(x) for x in np.linspace(start = 200, stop = 2000, num = 10)], 'max_features': ['auto', 'sqrt'],'max_depth': [int(x) for x in np.linspace(10, 110, num = 11)],\n",
    "                 'min_samples_split': [2, 5, 10],'min_samples_leaf': [1, 2, 4],\n",
    "                 'bootstrap': [True, False]}\n",
    "# ExtraTreesClassifier\n",
    "clfET = ExtraTreesClassifier(random_state=84)\n",
    "param_distET =  {'n_estimators': [int(x) for x in np.linspace(start = 200, stop = 2000, num = 10)], 'max_features': ['auto', 'sqrt'],'max_depth': [int(x) for x in np.linspace(10, 110, num = 11)],\n",
    "                 'min_samples_split': [2, 5, 10],'min_samples_leaf': [1, 2, 4],\n",
    "                 'bootstrap': [True, False]}"
   ]
  },
  {
   "cell_type": "code",
   "execution_count": 17,
   "metadata": {
    "id": "GGQcPxBOvxIV"
   },
   "outputs": [],
   "source": [
    "listAlgorithms = [clfTree,clfSVC,clfKNN,clfLR,clfMLP,clfRF,clfET]"
   ]
  },
  {
   "cell_type": "code",
   "execution_count": 18,
   "metadata": {
    "id": "8Nl-1GpjvxIV"
   },
   "outputs": [],
   "source": [
    "listParams = [param_distTree,param_distSVC,param_distKNN,param_distLR,param_distMLP,param_distRF, param_distET]"
   ]
  },
  {
   "cell_type": "code",
   "execution_count": 19,
   "metadata": {
    "id": "IK_8iIWovxIV"
   },
   "outputs": [],
   "source": [
    "listNames = [\"Arbol\", \"SVM\", \"KNN\", \"LR\", \"MLP\",\"RF\",\"ET\"]"
   ]
  },
  {
   "cell_type": "markdown",
   "metadata": {},
   "source": [
    "# Plain comparison"
   ]
  },
  {
   "cell_type": "code",
   "execution_count": 20,
   "metadata": {
    "id": "LSSesjlBvxIV"
   },
   "outputs": [
    {
     "name": "stdout",
     "output_type": "stream",
     "text": [
      "temp.csv\n",
      "['Arbol' 'SVM' 'KNN' 'LR' 'MLP' 'RF' 'ET']\n",
      "==========================================================\n",
      "Report\n",
      "==========================================================\n",
      "**********************************************************\n",
      "Mean and std\n",
      "**********************************************************\n",
      "Arbol: 0.412381 (0.167080)\n",
      "SVM: 0.433333 (0.116667)\n",
      "KNN: 0.452738 (0.066979)\n",
      "LR: 0.428452 (0.114151)\n",
      "MLP: 0.538690 (0.140790)\n",
      "RF: 0.384405 (0.150047)\n",
      "ET: 0.425357 (0.074309)\n",
      "**********************************************************\n",
      "Statistical tests\n",
      "**********************************************************\n",
      "----------------------------------------------------------\n",
      "Checking parametric conditions \n",
      "----------------------------------------------------------\n",
      "Checking independence \n",
      "Ok\n",
      "Checking normality using Shapiro-Wilk's test for normality, alpha=0.05\n",
      "W: 0.938440, p:0.001884\n",
      "The null hypothesis (normality) is rejected\n",
      "Checking heteroscedasticity using Levene's test, alpha=0.05\n",
      "W: 1.030056, p:0.414350\n",
      "The null hypothesis (heteroscedasticity) is rejected\n",
      "Conditions for a parametric test are not fulfilled, applying a non-parametric test\n",
      "----------------------------------------------------------\n",
      "Working with more than 2 algorithms\n",
      "----------------------------------------------------------\n",
      "----------------------------------------------------------\n",
      "Applying Friedman test\n",
      "----------------------------------------------------------\n",
      "F-value: 0.668137, p-value: 0.6756396337991695\n",
      "Null hypothesis is accepted; hence, we can't say that there is a significant difference in the performance of the models\n",
      "----------------------------------------------------------\n",
      "Analysing effect size\n",
      "----------------------------------------------------------\n",
      "We take the model with the best mean (MLP, mean: 0.538690) and compare it with the other models: \n",
      "Comparing effect size of MLP and Arbol: Cohen's d=0.7756071527884668, Large\n",
      "Comparing effect size of MLP and SVM: Cohen's d=0.7730600874949587, Large\n",
      "Comparing effect size of MLP and KNN: Cohen's d=0.7396399671132112, Large\n",
      "Comparing effect size of MLP and LR: Cohen's d=0.8159911805871707, Large\n",
      "Comparing effect size of MLP and RF: Cohen's d=1.006023408358064, Large\n",
      "Comparing effect size of MLP and ET: Cohen's d=0.955123586114821, Large\n",
      "Eta squared: 0.116855 (Large)\n"
     ]
    },
    {
     "data": {
      "image/png": "[encoded data removed]",
      "text/plain": [
       "<Figure size 432x288 with 1 Axes>"
      ]
     },
     "metadata": {
      "needs_background": "light"
     },
     "output_type": "display_data"
    }
   ],
   "source": [
    "compare_methods(X,Y,listAlgorithms,listParams,listNames,metric='auroc')"
   ]
  },
  {
   "cell_type": "code",
   "execution_count": 21,
   "metadata": {},
   "outputs": [
    {
     "name": "stdout",
     "output_type": "stream",
     "text": [
      "temp.csv\n",
      "['Arbol' 'SVM' 'KNN' 'LR' 'MLP' 'RF' 'ET']\n",
      "==========================================================\n",
      "Report\n",
      "==========================================================\n",
      "**********************************************************\n",
      "Mean and std\n",
      "**********************************************************\n",
      "Arbol: 0.346905 (0.216187)\n",
      "SVM: 0.083333 (0.170783)\n",
      "KNN: 0.191667 (0.204294)\n",
      "LR: 0.345000 (0.273054)\n",
      "MLP: 0.191667 (0.337577)\n",
      "RF: 0.311667 (0.323698)\n",
      "ET: 0.268333 (0.286981)\n",
      "**********************************************************\n",
      "Statistical tests\n",
      "**********************************************************\n",
      "----------------------------------------------------------\n",
      "Checking parametric conditions \n",
      "----------------------------------------------------------\n",
      "Checking independence \n",
      "Ok\n",
      "Checking normality using Shapiro-Wilk's test for normality, alpha=0.05\n",
      "W: 0.819784, p:0.000000\n",
      "The null hypothesis (normality) is rejected\n",
      "Checking heteroscedasticity using Levene's test, alpha=0.05\n",
      "W: 0.458091, p:0.836570\n",
      "The null hypothesis (heteroscedasticity) is accepted\n",
      "Conditions for a parametric test are not fulfilled, applying a non-parametric test\n",
      "----------------------------------------------------------\n",
      "Working with more than 2 algorithms\n",
      "----------------------------------------------------------\n",
      "----------------------------------------------------------\n",
      "Applying Friedman test\n",
      "----------------------------------------------------------\n",
      "F-value: 1.336341, p-value: 0.2572911655170933\n",
      "Null hypothesis is rejected; hence, models have different performance\n",
      "Technique      Ranking\n",
      "-----------  ---------\n",
      "LR                4.95\n",
      "Arbol             4.9\n",
      "ET                4.1\n",
      "KNN               4.05\n",
      "RF                3.9\n",
      "MLP               3.25\n",
      "SVM               2.85\n",
      "Winner model: LR\n",
      "----------------------------------------------------------\n",
      "Applying Holm p-value adjustment procedure and analysing effect size\n",
      "----------------------------------------------------------\n",
      "Comparison       Zvalue    p-value    adjusted p-value\n",
      "------------  ---------  ---------  ------------------\n",
      "LR vs SVM     2.17371    0.0297272            0.178363\n",
      "LR vs MLP     1.75967    0.0784643            0.392321\n",
      "LR vs RF      1.08685    0.277102             1\n",
      "LR vs KNN     0.931589   0.351549             1\n",
      "LR vs ET      0.879834   0.378949             1\n",
      "LR vs Arbol   0.0517549  0.958724             1\n",
      "There is a significant difference between the models: LR (mean: 0.345000, std: 0.273054) and SVM (mean: 0.083333, std: 0.170783) (Cohen's d=1.0900412493493998, Large)\n",
      "There is a significant difference between the models: LR (mean: 0.345000, std: 0.273054) and MLP (mean: 0.191667, std: 0.337577) (Cohen's d=0.4738031606724598, Medium)\n",
      "We can't say that there is a significant difference in the performance of the models: LR (mean: 0.345000, std: 0.273054) and RF (mean: 0.311667, std: 0.323698) (Cohen's d=0.10560336584411512, Small)\n",
      "We can't say that there is a significant difference in the performance of the models: LR (mean: 0.345000, std: 0.273054) and KNN (mean: 0.191667, std: 0.204294) (Cohen's d=0.6032444643921783, Large)\n",
      "We can't say that there is a significant difference in the performance of the models: LR (mean: 0.345000, std: 0.273054) and ET (mean: 0.268333, std: 0.286981) (Cohen's d=0.2596619396234396, Medium)\n",
      "We can't say that there is a significant difference in the performance of the models: LR (mean: 0.345000, std: 0.273054) and Arbol (mean: 0.346905, std: 0.216187) (Cohen's d=0.007337614149265683, Small)\n",
      "Eta squared: 0.103775 (Large)\n"
     ]
    },
    {
     "data": {
      "image/png": "[encoded data removed]",
      "text/plain": [
       "<Figure size 432x288 with 1 Axes>"
      ]
     },
     "metadata": {
      "needs_background": "light"
     },
     "output_type": "display_data"
    }
   ],
   "source": [
    "compare_methods(X,Y,listAlgorithms,listParams,listNames,metric='precision')"
   ]
  },
  {
   "cell_type": "code",
   "execution_count": 22,
   "metadata": {},
   "outputs": [
    {
     "name": "stdout",
     "output_type": "stream",
     "text": [
      "temp.csv\n",
      "['Arbol' 'SVM' 'KNN' 'LR' 'MLP' 'RF' 'ET']\n",
      "==========================================================\n",
      "Report\n",
      "==========================================================\n",
      "**********************************************************\n",
      "Mean and std\n",
      "**********************************************************\n",
      "Arbol: 0.353333 (0.238607)\n",
      "SVM: 0.050000 (0.106719)\n",
      "KNN: 0.133333 (0.140436)\n",
      "LR: 0.225000 (0.144578)\n",
      "MLP: 0.158333 (0.303795)\n",
      "RF: 0.216667 (0.163299)\n",
      "ET: 0.200000 (0.158990)\n",
      "**********************************************************\n",
      "Statistical tests\n",
      "**********************************************************\n",
      "----------------------------------------------------------\n",
      "Checking parametric conditions \n",
      "----------------------------------------------------------\n",
      "Checking independence \n",
      "Ok\n",
      "Checking normality using Shapiro-Wilk's test for normality, alpha=0.05\n",
      "W: 0.826882, p:0.000000\n",
      "The null hypothesis (normality) is rejected\n",
      "Checking heteroscedasticity using Levene's test, alpha=0.05\n",
      "W: 1.015277, p:0.423622\n",
      "The null hypothesis (heteroscedasticity) is rejected\n",
      "Conditions for a parametric test are not fulfilled, applying a non-parametric test\n",
      "----------------------------------------------------------\n",
      "Working with more than 2 algorithms\n",
      "----------------------------------------------------------\n",
      "----------------------------------------------------------\n",
      "Applying Friedman test\n",
      "----------------------------------------------------------\n",
      "F-value: 2.038108, p-value: 0.07624692286230428\n",
      "Null hypothesis is rejected; hence, models have different performance\n",
      "Technique      Ranking\n",
      "-----------  ---------\n",
      "Arbol             5.5\n",
      "LR                4.45\n",
      "RF                4.4\n",
      "ET                4.15\n",
      "KNN               3.65\n",
      "MLP               3.15\n",
      "SVM               2.7\n",
      "Winner model: Arbol\n",
      "----------------------------------------------------------\n",
      "Applying Holm p-value adjustment procedure and analysing effect size\n",
      "----------------------------------------------------------\n",
      "Comparison      Zvalue     p-value    adjusted p-value\n",
      "------------  --------  ----------  ------------------\n",
      "Arbol vs SVM   2.89828  0.00375221           0.0225133\n",
      "Arbol vs MLP   2.43248  0.0149958            0.0749789\n",
      "Arbol vs KNN   1.91493  0.0555012            0.222005\n",
      "Arbol vs ET    1.39738  0.162299             0.486896\n",
      "Arbol vs RF    1.13861  0.254867             0.509733\n",
      "Arbol vs LR    1.08685  0.277102             0.509733\n",
      "There is a significant difference between the models: Arbol (mean: 0.353333, std: 0.238607) and SVM (mean: 0.050000, std: 0.106719) (Cohen's d=1.5569526260986342, Large)\n",
      "There is a significant difference between the models: Arbol (mean: 0.353333, std: 0.238607) and MLP (mean: 0.158333, std: 0.303795) (Cohen's d=0.6772516474216452, Large)\n",
      "There is a significant difference between the models: Arbol (mean: 0.353333, std: 0.238607) and KNN (mean: 0.133333, std: 0.140436) (Cohen's d=1.066073420571488, Large)\n",
      "There is a significant difference between the models: Arbol (mean: 0.353333, std: 0.238607) and ET (mean: 0.200000, std: 0.158990) (Cohen's d=0.7174763177433128, Large)\n",
      "We can't say that there is a significant difference in the performance of the models: Arbol (mean: 0.353333, std: 0.238607) and RF (mean: 0.216667, std: 0.163299) (Cohen's d=0.6341554305119897, Large)\n",
      "We can't say that there is a significant difference in the performance of the models: Arbol (mean: 0.353333, std: 0.238607) and LR (mean: 0.225000, std: 0.144578) (Cohen's d=0.617142083912771, Large)\n",
      "Eta squared: 0.171804 (Large)\n"
     ]
    },
    {
     "data": {
      "image/png": "[encoded data removed]",
      "text/plain": [
       "<Figure size 432x288 with 1 Axes>"
      ]
     },
     "metadata": {
      "needs_background": "light"
     },
     "output_type": "display_data"
    }
   ],
   "source": [
    "compare_methods(X,Y,listAlgorithms,listParams,listNames,metric='recall')"
   ]
  },
  {
   "cell_type": "code",
   "execution_count": 23,
   "metadata": {},
   "outputs": [
    {
     "name": "stdout",
     "output_type": "stream",
     "text": [
      "temp.csv\n",
      "['Arbol' 'SVM' 'KNN' 'LR' 'MLP' 'RF' 'ET']\n",
      "==========================================================\n",
      "Report\n",
      "==========================================================\n",
      "**********************************************************\n",
      "Mean and std\n",
      "**********************************************************\n",
      "Arbol: 0.413333 (0.161612)\n",
      "SVM: 0.490000 (0.193885)\n",
      "KNN: 0.488889 (0.148657)\n",
      "LR: 0.431111 (0.120575)\n",
      "MLP: 0.552222 (0.164208)\n",
      "RF: 0.383333 (0.138355)\n",
      "ET: 0.425556 (0.096616)\n",
      "**********************************************************\n",
      "Statistical tests\n",
      "**********************************************************\n",
      "----------------------------------------------------------\n",
      "Checking parametric conditions \n",
      "----------------------------------------------------------\n",
      "Checking independence \n",
      "Ok\n",
      "Checking normality using Shapiro-Wilk's test for normality, alpha=0.05\n",
      "W: 0.945873, p:0.004434\n",
      "The null hypothesis (normality) is rejected\n",
      "Checking heteroscedasticity using Levene's test, alpha=0.05\n",
      "W: 0.935032, p:0.476401\n",
      "The null hypothesis (heteroscedasticity) is rejected\n",
      "Conditions for a parametric test are not fulfilled, applying a non-parametric test\n",
      "----------------------------------------------------------\n",
      "Working with more than 2 algorithms\n",
      "----------------------------------------------------------\n",
      "----------------------------------------------------------\n",
      "Applying Friedman test\n",
      "----------------------------------------------------------\n",
      "F-value: 0.832228, p-value: 0.5503340936970265\n",
      "Null hypothesis is accepted; hence, we can't say that there is a significant difference in the performance of the models\n",
      "----------------------------------------------------------\n",
      "Analysing effect size\n",
      "----------------------------------------------------------\n",
      "We take the model with the best mean (MLP, mean: 0.552222) and compare it with the other models: \n",
      "Comparing effect size of MLP and Arbol: Cohen's d=0.8087740125648432, Large\n",
      "Comparing effect size of MLP and SVM: Cohen's d=0.32856020335536035, Medium\n",
      "Comparing effect size of MLP and KNN: Cohen's d=0.3836115835838534, Medium\n",
      "Comparing effect size of MLP and LR: Cohen's d=0.7975965622110008, Large\n",
      "Comparing effect size of MLP and RF: Cohen's d=1.0552559122946006, Large\n",
      "Comparing effect size of MLP and ET: Cohen's d=0.8919749691682755, Large\n",
      "Eta squared: 0.114456 (Large)\n"
     ]
    },
    {
     "data": {
      "image/png": "[encoded data removed]",
      "text/plain": [
       "<Figure size 432x288 with 1 Axes>"
      ]
     },
     "metadata": {
      "needs_background": "light"
     },
     "output_type": "display_data"
    }
   ],
   "source": [
    "compare_methods(X,Y,listAlgorithms,listParams,listNames,metric='accuracy')"
   ]
  },
  {
   "cell_type": "code",
   "execution_count": null,
   "metadata": {},
   "outputs": [],
   "source": []
  }
 ],
 "metadata": {
  "colab": {
   "name": "CompareMethods.ipynb",
   "provenance": []
  },
  "kernelspec": {
   "display_name": "Python 3",
   "language": "python",
   "name": "python3"
  },
  "language_info": {
   "codemirror_mode": {
    "name": "ipython",
    "version": 3
   },
   "file_extension": ".py",
   "mimetype": "text/x-python",
   "name": "python",
   "nbconvert_exporter": "python",
   "pygments_lexer": "ipython3",
   "version": "3.6.7"
  }
 },
 "nbformat": 4,
 "nbformat_minor": 1
}
