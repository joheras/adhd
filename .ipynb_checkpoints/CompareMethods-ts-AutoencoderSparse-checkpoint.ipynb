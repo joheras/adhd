{
 "cells": [
  {
   "cell_type": "code",
   "execution_count": 1,
   "metadata": {
    "id": "9VdC2keIvxIJ"
   },
   "outputs": [],
   "source": [
    "import numpy as np\n",
    "from StatisticalAnalysis import compare_methods"
   ]
  },
  {
   "cell_type": "code",
   "execution_count": 2,
   "metadata": {
    "id": "3iCEO6wXtftF"
   },
   "outputs": [],
   "source": [
    "import warnings\n",
    "warnings.filterwarnings('ignore')"
   ]
  },
  {
   "cell_type": "markdown",
   "metadata": {
    "id": "Zb3btBk5vxIM"
   },
   "source": [
    "First we load the data and process it to have the correct form."
   ]
  },
  {
   "cell_type": "code",
   "execution_count": 3,
   "metadata": {},
   "outputs": [],
   "source": [
    "ts = np.load('tsAutoencoderSparse.npy')"
   ]
  },
  {
   "cell_type": "code",
   "execution_count": 4,
   "metadata": {},
   "outputs": [],
   "source": [
    "ts_hc = ts[0:52]\n",
    "ts_adhd = ts[52:]"
   ]
  },
  {
   "cell_type": "code",
   "execution_count": 5,
   "metadata": {
    "id": "StF6b56QvxIN"
   },
   "outputs": [
    {
     "data": {
      "text/plain": [
       "(52, 32)"
      ]
     },
     "execution_count": 5,
     "metadata": {},
     "output_type": "execute_result"
    }
   ],
   "source": [
    "ts_hc.shape"
   ]
  },
  {
   "cell_type": "code",
   "execution_count": 6,
   "metadata": {
    "id": "qd1nFcAfvxIO"
   },
   "outputs": [],
   "source": [
    "ts_hc = ts_hc.reshape(52,32)"
   ]
  },
  {
   "cell_type": "code",
   "execution_count": 8,
   "metadata": {
    "id": "fc006UE6vxIO"
   },
   "outputs": [],
   "source": [
    "ts_adhd = ts_adhd.reshape(40,32)"
   ]
  },
  {
   "cell_type": "code",
   "execution_count": 10,
   "metadata": {
    "id": "SEhdGg3IvxIP"
   },
   "outputs": [],
   "source": [
    "X = np.append(ts_hc,ts_adhd,axis=0)"
   ]
  },
  {
   "cell_type": "code",
   "execution_count": 11,
   "metadata": {
    "colab": {
     "base_uri": "https://localhost:8080/"
    },
    "id": "8d-RFXoavxIQ",
    "outputId": "a61e1d34-79c6-4f1a-df1f-0b3a74b2c53d"
   },
   "outputs": [
    {
     "data": {
      "text/plain": [
       "(92, 32)"
      ]
     },
     "execution_count": 11,
     "metadata": {},
     "output_type": "execute_result"
    }
   ],
   "source": [
    "X.shape"
   ]
  },
  {
   "cell_type": "code",
   "execution_count": 12,
   "metadata": {
    "colab": {
     "base_uri": "https://localhost:8080/"
    },
    "id": "hnaiAVUvJmgn",
    "outputId": "6cb5c264-f346-4b38-e85b-aa3b8bf8ace6"
   },
   "outputs": [
    {
     "data": {
      "text/plain": [
       "(32,)"
      ]
     },
     "execution_count": 12,
     "metadata": {},
     "output_type": "execute_result"
    }
   ],
   "source": [
    "X[0].shape"
   ]
  },
  {
   "cell_type": "code",
   "execution_count": 14,
   "metadata": {
    "id": "5oh4k1gEvxIR"
   },
   "outputs": [],
   "source": [
    "Y = np.append(np.zeros(52),np.ones(40),axis=0)"
   ]
  },
  {
   "cell_type": "code",
   "execution_count": 15,
   "metadata": {
    "colab": {
     "base_uri": "https://localhost:8080/"
    },
    "id": "PZuBWU5LvxIR",
    "outputId": "21a0987a-b533-41fc-bea5-9f94b3246a66",
    "scrolled": true
   },
   "outputs": [
    {
     "data": {
      "text/plain": [
       "(92,)"
      ]
     },
     "execution_count": 15,
     "metadata": {},
     "output_type": "execute_result"
    }
   ],
   "source": [
    "Y.shape"
   ]
  },
  {
   "cell_type": "markdown",
   "metadata": {
    "id": "w2w8w0VjvxIS"
   },
   "source": [
    "Now, we define the algorithms that we are going to use. "
   ]
  },
  {
   "cell_type": "code",
   "execution_count": 16,
   "metadata": {
    "id": "MEPfV3efvxIS"
   },
   "outputs": [],
   "source": [
    "from sklearn.tree import DecisionTreeClassifier\n",
    "from sklearn.neighbors import KNeighborsClassifier\n",
    "from sklearn.linear_model import LogisticRegression\n",
    "from sklearn.svm import SVC\n",
    "from sklearn.neural_network import MLPClassifier\n",
    "from sklearn.ensemble import ExtraTreesClassifier\n",
    "from sklearn.ensemble import GradientBoostingClassifier\n",
    "from sklearn.ensemble import RandomForestClassifier\n",
    "from sklearn.ensemble import AdaBoostClassifier\n",
    "from scipy.stats import randint as sp_randint"
   ]
  },
  {
   "cell_type": "code",
   "execution_count": 17,
   "metadata": {
    "id": "YwnPEwswvxIU"
   },
   "outputs": [],
   "source": [
    "# Decision tree\n",
    "clfTree = DecisionTreeClassifier(random_state=84)\n",
    "param_distTree = {\"min_samples_split\": sp_randint(3, 30)}\n",
    "# SVM\n",
    "clfSVC = SVC(random_state=84)\n",
    "param_distSVC = {'C': [1, 10, 100, 1000], 'gamma': [0.001, 0.0001],'kernel': ['rbf'], 'class_weight':['balanced', None]}\n",
    "# KNN\n",
    "clfKNN = KNeighborsClassifier()\n",
    "param_distKNN = {'n_neighbors':sp_randint(3, 30)}\n",
    "# Logistic regression\n",
    "clfLR = LogisticRegression(random_state=84)\n",
    "param_distLR = {'C': [0.1,0.5,1, 10, 100, 1000]}\n",
    "# Neural Network\n",
    "clfMLP = MLPClassifier(random_state=84)\n",
    "param_distMLP = {'activation': ['identity', 'logistic', 'tanh', 'relu'], 'solver': ['lbfgs', 'sgd', 'adam'],\n",
    "                 'alpha': sp_randint(0.0001, 1), 'learning_rate': ['constant', 'invscaling', 'adaptive'],\n",
    "                 'hidden_layer_sizes': [(5,2), (3,3,3), (5,3,2), (5,4,3,2)],\n",
    "                 'momentum': [0.9, 0.95, 0.99]}\n",
    "# RandomForest\n",
    "clfRF = RandomForestClassifier(random_state=84)\n",
    "param_distRF =  {'n_estimators': [int(x) for x in np.linspace(start = 200, stop = 2000, num = 10)], 'max_features': ['auto', 'sqrt'],'max_depth': [int(x) for x in np.linspace(10, 110, num = 11)],\n",
    "                 'min_samples_split': [2, 5, 10],'min_samples_leaf': [1, 2, 4],\n",
    "                 'bootstrap': [True, False]}\n",
    "# ExtraTreesClassifier\n",
    "clfET = ExtraTreesClassifier(random_state=84)\n",
    "param_distET =  {'n_estimators': [int(x) for x in np.linspace(start = 200, stop = 2000, num = 10)], 'max_features': ['auto', 'sqrt'],'max_depth': [int(x) for x in np.linspace(10, 110, num = 11)],\n",
    "                 'min_samples_split': [2, 5, 10],'min_samples_leaf': [1, 2, 4],\n",
    "                 'bootstrap': [True, False]}"
   ]
  },
  {
   "cell_type": "code",
   "execution_count": 18,
   "metadata": {
    "id": "GGQcPxBOvxIV"
   },
   "outputs": [],
   "source": [
    "listAlgorithms = [clfTree,clfSVC,clfKNN,clfLR,clfMLP,clfRF,clfET]"
   ]
  },
  {
   "cell_type": "code",
   "execution_count": 19,
   "metadata": {
    "id": "8Nl-1GpjvxIV"
   },
   "outputs": [],
   "source": [
    "listParams = [param_distTree,param_distSVC,param_distKNN,param_distLR,param_distMLP,param_distRF, param_distET]"
   ]
  },
  {
   "cell_type": "code",
   "execution_count": 20,
   "metadata": {
    "id": "IK_8iIWovxIV"
   },
   "outputs": [],
   "source": [
    "listNames = [\"Arbol\", \"SVM\", \"KNN\", \"LR\", \"MLP\",\"RF\",\"ET\"]"
   ]
  },
  {
   "cell_type": "markdown",
   "metadata": {},
   "source": [
    "# Plain comparison"
   ]
  },
  {
   "cell_type": "code",
   "execution_count": 21,
   "metadata": {
    "id": "LSSesjlBvxIV"
   },
   "outputs": [
    {
     "name": "stdout",
     "output_type": "stream",
     "text": [
      "temp.csv\n",
      "['Arbol' 'SVM' 'KNN' 'LR' 'MLP' 'RF' 'ET']\n",
      "==========================================================\n",
      "Report\n",
      "==========================================================\n",
      "**********************************************************\n",
      "Mean and std\n",
      "**********************************************************\n",
      "Arbol: 0.504643 (0.202844)\n",
      "SVM: 0.412976 (0.158461)\n",
      "KNN: 0.533571 (0.118487)\n",
      "LR: 0.609524 (0.143163)\n",
      "MLP: 0.557857 (0.198549)\n",
      "RF: 0.526310 (0.135052)\n",
      "ET: 0.542976 (0.149307)\n",
      "**********************************************************\n",
      "Statistical tests\n",
      "**********************************************************\n",
      "----------------------------------------------------------\n",
      "Checking parametric conditions \n",
      "----------------------------------------------------------\n",
      "Checking independence \n",
      "Ok\n",
      "Checking normality using Shapiro-Wilk's test for normality, alpha=0.05\n",
      "W: 0.963408, p:0.038724\n",
      "The null hypothesis (normality) is rejected\n",
      "Checking heteroscedasticity using Levene's test, alpha=0.05\n",
      "W: 0.727675, p:0.628982\n",
      "The null hypothesis (heteroscedasticity) is accepted\n",
      "Conditions for a parametric test are not fulfilled, applying a non-parametric test\n",
      "----------------------------------------------------------\n",
      "Working with more than 2 algorithms\n",
      "----------------------------------------------------------\n",
      "----------------------------------------------------------\n",
      "Applying Friedman test\n",
      "----------------------------------------------------------\n",
      "F-value: 2.152910, p-value: 0.06201613690631147\n",
      "Null hypothesis is rejected; hence, models have different performance\n",
      "Technique      Ranking\n",
      "-----------  ---------\n",
      "LR                5.45\n",
      "ET                4.25\n",
      "MLP               4.25\n",
      "RF                4.15\n",
      "KNN               3.95\n",
      "Arbol             3.7\n",
      "SVM               2.25\n",
      "Winner model: LR\n",
      "----------------------------------------------------------\n",
      "Applying Holm p-value adjustment procedure and analysing effect size\n",
      "----------------------------------------------------------\n",
      "Comparison      Zvalue      p-value    adjusted p-value\n",
      "------------  --------  -----------  ------------------\n",
      "LR vs SVM      3.31231  0.000925274          0.00555164\n",
      "LR vs Arbol    1.81142  0.0700755            0.350378\n",
      "LR vs KNN      1.55265  0.120507             0.482029\n",
      "LR vs RF       1.34563  0.178423             0.535268\n",
      "LR vs MLP      1.24212  0.214193             0.535268\n",
      "LR vs ET       1.24212  0.214193             0.535268\n",
      "There is a significant difference between the models: LR (mean: 0.609524, std: 0.143163) and SVM (mean: 0.412976, std: 0.158461) (Cohen's d=1.234795667435815, Large)\n",
      "There is a significant difference between the models: LR (mean: 0.609524, std: 0.143163) and Arbol (mean: 0.504643, std: 0.202844) (Cohen's d=0.5667558845624587, Large)\n",
      "There is a significant difference between the models: LR (mean: 0.609524, std: 0.143163) and KNN (mean: 0.533571, std: 0.118487) (Cohen's d=0.5483389889824367, Large)\n",
      "We can't say that there is a significant difference in the performance of the models: LR (mean: 0.609524, std: 0.143163) and RF (mean: 0.526310, std: 0.135052) (Cohen's d=0.5672615706962221, Large)\n",
      "We can't say that there is a significant difference in the performance of the models: LR (mean: 0.609524, std: 0.143163) and MLP (mean: 0.557857, std: 0.198549) (Cohen's d=0.28318524019428204, Medium)\n",
      "We can't say that there is a significant difference in the performance of the models: LR (mean: 0.609524, std: 0.143163) and ET (mean: 0.542976, std: 0.149307) (Cohen's d=0.4316242006731973, Medium)\n",
      "Eta squared: 0.106583 (Large)\n"
     ]
    },
    {
     "data": {
      "image/png": "[encoded data removed]",
      "text/plain": [
       "<Figure size 432x288 with 1 Axes>"
      ]
     },
     "metadata": {
      "needs_background": "light"
     },
     "output_type": "display_data"
    }
   ],
   "source": [
    "compare_methods(X,Y,listAlgorithms,listParams,listNames,metric='auroc')"
   ]
  },
  {
   "cell_type": "code",
   "execution_count": 22,
   "metadata": {},
   "outputs": [
    {
     "name": "stdout",
     "output_type": "stream",
     "text": [
      "temp.csv\n",
      "['Arbol' 'SVM' 'KNN' 'LR' 'MLP' 'RF' 'ET']\n",
      "==========================================================\n",
      "Report\n",
      "==========================================================\n",
      "**********************************************************\n",
      "Mean and std\n",
      "**********************************************************\n",
      "Arbol: 0.421667 (0.296465)\n",
      "SVM: 0.232500 (0.290078)\n",
      "KNN: 0.216667 (0.350000)\n",
      "LR: 0.599524 (0.279970)\n",
      "MLP: 0.541190 (0.365843)\n",
      "RF: 0.492857 (0.325599)\n",
      "ET: 0.376190 (0.340201)\n",
      "**********************************************************\n",
      "Statistical tests\n",
      "**********************************************************\n",
      "----------------------------------------------------------\n",
      "Checking parametric conditions \n",
      "----------------------------------------------------------\n",
      "Checking independence \n",
      "Ok\n",
      "Checking normality using Shapiro-Wilk's test for normality, alpha=0.05\n",
      "W: 0.875618, p:0.000005\n",
      "The null hypothesis (normality) is rejected\n",
      "Checking heteroscedasticity using Levene's test, alpha=0.05\n",
      "W: 0.283994, p:0.942464\n",
      "The null hypothesis (heteroscedasticity) is accepted\n",
      "Conditions for a parametric test are not fulfilled, applying a non-parametric test\n",
      "----------------------------------------------------------\n",
      "Working with more than 2 algorithms\n",
      "----------------------------------------------------------\n",
      "----------------------------------------------------------\n",
      "Applying Friedman test\n",
      "----------------------------------------------------------\n",
      "F-value: 1.426148, p-value: 0.22172834246903195\n",
      "Null hypothesis is rejected; hence, models have different performance\n",
      "Technique      Ranking\n",
      "-----------  ---------\n",
      "LR                5\n",
      "RF                4.55\n",
      "MLP               4.35\n",
      "ET                4.1\n",
      "Arbol             4.1\n",
      "KNN               3.25\n",
      "SVM               2.65\n",
      "Winner model: LR\n",
      "----------------------------------------------------------\n",
      "Applying Holm p-value adjustment procedure and analysing effect size\n",
      "----------------------------------------------------------\n",
      "Comparison      Zvalue    p-value    adjusted p-value\n",
      "------------  --------  ---------  ------------------\n",
      "LR vs SVM     2.43248   0.0149958           0.0899746\n",
      "LR vs KNN     1.81142   0.0700755           0.350378\n",
      "LR vs Arbol   0.931589  0.351549            1\n",
      "LR vs ET      0.931589  0.351549            1\n",
      "LR vs MLP     0.672814  0.501066            1\n",
      "LR vs RF      0.465794  0.641363            1\n",
      "There is a significant difference between the models: LR (mean: 0.599524, std: 0.279970) and SVM (mean: 0.232500, std: 0.290078) (Cohen's d=1.2214233528193417, Large)\n",
      "There is a significant difference between the models: LR (mean: 0.599524, std: 0.279970) and KNN (mean: 0.216667, std: 0.350000) (Cohen's d=1.14604434135762, Large)\n",
      "We can't say that there is a significant difference in the performance of the models: LR (mean: 0.599524, std: 0.279970) and Arbol (mean: 0.421667, std: 0.296465) (Cohen's d=0.585186811711112, Large)\n",
      "We can't say that there is a significant difference in the performance of the models: LR (mean: 0.599524, std: 0.279970) and ET (mean: 0.376190, std: 0.340201) (Cohen's d=0.680071711163669, Large)\n",
      "We can't say that there is a significant difference in the performance of the models: LR (mean: 0.599524, std: 0.279970) and MLP (mean: 0.541190, std: 0.365843) (Cohen's d=0.16988517091287053, Small)\n",
      "We can't say that there is a significant difference in the performance of the models: LR (mean: 0.599524, std: 0.279970) and RF (mean: 0.492857, std: 0.325599) (Cohen's d=0.333263067989875, Medium)\n",
      "Eta squared: 0.151566 (Large)\n"
     ]
    },
    {
     "data": {
      "image/png": "[encoded data removed]",
      "text/plain": [
       "<Figure size 432x288 with 1 Axes>"
      ]
     },
     "metadata": {
      "needs_background": "light"
     },
     "output_type": "display_data"
    }
   ],
   "source": [
    "compare_methods(X,Y,listAlgorithms,listParams,listNames,metric='precision')"
   ]
  },
  {
   "cell_type": "code",
   "execution_count": 23,
   "metadata": {},
   "outputs": [
    {
     "name": "stdout",
     "output_type": "stream",
     "text": [
      "temp.csv\n",
      "['Arbol' 'SVM' 'KNN' 'LR' 'MLP' 'RF' 'ET']\n",
      "==========================================================\n",
      "Report\n",
      "==========================================================\n",
      "**********************************************************\n",
      "Mean and std\n",
      "**********************************************************\n",
      "Arbol: 0.431667 (0.345322)\n",
      "SVM: 0.258333 (0.315018)\n",
      "KNN: 0.166667 (0.268742)\n",
      "LR: 0.576667 (0.301588)\n",
      "MLP: 0.440000 (0.305341)\n",
      "RF: 0.323333 (0.291662)\n",
      "ET: 0.315000 (0.338662)\n",
      "**********************************************************\n",
      "Statistical tests\n",
      "**********************************************************\n",
      "----------------------------------------------------------\n",
      "Checking parametric conditions \n",
      "----------------------------------------------------------\n",
      "Checking independence \n",
      "Ok\n",
      "Checking normality using Shapiro-Wilk's test for normality, alpha=0.05\n",
      "W: 0.868703, p:0.000003\n",
      "The null hypothesis (normality) is rejected\n",
      "Checking heteroscedasticity using Levene's test, alpha=0.05\n",
      "W: 0.341264, p:0.912372\n",
      "The null hypothesis (heteroscedasticity) is accepted\n",
      "Conditions for a parametric test are not fulfilled, applying a non-parametric test\n",
      "----------------------------------------------------------\n",
      "Working with more than 2 algorithms\n",
      "----------------------------------------------------------\n",
      "----------------------------------------------------------\n",
      "Applying Friedman test\n",
      "----------------------------------------------------------\n",
      "F-value: 3.274720, p-value: 0.008065498655483894\n",
      "Null hypothesis is rejected; hence, models have different performance\n",
      "Technique      Ranking\n",
      "-----------  ---------\n",
      "LR                5.8\n",
      "MLP               4.65\n",
      "Arbol             4.55\n",
      "RF                3.75\n",
      "SVM               3.5\n",
      "ET                3.45\n",
      "KNN               2.3\n",
      "Winner model: LR\n",
      "----------------------------------------------------------\n",
      "Applying Holm p-value adjustment procedure and analysing effect size\n",
      "----------------------------------------------------------\n",
      "Comparison      Zvalue      p-value    adjusted p-value\n",
      "------------  --------  -----------  ------------------\n",
      "LR vs KNN      3.62284  0.000291381          0.00174829\n",
      "LR vs ET       2.43248  0.0149958            0.0749789\n",
      "LR vs SVM      2.38073  0.0172786            0.0749789\n",
      "LR vs RF       2.12195  0.0338418            0.101525\n",
      "LR vs Arbol    1.29387  0.195709             0.391419\n",
      "LR vs MLP      1.19036  0.233904             0.391419\n",
      "There is a significant difference between the models: LR (mean: 0.576667, std: 0.301588) and KNN (mean: 0.166667, std: 0.268742) (Cohen's d=1.3617255997503273, Large)\n",
      "There is a significant difference between the models: LR (mean: 0.576667, std: 0.301588) and ET (mean: 0.315000, std: 0.338662) (Cohen's d=0.7741466356711736, Large)\n",
      "There is a significant difference between the models: LR (mean: 0.576667, std: 0.301588) and SVM (mean: 0.258333, std: 0.315018) (Cohen's d=0.9793154977577175, Large)\n",
      "There is a significant difference between the models: LR (mean: 0.576667, std: 0.301588) and RF (mean: 0.323333, std: 0.291662) (Cohen's d=0.8101115803577419, Large)\n",
      "There is a significant difference between the models: LR (mean: 0.576667, std: 0.301588) and Arbol (mean: 0.431667, std: 0.345322) (Cohen's d=0.4243117216670161, Medium)\n",
      "There is a significant difference between the models: LR (mean: 0.576667, std: 0.301588) and MLP (mean: 0.440000, std: 0.305341) (Cohen's d=0.42723531158094047, Medium)\n",
      "Eta squared: 0.139700 (Large)\n"
     ]
    },
    {
     "data": {
      "image/png": "[encoded data removed]",
      "text/plain": [
       "<Figure size 432x288 with 1 Axes>"
      ]
     },
     "metadata": {
      "needs_background": "light"
     },
     "output_type": "display_data"
    }
   ],
   "source": [
    "compare_methods(X,Y,listAlgorithms,listParams,listNames,metric='recall')"
   ]
  },
  {
   "cell_type": "code",
   "execution_count": 24,
   "metadata": {},
   "outputs": [
    {
     "name": "stdout",
     "output_type": "stream",
     "text": [
      "temp.csv\n",
      "['Arbol' 'SVM' 'KNN' 'LR' 'MLP' 'RF' 'ET']\n",
      "==========================================================\n",
      "Report\n",
      "==========================================================\n",
      "**********************************************************\n",
      "Mean and std\n",
      "**********************************************************\n",
      "Arbol: 0.476667 (0.172451)\n",
      "SVM: 0.401111 (0.175292)\n",
      "KNN: 0.563333 (0.135177)\n",
      "LR: 0.596667 (0.102325)\n",
      "MLP: 0.554444 (0.158733)\n",
      "RF: 0.523333 (0.108917)\n",
      "ET: 0.542222 (0.149798)\n",
      "**********************************************************\n",
      "Statistical tests\n",
      "**********************************************************\n",
      "----------------------------------------------------------\n",
      "Checking parametric conditions \n",
      "----------------------------------------------------------\n",
      "Checking independence \n",
      "Ok\n",
      "Checking normality using Shapiro-Wilk's test for normality, alpha=0.05\n",
      "W: 0.952993, p:0.010434\n",
      "The null hypothesis (normality) is rejected\n",
      "Checking heteroscedasticity using Levene's test, alpha=0.05\n",
      "W: 0.585796, p:0.740346\n",
      "The null hypothesis (heteroscedasticity) is accepted\n",
      "Conditions for a parametric test are not fulfilled, applying a non-parametric test\n",
      "----------------------------------------------------------\n",
      "Working with more than 2 algorithms\n",
      "----------------------------------------------------------\n",
      "----------------------------------------------------------\n",
      "Applying Friedman test\n",
      "----------------------------------------------------------\n",
      "F-value: 1.932755, p-value: 0.09205301884272843\n",
      "Null hypothesis is rejected; hence, models have different performance\n",
      "Technique      Ranking\n",
      "-----------  ---------\n",
      "LR                5.15\n",
      "KNN               4.65\n",
      "ET                4.3\n",
      "MLP               4.25\n",
      "RF                3.95\n",
      "Arbol             3.3\n",
      "SVM               2.4\n",
      "Winner model: LR\n",
      "----------------------------------------------------------\n",
      "Applying Holm p-value adjustment procedure and analysing effect size\n",
      "----------------------------------------------------------\n",
      "Comparison      Zvalue     p-value    adjusted p-value\n",
      "------------  --------  ----------  ------------------\n",
      "LR vs SVM     2.84652   0.00441999           0.0265199\n",
      "LR vs Arbol   1.91493   0.0555012            0.277506\n",
      "LR vs RF      1.24212   0.214193             0.856772\n",
      "LR vs MLP     0.931589  0.351549             1\n",
      "LR vs ET      0.879834  0.378949             1\n",
      "LR vs KNN     0.517549  0.604773             1\n",
      "There is a significant difference between the models: LR (mean: 0.596667, std: 0.102325) and SVM (mean: 0.401111, std: 0.175292) (Cohen's d=1.2926198386795387, Large)\n",
      "There is a significant difference between the models: LR (mean: 0.596667, std: 0.102325) and Arbol (mean: 0.476667, std: 0.172451) (Cohen's d=0.8028809042394671, Large)\n",
      "We can't say that there is a significant difference in the performance of the models: LR (mean: 0.596667, std: 0.102325) and RF (mean: 0.523333, std: 0.108917) (Cohen's d=0.658356161831037, Large)\n",
      "We can't say that there is a significant difference in the performance of the models: LR (mean: 0.596667, std: 0.102325) and MLP (mean: 0.554444, std: 0.158733) (Cohen's d=0.299948074426265, Medium)\n",
      "We can't say that there is a significant difference in the performance of the models: LR (mean: 0.596667, std: 0.102325) and ET (mean: 0.542222, std: 0.149798) (Cohen's d=0.4026490665246289, Medium)\n",
      "We can't say that there is a significant difference in the performance of the models: LR (mean: 0.596667, std: 0.102325) and KNN (mean: 0.563333, std: 0.135177) (Cohen's d=0.2637833411360645, Medium)\n",
      "Eta squared: 0.145955 (Large)\n"
     ]
    },
    {
     "data": {
      "image/png": "[encoded data removed]",
      "text/plain": [
       "<Figure size 432x288 with 1 Axes>"
      ]
     },
     "metadata": {
      "needs_background": "light"
     },
     "output_type": "display_data"
    }
   ],
   "source": [
    "compare_methods(X,Y,listAlgorithms,listParams,listNames,metric='accuracy')"
   ]
  },
  {
   "cell_type": "code",
   "execution_count": null,
   "metadata": {},
   "outputs": [],
   "source": []
  }
 ],
 "metadata": {
  "colab": {
   "name": "CompareMethods.ipynb",
   "provenance": []
  },
  "kernelspec": {
   "display_name": "Python 3",
   "language": "python",
   "name": "python3"
  },
  "language_info": {
   "codemirror_mode": {
    "name": "ipython",
    "version": 3
   },
   "file_extension": ".py",
   "mimetype": "text/x-python",
   "name": "python",
   "nbconvert_exporter": "python",
   "pygments_lexer": "ipython3",
   "version": "3.6.7"
  }
 },
 "nbformat": 4,
 "nbformat_minor": 1
}
