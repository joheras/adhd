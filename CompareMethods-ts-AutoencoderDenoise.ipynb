{
 "cells": [
  {
   "cell_type": "code",
   "execution_count": 1,
   "metadata": {
    "id": "9VdC2keIvxIJ"
   },
   "outputs": [],
   "source": [
    "import numpy as np\n",
    "from StatisticalAnalysis import compare_methods"
   ]
  },
  {
   "cell_type": "code",
   "execution_count": 2,
   "metadata": {
    "id": "3iCEO6wXtftF"
   },
   "outputs": [],
   "source": [
    "import warnings\n",
    "warnings.filterwarnings('ignore')"
   ]
  },
  {
   "cell_type": "markdown",
   "metadata": {
    "id": "Zb3btBk5vxIM"
   },
   "source": [
    "First we load the data and process it to have the correct form."
   ]
  },
  {
   "cell_type": "code",
   "execution_count": 3,
   "metadata": {},
   "outputs": [],
   "source": [
    "ts = np.load('tsAutoencoderDenoise.npy')"
   ]
  },
  {
   "cell_type": "code",
   "execution_count": 8,
   "metadata": {},
   "outputs": [],
   "source": [
    "ts_hc = ts[0:52]\n",
    "ts_adhd = ts[52:]"
   ]
  },
  {
   "cell_type": "code",
   "execution_count": 9,
   "metadata": {
    "id": "StF6b56QvxIN"
   },
   "outputs": [
    {
     "data": {
      "text/plain": [
       "(52, 16)"
      ]
     },
     "execution_count": 9,
     "metadata": {},
     "output_type": "execute_result"
    }
   ],
   "source": [
    "ts_hc.shape"
   ]
  },
  {
   "cell_type": "code",
   "execution_count": 10,
   "metadata": {
    "id": "qd1nFcAfvxIO"
   },
   "outputs": [],
   "source": [
    "ts_hc = ts_hc.reshape(52,16)"
   ]
  },
  {
   "cell_type": "code",
   "execution_count": 13,
   "metadata": {
    "id": "fc006UE6vxIO"
   },
   "outputs": [],
   "source": [
    "ts_adhd = ts_adhd.reshape(40,16)"
   ]
  },
  {
   "cell_type": "code",
   "execution_count": 14,
   "metadata": {
    "id": "SEhdGg3IvxIP"
   },
   "outputs": [],
   "source": [
    "X = np.append(ts_hc,ts_adhd,axis=0)"
   ]
  },
  {
   "cell_type": "code",
   "execution_count": 15,
   "metadata": {
    "colab": {
     "base_uri": "https://localhost:8080/"
    },
    "id": "8d-RFXoavxIQ",
    "outputId": "a61e1d34-79c6-4f1a-df1f-0b3a74b2c53d"
   },
   "outputs": [
    {
     "data": {
      "text/plain": [
       "(92, 16)"
      ]
     },
     "execution_count": 15,
     "metadata": {},
     "output_type": "execute_result"
    }
   ],
   "source": [
    "X.shape"
   ]
  },
  {
   "cell_type": "code",
   "execution_count": 16,
   "metadata": {
    "colab": {
     "base_uri": "https://localhost:8080/"
    },
    "id": "hnaiAVUvJmgn",
    "outputId": "6cb5c264-f346-4b38-e85b-aa3b8bf8ace6"
   },
   "outputs": [
    {
     "data": {
      "text/plain": [
       "(16,)"
      ]
     },
     "execution_count": 16,
     "metadata": {},
     "output_type": "execute_result"
    }
   ],
   "source": [
    "X[0].shape"
   ]
  },
  {
   "cell_type": "code",
   "execution_count": 17,
   "metadata": {
    "id": "5oh4k1gEvxIR"
   },
   "outputs": [],
   "source": [
    "Y = np.append(np.zeros(52),np.ones(40),axis=0)"
   ]
  },
  {
   "cell_type": "code",
   "execution_count": 18,
   "metadata": {
    "colab": {
     "base_uri": "https://localhost:8080/"
    },
    "id": "PZuBWU5LvxIR",
    "outputId": "21a0987a-b533-41fc-bea5-9f94b3246a66",
    "scrolled": true
   },
   "outputs": [
    {
     "data": {
      "text/plain": [
       "(92,)"
      ]
     },
     "execution_count": 18,
     "metadata": {},
     "output_type": "execute_result"
    }
   ],
   "source": [
    "Y.shape"
   ]
  },
  {
   "cell_type": "markdown",
   "metadata": {
    "id": "w2w8w0VjvxIS"
   },
   "source": [
    "Now, we define the algorithms that we are going to use. "
   ]
  },
  {
   "cell_type": "code",
   "execution_count": 19,
   "metadata": {
    "id": "MEPfV3efvxIS"
   },
   "outputs": [],
   "source": [
    "from sklearn.tree import DecisionTreeClassifier\n",
    "from sklearn.neighbors import KNeighborsClassifier\n",
    "from sklearn.linear_model import LogisticRegression\n",
    "from sklearn.svm import SVC\n",
    "from sklearn.neural_network import MLPClassifier\n",
    "from sklearn.ensemble import ExtraTreesClassifier\n",
    "from sklearn.ensemble import GradientBoostingClassifier\n",
    "from sklearn.ensemble import RandomForestClassifier\n",
    "from sklearn.ensemble import AdaBoostClassifier\n",
    "from scipy.stats import randint as sp_randint"
   ]
  },
  {
   "cell_type": "code",
   "execution_count": 20,
   "metadata": {
    "id": "YwnPEwswvxIU"
   },
   "outputs": [],
   "source": [
    "# Decision tree\n",
    "clfTree = DecisionTreeClassifier(random_state=84)\n",
    "param_distTree = {\"min_samples_split\": sp_randint(3, 30)}\n",
    "# SVM\n",
    "clfSVC = SVC(random_state=84)\n",
    "param_distSVC = {'C': [1, 10, 100, 1000], 'gamma': [0.001, 0.0001],'kernel': ['rbf'], 'class_weight':['balanced', None]}\n",
    "# KNN\n",
    "clfKNN = KNeighborsClassifier()\n",
    "param_distKNN = {'n_neighbors':sp_randint(3, 30)}\n",
    "# Logistic regression\n",
    "clfLR = LogisticRegression(random_state=84)\n",
    "param_distLR = {'C': [0.1,0.5,1, 10, 100, 1000]}\n",
    "# Neural Network\n",
    "clfMLP = MLPClassifier(random_state=84)\n",
    "param_distMLP = {'activation': ['identity', 'logistic', 'tanh', 'relu'], 'solver': ['lbfgs', 'sgd', 'adam'],\n",
    "                 'alpha': sp_randint(0.0001, 1), 'learning_rate': ['constant', 'invscaling', 'adaptive'],\n",
    "                 'hidden_layer_sizes': [(5,2), (3,3,3), (5,3,2), (5,4,3,2)],\n",
    "                 'momentum': [0.9, 0.95, 0.99]}\n",
    "# RandomForest\n",
    "clfRF = RandomForestClassifier(random_state=84)\n",
    "param_distRF =  {'n_estimators': [int(x) for x in np.linspace(start = 200, stop = 2000, num = 10)], 'max_features': ['auto', 'sqrt'],'max_depth': [int(x) for x in np.linspace(10, 110, num = 11)],\n",
    "                 'min_samples_split': [2, 5, 10],'min_samples_leaf': [1, 2, 4],\n",
    "                 'bootstrap': [True, False]}\n",
    "# ExtraTreesClassifier\n",
    "clfET = ExtraTreesClassifier(random_state=84)\n",
    "param_distET =  {'n_estimators': [int(x) for x in np.linspace(start = 200, stop = 2000, num = 10)], 'max_features': ['auto', 'sqrt'],'max_depth': [int(x) for x in np.linspace(10, 110, num = 11)],\n",
    "                 'min_samples_split': [2, 5, 10],'min_samples_leaf': [1, 2, 4],\n",
    "                 'bootstrap': [True, False]}"
   ]
  },
  {
   "cell_type": "code",
   "execution_count": 21,
   "metadata": {
    "id": "GGQcPxBOvxIV"
   },
   "outputs": [],
   "source": [
    "listAlgorithms = [clfTree,clfSVC,clfKNN,clfLR,clfMLP,clfRF,clfET]"
   ]
  },
  {
   "cell_type": "code",
   "execution_count": 22,
   "metadata": {
    "id": "8Nl-1GpjvxIV"
   },
   "outputs": [],
   "source": [
    "listParams = [param_distTree,param_distSVC,param_distKNN,param_distLR,param_distMLP,param_distRF, param_distET]"
   ]
  },
  {
   "cell_type": "code",
   "execution_count": 23,
   "metadata": {
    "id": "IK_8iIWovxIV"
   },
   "outputs": [],
   "source": [
    "listNames = [\"Arbol\", \"SVM\", \"KNN\", \"LR\", \"MLP\",\"RF\",\"ET\"]"
   ]
  },
  {
   "cell_type": "markdown",
   "metadata": {},
   "source": [
    "# Plain comparison"
   ]
  },
  {
   "cell_type": "code",
   "execution_count": 24,
   "metadata": {
    "id": "LSSesjlBvxIV"
   },
   "outputs": [
    {
     "name": "stdout",
     "output_type": "stream",
     "text": [
      "temp.csv\n",
      "['Arbol' 'SVM' 'KNN' 'LR' 'MLP' 'RF' 'ET']\n",
      "==========================================================\n",
      "Report\n",
      "==========================================================\n",
      "**********************************************************\n",
      "Mean and std\n",
      "**********************************************************\n",
      "Arbol: 0.515000 (0.205211)\n",
      "SVM: 0.418810 (0.172443)\n",
      "KNN: 0.582500 (0.151495)\n",
      "LR: 0.449167 (0.189453)\n",
      "MLP: 0.452143 (0.179971)\n",
      "RF: 0.559881 (0.165872)\n",
      "ET: 0.471548 (0.196891)\n",
      "**********************************************************\n",
      "Statistical tests\n",
      "**********************************************************\n",
      "----------------------------------------------------------\n",
      "Checking parametric conditions \n",
      "----------------------------------------------------------\n",
      "Checking independence \n",
      "Ok\n",
      "Checking normality using Shapiro-Wilk's test for normality, alpha=0.05\n",
      "W: 0.987471, p:0.713975\n",
      "The null hypothesis (normality) is accepted\n",
      "Checking heteroscedasticity using Levene's test, alpha=0.05\n",
      "W: 0.333238, p:0.916915\n",
      "The null hypothesis (heteroscedasticity) is accepted\n",
      "Conditions for a parametric test are fulfilled\n",
      "----------------------------------------------------------\n",
      "Working with more than 2 algorithms\n",
      "----------------------------------------------------------\n",
      "----------------------------------------------------------\n",
      "Applying ANOVA test\n",
      "----------------------------------------------------------\n",
      "F-value: 1.031041, p-value: 0.4137368524553622\n",
      "Null hypothesis is rejected; hence, models have different performance\n",
      "----------------------------------------------------------\n",
      "Applying Bonferroni-Dunn post-hoc and analysing effect size\n",
      "----------------------------------------------------------\n",
      "Comparison       Zvalue    p-value    adjusted p-value\n",
      "------------  ---------  ---------  ------------------\n",
      "SVM vs KNN    1.91831    0.0298027            0.625858\n",
      "SVM vs RF     1.65324    0.0516288            1\n",
      "KNN vs LR     1.56255    0.0615836            1\n",
      "KNN vs MLP    1.52768    0.0657993            1\n",
      "KNN vs ET     1.30027    0.0991229            1\n",
      "LR vs RF      1.29748    0.0995989            1\n",
      "MLP vs RF     1.2626     0.105693             1\n",
      "Arbol vs SVM  1.12727    0.131952             1\n",
      "RF vs ET      1.03519    0.152268             1\n",
      "Arbol vs KNN  0.791043   0.215943             1\n",
      "Arbol vs LR   0.771511   0.221644             1\n",
      "Arbol vs MLP  0.736633   0.23204              1\n",
      "SVM vs ET     0.618046   0.269386             1\n",
      "Arbol vs RF   0.525967   0.300379             1\n",
      "Arbol vs ET   0.509225   0.306187             1\n",
      "SVM vs MLP    0.390639   0.348691             1\n",
      "SVM vs LR     0.35576    0.361604             1\n",
      "KNN vs RF     0.265076   0.395908             1\n",
      "LR vs ET      0.262286   0.396978             1\n",
      "MLP vs ET     0.227407   0.410422             1\n",
      "LR vs MLP     0.0348784  0.486143             1\n",
      "We can't say that there is a significant difference in the performance of the models: SVM (mean: 0.418810, std: 0.172443) and KNN (mean: 0.582500, std: 0.151495) (Cohen's d=0.9567679702639118, Large)\n",
      "We can't say that there is a significant difference in the performance of the models: SVM (mean: 0.418810, std: 0.172443) and RF (mean: 0.559881, std: 0.165872) (Cohen's d=0.7910185305723235, Large)\n",
      "We can't say that there is a significant difference in the performance of the models: KNN (mean: 0.582500, std: 0.151495) and LR (mean: 0.449167, std: 0.189453) (Cohen's d=0.7374415272140468, Large)\n",
      "We can't say that there is a significant difference in the performance of the models: KNN (mean: 0.582500, std: 0.151495) and MLP (mean: 0.452143, std: 0.179971) (Cohen's d=0.7434489308496132, Large)\n",
      "We can't say that there is a significant difference in the performance of the models: KNN (mean: 0.582500, std: 0.151495) and ET (mean: 0.471548, std: 0.196891) (Cohen's d=0.5991996462289919, Large)\n",
      "We can't say that there is a significant difference in the performance of the models: LR (mean: 0.449167, std: 0.189453) and RF (mean: 0.559881, std: 0.165872) (Cohen's d=0.5898953829669743, Large)\n",
      "We can't say that there is a significant difference in the performance of the models: MLP (mean: 0.452143, std: 0.179971) and RF (mean: 0.559881, std: 0.165872) (Cohen's d=0.5905833398017343, Large)\n",
      "We can't say that there is a significant difference in the performance of the models: Arbol (mean: 0.515000, std: 0.205211) and SVM (mean: 0.418810, std: 0.172443) (Cohen's d=0.4814606150169803, Medium)\n",
      "We can't say that there is a significant difference in the performance of the models: RF (mean: 0.559881, std: 0.165872) and ET (mean: 0.471548, std: 0.196891) (Cohen's d=0.46033168235357397, Medium)\n",
      "We can't say that there is a significant difference in the performance of the models: Arbol (mean: 0.515000, std: 0.205211) and KNN (mean: 0.582500, std: 0.151495) (Cohen's d=0.35503881427034656, Medium)\n",
      "We can't say that there is a significant difference in the performance of the models: Arbol (mean: 0.515000, std: 0.205211) and LR (mean: 0.449167, std: 0.189453) (Cohen's d=0.31624549030948923, Medium)\n",
      "We can't say that there is a significant difference in the performance of the models: Arbol (mean: 0.515000, std: 0.205211) and MLP (mean: 0.452143, std: 0.179971) (Cohen's d=0.3089657039108784, Medium)\n",
      "We can't say that there is a significant difference in the performance of the models: SVM (mean: 0.418810, std: 0.172443) and ET (mean: 0.471548, std: 0.196891) (Cohen's d=0.2703379994884344, Medium)\n",
      "We can't say that there is a significant difference in the performance of the models: Arbol (mean: 0.515000, std: 0.205211) and RF (mean: 0.559881, std: 0.165872) (Cohen's d=0.22819992198035963, Medium)\n",
      "We can't say that there is a significant difference in the performance of the models: Arbol (mean: 0.515000, std: 0.205211) and ET (mean: 0.471548, std: 0.196891) (Cohen's d=0.20499161696484286, Medium)\n",
      "We can't say that there is a significant difference in the performance of the models: SVM (mean: 0.418810, std: 0.172443) and MLP (mean: 0.452143, std: 0.179971) (Cohen's d=0.17942304809349496, Small)\n",
      "We can't say that there is a significant difference in the performance of the models: SVM (mean: 0.418810, std: 0.172443) and LR (mean: 0.449167, std: 0.189453) (Cohen's d=0.15898256487176565, Small)\n",
      "We can't say that there is a significant difference in the performance of the models: KNN (mean: 0.582500, std: 0.151495) and RF (mean: 0.559881, std: 0.165872) (Cohen's d=0.1350885002632251, Small)\n",
      "We can't say that there is a significant difference in the performance of the models: LR (mean: 0.449167, std: 0.189453) and ET (mean: 0.471548, std: 0.196891) (Cohen's d=0.10989444825981054, Small)\n",
      "We can't say that there is a significant difference in the performance of the models: MLP (mean: 0.452143, std: 0.179971) and ET (mean: 0.471548, std: 0.196891) (Cohen's d=0.09759793744543722, Small)\n",
      "We can't say that there is a significant difference in the performance of the models: LR (mean: 0.449167, std: 0.189453) and MLP (mean: 0.452143, std: 0.179971) (Cohen's d=0.015280754605189618, Small)\n",
      "Eta squared: 0.089414 (Large)\n"
     ]
    },
    {
     "data": {
      "image/png": "[encoded data removed]",
      "text/plain": [
       "<Figure size 432x288 with 1 Axes>"
      ]
     },
     "metadata": {
      "needs_background": "light"
     },
     "output_type": "display_data"
    }
   ],
   "source": [
    "compare_methods(X,Y,listAlgorithms,listParams,listNames,metric='auroc')"
   ]
  },
  {
   "cell_type": "code",
   "execution_count": 25,
   "metadata": {},
   "outputs": [
    {
     "name": "stdout",
     "output_type": "stream",
     "text": [
      "temp.csv\n",
      "['Arbol' 'SVM' 'KNN' 'LR' 'MLP' 'RF' 'ET']\n",
      "==========================================================\n",
      "Report\n",
      "==========================================================\n",
      "**********************************************************\n",
      "Mean and std\n",
      "**********************************************************\n",
      "Arbol: 0.483690 (0.317938)\n",
      "SVM: 0.163333 (0.170098)\n",
      "KNN: 0.375000 (0.464354)\n",
      "LR: 0.370000 (0.353538)\n",
      "MLP: 0.341667 (0.292142)\n",
      "RF: 0.516667 (0.360940)\n",
      "ET: 0.300000 (0.400000)\n",
      "**********************************************************\n",
      "Statistical tests\n",
      "**********************************************************\n",
      "----------------------------------------------------------\n",
      "Checking parametric conditions \n",
      "----------------------------------------------------------\n",
      "Checking independence \n",
      "Ok\n",
      "Checking normality using Shapiro-Wilk's test for normality, alpha=0.05\n",
      "W: 0.833927, p:0.000000\n",
      "The null hypothesis (normality) is rejected\n",
      "Checking heteroscedasticity using Levene's test, alpha=0.05\n",
      "W: 0.459046, p:0.835889\n",
      "The null hypothesis (heteroscedasticity) is accepted\n",
      "Conditions for a parametric test are not fulfilled, applying a non-parametric test\n",
      "----------------------------------------------------------\n",
      "Working with more than 2 algorithms\n",
      "----------------------------------------------------------\n",
      "----------------------------------------------------------\n",
      "Applying Friedman test\n",
      "----------------------------------------------------------\n",
      "F-value: 1.310966, p-value: 0.2681908308134622\n",
      "Null hypothesis is rejected; hence, models have different performance\n",
      "Technique      Ranking\n",
      "-----------  ---------\n",
      "Arbol             4.95\n",
      "RF                4.75\n",
      "MLP               4.3\n",
      "KNN               4.05\n",
      "LR                3.75\n",
      "ET                3.5\n",
      "SVM               2.7\n",
      "Winner model: Arbol\n",
      "----------------------------------------------------------\n",
      "Applying Holm p-value adjustment procedure and analysing effect size\n",
      "----------------------------------------------------------\n",
      "Comparison      Zvalue    p-value    adjusted p-value\n",
      "------------  --------  ---------  ------------------\n",
      "Arbol vs SVM  2.32897   0.0198606            0.119164\n",
      "Arbol vs ET   1.50089   0.133383             0.666917\n",
      "Arbol vs LR   1.24212   0.214193             0.856772\n",
      "Arbol vs KNN  0.931589  0.351549             1\n",
      "Arbol vs MLP  0.672814  0.501066             1\n",
      "Arbol vs RF   0.20702   0.835994             1\n",
      "There is a significant difference between the models: Arbol (mean: 0.483690, std: 0.317938) and SVM (mean: 0.163333, std: 0.170098) (Cohen's d=1.191980726551912, Large)\n",
      "We can't say that there is a significant difference in the performance of the models: Arbol (mean: 0.483690, std: 0.317938) and ET (mean: 0.300000, std: 0.400000) (Cohen's d=0.482316770996103, Medium)\n",
      "We can't say that there is a significant difference in the performance of the models: Arbol (mean: 0.483690, std: 0.317938) and LR (mean: 0.370000, std: 0.353538) (Cohen's d=0.3208009411894707, Medium)\n",
      "We can't say that there is a significant difference in the performance of the models: Arbol (mean: 0.483690, std: 0.317938) and KNN (mean: 0.375000, std: 0.464354) (Cohen's d=0.25911777841578437, Medium)\n",
      "We can't say that there is a significant difference in the performance of the models: Arbol (mean: 0.483690, std: 0.317938) and MLP (mean: 0.341667, std: 0.292142) (Cohen's d=0.4413036568052344, Medium)\n",
      "We can't say that there is a significant difference in the performance of the models: Arbol (mean: 0.483690, std: 0.317938) and RF (mean: 0.516667, std: 0.360940) (Cohen's d=0.09197937992380077, Small)\n",
      "Eta squared: 0.088977 (Large)\n"
     ]
    },
    {
     "data": {
      "image/png": "[encoded data removed]",
      "text/plain": [
       "<Figure size 432x288 with 1 Axes>"
      ]
     },
     "metadata": {
      "needs_background": "light"
     },
     "output_type": "display_data"
    }
   ],
   "source": [
    "compare_methods(X,Y,listAlgorithms,listParams,listNames,metric='precision')"
   ]
  },
  {
   "cell_type": "code",
   "execution_count": 26,
   "metadata": {},
   "outputs": [
    {
     "name": "stdout",
     "output_type": "stream",
     "text": [
      "temp.csv\n",
      "['Arbol' 'SVM' 'KNN' 'LR' 'MLP' 'RF' 'ET']\n",
      "==========================================================\n",
      "Report\n",
      "==========================================================\n",
      "**********************************************************\n",
      "Mean and std\n",
      "**********************************************************\n",
      "Arbol: 0.490000 (0.356776)\n",
      "SVM: 0.216667 (0.256038)\n",
      "KNN: 0.226667 (0.290899)\n",
      "LR: 0.308333 (0.252900)\n",
      "MLP: 0.285000 (0.232552)\n",
      "RF: 0.348333 (0.219399)\n",
      "ET: 0.183333 (0.262996)\n",
      "**********************************************************\n",
      "Statistical tests\n",
      "**********************************************************\n",
      "----------------------------------------------------------\n",
      "Checking parametric conditions \n",
      "----------------------------------------------------------\n",
      "Checking independence \n",
      "Ok\n",
      "Checking normality using Shapiro-Wilk's test for normality, alpha=0.05\n",
      "W: 0.863737, p:0.000002\n",
      "The null hypothesis (normality) is rejected\n",
      "Checking heteroscedasticity using Levene's test, alpha=0.05\n",
      "W: 0.364482, p:0.898684\n",
      "The null hypothesis (heteroscedasticity) is accepted\n",
      "Conditions for a parametric test are not fulfilled, applying a non-parametric test\n",
      "----------------------------------------------------------\n",
      "Working with more than 2 algorithms\n",
      "----------------------------------------------------------\n",
      "----------------------------------------------------------\n",
      "Applying Friedman test\n",
      "----------------------------------------------------------\n",
      "F-value: 2.328388, p-value: 0.0451376518117379\n",
      "Null hypothesis is rejected; hence, models have different performance\n",
      "Technique      Ranking\n",
      "-----------  ---------\n",
      "Arbol             5.75\n",
      "RF                4.3\n",
      "MLP               4.3\n",
      "LR                4.3\n",
      "SVM               3.3\n",
      "KNN               3.15\n",
      "ET                2.9\n",
      "Winner model: Arbol\n",
      "----------------------------------------------------------\n",
      "Applying Holm p-value adjustment procedure and analysing effect size\n",
      "----------------------------------------------------------\n",
      "Comparison      Zvalue     p-value    adjusted p-value\n",
      "------------  --------  ----------  ------------------\n",
      "Arbol vs ET    2.95003  0.00317743           0.0190646\n",
      "Arbol vs KNN   2.69126  0.00711836           0.0355918\n",
      "Arbol vs SVM   2.53599  0.011213             0.0448519\n",
      "Arbol vs LR    1.50089  0.133383             0.40015\n",
      "Arbol vs MLP   1.50089  0.133383             0.40015\n",
      "Arbol vs RF    1.50089  0.133383             0.40015\n",
      "There is a significant difference between the models: Arbol (mean: 0.490000, std: 0.356776) and ET (mean: 0.183333, std: 0.262996) (Cohen's d=0.9282622043269356, Large)\n",
      "There is a significant difference between the models: Arbol (mean: 0.490000, std: 0.356776) and KNN (mean: 0.226667, std: 0.290899) (Cohen's d=0.7674767447234316, Large)\n",
      "There is a significant difference between the models: Arbol (mean: 0.490000, std: 0.356776) and SVM (mean: 0.216667, std: 0.256038) (Cohen's d=0.8350746192574938, Large)\n",
      "There is a significant difference between the models: Arbol (mean: 0.490000, std: 0.356776) and LR (mean: 0.308333, std: 0.252900) (Cohen's d=0.5573319393464684, Large)\n",
      "There is a significant difference between the models: Arbol (mean: 0.490000, std: 0.356776) and MLP (mean: 0.285000, std: 0.232552) (Cohen's d=0.6458148874742214, Large)\n",
      "There is a significant difference between the models: Arbol (mean: 0.490000, std: 0.356776) and RF (mean: 0.348333, std: 0.219399) (Cohen's d=0.4537934105467025, Medium)\n",
      "Eta squared: 0.111596 (Large)\n"
     ]
    },
    {
     "data": {
      "image/png": "[encoded data removed]",
      "text/plain": [
       "<Figure size 432x288 with 1 Axes>"
      ]
     },
     "metadata": {
      "needs_background": "light"
     },
     "output_type": "display_data"
    }
   ],
   "source": [
    "compare_methods(X,Y,listAlgorithms,listParams,listNames,metric='recall')"
   ]
  },
  {
   "cell_type": "code",
   "execution_count": 27,
   "metadata": {},
   "outputs": [
    {
     "name": "stdout",
     "output_type": "stream",
     "text": [
      "temp.csv\n",
      "['Arbol' 'SVM' 'KNN' 'LR' 'MLP' 'RF' 'ET']\n",
      "==========================================================\n",
      "Report\n",
      "==========================================================\n",
      "**********************************************************\n",
      "Mean and std\n",
      "**********************************************************\n",
      "Arbol: 0.477778 (0.169312)\n",
      "SVM: 0.400000 (0.162997)\n",
      "KNN: 0.617778 (0.204046)\n",
      "LR: 0.443333 (0.165585)\n",
      "MLP: 0.477778 (0.184592)\n",
      "RF: 0.572222 (0.170493)\n",
      "ET: 0.484444 (0.213044)\n",
      "**********************************************************\n",
      "Statistical tests\n",
      "**********************************************************\n",
      "----------------------------------------------------------\n",
      "Checking parametric conditions \n",
      "----------------------------------------------------------\n",
      "Checking independence \n",
      "Ok\n",
      "Checking normality using Shapiro-Wilk's test for normality, alpha=0.05\n",
      "W: 0.969829, p:0.089132\n",
      "The null hypothesis (normality) is rejected\n",
      "Checking heteroscedasticity using Levene's test, alpha=0.05\n",
      "W: 0.525593, p:0.786783\n",
      "The null hypothesis (heteroscedasticity) is accepted\n",
      "Conditions for a parametric test are not fulfilled, applying a non-parametric test\n",
      "----------------------------------------------------------\n",
      "Working with more than 2 algorithms\n",
      "----------------------------------------------------------\n",
      "----------------------------------------------------------\n",
      "Applying Friedman test\n",
      "----------------------------------------------------------\n",
      "F-value: 3.182741, p-value: 0.009528563919150468\n",
      "Null hypothesis is rejected; hence, models have different performance\n",
      "Technique      Ranking\n",
      "-----------  ---------\n",
      "KNN               5.5\n",
      "RF                5.4\n",
      "MLP               3.85\n",
      "ET                3.8\n",
      "Arbol             3.65\n",
      "LR                3.4\n",
      "SVM               2.4\n",
      "Winner model: KNN\n",
      "----------------------------------------------------------\n",
      "Applying Holm p-value adjustment procedure and analysing effect size\n",
      "----------------------------------------------------------\n",
      "Comparison      Zvalue     p-value    adjusted p-value\n",
      "------------  --------  ----------  ------------------\n",
      "KNN vs SVM     3.2088   0.00133288          0.00799728\n",
      "KNN vs LR      2.17371  0.0297272           0.148636\n",
      "KNN vs Arbol   1.91493  0.0555012           0.222005\n",
      "KNN vs ET      1.75967  0.0784643           0.235393\n",
      "KNN vs MLP     1.70791  0.0876526           0.235393\n",
      "KNN vs RF      0.10351  0.917558            0.917558\n",
      "There is a significant difference between the models: KNN (mean: 0.617778, std: 0.204046) and SVM (mean: 0.400000, std: 0.162997) (Cohen's d=1.1187930648454496, Large)\n",
      "There is a significant difference between the models: KNN (mean: 0.617778, std: 0.204046) and LR (mean: 0.443333, std: 0.165585) (Cohen's d=0.8906392865389957, Large)\n",
      "There is a significant difference between the models: KNN (mean: 0.617778, std: 0.204046) and Arbol (mean: 0.477778, std: 0.169312) (Cohen's d=0.7084069484470322, Large)\n",
      "There is a significant difference between the models: KNN (mean: 0.617778, std: 0.204046) and ET (mean: 0.484444, std: 0.213044) (Cohen's d=0.6064009939594219, Large)\n",
      "There is a significant difference between the models: KNN (mean: 0.617778, std: 0.204046) and MLP (mean: 0.477778, std: 0.184592) (Cohen's d=0.6826397289518161, Large)\n",
      "We can't say that there is a significant difference in the performance of the models: KNN (mean: 0.617778, std: 0.204046) and RF (mean: 0.572222, std: 0.170493) (Cohen's d=0.22985836297822415, Medium)\n",
      "Eta squared: 0.125549 (Large)\n"
     ]
    },
    {
     "data": {
      "image/png": "[encoded data removed]",
      "text/plain": [
       "<Figure size 432x288 with 1 Axes>"
      ]
     },
     "metadata": {
      "needs_background": "light"
     },
     "output_type": "display_data"
    }
   ],
   "source": [
    "compare_methods(X,Y,listAlgorithms,listParams,listNames,metric='accuracy')"
   ]
  },
  {
   "cell_type": "code",
   "execution_count": null,
   "metadata": {},
   "outputs": [],
   "source": []
  }
 ],
 "metadata": {
  "colab": {
   "name": "CompareMethods.ipynb",
   "provenance": []
  },
  "kernelspec": {
   "display_name": "Python 3",
   "language": "python",
   "name": "python3"
  },
  "language_info": {
   "codemirror_mode": {
    "name": "ipython",
    "version": 3
   },
   "file_extension": ".py",
   "mimetype": "text/x-python",
   "name": "python",
   "nbconvert_exporter": "python",
   "pygments_lexer": "ipython3",
   "version": "3.6.7"
  }
 },
 "nbformat": 4,
 "nbformat_minor": 1
}
