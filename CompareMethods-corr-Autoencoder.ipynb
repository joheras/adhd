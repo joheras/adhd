{
 "cells": [
  {
   "cell_type": "code",
   "execution_count": 1,
   "metadata": {
    "id": "9VdC2keIvxIJ"
   },
   "outputs": [],
   "source": [
    "import numpy as np\n",
    "from StatisticalAnalysis import compare_methods"
   ]
  },
  {
   "cell_type": "code",
   "execution_count": 2,
   "metadata": {
    "id": "3iCEO6wXtftF"
   },
   "outputs": [],
   "source": [
    "import warnings\n",
    "warnings.filterwarnings('ignore')"
   ]
  },
  {
   "cell_type": "markdown",
   "metadata": {
    "id": "Zb3btBk5vxIM"
   },
   "source": [
    "First we load the data and process it to have the correct form."
   ]
  },
  {
   "cell_type": "code",
   "execution_count": 3,
   "metadata": {},
   "outputs": [],
   "source": [
    "corr = np.load('corrAutoencoder.npy')"
   ]
  },
  {
   "cell_type": "code",
   "execution_count": 6,
   "metadata": {},
   "outputs": [],
   "source": [
    "corr_hc = corr[0:52]\n",
    "corr_adhd = corr[52:]"
   ]
  },
  {
   "cell_type": "code",
   "execution_count": 8,
   "metadata": {
    "id": "StF6b56QvxIN"
   },
   "outputs": [
    {
     "data": {
      "text/plain": [
       "(40, 15, 15, 1)"
      ]
     },
     "execution_count": 8,
     "metadata": {},
     "output_type": "execute_result"
    }
   ],
   "source": [
    "corr_adhd.shape"
   ]
  },
  {
   "cell_type": "code",
   "execution_count": 9,
   "metadata": {
    "id": "qd1nFcAfvxIO"
   },
   "outputs": [],
   "source": [
    "corr_hc = corr_hc.reshape(52,15*15)"
   ]
  },
  {
   "cell_type": "code",
   "execution_count": 10,
   "metadata": {
    "id": "fc006UE6vxIO"
   },
   "outputs": [],
   "source": [
    "corr_adhd = corr_adhd.reshape(40,15*15)"
   ]
  },
  {
   "cell_type": "code",
   "execution_count": 12,
   "metadata": {
    "id": "SEhdGg3IvxIP"
   },
   "outputs": [],
   "source": [
    "X = np.append(corr_hc,corr_adhd,axis=0)"
   ]
  },
  {
   "cell_type": "code",
   "execution_count": 13,
   "metadata": {
    "colab": {
     "base_uri": "https://localhost:8080/"
    },
    "id": "8d-RFXoavxIQ",
    "outputId": "a61e1d34-79c6-4f1a-df1f-0b3a74b2c53d"
   },
   "outputs": [
    {
     "data": {
      "text/plain": [
       "(92, 225)"
      ]
     },
     "execution_count": 13,
     "metadata": {},
     "output_type": "execute_result"
    }
   ],
   "source": [
    "X.shape"
   ]
  },
  {
   "cell_type": "code",
   "execution_count": 14,
   "metadata": {
    "colab": {
     "base_uri": "https://localhost:8080/"
    },
    "id": "hnaiAVUvJmgn",
    "outputId": "6cb5c264-f346-4b38-e85b-aa3b8bf8ace6"
   },
   "outputs": [
    {
     "data": {
      "text/plain": [
       "(225,)"
      ]
     },
     "execution_count": 14,
     "metadata": {},
     "output_type": "execute_result"
    }
   ],
   "source": [
    "X[0].shape"
   ]
  },
  {
   "cell_type": "code",
   "execution_count": 16,
   "metadata": {
    "id": "5oh4k1gEvxIR"
   },
   "outputs": [],
   "source": [
    "Y = np.append(np.zeros(52),np.ones(40),axis=0)"
   ]
  },
  {
   "cell_type": "code",
   "execution_count": 17,
   "metadata": {
    "colab": {
     "base_uri": "https://localhost:8080/"
    },
    "id": "PZuBWU5LvxIR",
    "outputId": "21a0987a-b533-41fc-bea5-9f94b3246a66",
    "scrolled": true
   },
   "outputs": [
    {
     "data": {
      "text/plain": [
       "(92,)"
      ]
     },
     "execution_count": 17,
     "metadata": {},
     "output_type": "execute_result"
    }
   ],
   "source": [
    "Y.shape"
   ]
  },
  {
   "cell_type": "markdown",
   "metadata": {
    "id": "w2w8w0VjvxIS"
   },
   "source": [
    "Now, we define the algorithms that we are going to use. "
   ]
  },
  {
   "cell_type": "code",
   "execution_count": 18,
   "metadata": {
    "id": "MEPfV3efvxIS"
   },
   "outputs": [],
   "source": [
    "from sklearn.tree import DecisionTreeClassifier\n",
    "from sklearn.neighbors import KNeighborsClassifier\n",
    "from sklearn.linear_model import LogisticRegression\n",
    "from sklearn.svm import SVC\n",
    "from sklearn.neural_network import MLPClassifier\n",
    "from sklearn.ensemble import ExtraTreesClassifier\n",
    "from sklearn.ensemble import GradientBoostingClassifier\n",
    "from sklearn.ensemble import RandomForestClassifier\n",
    "from sklearn.ensemble import AdaBoostClassifier\n",
    "from scipy.stats import randint as sp_randint"
   ]
  },
  {
   "cell_type": "code",
   "execution_count": 19,
   "metadata": {
    "id": "YwnPEwswvxIU"
   },
   "outputs": [],
   "source": [
    "# Decision tree\n",
    "clfTree = DecisionTreeClassifier(random_state=84)\n",
    "param_distTree = {\"min_samples_split\": sp_randint(3, 30)}\n",
    "# SVM\n",
    "clfSVC = SVC(random_state=84)\n",
    "param_distSVC = {'C': [1, 10, 100, 1000], 'gamma': [0.001, 0.0001],'kernel': ['rbf'], 'class_weight':['balanced', None]}\n",
    "# KNN\n",
    "clfKNN = KNeighborsClassifier()\n",
    "param_distKNN = {'n_neighbors':sp_randint(3, 30)}\n",
    "# Logistic regression\n",
    "clfLR = LogisticRegression(random_state=84)\n",
    "param_distLR = {'C': [0.1,0.5,1, 10, 100, 1000]}\n",
    "# Neural Network\n",
    "clfMLP = MLPClassifier(random_state=84)\n",
    "param_distMLP = {'activation': ['identity', 'logistic', 'tanh', 'relu'], 'solver': ['lbfgs', 'sgd', 'adam'],\n",
    "                 'alpha': sp_randint(0.0001, 1), 'learning_rate': ['constant', 'invscaling', 'adaptive'],\n",
    "                 'hidden_layer_sizes': [(5,2), (3,3,3), (5,3,2), (5,4,3,2)],\n",
    "                 'momentum': [0.9, 0.95, 0.99]}\n",
    "# RandomForest\n",
    "clfRF = RandomForestClassifier(random_state=84)\n",
    "param_distRF =  {'n_estimators': [int(x) for x in np.linspace(start = 200, stop = 2000, num = 10)], 'max_features': ['auto', 'sqrt'],'max_depth': [int(x) for x in np.linspace(10, 110, num = 11)],\n",
    "                 'min_samples_split': [2, 5, 10],'min_samples_leaf': [1, 2, 4],\n",
    "                 'bootstrap': [True, False]}\n",
    "# ExtraTreesClassifier\n",
    "clfET = ExtraTreesClassifier(random_state=84)\n",
    "param_distET =  {'n_estimators': [int(x) for x in np.linspace(start = 200, stop = 2000, num = 10)], 'max_features': ['auto', 'sqrt'],'max_depth': [int(x) for x in np.linspace(10, 110, num = 11)],\n",
    "                 'min_samples_split': [2, 5, 10],'min_samples_leaf': [1, 2, 4],\n",
    "                 'bootstrap': [True, False]}"
   ]
  },
  {
   "cell_type": "code",
   "execution_count": 20,
   "metadata": {
    "id": "GGQcPxBOvxIV"
   },
   "outputs": [],
   "source": [
    "listAlgorithms = [clfTree,clfSVC,clfKNN,clfLR,clfMLP,clfRF,clfET]"
   ]
  },
  {
   "cell_type": "code",
   "execution_count": 21,
   "metadata": {
    "id": "8Nl-1GpjvxIV"
   },
   "outputs": [],
   "source": [
    "listParams = [param_distTree,param_distSVC,param_distKNN,param_distLR,param_distMLP,param_distRF, param_distET]"
   ]
  },
  {
   "cell_type": "code",
   "execution_count": 22,
   "metadata": {
    "id": "IK_8iIWovxIV"
   },
   "outputs": [],
   "source": [
    "listNames = [\"Arbol\", \"SVM\", \"KNN\", \"LR\", \"MLP\",\"RF\",\"ET\"]"
   ]
  },
  {
   "cell_type": "markdown",
   "metadata": {},
   "source": [
    "# Plain comparison"
   ]
  },
  {
   "cell_type": "code",
   "execution_count": 23,
   "metadata": {
    "id": "LSSesjlBvxIV",
    "scrolled": false
   },
   "outputs": [
    {
     "name": "stdout",
     "output_type": "stream",
     "text": [
      "temp.csv\n",
      "['Arbol' 'SVM' 'KNN' 'LR' 'MLP' 'RF' 'ET']\n",
      "==========================================================\n",
      "Report\n",
      "==========================================================\n",
      "**********************************************************\n",
      "Mean and std\n",
      "**********************************************************\n",
      "Arbol: 0.483333 (0.157536)\n",
      "SVM: 0.479405 (0.055169)\n",
      "KNN: 0.449524 (0.112128)\n",
      "LR: 0.510595 (0.144361)\n",
      "MLP: 0.467500 (0.067129)\n",
      "RF: 0.405714 (0.154415)\n",
      "ET: 0.412976 (0.146131)\n",
      "**********************************************************\n",
      "Statistical tests\n",
      "**********************************************************\n",
      "----------------------------------------------------------\n",
      "Checking parametric conditions \n",
      "----------------------------------------------------------\n",
      "Checking independence \n",
      "Ok\n",
      "Checking normality using Shapiro-Wilk's test for normality, alpha=0.05\n",
      "W: 0.948906, p:0.006357\n",
      "The null hypothesis (normality) is rejected\n",
      "Checking heteroscedasticity using Levene's test, alpha=0.05\n",
      "W: 1.945325, p:0.087156\n",
      "The null hypothesis (heteroscedasticity) is rejected\n",
      "Conditions for a parametric test are not fulfilled, applying a non-parametric test\n",
      "----------------------------------------------------------\n",
      "Working with more than 2 algorithms\n",
      "----------------------------------------------------------\n",
      "----------------------------------------------------------\n",
      "Applying Friedman test\n",
      "----------------------------------------------------------\n",
      "F-value: 0.666283, p-value: 0.6770920784013741\n",
      "Null hypothesis is accepted; hence, we can't say that there is a significant difference in the performance of the models\n",
      "----------------------------------------------------------\n",
      "Analysing effect size\n",
      "----------------------------------------------------------\n",
      "We take the model with the best mean (LR, mean: 0.510595) and compare it with the other models: \n",
      "Comparing effect size of LR and Arbol: Cohen's d=0.17117302275206772, Small\n",
      "Comparing effect size of LR and SVM: Cohen's d=0.2707746187457015, Medium\n",
      "Comparing effect size of LR and KNN: Cohen's d=0.4482488674882519, Medium\n",
      "Comparing effect size of LR and MLP: Cohen's d=0.3631690666819944, Medium\n",
      "Comparing effect size of LR and RF: Cohen's d=0.665666525946395, Large\n",
      "Comparing effect size of LR and ET: Cohen's d=0.6375948300516089, Large\n",
      "Eta squared: 0.073375 (Large)\n"
     ]
    },
    {
     "data": {
      "image/png": "[encoded data removed]",
      "text/plain": [
       "<Figure size 432x288 with 1 Axes>"
      ]
     },
     "metadata": {
      "needs_background": "light"
     },
     "output_type": "display_data"
    }
   ],
   "source": [
    "compare_methods(X,Y,listAlgorithms,listParams,listNames,metric='auroc')"
   ]
  },
  {
   "cell_type": "code",
   "execution_count": 24,
   "metadata": {},
   "outputs": [
    {
     "name": "stdout",
     "output_type": "stream",
     "text": [
      "temp.csv\n",
      "['Arbol' 'SVM' 'KNN' 'LR' 'MLP' 'RF' 'ET']\n",
      "==========================================================\n",
      "Report\n",
      "==========================================================\n",
      "**********************************************************\n",
      "Mean and std\n",
      "**********************************************************\n",
      "Arbol: 0.419524 (0.241248)\n",
      "SVM: 0.058333 (0.118145)\n",
      "KNN: 0.242619 (0.299229)\n",
      "LR: 0.401667 (0.289295)\n",
      "MLP: 0.000000 (0.000000)\n",
      "RF: 0.266667 (0.196497)\n",
      "ET: 0.315000 (0.280916)\n",
      "**********************************************************\n",
      "Statistical tests\n",
      "**********************************************************\n",
      "----------------------------------------------------------\n",
      "Checking parametric conditions \n",
      "----------------------------------------------------------\n",
      "Checking independence \n",
      "Ok\n",
      "Checking normality using Shapiro-Wilk's test for normality, alpha=0.05\n",
      "W: 0.821671, p:0.000000\n",
      "The null hypothesis (normality) is rejected\n",
      "Checking heteroscedasticity using Levene's test, alpha=0.05\n",
      "W: 2.321645, p:0.043457\n",
      "The null hypothesis (heteroscedasticity) is rejected\n",
      "Conditions for a parametric test are not fulfilled, applying a non-parametric test\n",
      "----------------------------------------------------------\n",
      "Working with more than 2 algorithms\n",
      "----------------------------------------------------------\n",
      "----------------------------------------------------------\n",
      "Applying Friedman test\n",
      "----------------------------------------------------------\n",
      "F-value: 5.007782, p-value: 0.00038296234127543904\n",
      "Null hypothesis is rejected; hence, models have different performance\n",
      "Technique      Ranking\n",
      "-----------  ---------\n",
      "Arbol             5.45\n",
      "LR                5.2\n",
      "RF                4.55\n",
      "ET                4.25\n",
      "KNN               3.95\n",
      "SVM               2.7\n",
      "MLP               1.9\n",
      "Winner model: Arbol\n",
      "----------------------------------------------------------\n",
      "Applying Holm p-value adjustment procedure and analysing effect size\n",
      "----------------------------------------------------------\n",
      "Comparison      Zvalue      p-value    adjusted p-value\n",
      "------------  --------  -----------  ------------------\n",
      "Arbol vs MLP  3.6746    0.000238223          0.00142934\n",
      "Arbol vs SVM  2.84652   0.00441999           0.0220999\n",
      "Arbol vs KNN  1.55265   0.120507             0.482029\n",
      "Arbol vs ET   1.24212   0.214193             0.642579\n",
      "Arbol vs RF   0.931589  0.351549             0.703098\n",
      "Arbol vs LR   0.258775  0.795809             0.795809\n",
      "There is a significant difference between the models: Arbol (mean: 0.419524, std: 0.241248) and MLP (mean: 0.000000, std: 0.000000) (Cohen's d=2.3330802743100625, Large)\n",
      "There is a significant difference between the models: Arbol (mean: 0.419524, std: 0.241248) and SVM (mean: 0.058333, std: 0.118145) (Cohen's d=1.8039642695332727, Large)\n",
      "There is a significant difference between the models: Arbol (mean: 0.419524, std: 0.241248) and KNN (mean: 0.242619, std: 0.299229) (Cohen's d=0.6174888381115143, Large)\n",
      "We can't say that there is a significant difference in the performance of the models: Arbol (mean: 0.419524, std: 0.241248) and ET (mean: 0.315000, std: 0.280916) (Cohen's d=0.3787128487185762, Medium)\n",
      "We can't say that there is a significant difference in the performance of the models: Arbol (mean: 0.419524, std: 0.241248) and RF (mean: 0.266667, std: 0.196497) (Cohen's d=0.6591107131466545, Large)\n",
      "We can't say that there is a significant difference in the performance of the models: Arbol (mean: 0.419524, std: 0.241248) and LR (mean: 0.401667, std: 0.289295) (Cohen's d=0.06360175308974002, Small)\n",
      "Eta squared: 0.299588 (Large)\n"
     ]
    },
    {
     "data": {
      "image/png": "[encoded data removed]",
      "text/plain": [
       "<Figure size 432x288 with 1 Axes>"
      ]
     },
     "metadata": {
      "needs_background": "light"
     },
     "output_type": "display_data"
    }
   ],
   "source": [
    "compare_methods(X,Y,listAlgorithms,listParams,listNames,metric='precision')"
   ]
  },
  {
   "cell_type": "code",
   "execution_count": 25,
   "metadata": {},
   "outputs": [
    {
     "name": "stdout",
     "output_type": "stream",
     "text": [
      "temp.csv\n",
      "['Arbol' 'SVM' 'KNN' 'LR' 'MLP' 'RF' 'ET']\n",
      "==========================================================\n",
      "Report\n",
      "==========================================================\n",
      "**********************************************************\n",
      "Mean and std\n",
      "**********************************************************\n",
      "Arbol: 0.453333 (0.182239)\n",
      "SVM: 0.075000 (0.160078)\n",
      "KNN: 0.195000 (0.174809)\n",
      "LR: 0.361667 (0.274373)\n",
      "MLP: 0.000000 (0.000000)\n",
      "RF: 0.333333 (0.266145)\n",
      "ET: 0.250000 (0.166667)\n",
      "**********************************************************\n",
      "Statistical tests\n",
      "**********************************************************\n",
      "----------------------------------------------------------\n",
      "Checking parametric conditions \n",
      "----------------------------------------------------------\n",
      "Checking independence \n",
      "Ok\n",
      "Checking normality using Shapiro-Wilk's test for normality, alpha=0.05\n",
      "W: 0.856109, p:0.000001\n",
      "The null hypothesis (normality) is rejected\n",
      "Checking heteroscedasticity using Levene's test, alpha=0.05\n",
      "W: 3.103022, p:0.009995\n",
      "The null hypothesis (heteroscedasticity) is rejected\n",
      "Conditions for a parametric test are not fulfilled, applying a non-parametric test\n",
      "----------------------------------------------------------\n",
      "Working with more than 2 algorithms\n",
      "----------------------------------------------------------\n",
      "----------------------------------------------------------\n",
      "Applying Friedman test\n",
      "----------------------------------------------------------\n",
      "F-value: 6.526802, p-value: 3.18964101695407e-05\n",
      "Null hypothesis is rejected; hence, models have different performance\n",
      "Technique      Ranking\n",
      "-----------  ---------\n",
      "Arbol             5.85\n",
      "LR                5\n",
      "RF                4.75\n",
      "ET                4.25\n",
      "KNN               3.75\n",
      "SVM               2.5\n",
      "MLP               1.9\n",
      "Winner model: Arbol\n",
      "----------------------------------------------------------\n",
      "Applying Holm p-value adjustment procedure and analysing effect size\n",
      "----------------------------------------------------------\n",
      "Comparison      Zvalue      p-value    adjusted p-value\n",
      "------------  --------  -----------  ------------------\n",
      "Arbol vs MLP  4.08864   4.33913e-05         0.000260348\n",
      "Arbol vs SVM  3.46758   0.000525168         0.00262584\n",
      "Arbol vs KNN  2.17371   0.0297272           0.118909\n",
      "Arbol vs ET   1.65616   0.09769             0.29307\n",
      "Arbol vs RF   1.13861   0.254867            0.509733\n",
      "Arbol vs LR   0.879834  0.378949            0.509733\n",
      "There is a significant difference between the models: Arbol (mean: 0.453333, std: 0.182239) and MLP (mean: 0.000000, std: 0.000000) (Cohen's d=3.3374302914294036, Large)\n",
      "There is a significant difference between the models: Arbol (mean: 0.453333, std: 0.182239) and SVM (mean: 0.075000, std: 0.160078) (Cohen's d=2.0926128104564796, Large)\n",
      "There is a significant difference between the models: Arbol (mean: 0.453333, std: 0.182239) and KNN (mean: 0.195000, std: 0.174809) (Cohen's d=1.3724937757691222, Large)\n",
      "There is a significant difference between the models: Arbol (mean: 0.453333, std: 0.182239) and ET (mean: 0.250000, std: 0.166667) (Cohen's d=1.1046367107367165, Large)\n",
      "We can't say that there is a significant difference in the performance of the models: Arbol (mean: 0.453333, std: 0.182239) and RF (mean: 0.333333, std: 0.266145) (Cohen's d=0.4991235376659769, Medium)\n",
      "We can't say that there is a significant difference in the performance of the models: Arbol (mean: 0.453333, std: 0.182239) and LR (mean: 0.361667, std: 0.274373) (Cohen's d=0.37337866724999863, Medium)\n",
      "Eta squared: 0.371994 (Large)\n"
     ]
    },
    {
     "data": {
      "image/png": "[encoded data removed]",
      "text/plain": [
       "<Figure size 432x288 with 1 Axes>"
      ]
     },
     "metadata": {
      "needs_background": "light"
     },
     "output_type": "display_data"
    }
   ],
   "source": [
    "compare_methods(X,Y,listAlgorithms,listParams,listNames,metric='recall')"
   ]
  },
  {
   "cell_type": "code",
   "execution_count": 26,
   "metadata": {},
   "outputs": [
    {
     "name": "stdout",
     "output_type": "stream",
     "text": [
      "temp.csv\n",
      "['Arbol' 'SVM' 'KNN' 'LR' 'MLP' 'RF' 'ET']\n",
      "==========================================================\n",
      "Report\n",
      "==========================================================\n",
      "**********************************************************\n",
      "Mean and std\n",
      "**********************************************************\n",
      "Arbol: 0.464444 (0.149963)\n",
      "SVM: 0.507778 (0.121721)\n",
      "KNN: 0.434444 (0.159354)\n",
      "LR: 0.505556 (0.159106)\n",
      "MLP: 0.530000 (0.169680)\n",
      "RF: 0.383333 (0.147007)\n",
      "ET: 0.413333 (0.164864)\n",
      "**********************************************************\n",
      "Statistical tests\n",
      "**********************************************************\n",
      "----------------------------------------------------------\n",
      "Checking parametric conditions \n",
      "----------------------------------------------------------\n",
      "Checking independence \n",
      "Ok\n",
      "Checking normality using Shapiro-Wilk's test for normality, alpha=0.05\n",
      "W: 0.934798, p:0.001256\n",
      "The null hypothesis (normality) is rejected\n",
      "Checking heteroscedasticity using Levene's test, alpha=0.05\n",
      "W: 0.242006, p:0.960774\n",
      "The null hypothesis (heteroscedasticity) is accepted\n",
      "Conditions for a parametric test are not fulfilled, applying a non-parametric test\n",
      "----------------------------------------------------------\n",
      "Working with more than 2 algorithms\n",
      "----------------------------------------------------------\n",
      "----------------------------------------------------------\n",
      "Applying Friedman test\n",
      "----------------------------------------------------------\n",
      "F-value: 1.061889, p-value: 0.3967453086342989\n",
      "Null hypothesis is rejected; hence, models have different performance\n",
      "Technique      Ranking\n",
      "-----------  ---------\n",
      "SVM               4.75\n",
      "MLP               4.7\n",
      "LR                4.6\n",
      "Arbol             3.95\n",
      "KNN               3.7\n",
      "ET                3.2\n",
      "RF                3.1\n",
      "Winner model: SVM\n",
      "----------------------------------------------------------\n",
      "Applying Holm p-value adjustment procedure and analysing effect size\n",
      "----------------------------------------------------------\n",
      "Comparison       Zvalue    p-value    adjusted p-value\n",
      "------------  ---------  ---------  ------------------\n",
      "SVM vs RF     1.70791    0.0876526            0.525916\n",
      "SVM vs ET     1.6044     0.108625             0.543127\n",
      "SVM vs KNN    1.08685    0.277102             1\n",
      "SVM vs Arbol  0.828079   0.407626             1\n",
      "SVM vs LR     0.155265   0.876613             1\n",
      "SVM vs MLP    0.0517549  0.958724             1\n",
      "We can't say that there is a significant difference in the performance of the models: SVM (mean: 0.507778, std: 0.121721) and RF (mean: 0.383333, std: 0.147007) (Cohen's d=0.8747805255826877, Large)\n",
      "We can't say that there is a significant difference in the performance of the models: SVM (mean: 0.507778, std: 0.121721) and ET (mean: 0.413333, std: 0.164864) (Cohen's d=0.6183112853387134, Large)\n",
      "We can't say that there is a significant difference in the performance of the models: SVM (mean: 0.507778, std: 0.121721) and KNN (mean: 0.434444, std: 0.159354) (Cohen's d=0.4906494414796751, Medium)\n",
      "We can't say that there is a significant difference in the performance of the models: SVM (mean: 0.507778, std: 0.121721) and Arbol (mean: 0.464444, std: 0.149963) (Cohen's d=0.301006024083792, Medium)\n",
      "We can't say that there is a significant difference in the performance of the models: SVM (mean: 0.507778, std: 0.121721) and LR (mean: 0.505556, std: 0.159106) (Cohen's d=0.014882794417697458, Small)\n",
      "We can't say that there is a significant difference in the performance of the models: SVM (mean: 0.507778, std: 0.121721) and MLP (mean: 0.530000, std: 0.169680) (Cohen's d=0.1427721846915211, Small)\n",
      "Eta squared: 0.097724 (Large)\n"
     ]
    },
    {
     "data": {
      "image/png": "[encoded data removed]",
      "text/plain": [
       "<Figure size 432x288 with 1 Axes>"
      ]
     },
     "metadata": {
      "needs_background": "light"
     },
     "output_type": "display_data"
    }
   ],
   "source": [
    "compare_methods(X,Y,listAlgorithms,listParams,listNames,metric='accuracy')"
   ]
  }
 ],
 "metadata": {
  "colab": {
   "name": "CompareMethods.ipynb",
   "provenance": []
  },
  "kernelspec": {
   "display_name": "Python 3",
   "language": "python",
   "name": "python3"
  },
  "language_info": {
   "codemirror_mode": {
    "name": "ipython",
    "version": 3
   },
   "file_extension": ".py",
   "mimetype": "text/x-python",
   "name": "python",
   "nbconvert_exporter": "python",
   "pygments_lexer": "ipython3",
   "version": "3.6.7"
  }
 },
 "nbformat": 4,
 "nbformat_minor": 1
}
