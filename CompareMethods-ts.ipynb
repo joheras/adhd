{
 "cells": [
  {
   "cell_type": "code",
   "execution_count": 1,
   "metadata": {
    "id": "9VdC2keIvxIJ"
   },
   "outputs": [],
   "source": [
    "import numpy as np\n",
    "from StatisticalAnalysis import compare_methods"
   ]
  },
  {
   "cell_type": "code",
   "execution_count": 2,
   "metadata": {
    "id": "3iCEO6wXtftF"
   },
   "outputs": [],
   "source": [
    "import warnings\n",
    "warnings.filterwarnings('ignore')"
   ]
  },
  {
   "cell_type": "markdown",
   "metadata": {
    "id": "Zb3btBk5vxIM"
   },
   "source": [
    "First we load the data and process it to have the correct form."
   ]
  },
  {
   "cell_type": "code",
   "execution_count": 3,
   "metadata": {
    "id": "StF6b56QvxIN"
   },
   "outputs": [],
   "source": [
    "ts_hc = np.load('ts_hc.npy')\n",
    "ts_adhd = np.load('ts_adhd.npy')"
   ]
  },
  {
   "cell_type": "code",
   "execution_count": 4,
   "metadata": {
    "id": "qd1nFcAfvxIO"
   },
   "outputs": [],
   "source": [
    "ts_hc = ts_hc.reshape(52,142*118)"
   ]
  },
  {
   "cell_type": "code",
   "execution_count": 5,
   "metadata": {
    "id": "fc006UE6vxIO"
   },
   "outputs": [],
   "source": [
    "ts_adhd = ts_adhd.reshape(40,142*118)"
   ]
  },
  {
   "cell_type": "code",
   "execution_count": 6,
   "metadata": {
    "id": "SEhdGg3IvxIP"
   },
   "outputs": [],
   "source": [
    "X = np.append(ts_hc,ts_adhd,axis=0)"
   ]
  },
  {
   "cell_type": "code",
   "execution_count": 7,
   "metadata": {
    "colab": {
     "base_uri": "https://localhost:8080/"
    },
    "id": "8d-RFXoavxIQ",
    "outputId": "a61e1d34-79c6-4f1a-df1f-0b3a74b2c53d"
   },
   "outputs": [
    {
     "data": {
      "text/plain": [
       "(92, 16756)"
      ]
     },
     "execution_count": 7,
     "metadata": {},
     "output_type": "execute_result"
    }
   ],
   "source": [
    "X.shape"
   ]
  },
  {
   "cell_type": "code",
   "execution_count": 8,
   "metadata": {
    "colab": {
     "base_uri": "https://localhost:8080/"
    },
    "id": "hnaiAVUvJmgn",
    "outputId": "6cb5c264-f346-4b38-e85b-aa3b8bf8ace6"
   },
   "outputs": [
    {
     "data": {
      "text/plain": [
       "(16756,)"
      ]
     },
     "execution_count": 8,
     "metadata": {},
     "output_type": "execute_result"
    }
   ],
   "source": [
    "X[0].shape"
   ]
  },
  {
   "cell_type": "code",
   "execution_count": 9,
   "metadata": {
    "id": "5oh4k1gEvxIR"
   },
   "outputs": [],
   "source": [
    "Y = np.append(np.zeros(52),np.ones(40),axis=0)"
   ]
  },
  {
   "cell_type": "code",
   "execution_count": 10,
   "metadata": {
    "colab": {
     "base_uri": "https://localhost:8080/"
    },
    "id": "PZuBWU5LvxIR",
    "outputId": "21a0987a-b533-41fc-bea5-9f94b3246a66",
    "scrolled": true
   },
   "outputs": [
    {
     "data": {
      "text/plain": [
       "(92,)"
      ]
     },
     "execution_count": 10,
     "metadata": {},
     "output_type": "execute_result"
    }
   ],
   "source": [
    "Y.shape"
   ]
  },
  {
   "cell_type": "markdown",
   "metadata": {
    "id": "w2w8w0VjvxIS"
   },
   "source": [
    "Now, we define the algorithms that we are going to use. "
   ]
  },
  {
   "cell_type": "code",
   "execution_count": 11,
   "metadata": {
    "id": "MEPfV3efvxIS"
   },
   "outputs": [],
   "source": [
    "from sklearn.tree import DecisionTreeClassifier\n",
    "from sklearn.neighbors import KNeighborsClassifier\n",
    "from sklearn.linear_model import LogisticRegression\n",
    "from sklearn.svm import SVC\n",
    "from sklearn.neural_network import MLPClassifier\n",
    "from sklearn.ensemble import ExtraTreesClassifier\n",
    "from sklearn.ensemble import GradientBoostingClassifier\n",
    "from sklearn.ensemble import RandomForestClassifier\n",
    "from sklearn.ensemble import AdaBoostClassifier\n",
    "from scipy.stats import randint as sp_randint"
   ]
  },
  {
   "cell_type": "code",
   "execution_count": 12,
   "metadata": {
    "id": "YwnPEwswvxIU"
   },
   "outputs": [],
   "source": [
    "# Decision tree\n",
    "clfTree = DecisionTreeClassifier(random_state=84)\n",
    "param_distTree = {\"min_samples_split\": sp_randint(3, 30)}\n",
    "# SVM\n",
    "clfSVC = SVC(random_state=84)\n",
    "param_distSVC = {'C': [1, 10, 100, 1000], 'gamma': [0.001, 0.0001],'kernel': ['rbf'], 'class_weight':['balanced', None]}\n",
    "# KNN\n",
    "clfKNN = KNeighborsClassifier()\n",
    "param_distKNN = {'n_neighbors':sp_randint(3, 30)}\n",
    "# Logistic regression\n",
    "clfLR = LogisticRegression(random_state=84)\n",
    "param_distLR = {'C': [0.1,0.5,1, 10, 100, 1000]}\n",
    "# Neural Network\n",
    "clfMLP = MLPClassifier(random_state=84)\n",
    "param_distMLP = {'activation': ['identity', 'logistic', 'tanh', 'relu'], 'solver': ['lbfgs', 'sgd', 'adam'],\n",
    "                 'alpha': sp_randint(0.0001, 1), 'learning_rate': ['constant', 'invscaling', 'adaptive'],\n",
    "                 'hidden_layer_sizes': [(5,2), (3,3,3), (5,3,2), (5,4,3,2)],\n",
    "                 'momentum': [0.9, 0.95, 0.99]}\n",
    "# RandomForest\n",
    "clfRF = RandomForestClassifier(random_state=84)\n",
    "param_distRF =  {'n_estimators': [int(x) for x in np.linspace(start = 200, stop = 2000, num = 10)], 'max_features': ['auto', 'sqrt'],'max_depth': [int(x) for x in np.linspace(10, 110, num = 11)],\n",
    "                 'min_samples_split': [2, 5, 10],'min_samples_leaf': [1, 2, 4],\n",
    "                 'bootstrap': [True, False]}\n",
    "# ExtraTreesClassifier\n",
    "clfET = ExtraTreesClassifier(random_state=84)\n",
    "param_distET =  {'n_estimators': [int(x) for x in np.linspace(start = 200, stop = 2000, num = 10)], 'max_features': ['auto', 'sqrt'],'max_depth': [int(x) for x in np.linspace(10, 110, num = 11)],\n",
    "                 'min_samples_split': [2, 5, 10],'min_samples_leaf': [1, 2, 4],\n",
    "                 'bootstrap': [True, False]}"
   ]
  },
  {
   "cell_type": "code",
   "execution_count": 13,
   "metadata": {
    "id": "GGQcPxBOvxIV"
   },
   "outputs": [],
   "source": [
    "listAlgorithms = [clfTree,clfSVC,clfKNN,clfLR,clfMLP,clfRF,clfET]"
   ]
  },
  {
   "cell_type": "code",
   "execution_count": 14,
   "metadata": {
    "id": "8Nl-1GpjvxIV"
   },
   "outputs": [],
   "source": [
    "listParams = [param_distTree,param_distSVC,param_distKNN,param_distLR,param_distMLP,param_distRF, param_distET]"
   ]
  },
  {
   "cell_type": "code",
   "execution_count": 15,
   "metadata": {
    "id": "IK_8iIWovxIV"
   },
   "outputs": [],
   "source": [
    "listNames = [\"Arbol\", \"SVM\", \"KNN\", \"LR\", \"MLP\",\"RF\",\"ET\"]"
   ]
  },
  {
   "cell_type": "markdown",
   "metadata": {},
   "source": [
    "# Plain comparison"
   ]
  },
  {
   "cell_type": "code",
   "execution_count": 16,
   "metadata": {
    "id": "LSSesjlBvxIV",
    "scrolled": true
   },
   "outputs": [
    {
     "name": "stdout",
     "output_type": "stream",
     "text": [
      "temp.csv\n",
      "['Arbol' 'SVM' 'KNN' 'LR' 'MLP' 'RF' 'ET']\n",
      "==========================================================\n",
      "Report\n",
      "==========================================================\n",
      "**********************************************************\n",
      "Mean and std\n",
      "**********************************************************\n",
      "Arbol: 0.508690 (0.141014)\n",
      "SVM: 0.448571 (0.083348)\n",
      "KNN: 0.519405 (0.138755)\n",
      "LR: 0.563810 (0.173053)\n",
      "MLP: 0.494167 (0.200609)\n",
      "RF: 0.520833 (0.071491)\n",
      "ET: 0.478810 (0.123463)\n",
      "**********************************************************\n",
      "Statistical tests\n",
      "**********************************************************\n",
      "----------------------------------------------------------\n",
      "Checking parametric conditions \n",
      "----------------------------------------------------------\n",
      "Checking independence \n",
      "Ok\n",
      "Checking normality using Shapiro-Wilk's test for normality, alpha=0.05\n",
      "W: 0.957789, p:0.018932\n",
      "The null hypothesis (normality) is rejected\n",
      "Checking heteroscedasticity using Levene's test, alpha=0.05\n",
      "W: 1.199090, p:0.318573\n",
      "The null hypothesis (heteroscedasticity) is rejected\n",
      "Conditions for a parametric test are not fulfilled, applying a non-parametric test\n",
      "----------------------------------------------------------\n",
      "Working with more than 2 algorithms\n",
      "----------------------------------------------------------\n",
      "----------------------------------------------------------\n",
      "Applying Friedman test\n",
      "----------------------------------------------------------\n",
      "F-value: 1.124548, p-value: 0.36060911710795984\n",
      "Null hypothesis is rejected; hence, models have different performance\n",
      "Technique      Ranking\n",
      "-----------  ---------\n",
      "LR                5.1\n",
      "RF                4.45\n",
      "KNN               4.45\n",
      "ET                3.8\n",
      "MLP               3.65\n",
      "Arbol             3.65\n",
      "SVM               2.9\n",
      "Winner model: LR\n",
      "----------------------------------------------------------\n",
      "Applying Holm p-value adjustment procedure and analysing effect size\n",
      "----------------------------------------------------------\n",
      "Comparison      Zvalue    p-value    adjusted p-value\n",
      "------------  --------  ---------  ------------------\n",
      "LR vs SVM     2.27722   0.0227733            0.13664\n",
      "LR vs Arbol   1.50089   0.133383             0.666917\n",
      "LR vs MLP     1.50089   0.133383             0.666917\n",
      "LR vs ET      1.34563   0.178423             0.666917\n",
      "LR vs KNN     0.672814  0.501066             1\n",
      "LR vs RF      0.672814  0.501066             1\n",
      "There is a significant difference between the models: LR (mean: 0.563810, std: 0.173053) and SVM (mean: 0.448571, std: 0.083348) (Cohen's d=0.8049202199389027, Large)\n",
      "We can't say that there is a significant difference in the performance of the models: LR (mean: 0.563810, std: 0.173053) and Arbol (mean: 0.508690, std: 0.141014) (Cohen's d=0.33127039095722377, Medium)\n",
      "We can't say that there is a significant difference in the performance of the models: LR (mean: 0.563810, std: 0.173053) and MLP (mean: 0.494167, std: 0.200609) (Cohen's d=0.3526723521959381, Medium)\n",
      "We can't say that there is a significant difference in the performance of the models: LR (mean: 0.563810, std: 0.173053) and ET (mean: 0.478810, std: 0.123463) (Cohen's d=0.5364530507496325, Large)\n",
      "We can't say that there is a significant difference in the performance of the models: LR (mean: 0.563810, std: 0.173053) and KNN (mean: 0.519405, std: 0.138755) (Cohen's d=0.26858542012709774, Medium)\n",
      "We can't say that there is a significant difference in the performance of the models: LR (mean: 0.563810, std: 0.173053) and RF (mean: 0.520833, std: 0.071491) (Cohen's d=0.3079421586968882, Medium)\n",
      "Eta squared: 0.054776 (Medium)\n"
     ]
    },
    {
     "data": {
      "image/png": "[encoded data removed]",
      "text/plain": [
       "<Figure size 432x288 with 1 Axes>"
      ]
     },
     "metadata": {
      "needs_background": "light"
     },
     "output_type": "display_data"
    }
   ],
   "source": [
    "compare_methods(X,Y,listAlgorithms,listParams,listNames,metric='auroc')"
   ]
  },
  {
   "cell_type": "code",
   "execution_count": 17,
   "metadata": {},
   "outputs": [
    {
     "name": "stdout",
     "output_type": "stream",
     "text": [
      "temp.csv\n",
      "['Arbol' 'SVM' 'KNN' 'LR' 'MLP' 'RF' 'ET']\n",
      "==========================================================\n",
      "Report\n",
      "==========================================================\n",
      "**********************************************************\n",
      "Mean and std\n",
      "**********************************************************\n",
      "Arbol: 0.436667 (0.267686)\n",
      "SVM: 0.000000 (0.000000)\n",
      "KNN: 0.359524 (0.337802)\n",
      "LR: 0.560000 (0.299555)\n",
      "MLP: 0.396667 (0.306757)\n",
      "RF: 0.340000 (0.373214)\n",
      "ET: 0.266667 (0.388730)\n",
      "**********************************************************\n",
      "Statistical tests\n",
      "**********************************************************\n",
      "----------------------------------------------------------\n",
      "Checking parametric conditions \n",
      "----------------------------------------------------------\n",
      "Checking independence \n",
      "Ok\n",
      "Checking normality using Shapiro-Wilk's test for normality, alpha=0.05\n",
      "W: 0.833451, p:0.000000\n",
      "The null hypothesis (normality) is rejected\n",
      "Checking heteroscedasticity using Levene's test, alpha=0.05\n",
      "W: 1.935668, p:0.088706\n",
      "The null hypothesis (heteroscedasticity) is rejected\n",
      "Conditions for a parametric test are not fulfilled, applying a non-parametric test\n",
      "----------------------------------------------------------\n",
      "Working with more than 2 algorithms\n",
      "----------------------------------------------------------\n",
      "----------------------------------------------------------\n",
      "Applying Friedman test\n",
      "----------------------------------------------------------\n",
      "F-value: 2.943128, p-value: 0.014729905942184707\n",
      "Null hypothesis is rejected; hence, models have different performance\n",
      "Technique      Ranking\n",
      "-----------  ---------\n",
      "LR                5.3\n",
      "Arbol             4.6\n",
      "KNN               4.35\n",
      "MLP               4.25\n",
      "RF                4.2\n",
      "ET                3.35\n",
      "SVM               1.95\n",
      "Winner model: LR\n",
      "----------------------------------------------------------\n",
      "Applying Holm p-value adjustment procedure and analysing effect size\n",
      "----------------------------------------------------------\n",
      "Comparison      Zvalue      p-value    adjusted p-value\n",
      "------------  --------  -----------  ------------------\n",
      "LR vs SVM     3.46758   0.000525168          0.00315101\n",
      "LR vs ET      2.01844   0.0435453            0.217726\n",
      "LR vs RF      1.13861   0.254867             1\n",
      "LR vs MLP     1.08685   0.277102             1\n",
      "LR vs KNN     0.983343  0.325438             1\n",
      "LR vs Arbol   0.724569  0.468717             1\n",
      "There is a significant difference between the models: LR (mean: 0.560000, std: 0.299555) and SVM (mean: 0.000000, std: 0.000000) (Cohen's d=2.508114616632072, Large)\n",
      "There is a significant difference between the models: LR (mean: 0.560000, std: 0.299555) and ET (mean: 0.266667, std: 0.388730) (Cohen's d=0.8019168767688607, Large)\n",
      "We can't say that there is a significant difference in the performance of the models: LR (mean: 0.560000, std: 0.299555) and RF (mean: 0.340000, std: 0.373214) (Cohen's d=0.6167655690178773, Large)\n",
      "We can't say that there is a significant difference in the performance of the models: LR (mean: 0.560000, std: 0.299555) and MLP (mean: 0.396667, std: 0.306757) (Cohen's d=0.5110918396338808, Large)\n",
      "We can't say that there is a significant difference in the performance of the models: LR (mean: 0.560000, std: 0.299555) and KNN (mean: 0.359524, std: 0.337802) (Cohen's d=0.5957318525781966, Large)\n",
      "We can't say that there is a significant difference in the performance of the models: LR (mean: 0.560000, std: 0.299555) and Arbol (mean: 0.436667, std: 0.267686) (Cohen's d=0.41188872718251734, Medium)\n",
      "Eta squared: 0.216389 (Large)\n"
     ]
    },
    {
     "data": {
      "image/png": "[encoded data removed]",
      "text/plain": [
       "<Figure size 432x288 with 1 Axes>"
      ]
     },
     "metadata": {
      "needs_background": "light"
     },
     "output_type": "display_data"
    }
   ],
   "source": [
    "compare_methods(X,Y,listAlgorithms,listParams,listNames,metric='precision')"
   ]
  },
  {
   "cell_type": "code",
   "execution_count": 18,
   "metadata": {},
   "outputs": [
    {
     "name": "stdout",
     "output_type": "stream",
     "text": [
      "temp.csv\n",
      "['Arbol' 'SVM' 'KNN' 'LR' 'MLP' 'RF' 'ET']\n",
      "==========================================================\n",
      "Report\n",
      "==========================================================\n",
      "**********************************************************\n",
      "Mean and std\n",
      "**********************************************************\n",
      "Arbol: 0.448333 (0.250826)\n",
      "SVM: 0.000000 (0.000000)\n",
      "KNN: 0.291667 (0.314576)\n",
      "LR: 0.463333 (0.280159)\n",
      "MLP: 0.353333 (0.309552)\n",
      "RF: 0.225000 (0.223762)\n",
      "ET: 0.150000 (0.216667)\n",
      "**********************************************************\n",
      "Statistical tests\n",
      "**********************************************************\n",
      "----------------------------------------------------------\n",
      "Checking parametric conditions \n",
      "----------------------------------------------------------\n",
      "Checking independence \n",
      "Ok\n",
      "Checking normality using Shapiro-Wilk's test for normality, alpha=0.05\n",
      "W: 0.840924, p:0.000000\n",
      "The null hypothesis (normality) is rejected\n",
      "Checking heteroscedasticity using Levene's test, alpha=0.05\n",
      "W: 2.404025, p:0.037253\n",
      "The null hypothesis (heteroscedasticity) is rejected\n",
      "Conditions for a parametric test are not fulfilled, applying a non-parametric test\n",
      "----------------------------------------------------------\n",
      "Working with more than 2 algorithms\n",
      "----------------------------------------------------------\n",
      "----------------------------------------------------------\n",
      "Applying Friedman test\n",
      "----------------------------------------------------------\n",
      "F-value: 4.853766, p-value: 0.0004977562308983163\n",
      "Null hypothesis is rejected; hence, models have different performance\n",
      "Technique      Ranking\n",
      "-----------  ---------\n",
      "LR                5.5\n",
      "Arbol             5.2\n",
      "MLP               4.65\n",
      "KNN               4.3\n",
      "RF                3.45\n",
      "ET                2.95\n",
      "SVM               1.95\n",
      "Winner model: LR\n",
      "----------------------------------------------------------\n",
      "Applying Holm p-value adjustment procedure and analysing effect size\n",
      "----------------------------------------------------------\n",
      "Comparison      Zvalue      p-value    adjusted p-value\n",
      "------------  --------  -----------  ------------------\n",
      "LR vs SVM     3.6746    0.000238223          0.00142934\n",
      "LR vs ET      2.6395    0.00830282           0.0415141\n",
      "LR vs RF      2.12195   0.0338418            0.135367\n",
      "LR vs KNN     1.24212   0.214193             0.642579\n",
      "LR vs MLP     0.879834  0.378949             0.757899\n",
      "LR vs Arbol   0.31053   0.756158             0.757899\n",
      "There is a significant difference between the models: LR (mean: 0.463333, std: 0.280159) and SVM (mean: 0.000000, std: 0.000000) (Cohen's d=2.2188385747078474, Large)\n",
      "There is a significant difference between the models: LR (mean: 0.463333, std: 0.280159) and ET (mean: 0.150000, std: 0.216667) (Cohen's d=1.186960781530198, Large)\n",
      "There is a significant difference between the models: LR (mean: 0.463333, std: 0.280159) and RF (mean: 0.225000, std: 0.223762) (Cohen's d=0.8918070944396416, Large)\n",
      "We can't say that there is a significant difference in the performance of the models: LR (mean: 0.463333, std: 0.280159) and KNN (mean: 0.291667, std: 0.314576) (Cohen's d=0.5467485302432727, Large)\n",
      "We can't say that there is a significant difference in the performance of the models: LR (mean: 0.463333, std: 0.280159) and MLP (mean: 0.353333, std: 0.309552) (Cohen's d=0.3534812662778366, Medium)\n",
      "We can't say that there is a significant difference in the performance of the models: LR (mean: 0.463333, std: 0.280159) and Arbol (mean: 0.448333, std: 0.250826) (Cohen's d=0.053517835597495234, Small)\n",
      "Eta squared: 0.276641 (Large)\n"
     ]
    },
    {
     "data": {
      "image/png": "[encoded data removed]",
      "text/plain": [
       "<Figure size 432x288 with 1 Axes>"
      ]
     },
     "metadata": {
      "needs_background": "light"
     },
     "output_type": "display_data"
    }
   ],
   "source": [
    "compare_methods(X,Y,listAlgorithms,listParams,listNames,metric='recall')"
   ]
  },
  {
   "cell_type": "code",
   "execution_count": 19,
   "metadata": {},
   "outputs": [
    {
     "name": "stdout",
     "output_type": "stream",
     "text": [
      "temp.csv\n",
      "['Arbol' 'SVM' 'KNN' 'LR' 'MLP' 'RF' 'ET']\n",
      "==========================================================\n",
      "Report\n",
      "==========================================================\n",
      "**********************************************************\n",
      "Mean and std\n",
      "**********************************************************\n",
      "Arbol: 0.490000 (0.103810)\n",
      "SVM: 0.496667 (0.140726)\n",
      "KNN: 0.528889 (0.118759)\n",
      "LR: 0.573333 (0.149584)\n",
      "MLP: 0.496667 (0.172280)\n",
      "RF: 0.510000 (0.115090)\n",
      "ET: 0.486667 (0.138225)\n",
      "**********************************************************\n",
      "Statistical tests\n",
      "**********************************************************\n",
      "----------------------------------------------------------\n",
      "Checking parametric conditions \n",
      "----------------------------------------------------------\n",
      "Checking independence \n",
      "Ok\n",
      "Checking normality using Shapiro-Wilk's test for normality, alpha=0.05\n",
      "W: 0.948122, p:0.005789\n",
      "The null hypothesis (normality) is rejected\n",
      "Checking heteroscedasticity using Levene's test, alpha=0.05\n",
      "W: 0.446212, p:0.844970\n",
      "The null hypothesis (heteroscedasticity) is accepted\n",
      "Conditions for a parametric test are not fulfilled, applying a non-parametric test\n",
      "----------------------------------------------------------\n",
      "Working with more than 2 algorithms\n",
      "----------------------------------------------------------\n",
      "----------------------------------------------------------\n",
      "Applying Friedman test\n",
      "----------------------------------------------------------\n",
      "F-value: 0.653323, p-value: 0.6872500950492473\n",
      "Null hypothesis is accepted; hence, we can't say that there is a significant difference in the performance of the models\n",
      "----------------------------------------------------------\n",
      "Analysing effect size\n",
      "----------------------------------------------------------\n",
      "We take the model with the best mean (LR, mean: 0.573333) and compare it with the other models: \n",
      "Comparing effect size of LR and Arbol: Cohen's d=0.6140462875530952, Large\n",
      "Comparing effect size of LR and SVM: Cohen's d=0.5008349533724049, Large\n",
      "Comparing effect size of LR and KNN: Cohen's d=0.312199496778179, Medium\n",
      "Comparing effect size of LR and MLP: Cohen's d=0.45082634906551344, Medium\n",
      "Comparing effect size of LR and RF: Cohen's d=0.45021050079547736, Medium\n",
      "Comparing effect size of LR and ET: Cohen's d=0.570901542674893, Large\n",
      "Eta squared: 0.041908 (Medium)\n"
     ]
    },
    {
     "data": {
      "image/png": "[encoded data removed]",
      "text/plain": [
       "<Figure size 432x288 with 1 Axes>"
      ]
     },
     "metadata": {
      "needs_background": "light"
     },
     "output_type": "display_data"
    }
   ],
   "source": [
    "compare_methods(X,Y,listAlgorithms,listParams,listNames,metric='accuracy')"
   ]
  },
  {
   "cell_type": "markdown",
   "metadata": {
    "id": "9RmrYzBMOAXv"
   },
   "source": [
    "# PCA with 2 components"
   ]
  },
  {
   "cell_type": "code",
   "execution_count": 20,
   "metadata": {
    "id": "Sjjc5WXGvxIX"
   },
   "outputs": [],
   "source": [
    "from sklearn.decomposition import PCA"
   ]
  },
  {
   "cell_type": "code",
   "execution_count": 21,
   "metadata": {
    "id": "edHm_G34N87W"
   },
   "outputs": [],
   "source": [
    "pca = PCA(n_components=2)"
   ]
  },
  {
   "cell_type": "code",
   "execution_count": 22,
   "metadata": {
    "id": "H4lw_jzBODCv"
   },
   "outputs": [
    {
     "data": {
      "text/plain": [
       "PCA(n_components=2)"
      ]
     },
     "execution_count": 22,
     "metadata": {},
     "output_type": "execute_result"
    }
   ],
   "source": [
    "pca.fit(X)"
   ]
  },
  {
   "cell_type": "code",
   "execution_count": 23,
   "metadata": {
    "id": "ImTFoLrKOFHZ"
   },
   "outputs": [],
   "source": [
    "X_pca2 = pca.transform(X)"
   ]
  },
  {
   "cell_type": "code",
   "execution_count": 24,
   "metadata": {
    "id": "5nt7OQ61JuKG"
   },
   "outputs": [
    {
     "data": {
      "text/plain": [
       "(92, 2)"
      ]
     },
     "execution_count": 24,
     "metadata": {},
     "output_type": "execute_result"
    }
   ],
   "source": [
    "X_pca2.shape"
   ]
  },
  {
   "cell_type": "code",
   "execution_count": 25,
   "metadata": {
    "id": "KyVbCZLpOInH",
    "scrolled": true
   },
   "outputs": [
    {
     "name": "stdout",
     "output_type": "stream",
     "text": [
      "temp.csv\n",
      "['Arbol' 'SVM' 'KNN' 'LR' 'MLP' 'RF' 'ET']\n",
      "==========================================================\n",
      "Report\n",
      "==========================================================\n",
      "**********************************************************\n",
      "Mean and std\n",
      "**********************************************************\n",
      "Arbol: 0.427024 (0.085252)\n",
      "SVM: 0.455714 (0.099670)\n",
      "KNN: 0.469524 (0.096958)\n",
      "LR: 0.476429 (0.112115)\n",
      "MLP: 0.494048 (0.051960)\n",
      "RF: 0.404524 (0.151089)\n",
      "ET: 0.467857 (0.075677)\n",
      "**********************************************************\n",
      "Statistical tests\n",
      "**********************************************************\n",
      "----------------------------------------------------------\n",
      "Checking parametric conditions \n",
      "----------------------------------------------------------\n",
      "Checking independence \n",
      "Ok\n",
      "Checking normality using Shapiro-Wilk's test for normality, alpha=0.05\n",
      "W: 0.886979, p:0.000012\n",
      "The null hypothesis (normality) is rejected\n",
      "Checking heteroscedasticity using Levene's test, alpha=0.05\n",
      "W: 2.069589, p:0.069383\n",
      "The null hypothesis (heteroscedasticity) is rejected\n",
      "Conditions for a parametric test are not fulfilled, applying a non-parametric test\n",
      "----------------------------------------------------------\n",
      "Working with more than 2 algorithms\n",
      "----------------------------------------------------------\n",
      "----------------------------------------------------------\n",
      "Applying Friedman test\n",
      "----------------------------------------------------------\n",
      "F-value: 0.574468, p-value: 0.748897543208463\n",
      "Null hypothesis is accepted; hence, we can't say that there is a significant difference in the performance of the models\n",
      "----------------------------------------------------------\n",
      "Analysing effect size\n",
      "----------------------------------------------------------\n",
      "We take the model with the best mean (MLP, mean: 0.494048) and compare it with the other models: \n",
      "Comparing effect size of MLP and Arbol: Cohen's d=0.9006744747403168, Large\n",
      "Comparing effect size of MLP and SVM: Cohen's d=0.45755380161222936, Medium\n",
      "Comparing effect size of MLP and KNN: Cohen's d=0.2991019840318865, Medium\n",
      "Comparing effect size of MLP and LR: Cohen's d=0.19129616235175995, Small\n",
      "Comparing effect size of MLP and RF: Cohen's d=0.7517419462234265, Large\n",
      "Comparing effect size of MLP and ET: Cohen's d=0.38277756989158757, Medium\n",
      "Eta squared: 0.074589 (Large)\n"
     ]
    },
    {
     "data": {
      "image/png": "[encoded data removed]",
      "text/plain": [
       "<Figure size 432x288 with 1 Axes>"
      ]
     },
     "metadata": {
      "needs_background": "light"
     },
     "output_type": "display_data"
    }
   ],
   "source": [
    "compare_methods(X_pca2,Y,listAlgorithms,listParams,listNames,metric='auroc')"
   ]
  },
  {
   "cell_type": "code",
   "execution_count": 26,
   "metadata": {},
   "outputs": [
    {
     "name": "stdout",
     "output_type": "stream",
     "text": [
      "temp.csv\n",
      "['Arbol' 'SVM' 'KNN' 'LR' 'MLP' 'RF' 'ET']\n",
      "==========================================================\n",
      "Report\n",
      "==========================================================\n",
      "**********************************************************\n",
      "Mean and std\n",
      "**********************************************************\n",
      "Arbol: 0.341905 (0.197169)\n",
      "SVM: 0.140000 (0.310483)\n",
      "KNN: 0.125000 (0.301040)\n",
      "LR: 0.100000 (0.213437)\n",
      "MLP: 0.100000 (0.300000)\n",
      "RF: 0.345000 (0.311096)\n",
      "ET: 0.000000 (0.000000)\n",
      "**********************************************************\n",
      "Statistical tests\n",
      "**********************************************************\n",
      "----------------------------------------------------------\n",
      "Checking parametric conditions \n",
      "----------------------------------------------------------\n",
      "Checking independence \n",
      "Ok\n",
      "Checking normality using Shapiro-Wilk's test for normality, alpha=0.05\n",
      "W: 0.639781, p:0.000000\n",
      "The null hypothesis (normality) is rejected\n",
      "Checking heteroscedasticity using Levene's test, alpha=0.05\n",
      "W: 0.981635, p:0.445256\n",
      "The null hypothesis (heteroscedasticity) is rejected\n",
      "Conditions for a parametric test are not fulfilled, applying a non-parametric test\n",
      "----------------------------------------------------------\n",
      "Working with more than 2 algorithms\n",
      "----------------------------------------------------------\n",
      "----------------------------------------------------------\n",
      "Applying Friedman test\n",
      "----------------------------------------------------------\n",
      "F-value: 2.872792, p-value: 0.016743500514777243\n",
      "Null hypothesis is rejected; hence, models have different performance\n",
      "Technique      Ranking\n",
      "-----------  ---------\n",
      "Arbol             5.75\n",
      "RF                5.2\n",
      "SVM               3.75\n",
      "LR                3.65\n",
      "KNN               3.55\n",
      "MLP               3.25\n",
      "ET                2.85\n",
      "Winner model: Arbol\n",
      "----------------------------------------------------------\n",
      "Applying Holm p-value adjustment procedure and analysing effect size\n",
      "----------------------------------------------------------\n",
      "Comparison      Zvalue     p-value    adjusted p-value\n",
      "------------  --------  ----------  ------------------\n",
      "Arbol vs ET   3.00179   0.00268402           0.0161041\n",
      "Arbol vs MLP  2.58775   0.00966062           0.0483031\n",
      "Arbol vs KNN  2.27722   0.0227733            0.0910932\n",
      "Arbol vs LR   2.17371   0.0297272            0.0910932\n",
      "Arbol vs SVM  2.0702    0.0384339            0.0910932\n",
      "Arbol vs RF   0.569304  0.56915              0.56915\n",
      "There is a significant difference between the models: Arbol (mean: 0.341905, std: 0.197169) and ET (mean: 0.000000, std: 0.000000) (Cohen's d=2.3265015765747994, Large)\n",
      "There is a significant difference between the models: Arbol (mean: 0.341905, std: 0.197169) and MLP (mean: 0.100000, std: 0.300000) (Cohen's d=0.9040562882104883, Large)\n",
      "There is a significant difference between the models: Arbol (mean: 0.341905, std: 0.197169) and KNN (mean: 0.125000, std: 0.301040) (Cohen's d=0.8086667739047958, Large)\n",
      "There is a significant difference between the models: Arbol (mean: 0.341905, std: 0.197169) and LR (mean: 0.100000, std: 0.213437) (Cohen's d=1.116939203258211, Large)\n",
      "There is a significant difference between the models: Arbol (mean: 0.341905, std: 0.197169) and SVM (mean: 0.140000, std: 0.310483) (Cohen's d=0.7365008020326487, Large)\n",
      "We can't say that there is a significant difference in the performance of the models: Arbol (mean: 0.341905, std: 0.197169) and RF (mean: 0.345000, std: 0.311096) (Cohen's d=0.011274848256961331, Small)\n",
      "Eta squared: 0.181473 (Large)\n"
     ]
    },
    {
     "data": {
      "image/png": "[encoded data removed]",
      "text/plain": [
       "<Figure size 432x288 with 1 Axes>"
      ]
     },
     "metadata": {
      "needs_background": "light"
     },
     "output_type": "display_data"
    }
   ],
   "source": [
    "compare_methods(X_pca2,Y,listAlgorithms,listParams,listNames,metric='precision')"
   ]
  },
  {
   "cell_type": "code",
   "execution_count": 27,
   "metadata": {},
   "outputs": [
    {
     "name": "stdout",
     "output_type": "stream",
     "text": [
      "temp.csv\n",
      "['Arbol' 'SVM' 'KNN' 'LR' 'MLP' 'RF' 'ET']\n",
      "==========================================================\n",
      "Report\n",
      "==========================================================\n",
      "**********************************************************\n",
      "Mean and std\n",
      "**********************************************************\n",
      "Arbol: 0.340000 (0.179846)\n",
      "SVM: 0.065000 (0.134257)\n",
      "KNN: 0.045000 (0.090692)\n",
      "LR: 0.100000 (0.213437)\n",
      "MLP: 0.016667 (0.050000)\n",
      "RF: 0.228333 (0.181972)\n",
      "ET: 0.000000 (0.000000)\n",
      "**********************************************************\n",
      "Statistical tests\n",
      "**********************************************************\n",
      "----------------------------------------------------------\n",
      "Checking parametric conditions \n",
      "----------------------------------------------------------\n",
      "Checking independence \n",
      "Ok\n",
      "Checking normality using Shapiro-Wilk's test for normality, alpha=0.05\n",
      "W: 0.670244, p:0.000000\n",
      "The null hypothesis (normality) is rejected\n",
      "Checking heteroscedasticity using Levene's test, alpha=0.05\n",
      "W: 2.322379, p:0.043397\n",
      "The null hypothesis (heteroscedasticity) is rejected\n",
      "Conditions for a parametric test are not fulfilled, applying a non-parametric test\n",
      "----------------------------------------------------------\n",
      "Working with more than 2 algorithms\n",
      "----------------------------------------------------------\n",
      "----------------------------------------------------------\n",
      "Applying Friedman test\n",
      "----------------------------------------------------------\n",
      "F-value: 4.114754, p-value: 0.0017954189651094854\n",
      "Null hypothesis is rejected; hence, models have different performance\n",
      "Technique      Ranking\n",
      "-----------  ---------\n",
      "Arbol             6.1\n",
      "RF                5.3\n",
      "SVM               3.6\n",
      "LR                3.55\n",
      "KNN               3.4\n",
      "MLP               3.2\n",
      "ET                2.85\n",
      "Winner model: Arbol\n",
      "----------------------------------------------------------\n",
      "Applying Holm p-value adjustment procedure and analysing effect size\n",
      "----------------------------------------------------------\n",
      "Comparison      Zvalue      p-value    adjusted p-value\n",
      "------------  --------  -----------  ------------------\n",
      "Arbol vs ET   3.36407   0.000768022          0.00460813\n",
      "Arbol vs MLP  3.00179   0.00268402           0.0134201\n",
      "Arbol vs KNN  2.79477   0.00519374           0.0207749\n",
      "Arbol vs LR   2.6395    0.00830282           0.0249085\n",
      "Arbol vs SVM  2.58775   0.00966062           0.0249085\n",
      "Arbol vs RF   0.828079  0.407626             0.407626\n",
      "There is a significant difference between the models: Arbol (mean: 0.340000, std: 0.179846) and ET (mean: 0.000000, std: 0.000000) (Cohen's d=2.536385849511505, Large)\n",
      "There is a significant difference between the models: Arbol (mean: 0.340000, std: 0.179846) and MLP (mean: 0.016667, std: 0.050000) (Cohen's d=2.323913505187281, Large)\n",
      "There is a significant difference between the models: Arbol (mean: 0.340000, std: 0.179846) and KNN (mean: 0.045000, std: 0.090692) (Cohen's d=1.964982732231113, Large)\n",
      "There is a significant difference between the models: Arbol (mean: 0.340000, std: 0.179846) and LR (mean: 0.100000, std: 0.213437) (Cohen's d=1.153662471802161, Large)\n",
      "There is a significant difference between the models: Arbol (mean: 0.340000, std: 0.179846) and SVM (mean: 0.065000, std: 0.134257) (Cohen's d=1.6439377410751252, Large)\n",
      "There is a significant difference between the models: Arbol (mean: 0.340000, std: 0.179846) and RF (mean: 0.228333, std: 0.181972) (Cohen's d=0.5855679969550288, Large)\n",
      "Eta squared: 0.402050 (Large)\n"
     ]
    },
    {
     "data": {
      "image/png": "[encoded data removed]",
      "text/plain": [
       "<Figure size 432x288 with 1 Axes>"
      ]
     },
     "metadata": {
      "needs_background": "light"
     },
     "output_type": "display_data"
    }
   ],
   "source": [
    "compare_methods(X_pca2,Y,listAlgorithms,listParams,listNames,metric='recall')"
   ]
  },
  {
   "cell_type": "code",
   "execution_count": 28,
   "metadata": {},
   "outputs": [
    {
     "name": "stdout",
     "output_type": "stream",
     "text": [
      "temp.csv\n",
      "['Arbol' 'SVM' 'KNN' 'LR' 'MLP' 'RF' 'ET']\n",
      "==========================================================\n",
      "Report\n",
      "==========================================================\n",
      "**********************************************************\n",
      "Mean and std\n",
      "**********************************************************\n",
      "Arbol: 0.424444 (0.092936)\n",
      "SVM: 0.508889 (0.147221)\n",
      "KNN: 0.531111 (0.167906)\n",
      "LR: 0.500000 (0.138867)\n",
      "MLP: 0.554444 (0.123773)\n",
      "RF: 0.414444 (0.132035)\n",
      "ET: 0.518889 (0.139492)\n",
      "**********************************************************\n",
      "Statistical tests\n",
      "**********************************************************\n",
      "----------------------------------------------------------\n",
      "Checking parametric conditions \n",
      "----------------------------------------------------------\n",
      "Checking independence \n",
      "Ok\n",
      "Checking normality using Shapiro-Wilk's test for normality, alpha=0.05\n",
      "W: 0.938933, p:0.001992\n",
      "The null hypothesis (normality) is rejected\n",
      "Checking heteroscedasticity using Levene's test, alpha=0.05\n",
      "W: 0.422284, p:0.861480\n",
      "The null hypothesis (heteroscedasticity) is accepted\n",
      "Conditions for a parametric test are not fulfilled, applying a non-parametric test\n",
      "----------------------------------------------------------\n",
      "Working with more than 2 algorithms\n",
      "----------------------------------------------------------\n",
      "----------------------------------------------------------\n",
      "Applying Friedman test\n",
      "----------------------------------------------------------\n",
      "F-value: 1.712009, p-value: 0.1359146756506493\n",
      "Null hypothesis is rejected; hence, models have different performance\n",
      "Technique      Ranking\n",
      "-----------  ---------\n",
      "MLP               5\n",
      "KNN               4.6\n",
      "ET                4.55\n",
      "SVM               4.4\n",
      "LR                3.7\n",
      "RF                3\n",
      "Arbol             2.75\n",
      "Winner model: MLP\n",
      "----------------------------------------------------------\n",
      "Applying Holm p-value adjustment procedure and analysing effect size\n",
      "----------------------------------------------------------\n",
      "Comparison      Zvalue    p-value    adjusted p-value\n",
      "------------  --------  ---------  ------------------\n",
      "MLP vs Arbol  2.32897   0.0198606            0.119164\n",
      "MLP vs RF     2.0702    0.0384339            0.19217\n",
      "MLP vs LR     1.34563   0.178423             0.71369\n",
      "MLP vs SVM    0.621059  0.534561             1\n",
      "MLP vs ET     0.465794  0.641363             1\n",
      "MLP vs KNN    0.414039  0.678845             1\n",
      "There is a significant difference between the models: MLP (mean: 0.554444, std: 0.123773) and Arbol (mean: 0.424444, std: 0.092936) (Cohen's d=1.126847876864222, Large)\n",
      "There is a significant difference between the models: MLP (mean: 0.554444, std: 0.123773) and RF (mean: 0.414444, std: 0.132035) (Cohen's d=1.037858562511465, Large)\n",
      "We can't say that there is a significant difference in the performance of the models: MLP (mean: 0.554444, std: 0.123773) and LR (mean: 0.500000, std: 0.138867) (Cohen's d=0.39267073089366744, Medium)\n",
      "We can't say that there is a significant difference in the performance of the models: MLP (mean: 0.554444, std: 0.123773) and SVM (mean: 0.508889, std: 0.147221) (Cohen's d=0.31777005435065114, Medium)\n",
      "We can't say that there is a significant difference in the performance of the models: MLP (mean: 0.554444, std: 0.123773) and ET (mean: 0.518889, std: 0.139492) (Cohen's d=0.25579544543277816, Medium)\n",
      "We can't say that there is a significant difference in the performance of the models: MLP (mean: 0.554444, std: 0.123773) and KNN (mean: 0.531111, std: 0.167906) (Cohen's d=0.1500744601683974, Small)\n",
      "Eta squared: 0.116069 (Large)\n"
     ]
    },
    {
     "data": {
      "image/png": "[encoded data removed]",
      "text/plain": [
       "<Figure size 432x288 with 1 Axes>"
      ]
     },
     "metadata": {
      "needs_background": "light"
     },
     "output_type": "display_data"
    }
   ],
   "source": [
    "compare_methods(X_pca2,Y,listAlgorithms,listParams,listNames,metric='accuracy')"
   ]
  },
  {
   "cell_type": "markdown",
   "metadata": {
    "id": "4_aNOwHHORLf"
   },
   "source": [
    "# PCA with 10 components"
   ]
  },
  {
   "cell_type": "code",
   "execution_count": 29,
   "metadata": {
    "id": "XoW_W87nONDr"
   },
   "outputs": [],
   "source": [
    "pca = PCA(n_components=10)"
   ]
  },
  {
   "cell_type": "code",
   "execution_count": 30,
   "metadata": {
    "id": "D6xAEHgfOXqw"
   },
   "outputs": [
    {
     "data": {
      "text/plain": [
       "PCA(n_components=10)"
      ]
     },
     "execution_count": 30,
     "metadata": {},
     "output_type": "execute_result"
    }
   ],
   "source": [
    "pca.fit(X)"
   ]
  },
  {
   "cell_type": "code",
   "execution_count": 31,
   "metadata": {
    "id": "UsP9oOY0OYu2"
   },
   "outputs": [],
   "source": [
    "X_pca10 = pca.transform(X)"
   ]
  },
  {
   "cell_type": "code",
   "execution_count": 32,
   "metadata": {
    "id": "GJl8Qwv_OgCN"
   },
   "outputs": [],
   "source": [
    "!mv temp.csv temppca2.csv"
   ]
  },
  {
   "cell_type": "code",
   "execution_count": 33,
   "metadata": {
    "id": "fQo9oAaWObE9"
   },
   "outputs": [
    {
     "name": "stdout",
     "output_type": "stream",
     "text": [
      "temp.csv\n",
      "['Arbol' 'SVM' 'KNN' 'LR' 'MLP' 'RF' 'ET']\n",
      "==========================================================\n",
      "Report\n",
      "==========================================================\n",
      "**********************************************************\n",
      "Mean and std\n",
      "**********************************************************\n",
      "Arbol: 0.506190 (0.127782)\n",
      "SVM: 0.500833 (0.041908)\n",
      "KNN: 0.537500 (0.103177)\n",
      "LR: 0.457500 (0.123432)\n",
      "MLP: 0.537857 (0.113081)\n",
      "RF: 0.555833 (0.134230)\n",
      "ET: 0.510357 (0.089310)\n",
      "**********************************************************\n",
      "Statistical tests\n",
      "**********************************************************\n",
      "----------------------------------------------------------\n",
      "Checking parametric conditions \n",
      "----------------------------------------------------------\n",
      "Checking independence \n",
      "Ok\n",
      "Checking normality using Shapiro-Wilk's test for normality, alpha=0.05\n",
      "W: 0.981004, p:0.366942\n",
      "The null hypothesis (normality) is rejected\n",
      "Checking heteroscedasticity using Levene's test, alpha=0.05\n",
      "W: 1.485486, p:0.197653\n",
      "The null hypothesis (heteroscedasticity) is rejected\n",
      "Conditions for a parametric test are not fulfilled, applying a non-parametric test\n",
      "----------------------------------------------------------\n",
      "Working with more than 2 algorithms\n",
      "----------------------------------------------------------\n",
      "----------------------------------------------------------\n",
      "Applying Friedman test\n",
      "----------------------------------------------------------\n",
      "F-value: 0.820733, p-value: 0.5587961162621096\n",
      "Null hypothesis is accepted; hence, we can't say that there is a significant difference in the performance of the models\n",
      "----------------------------------------------------------\n",
      "Analysing effect size\n",
      "----------------------------------------------------------\n",
      "We take the model with the best mean (RF, mean: 0.555833) and compare it with the other models: \n",
      "Comparing effect size of RF and Arbol: Cohen's d=0.35938150542935354, Medium\n",
      "Comparing effect size of RF and SVM: Cohen's d=0.5247497163668516, Large\n",
      "Comparing effect size of RF and KNN: Cohen's d=0.14528323437068652, Small\n",
      "Comparing effect size of RF and LR: Cohen's d=0.7234689591106163, Large\n",
      "Comparing effect size of RF and MLP: Cohen's d=0.1374114389915739, Small\n",
      "Comparing effect size of RF and ET: Cohen's d=0.37842912905188764, Medium\n",
      "Eta squared: 0.070770 (Large)\n"
     ]
    },
    {
     "data": {
      "image/png": "[encoded data removed]",
      "text/plain": [
       "<Figure size 432x288 with 1 Axes>"
      ]
     },
     "metadata": {
      "needs_background": "light"
     },
     "output_type": "display_data"
    }
   ],
   "source": [
    "compare_methods(X_pca10,Y,listAlgorithms,listParams,listNames,metric='auroc')"
   ]
  },
  {
   "cell_type": "code",
   "execution_count": 34,
   "metadata": {},
   "outputs": [
    {
     "name": "stdout",
     "output_type": "stream",
     "text": [
      "temp.csv\n",
      "['Arbol' 'SVM' 'KNN' 'LR' 'MLP' 'RF' 'ET']\n",
      "==========================================================\n",
      "Report\n",
      "==========================================================\n",
      "**********************************************************\n",
      "Mean and std\n",
      "**********************************************************\n",
      "Arbol: 0.465000 (0.198389)\n",
      "SVM: 0.100000 (0.200000)\n",
      "KNN: 0.510000 (0.430000)\n",
      "LR: 0.327500 (0.287857)\n",
      "MLP: 0.436667 (0.297191)\n",
      "RF: 0.511190 (0.345562)\n",
      "ET: 0.229524 (0.303164)\n",
      "**********************************************************\n",
      "Statistical tests\n",
      "**********************************************************\n",
      "----------------------------------------------------------\n",
      "Checking parametric conditions \n",
      "----------------------------------------------------------\n",
      "Checking independence \n",
      "Ok\n",
      "Checking normality using Shapiro-Wilk's test for normality, alpha=0.05\n",
      "W: 0.859186, p:0.000001\n",
      "The null hypothesis (normality) is rejected\n",
      "Checking heteroscedasticity using Levene's test, alpha=0.05\n",
      "W: 1.917842, p:0.091638\n",
      "The null hypothesis (heteroscedasticity) is rejected\n",
      "Conditions for a parametric test are not fulfilled, applying a non-parametric test\n",
      "----------------------------------------------------------\n",
      "Working with more than 2 algorithms\n",
      "----------------------------------------------------------\n",
      "----------------------------------------------------------\n",
      "Applying Friedman test\n",
      "----------------------------------------------------------\n",
      "F-value: 1.890233, p-value: 0.0992865571768512\n",
      "Null hypothesis is rejected; hence, models have different performance\n",
      "Technique      Ranking\n",
      "-----------  ---------\n",
      "Arbol             4.9\n",
      "RF                4.8\n",
      "KNN               4.55\n",
      "MLP               4.35\n",
      "ET                3.6\n",
      "LR                3.35\n",
      "SVM               2.45\n",
      "Winner model: Arbol\n",
      "----------------------------------------------------------\n",
      "Applying Holm p-value adjustment procedure and analysing effect size\n",
      "----------------------------------------------------------\n",
      "Comparison      Zvalue    p-value    adjusted p-value\n",
      "------------  --------  ---------  ------------------\n",
      "Arbol vs SVM  2.53599    0.011213           0.0672778\n",
      "Arbol vs LR   1.6044     0.108625           0.543127\n",
      "Arbol vs ET   1.34563    0.178423           0.71369\n",
      "Arbol vs MLP  0.569304   0.56915            1\n",
      "Arbol vs KNN  0.362284   0.71714            1\n",
      "Arbol vs RF   0.10351    0.917558           1\n",
      "There is a significant difference between the models: Arbol (mean: 0.465000, std: 0.198389) and SVM (mean: 0.100000, std: 0.200000) (Cohen's d=1.7383324920703471, Large)\n",
      "We can't say that there is a significant difference in the performance of the models: Arbol (mean: 0.465000, std: 0.198389) and LR (mean: 0.327500, std: 0.287857) (Cohen's d=0.52767627024024, Large)\n",
      "We can't say that there is a significant difference in the performance of the models: Arbol (mean: 0.465000, std: 0.198389) and ET (mean: 0.229524, std: 0.303164) (Cohen's d=0.8719788103663392, Large)\n",
      "We can't say that there is a significant difference in the performance of the models: Arbol (mean: 0.465000, std: 0.198389) and MLP (mean: 0.436667, std: 0.297191) (Cohen's d=0.10638283059949757, Small)\n",
      "We can't say that there is a significant difference in the performance of the models: Arbol (mean: 0.465000, std: 0.198389) and KNN (mean: 0.510000, std: 0.430000) (Cohen's d=0.1274895156644754, Small)\n",
      "We can't say that there is a significant difference in the performance of the models: Arbol (mean: 0.465000, std: 0.198389) and RF (mean: 0.511190, std: 0.345562) (Cohen's d=0.15552599234147307, Small)\n",
      "Eta squared: 0.185634 (Large)\n"
     ]
    },
    {
     "data": {
      "image/png": "[encoded data removed]",
      "text/plain": [
       "<Figure size 432x288 with 1 Axes>"
      ]
     },
     "metadata": {
      "needs_background": "light"
     },
     "output_type": "display_data"
    }
   ],
   "source": [
    "compare_methods(X_pca10,Y,listAlgorithms,listParams,listNames,metric='precision')"
   ]
  },
  {
   "cell_type": "code",
   "execution_count": 35,
   "metadata": {},
   "outputs": [
    {
     "name": "stdout",
     "output_type": "stream",
     "text": [
      "temp.csv\n",
      "['Arbol' 'SVM' 'KNN' 'LR' 'MLP' 'RF' 'ET']\n",
      "==========================================================\n",
      "Report\n",
      "==========================================================\n",
      "**********************************************************\n",
      "Mean and std\n",
      "**********************************************************\n",
      "Arbol: 0.456667 (0.230844)\n",
      "SVM: 0.058333 (0.118145)\n",
      "KNN: 0.245000 (0.211351)\n",
      "LR: 0.340000 (0.266896)\n",
      "MLP: 0.350000 (0.240947)\n",
      "RF: 0.428333 (0.282061)\n",
      "ET: 0.275000 (0.333437)\n",
      "**********************************************************\n",
      "Statistical tests\n",
      "**********************************************************\n",
      "----------------------------------------------------------\n",
      "Checking parametric conditions \n",
      "----------------------------------------------------------\n",
      "Checking independence \n",
      "Ok\n",
      "Checking normality using Shapiro-Wilk's test for normality, alpha=0.05\n",
      "W: 0.888636, p:0.000014\n",
      "The null hypothesis (normality) is rejected\n",
      "Checking heteroscedasticity using Levene's test, alpha=0.05\n",
      "W: 1.571139, p:0.170362\n",
      "The null hypothesis (heteroscedasticity) is rejected\n",
      "Conditions for a parametric test are not fulfilled, applying a non-parametric test\n",
      "----------------------------------------------------------\n",
      "Working with more than 2 algorithms\n",
      "----------------------------------------------------------\n",
      "----------------------------------------------------------\n",
      "Applying Friedman test\n",
      "----------------------------------------------------------\n",
      "F-value: 2.543747, p-value: 0.030505503145563884\n",
      "Null hypothesis is rejected; hence, models have different performance\n",
      "Technique      Ranking\n",
      "-----------  ---------\n",
      "Arbol             5.2\n",
      "RF                4.8\n",
      "MLP               4.4\n",
      "LR                4.25\n",
      "KNN               3.85\n",
      "ET                3.35\n",
      "SVM               2.15\n",
      "Winner model: Arbol\n",
      "----------------------------------------------------------\n",
      "Applying Holm p-value adjustment procedure and analysing effect size\n",
      "----------------------------------------------------------\n",
      "Comparison      Zvalue     p-value    adjusted p-value\n",
      "------------  --------  ----------  ------------------\n",
      "Arbol vs SVM  3.15705   0.00159374          0.00956244\n",
      "Arbol vs ET   1.91493   0.0555012           0.277506\n",
      "Arbol vs KNN  1.39738   0.162299            0.649194\n",
      "Arbol vs LR   0.983343  0.325438            0.976315\n",
      "Arbol vs MLP  0.828079  0.407626            0.976315\n",
      "Arbol vs RF   0.414039  0.678845            0.976315\n",
      "There is a significant difference between the models: Arbol (mean: 0.456667, std: 0.230844) and SVM (mean: 0.058333, std: 0.118145) (Cohen's d=2.060846895146366, Large)\n",
      "There is a significant difference between the models: Arbol (mean: 0.456667, std: 0.230844) and ET (mean: 0.275000, std: 0.333437) (Cohen's d=0.6009922717636675, Large)\n",
      "We can't say that there is a significant difference in the performance of the models: Arbol (mean: 0.456667, std: 0.230844) and KNN (mean: 0.245000, std: 0.211351) (Cohen's d=0.9073357636537337, Large)\n",
      "We can't say that there is a significant difference in the performance of the models: Arbol (mean: 0.456667, std: 0.230844) and LR (mean: 0.340000, std: 0.266896) (Cohen's d=0.4435673905747151, Medium)\n",
      "We can't say that there is a significant difference in the performance of the models: Arbol (mean: 0.456667, std: 0.230844) and MLP (mean: 0.350000, std: 0.240947) (Cohen's d=0.42887496913178524, Medium)\n",
      "We can't say that there is a significant difference in the performance of the models: Arbol (mean: 0.456667, std: 0.230844) and RF (mean: 0.428333, std: 0.282061) (Cohen's d=0.10429360622304124, Small)\n",
      "Eta squared: 0.198180 (Large)\n"
     ]
    },
    {
     "data": {
      "image/png": "[encoded data removed]",
      "text/plain": [
       "<Figure size 432x288 with 1 Axes>"
      ]
     },
     "metadata": {
      "needs_background": "light"
     },
     "output_type": "display_data"
    }
   ],
   "source": [
    "compare_methods(X_pca10,Y,listAlgorithms,listParams,listNames,metric='recall')"
   ]
  },
  {
   "cell_type": "code",
   "execution_count": 36,
   "metadata": {},
   "outputs": [
    {
     "name": "stdout",
     "output_type": "stream",
     "text": [
      "temp.csv\n",
      "['Arbol' 'SVM' 'KNN' 'LR' 'MLP' 'RF' 'ET']\n",
      "==========================================================\n",
      "Report\n",
      "==========================================================\n",
      "**********************************************************\n",
      "Mean and std\n",
      "**********************************************************\n",
      "Arbol: 0.502222 (0.129653)\n",
      "SVM: 0.552222 (0.148411)\n",
      "KNN: 0.542222 (0.087319)\n",
      "LR: 0.424444 (0.090376)\n",
      "MLP: 0.540000 (0.160262)\n",
      "RF: 0.532222 (0.110939)\n",
      "ET: 0.477778 (0.119670)\n",
      "**********************************************************\n",
      "Statistical tests\n",
      "**********************************************************\n",
      "----------------------------------------------------------\n",
      "Checking parametric conditions \n",
      "----------------------------------------------------------\n",
      "Checking independence \n",
      "Ok\n",
      "Checking normality using Shapiro-Wilk's test for normality, alpha=0.05\n",
      "W: 0.933870, p:0.001134\n",
      "The null hypothesis (normality) is rejected\n",
      "Checking heteroscedasticity using Levene's test, alpha=0.05\n",
      "W: 1.448609, p:0.210560\n",
      "The null hypothesis (heteroscedasticity) is rejected\n",
      "Conditions for a parametric test are not fulfilled, applying a non-parametric test\n",
      "----------------------------------------------------------\n",
      "Working with more than 2 algorithms\n",
      "----------------------------------------------------------\n",
      "----------------------------------------------------------\n",
      "Applying Friedman test\n",
      "----------------------------------------------------------\n",
      "F-value: 1.146970, p-value: 0.34830650170180166\n",
      "Null hypothesis is rejected; hence, models have different performance\n",
      "Technique      Ranking\n",
      "-----------  ---------\n",
      "KNN               4.65\n",
      "SVM               4.65\n",
      "MLP               4.55\n",
      "RF                4.15\n",
      "Arbol             3.9\n",
      "ET                3.35\n",
      "LR                2.75\n",
      "Winner model: KNN\n",
      "----------------------------------------------------------\n",
      "Applying Holm p-value adjustment procedure and analysing effect size\n",
      "----------------------------------------------------------\n",
      "Comparison      Zvalue    p-value    adjusted p-value\n",
      "------------  --------  ---------  ------------------\n",
      "KNN vs LR     1.96669   0.0492193            0.295316\n",
      "KNN vs ET     1.34563   0.178423             0.892113\n",
      "KNN vs Arbol  0.776324  0.437558             1\n",
      "KNN vs RF     0.517549  0.604773             1\n",
      "KNN vs MLP    0.10351   0.917558             1\n",
      "KNN vs SVM    0         1                    1\n",
      "There is a significant difference between the models: KNN (mean: 0.542222, std: 0.087319) and LR (mean: 0.424444, std: 0.090376) (Cohen's d=1.257398368322629, Large)\n",
      "We can't say that there is a significant difference in the performance of the models: KNN (mean: 0.542222, std: 0.087319) and ET (mean: 0.477778, std: 0.119670) (Cohen's d=0.5836429250032851, Large)\n",
      "We can't say that there is a significant difference in the performance of the models: KNN (mean: 0.542222, std: 0.087319) and Arbol (mean: 0.502222, std: 0.129653) (Cohen's d=0.34331589588220307, Medium)\n",
      "We can't say that there is a significant difference in the performance of the models: KNN (mean: 0.542222, std: 0.087319) and RF (mean: 0.532222, std: 0.110939) (Cohen's d=0.09502978294697687, Small)\n",
      "We can't say that there is a significant difference in the performance of the models: KNN (mean: 0.542222, std: 0.087319) and MLP (mean: 0.540000, std: 0.160262) (Cohen's d=0.01633598310351919, Small)\n",
      "We can't say that there is a significant difference in the performance of the models: KNN (mean: 0.542222, std: 0.087319) and SVM (mean: 0.552222, std: 0.148411) (Cohen's d=0.07791469643712526, Small)\n",
      "Eta squared: 0.105651 (Large)\n"
     ]
    },
    {
     "data": {
      "image/png": "[encoded data removed]",
      "text/plain": [
       "<Figure size 432x288 with 1 Axes>"
      ]
     },
     "metadata": {
      "needs_background": "light"
     },
     "output_type": "display_data"
    }
   ],
   "source": [
    "compare_methods(X_pca10,Y,listAlgorithms,listParams,listNames,metric='accuracy')"
   ]
  },
  {
   "cell_type": "code",
   "execution_count": 37,
   "metadata": {
    "id": "uUqwDOQLOjtd"
   },
   "outputs": [],
   "source": [
    "!mv temp.csv temppca10.csv"
   ]
  },
  {
   "cell_type": "markdown",
   "metadata": {
    "id": "7wgUs9MrOuQE"
   },
   "source": [
    "# PCA with 100 components"
   ]
  },
  {
   "cell_type": "code",
   "execution_count": 38,
   "metadata": {
    "id": "Ef54_v0COuQF"
   },
   "outputs": [],
   "source": [
    "pca = PCA(n_components=50)"
   ]
  },
  {
   "cell_type": "code",
   "execution_count": 39,
   "metadata": {
    "id": "ejF2FGo0OuQG"
   },
   "outputs": [
    {
     "data": {
      "text/plain": [
       "PCA(n_components=50)"
      ]
     },
     "execution_count": 39,
     "metadata": {},
     "output_type": "execute_result"
    }
   ],
   "source": [
    "pca.fit(X)"
   ]
  },
  {
   "cell_type": "code",
   "execution_count": 40,
   "metadata": {
    "id": "AAI4QlOZOuQG"
   },
   "outputs": [],
   "source": [
    "X_pca100 = pca.transform(X)"
   ]
  },
  {
   "cell_type": "code",
   "execution_count": 41,
   "metadata": {
    "id": "JVbgf7IdOuQH",
    "scrolled": true
   },
   "outputs": [
    {
     "name": "stdout",
     "output_type": "stream",
     "text": [
      "temp.csv\n",
      "['Arbol' 'SVM' 'KNN' 'LR' 'MLP' 'RF' 'ET']\n",
      "==========================================================\n",
      "Report\n",
      "==========================================================\n",
      "**********************************************************\n",
      "Mean and std\n",
      "**********************************************************\n",
      "Arbol: 0.466190 (0.118334)\n",
      "SVM: 0.443929 (0.112168)\n",
      "KNN: 0.444405 (0.106210)\n",
      "LR: 0.514167 (0.190243)\n",
      "MLP: 0.465357 (0.195866)\n",
      "RF: 0.618571 (0.170526)\n",
      "ET: 0.538690 (0.105899)\n",
      "**********************************************************\n",
      "Statistical tests\n",
      "**********************************************************\n",
      "----------------------------------------------------------\n",
      "Checking parametric conditions \n",
      "----------------------------------------------------------\n",
      "Checking independence \n",
      "Ok\n",
      "Checking normality using Shapiro-Wilk's test for normality, alpha=0.05\n",
      "W: 0.971032, p:0.104262\n",
      "The null hypothesis (normality) is rejected\n",
      "Checking heteroscedasticity using Levene's test, alpha=0.05\n",
      "W: 1.561989, p:0.173106\n",
      "The null hypothesis (heteroscedasticity) is rejected\n",
      "Conditions for a parametric test are not fulfilled, applying a non-parametric test\n",
      "----------------------------------------------------------\n",
      "Working with more than 2 algorithms\n",
      "----------------------------------------------------------\n",
      "----------------------------------------------------------\n",
      "Applying Friedman test\n",
      "----------------------------------------------------------\n",
      "F-value: 3.749810, p-value: 0.003431089952205424\n",
      "Null hypothesis is rejected; hence, models have different performance\n",
      "Technique      Ranking\n",
      "-----------  ---------\n",
      "RF                6.2\n",
      "ET                4.8\n",
      "LR                4.15\n",
      "Arbol             3.6\n",
      "KNN               3.2\n",
      "MLP               3.15\n",
      "SVM               2.9\n",
      "Winner model: RF\n",
      "----------------------------------------------------------\n",
      "Applying Holm p-value adjustment procedure and analysing effect size\n",
      "----------------------------------------------------------\n",
      "Comparison      Zvalue      p-value    adjusted p-value\n",
      "------------  --------  -----------  ------------------\n",
      "RF vs SVM      3.41582  0.000635892          0.00381535\n",
      "RF vs MLP      3.15705  0.00159374           0.0079687\n",
      "RF vs KNN      3.1053   0.00190089           0.0079687\n",
      "RF vs Arbol    2.69126  0.00711836           0.0213551\n",
      "RF vs LR       2.12195  0.0338418            0.0676836\n",
      "RF vs ET       1.44914  0.147299             0.147299\n",
      "There is a significant difference between the models: RF (mean: 0.618571, std: 0.170526) and SVM (mean: 0.443929, std: 0.112168) (Cohen's d=1.1479494495274691, Large)\n",
      "There is a significant difference between the models: RF (mean: 0.618571, std: 0.170526) and MLP (mean: 0.465357, std: 0.195866) (Cohen's d=0.7915315269910993, Large)\n",
      "There is a significant difference between the models: RF (mean: 0.618571, std: 0.170526) and KNN (mean: 0.444405, std: 0.106210) (Cohen's d=1.1631265777930861, Large)\n",
      "There is a significant difference between the models: RF (mean: 0.618571, std: 0.170526) and Arbol (mean: 0.466190, std: 0.118334) (Cohen's d=0.9849606022469567, Large)\n",
      "There is a significant difference between the models: RF (mean: 0.618571, std: 0.170526) and LR (mean: 0.514167, std: 0.190243) (Cohen's d=0.5482705942168214, Large)\n",
      "There is a significant difference between the models: RF (mean: 0.618571, std: 0.170526) and ET (mean: 0.538690, std: 0.105899) (Cohen's d=0.5339006998337607, Large)\n",
      "Eta squared: 0.137394 (Large)\n"
     ]
    },
    {
     "data": {
      "image/png": "[encoded data removed]",
      "text/plain": [
       "<Figure size 432x288 with 1 Axes>"
      ]
     },
     "metadata": {
      "needs_background": "light"
     },
     "output_type": "display_data"
    }
   ],
   "source": [
    "compare_methods(X_pca100,Y,listAlgorithms,listParams,listNames,metric='auroc')"
   ]
  },
  {
   "cell_type": "code",
   "execution_count": 42,
   "metadata": {},
   "outputs": [
    {
     "name": "stdout",
     "output_type": "stream",
     "text": [
      "temp.csv\n",
      "['Arbol' 'SVM' 'KNN' 'LR' 'MLP' 'RF' 'ET']\n",
      "==========================================================\n",
      "Report\n",
      "==========================================================\n",
      "**********************************************************\n",
      "Mean and std\n",
      "**********************************************************\n",
      "Arbol: 0.420000 (0.257854)\n",
      "SVM: 0.020000 (0.060000)\n",
      "KNN: 0.250000 (0.403113)\n",
      "LR: 0.453333 (0.248193)\n",
      "MLP: 0.253333 (0.388501)\n",
      "RF: 0.633333 (0.350000)\n",
      "ET: 0.516667 (0.450000)\n",
      "**********************************************************\n",
      "Statistical tests\n",
      "**********************************************************\n",
      "----------------------------------------------------------\n",
      "Checking parametric conditions \n",
      "----------------------------------------------------------\n",
      "Checking independence \n",
      "Ok\n",
      "Checking normality using Shapiro-Wilk's test for normality, alpha=0.05\n",
      "W: 0.807129, p:0.000000\n",
      "The null hypothesis (normality) is rejected\n",
      "Checking heteroscedasticity using Levene's test, alpha=0.05\n",
      "W: 2.189854, p:0.055542\n",
      "The null hypothesis (heteroscedasticity) is rejected\n",
      "Conditions for a parametric test are not fulfilled, applying a non-parametric test\n",
      "----------------------------------------------------------\n",
      "Working with more than 2 algorithms\n",
      "----------------------------------------------------------\n",
      "----------------------------------------------------------\n",
      "Applying Friedman test\n",
      "----------------------------------------------------------\n",
      "F-value: 3.708018, p-value: 0.003697200422414282\n",
      "Null hypothesis is rejected; hence, models have different performance\n",
      "Technique      Ranking\n",
      "-----------  ---------\n",
      "RF                5.65\n",
      "ET                4.65\n",
      "LR                4.65\n",
      "Arbol             4.4\n",
      "KNN               3.25\n",
      "MLP               3.2\n",
      "SVM               2.2\n",
      "Winner model: RF\n",
      "----------------------------------------------------------\n",
      "Applying Holm p-value adjustment procedure and analysing effect size\n",
      "----------------------------------------------------------\n",
      "Comparison      Zvalue    p-value    adjusted p-value\n",
      "------------  --------  ---------  ------------------\n",
      "RF vs SVM      3.57109  0.0003555           0.002133\n",
      "RF vs MLP      2.53599  0.011213            0.0560648\n",
      "RF vs KNN      2.48424  0.012983            0.0560648\n",
      "RF vs Arbol    1.29387  0.195709            0.587128\n",
      "RF vs LR       1.0351   0.300623            0.601246\n",
      "RF vs ET       1.0351   0.300623            0.601246\n",
      "There is a significant difference between the models: RF (mean: 0.633333, std: 0.350000) and SVM (mean: 0.020000, std: 0.060000) (Cohen's d=2.3172627347967505, Large)\n",
      "There is a significant difference between the models: RF (mean: 0.633333, std: 0.350000) and MLP (mean: 0.253333, std: 0.388501) (Cohen's d=0.9749764389167385, Large)\n",
      "There is a significant difference between the models: RF (mean: 0.633333, std: 0.350000) and KNN (mean: 0.250000, std: 0.403113) (Cohen's d=0.9633639890708996, Large)\n",
      "We can't say that there is a significant difference in the performance of the models: RF (mean: 0.633333, std: 0.350000) and Arbol (mean: 0.420000, std: 0.257854) (Cohen's d=0.6583803128655814, Large)\n",
      "We can't say that there is a significant difference in the performance of the models: RF (mean: 0.633333, std: 0.350000) and LR (mean: 0.453333, std: 0.248193) (Cohen's d=0.5628359941653365, Large)\n",
      "We can't say that there is a significant difference in the performance of the models: RF (mean: 0.633333, std: 0.350000) and ET (mean: 0.516667, std: 0.450000) (Cohen's d=0.27456258919345744, Medium)\n",
      "Eta squared: 0.245470 (Large)\n"
     ]
    },
    {
     "data": {
      "image/png": "[encoded data removed]",
      "text/plain": [
       "<Figure size 432x288 with 1 Axes>"
      ]
     },
     "metadata": {
      "needs_background": "light"
     },
     "output_type": "display_data"
    }
   ],
   "source": [
    "compare_methods(X_pca100,Y,listAlgorithms,listParams,listNames,metric='precision')"
   ]
  },
  {
   "cell_type": "code",
   "execution_count": 43,
   "metadata": {},
   "outputs": [
    {
     "name": "stdout",
     "output_type": "stream",
     "text": [
      "temp.csv\n",
      "['Arbol' 'SVM' 'KNN' 'LR' 'MLP' 'RF' 'ET']\n",
      "==========================================================\n",
      "Report\n",
      "==========================================================\n",
      "**********************************************************\n",
      "Mean and std\n",
      "**********************************************************\n",
      "Arbol: 0.386667 (0.230434)\n",
      "SVM: 0.025000 (0.075000)\n",
      "KNN: 0.066667 (0.110554)\n",
      "LR: 0.481667 (0.255435)\n",
      "MLP: 0.208333 (0.277013)\n",
      "RF: 0.418333 (0.245566)\n",
      "ET: 0.173333 (0.157621)\n",
      "**********************************************************\n",
      "Statistical tests\n",
      "**********************************************************\n",
      "----------------------------------------------------------\n",
      "Checking parametric conditions \n",
      "----------------------------------------------------------\n",
      "Checking independence \n",
      "Ok\n",
      "Checking normality using Shapiro-Wilk's test for normality, alpha=0.05\n",
      "W: 0.847067, p:0.000001\n",
      "The null hypothesis (normality) is rejected\n",
      "Checking heteroscedasticity using Levene's test, alpha=0.05\n",
      "W: 2.150704, p:0.059724\n",
      "The null hypothesis (heteroscedasticity) is rejected\n",
      "Conditions for a parametric test are not fulfilled, applying a non-parametric test\n",
      "----------------------------------------------------------\n",
      "Working with more than 2 algorithms\n",
      "----------------------------------------------------------\n",
      "----------------------------------------------------------\n",
      "Applying Friedman test\n",
      "----------------------------------------------------------\n",
      "F-value: 6.759850, p-value: 2.2137022224977265e-05\n",
      "Null hypothesis is rejected; hence, models have different performance\n",
      "Technique      Ranking\n",
      "-----------  ---------\n",
      "LR                5.6\n",
      "RF                5.55\n",
      "Arbol             5.1\n",
      "MLP               3.65\n",
      "ET                3.35\n",
      "KNN               2.45\n",
      "SVM               2.3\n",
      "Winner model: LR\n",
      "----------------------------------------------------------\n",
      "Applying Holm p-value adjustment procedure and analysing effect size\n",
      "----------------------------------------------------------\n",
      "Comparison       Zvalue      p-value    adjusted p-value\n",
      "------------  ---------  -----------  ------------------\n",
      "LR vs SVM     3.41582    0.000635892          0.00381535\n",
      "LR vs KNN     3.26056    0.00111193           0.00555963\n",
      "LR vs ET      2.32897    0.0198606            0.0794424\n",
      "LR vs MLP     2.01844    0.0435453            0.130636\n",
      "LR vs Arbol   0.517549   0.604773             1\n",
      "LR vs RF      0.0517549  0.958724             1\n",
      "There is a significant difference between the models: LR (mean: 0.481667, std: 0.255435) and SVM (mean: 0.025000, std: 0.075000) (Cohen's d=2.3014287800679076, Large)\n",
      "There is a significant difference between the models: LR (mean: 0.481667, std: 0.255435) and KNN (mean: 0.066667, std: 0.110554) (Cohen's d=2.000410514002806, Large)\n",
      "There is a significant difference between the models: LR (mean: 0.481667, std: 0.255435) and ET (mean: 0.173333, std: 0.157621) (Cohen's d=1.3782069001243817, Large)\n",
      "There is a significant difference between the models: LR (mean: 0.481667, std: 0.255435) and MLP (mean: 0.208333, std: 0.277013) (Cohen's d=0.9732180751317342, Large)\n",
      "We can't say that there is a significant difference in the performance of the models: LR (mean: 0.481667, std: 0.255435) and Arbol (mean: 0.386667, std: 0.230434) (Cohen's d=0.37049369651503633, Medium)\n",
      "We can't say that there is a significant difference in the performance of the models: LR (mean: 0.481667, std: 0.255435) and RF (mean: 0.418333, std: 0.245566) (Cohen's d=0.239806107793205, Medium)\n",
      "Eta squared: 0.392418 (Large)\n"
     ]
    },
    {
     "data": {
      "image/png": "[encoded data removed]",
      "text/plain": [
       "<Figure size 432x288 with 1 Axes>"
      ]
     },
     "metadata": {
      "needs_background": "light"
     },
     "output_type": "display_data"
    }
   ],
   "source": [
    "compare_methods(X_pca100,Y,listAlgorithms,listParams,listNames,metric='recall')"
   ]
  },
  {
   "cell_type": "code",
   "execution_count": 44,
   "metadata": {},
   "outputs": [
    {
     "name": "stdout",
     "output_type": "stream",
     "text": [
      "temp.csv\n",
      "['Arbol' 'SVM' 'KNN' 'LR' 'MLP' 'RF' 'ET']\n",
      "==========================================================\n",
      "Report\n",
      "==========================================================\n",
      "**********************************************************\n",
      "Mean and std\n",
      "**********************************************************\n",
      "Arbol: 0.467778 (0.121559)\n",
      "SVM: 0.485556 (0.164358)\n",
      "KNN: 0.485556 (0.110448)\n",
      "LR: 0.520000 (0.154344)\n",
      "MLP: 0.488889 (0.148657)\n",
      "RF: 0.651111 (0.157072)\n",
      "ET: 0.584444 (0.141962)\n",
      "**********************************************************\n",
      "Statistical tests\n",
      "**********************************************************\n",
      "----------------------------------------------------------\n",
      "Checking parametric conditions \n",
      "----------------------------------------------------------\n",
      "Checking independence \n",
      "Ok\n",
      "Checking normality using Shapiro-Wilk's test for normality, alpha=0.05\n",
      "W: 0.964208, p:0.042933\n",
      "The null hypothesis (normality) is rejected\n",
      "Checking heteroscedasticity using Levene's test, alpha=0.05\n",
      "W: 0.496905, p:0.808319\n",
      "The null hypothesis (heteroscedasticity) is accepted\n",
      "Conditions for a parametric test are not fulfilled, applying a non-parametric test\n",
      "----------------------------------------------------------\n",
      "Working with more than 2 algorithms\n",
      "----------------------------------------------------------\n",
      "----------------------------------------------------------\n",
      "Applying Friedman test\n",
      "----------------------------------------------------------\n",
      "F-value: 2.892402, p-value: 0.016155770881867593\n",
      "Null hypothesis is rejected; hence, models have different performance\n",
      "Technique      Ranking\n",
      "-----------  ---------\n",
      "RF                5.85\n",
      "ET                5.15\n",
      "LR                3.8\n",
      "SVM               3.45\n",
      "KNN               3.35\n",
      "Arbol             3.3\n",
      "MLP               3.1\n",
      "Winner model: RF\n",
      "----------------------------------------------------------\n",
      "Applying Holm p-value adjustment procedure and analysing effect size\n",
      "----------------------------------------------------------\n",
      "Comparison      Zvalue     p-value    adjusted p-value\n",
      "------------  --------  ----------  ------------------\n",
      "RF vs MLP     2.84652   0.00441999           0.0265199\n",
      "RF vs Arbol   2.6395    0.00830282           0.0415141\n",
      "RF vs KNN     2.58775   0.00966062           0.0415141\n",
      "RF vs SVM     2.48424   0.012983             0.0415141\n",
      "RF vs LR      2.12195   0.0338418            0.0676836\n",
      "RF vs ET      0.724569  0.468717             0.468717\n",
      "There is a significant difference between the models: RF (mean: 0.651111, std: 0.157072) and MLP (mean: 0.488889, std: 0.148657) (Cohen's d=1.0063781392391347, Large)\n",
      "There is a significant difference between the models: RF (mean: 0.651111, std: 0.157072) and Arbol (mean: 0.467778, std: 0.121559) (Cohen's d=1.2384097913773184, Large)\n",
      "There is a significant difference between the models: RF (mean: 0.651111, std: 0.157072) and KNN (mean: 0.485556, std: 0.110448) (Cohen's d=1.1567546698188285, Large)\n",
      "There is a significant difference between the models: RF (mean: 0.651111, std: 0.157072) and SVM (mean: 0.485556, std: 0.164358) (Cohen's d=0.9770054204272612, Large)\n",
      "There is a significant difference between the models: RF (mean: 0.651111, std: 0.157072) and LR (mean: 0.520000, std: 0.154344) (Cohen's d=0.7987898178595476, Large)\n",
      "There is a significant difference between the models: RF (mean: 0.651111, std: 0.157072) and ET (mean: 0.584444, std: 0.141962) (Cohen's d=0.4224607245503361, Medium)\n",
      "Eta squared: 0.157920 (Large)\n"
     ]
    },
    {
     "data": {
      "image/png": "[encoded data removed]",
      "text/plain": [
       "<Figure size 432x288 with 1 Axes>"
      ]
     },
     "metadata": {
      "needs_background": "light"
     },
     "output_type": "display_data"
    }
   ],
   "source": [
    "compare_methods(X_pca100,Y,listAlgorithms,listParams,listNames,metric='accuracy')"
   ]
  },
  {
   "cell_type": "code",
   "execution_count": 45,
   "metadata": {
    "id": "DNplq4INOuQI"
   },
   "outputs": [],
   "source": [
    "!mv temp.csv temppca100.csv"
   ]
  },
  {
   "cell_type": "markdown",
   "metadata": {
    "id": "B9xyvRUBJ4Yg"
   },
   "source": [
    "# TSNE with 2 components"
   ]
  },
  {
   "cell_type": "code",
   "execution_count": 46,
   "metadata": {
    "id": "cgeSd7wqJ4MA"
   },
   "outputs": [],
   "source": [
    "from sklearn.manifold import TSNE"
   ]
  },
  {
   "cell_type": "code",
   "execution_count": 47,
   "metadata": {
    "id": "VqpY0-F7JWkP"
   },
   "outputs": [],
   "source": [
    "Xtsne2 = TSNE(n_components=2).fit_transform(X)"
   ]
  },
  {
   "cell_type": "code",
   "execution_count": 48,
   "metadata": {
    "id": "JLGsE9ymKGAf",
    "scrolled": true
   },
   "outputs": [
    {
     "name": "stdout",
     "output_type": "stream",
     "text": [
      "temp.csv\n",
      "['Arbol' 'SVM' 'KNN' 'LR' 'MLP' 'RF' 'ET']\n",
      "==========================================================\n",
      "Report\n",
      "==========================================================\n",
      "**********************************************************\n",
      "Mean and std\n",
      "**********************************************************\n",
      "Arbol: 0.407381 (0.108089)\n",
      "SVM: 0.330833 (0.181795)\n",
      "KNN: 0.485833 (0.090527)\n",
      "LR: 0.557857 (0.170428)\n",
      "MLP: 0.424762 (0.133237)\n",
      "RF: 0.435357 (0.150851)\n",
      "ET: 0.466667 (0.100000)\n",
      "**********************************************************\n",
      "Statistical tests\n",
      "**********************************************************\n",
      "----------------------------------------------------------\n",
      "Checking parametric conditions \n",
      "----------------------------------------------------------\n",
      "Checking independence \n",
      "Ok\n",
      "Checking normality using Shapiro-Wilk's test for normality, alpha=0.05\n",
      "W: 0.939928, p:0.002230\n",
      "The null hypothesis (normality) is rejected\n",
      "Checking heteroscedasticity using Levene's test, alpha=0.05\n",
      "W: 2.082095, p:0.067801\n",
      "The null hypothesis (heteroscedasticity) is rejected\n",
      "Conditions for a parametric test are not fulfilled, applying a non-parametric test\n",
      "----------------------------------------------------------\n",
      "Working with more than 2 algorithms\n",
      "----------------------------------------------------------\n",
      "----------------------------------------------------------\n",
      "Applying Friedman test\n",
      "----------------------------------------------------------\n",
      "F-value: 2.361587, p-value: 0.04249658646227206\n",
      "Null hypothesis is rejected; hence, models have different performance\n",
      "Technique      Ranking\n",
      "-----------  ---------\n",
      "LR                5.45\n",
      "KNN               4.8\n",
      "RF                4.3\n",
      "ET                4.05\n",
      "MLP               3.6\n",
      "Arbol             3.35\n",
      "SVM               2.45\n",
      "Winner model: LR\n",
      "----------------------------------------------------------\n",
      "Applying Holm p-value adjustment procedure and analysing effect size\n",
      "----------------------------------------------------------\n",
      "Comparison      Zvalue     p-value    adjusted p-value\n",
      "------------  --------  ----------  ------------------\n",
      "LR vs SVM     3.1053    0.00190089           0.0114054\n",
      "LR vs Arbol   2.17371   0.0297272            0.148636\n",
      "LR vs MLP     1.91493   0.0555012            0.222005\n",
      "LR vs ET      1.44914   0.147299             0.441897\n",
      "LR vs RF      1.19036   0.233904             0.467807\n",
      "LR vs KNN     0.672814  0.501066             0.501066\n",
      "There is a significant difference between the models: LR (mean: 0.557857, std: 0.170428) and SVM (mean: 0.330833, std: 0.181795) (Cohen's d=1.2223029449560174, Large)\n",
      "There is a significant difference between the models: LR (mean: 0.557857, std: 0.170428) and Arbol (mean: 0.407381, std: 0.108089) (Cohen's d=1.0003501321730965, Large)\n",
      "There is a significant difference between the models: LR (mean: 0.557857, std: 0.170428) and MLP (mean: 0.424762, std: 0.133237) (Cohen's d=0.8254401243117306, Large)\n",
      "There is a significant difference between the models: LR (mean: 0.557857, std: 0.170428) and ET (mean: 0.466667, std: 0.100000) (Cohen's d=0.6191547031543275, Large)\n",
      "There is a significant difference between the models: LR (mean: 0.557857, std: 0.170428) and RF (mean: 0.435357, std: 0.150851) (Cohen's d=0.7221052631578958, Large)\n",
      "We can't say that there is a significant difference in the performance of the models: LR (mean: 0.557857, std: 0.170428) and KNN (mean: 0.485833, std: 0.090527) (Cohen's d=0.5007289052831998, Large)\n",
      "Eta squared: 0.183730 (Large)\n"
     ]
    },
    {
     "data": {
      "image/png": "[encoded data removed]",
      "text/plain": [
       "<Figure size 432x288 with 1 Axes>"
      ]
     },
     "metadata": {
      "needs_background": "light"
     },
     "output_type": "display_data"
    }
   ],
   "source": [
    "compare_methods(Xtsne2,Y,listAlgorithms,listParams,listNames,metric='auroc')"
   ]
  },
  {
   "cell_type": "code",
   "execution_count": 49,
   "metadata": {},
   "outputs": [
    {
     "name": "stdout",
     "output_type": "stream",
     "text": [
      "temp.csv\n",
      "['Arbol' 'SVM' 'KNN' 'LR' 'MLP' 'RF' 'ET']\n",
      "==========================================================\n",
      "Report\n",
      "==========================================================\n",
      "**********************************************************\n",
      "Mean and std\n",
      "**********************************************************\n",
      "Arbol: 0.278571 (0.333342)\n",
      "SVM: 0.136905 (0.178274)\n",
      "KNN: 0.190000 (0.323883)\n",
      "LR: 0.506667 (0.392088)\n",
      "MLP: 0.183333 (0.213437)\n",
      "RF: 0.393333 (0.355528)\n",
      "ET: 0.000000 (0.000000)\n",
      "**********************************************************\n",
      "Statistical tests\n",
      "**********************************************************\n",
      "----------------------------------------------------------\n",
      "Checking parametric conditions \n",
      "----------------------------------------------------------\n",
      "Checking independence \n",
      "Ok\n",
      "Checking normality using Shapiro-Wilk's test for normality, alpha=0.05\n",
      "W: 0.738807, p:0.000000\n",
      "The null hypothesis (normality) is rejected\n",
      "Checking heteroscedasticity using Levene's test, alpha=0.05\n",
      "W: 2.628431, p:0.024445\n",
      "The null hypothesis (heteroscedasticity) is rejected\n",
      "Conditions for a parametric test are not fulfilled, applying a non-parametric test\n",
      "----------------------------------------------------------\n",
      "Working with more than 2 algorithms\n",
      "----------------------------------------------------------\n",
      "----------------------------------------------------------\n",
      "Applying Friedman test\n",
      "----------------------------------------------------------\n",
      "F-value: 2.361587, p-value: 0.04249658646227272\n",
      "Null hypothesis is rejected; hence, models have different performance\n",
      "Technique      Ranking\n",
      "-----------  ---------\n",
      "LR                5.55\n",
      "RF                4.85\n",
      "MLP               4\n",
      "Arbol             3.9\n",
      "KNN               3.65\n",
      "SVM               3.6\n",
      "ET                2.45\n",
      "Winner model: LR\n",
      "----------------------------------------------------------\n",
      "Applying Holm p-value adjustment procedure and analysing effect size\n",
      "----------------------------------------------------------\n",
      "Comparison      Zvalue     p-value    adjusted p-value\n",
      "------------  --------  ----------  ------------------\n",
      "LR vs ET      3.2088    0.00133288          0.00799728\n",
      "LR vs SVM     2.01844   0.0435453           0.217726\n",
      "LR vs KNN     1.96669   0.0492193           0.217726\n",
      "LR vs Arbol   1.70791   0.0876526           0.262958\n",
      "LR vs MLP     1.6044    0.108625            0.262958\n",
      "LR vs RF      0.724569  0.468717            0.468717\n",
      "There is a significant difference between the models: LR (mean: 0.506667, std: 0.392088) and ET (mean: 0.000000, std: 0.000000) (Cohen's d=1.7337024536364396, Large)\n",
      "There is a significant difference between the models: LR (mean: 0.506667, std: 0.392088) and SVM (mean: 0.136905, std: 0.178274) (Cohen's d=1.1517789615446674, Large)\n",
      "There is a significant difference between the models: LR (mean: 0.506667, std: 0.392088) and KNN (mean: 0.190000, std: 0.323883) (Cohen's d=0.8354036232960765, Large)\n",
      "There is a significant difference between the models: LR (mean: 0.506667, std: 0.392088) and Arbol (mean: 0.278571, std: 0.333342) (Cohen's d=0.5946376310589785, Large)\n",
      "There is a significant difference between the models: LR (mean: 0.506667, std: 0.392088) and MLP (mean: 0.183333, std: 0.213437) (Cohen's d=0.9717290566307286, Large)\n",
      "There is a significant difference between the models: LR (mean: 0.506667, std: 0.392088) and RF (mean: 0.393333, std: 0.355528) (Cohen's d=0.28728405378354277, Medium)\n",
      "Eta squared: 0.228692 (Large)\n"
     ]
    },
    {
     "data": {
      "image/png": "[encoded data removed]",
      "text/plain": [
       "<Figure size 432x288 with 1 Axes>"
      ]
     },
     "metadata": {
      "needs_background": "light"
     },
     "output_type": "display_data"
    }
   ],
   "source": [
    "compare_methods(Xtsne2,Y,listAlgorithms,listParams,listNames,metric='precision')"
   ]
  },
  {
   "cell_type": "code",
   "execution_count": 50,
   "metadata": {},
   "outputs": [
    {
     "name": "stdout",
     "output_type": "stream",
     "text": [
      "temp.csv\n",
      "['Arbol' 'SVM' 'KNN' 'LR' 'MLP' 'RF' 'ET']\n",
      "==========================================================\n",
      "Report\n",
      "==========================================================\n",
      "**********************************************************\n",
      "Mean and std\n",
      "**********************************************************\n",
      "Arbol: 0.161667 (0.206027)\n",
      "SVM: 0.200000 (0.276887)\n",
      "KNN: 0.108333 (0.204294)\n",
      "LR: 0.308333 (0.229885)\n",
      "MLP: 0.181667 (0.190970)\n",
      "RF: 0.220000 (0.193764)\n",
      "ET: 0.000000 (0.000000)\n",
      "**********************************************************\n",
      "Statistical tests\n",
      "**********************************************************\n",
      "----------------------------------------------------------\n",
      "Checking parametric conditions \n",
      "----------------------------------------------------------\n",
      "Checking independence \n",
      "Ok\n",
      "Checking normality using Shapiro-Wilk's test for normality, alpha=0.05\n",
      "W: 0.751836, p:0.000000\n",
      "The null hypothesis (normality) is rejected\n",
      "Checking heteroscedasticity using Levene's test, alpha=0.05\n",
      "W: 1.694929, p:0.136944\n",
      "The null hypothesis (heteroscedasticity) is rejected\n",
      "Conditions for a parametric test are not fulfilled, applying a non-parametric test\n",
      "----------------------------------------------------------\n",
      "Working with more than 2 algorithms\n",
      "----------------------------------------------------------\n",
      "----------------------------------------------------------\n",
      "Applying Friedman test\n",
      "----------------------------------------------------------\n",
      "F-value: 1.764630, p-value: 0.12395031237294574\n",
      "Null hypothesis is rejected; hence, models have different performance\n",
      "Technique      Ranking\n",
      "-----------  ---------\n",
      "LR                5\n",
      "RF                4.8\n",
      "Arbol             4.35\n",
      "SVM               4.05\n",
      "MLP               4\n",
      "KNN               3.35\n",
      "ET                2.45\n",
      "Winner model: LR\n",
      "----------------------------------------------------------\n",
      "Applying Holm p-value adjustment procedure and analysing effect size\n",
      "----------------------------------------------------------\n",
      "Comparison      Zvalue     p-value    adjusted p-value\n",
      "------------  --------  ----------  ------------------\n",
      "LR vs ET      2.6395    0.00830282           0.0498169\n",
      "LR vs KNN     1.70791   0.0876526            0.438263\n",
      "LR vs MLP     1.0351    0.300623             1\n",
      "LR vs SVM     0.983343  0.325438             1\n",
      "LR vs Arbol   0.672814  0.501066             1\n",
      "LR vs RF      0.20702   0.835994             1\n",
      "There is a significant difference between the models: LR (mean: 0.308333, std: 0.229885) and ET (mean: 0.000000, std: 0.000000) (Cohen's d=1.7994742990542087, Large)\n",
      "There is a significant difference between the models: LR (mean: 0.308333, std: 0.229885) and KNN (mean: 0.108333, std: 0.204294) (Cohen's d=0.8724869512928037, Large)\n",
      "We can't say that there is a significant difference in the performance of the models: LR (mean: 0.308333, std: 0.229885) and MLP (mean: 0.181667, std: 0.190970) (Cohen's d=0.5686333682131386, Large)\n",
      "We can't say that there is a significant difference in the performance of the models: LR (mean: 0.308333, std: 0.229885) and SVM (mean: 0.200000, std: 0.276887) (Cohen's d=0.40386869100122813, Medium)\n",
      "We can't say that there is a significant difference in the performance of the models: LR (mean: 0.308333, std: 0.229885) and Arbol (mean: 0.161667, std: 0.206027) (Cohen's d=0.6374320310747449, Large)\n",
      "We can't say that there is a significant difference in the performance of the models: LR (mean: 0.308333, std: 0.229885) and RF (mean: 0.220000, std: 0.193764) (Cohen's d=0.3941818965491302, Medium)\n",
      "Eta squared: 0.161537 (Large)\n"
     ]
    },
    {
     "data": {
      "image/png": "[encoded data removed]",
      "text/plain": [
       "<Figure size 432x288 with 1 Axes>"
      ]
     },
     "metadata": {
      "needs_background": "light"
     },
     "output_type": "display_data"
    }
   ],
   "source": [
    "compare_methods(Xtsne2,Y,listAlgorithms,listParams,listNames,metric='recall')"
   ]
  },
  {
   "cell_type": "code",
   "execution_count": 51,
   "metadata": {},
   "outputs": [
    {
     "name": "stdout",
     "output_type": "stream",
     "text": [
      "temp.csv\n",
      "['Arbol' 'SVM' 'KNN' 'LR' 'MLP' 'RF' 'ET']\n",
      "==========================================================\n",
      "Report\n",
      "==========================================================\n",
      "**********************************************************\n",
      "Mean and std\n",
      "**********************************************************\n",
      "Arbol: 0.423333 (0.050295)\n",
      "SVM: 0.302222 (0.155381)\n",
      "KNN: 0.520000 (0.135701)\n",
      "LR: 0.562222 (0.202893)\n",
      "MLP: 0.422222 (0.134807)\n",
      "RF: 0.436667 (0.091631)\n",
      "ET: 0.518889 (0.171273)\n",
      "**********************************************************\n",
      "Statistical tests\n",
      "**********************************************************\n",
      "----------------------------------------------------------\n",
      "Checking parametric conditions \n",
      "----------------------------------------------------------\n",
      "Checking independence \n",
      "Ok\n",
      "Checking normality using Shapiro-Wilk's test for normality, alpha=0.05\n",
      "W: 0.963179, p:0.037596\n",
      "The null hypothesis (normality) is rejected\n",
      "Checking heteroscedasticity using Levene's test, alpha=0.05\n",
      "W: 1.925466, p:0.090373\n",
      "The null hypothesis (heteroscedasticity) is rejected\n",
      "Conditions for a parametric test are not fulfilled, applying a non-parametric test\n",
      "----------------------------------------------------------\n",
      "Working with more than 2 algorithms\n",
      "----------------------------------------------------------\n",
      "----------------------------------------------------------\n",
      "Applying Friedman test\n",
      "----------------------------------------------------------\n",
      "F-value: 3.410736, p-value: 0.00630747296988321\n",
      "Null hypothesis is rejected; hence, models have different performance\n",
      "Technique      Ranking\n",
      "-----------  ---------\n",
      "LR                5.1\n",
      "KNN               5\n",
      "ET                4.75\n",
      "RF                4.2\n",
      "Arbol             3.8\n",
      "MLP               3.2\n",
      "SVM               1.95\n",
      "Winner model: LR\n",
      "----------------------------------------------------------\n",
      "Applying Holm p-value adjustment procedure and analysing effect size\n",
      "----------------------------------------------------------\n",
      "Comparison      Zvalue     p-value    adjusted p-value\n",
      "------------  --------  ----------  ------------------\n",
      "LR vs SVM     3.26056   0.00111193          0.00667155\n",
      "LR vs MLP     1.96669   0.0492193           0.246097\n",
      "LR vs Arbol   1.34563   0.178423            0.71369\n",
      "LR vs RF      0.931589  0.351549            1\n",
      "LR vs ET      0.362284  0.71714             1\n",
      "LR vs KNN     0.10351   0.917558            1\n",
      "There is a significant difference between the models: LR (mean: 0.562222, std: 0.202893) and SVM (mean: 0.302222, std: 0.155381) (Cohen's d=1.3649736697433488, Large)\n",
      "There is a significant difference between the models: LR (mean: 0.562222, std: 0.202893) and MLP (mean: 0.422222, std: 0.134807) (Cohen's d=0.7710753899526802, Large)\n",
      "We can't say that there is a significant difference in the performance of the models: LR (mean: 0.562222, std: 0.202893) and Arbol (mean: 0.423333, std: 0.050295) (Cohen's d=0.8914306811746024, Large)\n",
      "We can't say that there is a significant difference in the performance of the models: LR (mean: 0.562222, std: 0.202893) and RF (mean: 0.436667, std: 0.091631) (Cohen's d=0.7566568444622136, Large)\n",
      "We can't say that there is a significant difference in the performance of the models: LR (mean: 0.562222, std: 0.202893) and ET (mean: 0.518889, std: 0.171273) (Cohen's d=0.2189594994772944, Medium)\n",
      "We can't say that there is a significant difference in the performance of the models: LR (mean: 0.562222, std: 0.202893) and KNN (mean: 0.520000, std: 0.135701) (Cohen's d=0.23207384108626997, Medium)\n",
      "Eta squared: 0.242697 (Large)\n"
     ]
    },
    {
     "data": {
      "image/png": "[encoded data removed]",
      "text/plain": [
       "<Figure size 432x288 with 1 Axes>"
      ]
     },
     "metadata": {
      "needs_background": "light"
     },
     "output_type": "display_data"
    }
   ],
   "source": [
    "compare_methods(Xtsne2,Y,listAlgorithms,listParams,listNames,metric='accuracy')"
   ]
  },
  {
   "cell_type": "code",
   "execution_count": 52,
   "metadata": {
    "id": "9s4RecsnKMgQ"
   },
   "outputs": [],
   "source": [
    "!mv temp.csv temptsne2.csv"
   ]
  },
  {
   "cell_type": "markdown",
   "metadata": {},
   "source": [
    "# TSNE with 3 components"
   ]
  },
  {
   "cell_type": "code",
   "execution_count": 53,
   "metadata": {
    "id": "ROSlAByBKUuE",
    "scrolled": true
   },
   "outputs": [
    {
     "name": "stdout",
     "output_type": "stream",
     "text": [
      "temp.csv\n",
      "['Arbol' 'SVM' 'KNN' 'LR' 'MLP' 'RF' 'ET']\n",
      "==========================================================\n",
      "Report\n",
      "==========================================================\n",
      "**********************************************************\n",
      "Mean and std\n",
      "**********************************************************\n",
      "Arbol: 0.519762 (0.135031)\n",
      "SVM: 0.419048 (0.137581)\n",
      "KNN: 0.487738 (0.114013)\n",
      "LR: 0.472738 (0.147863)\n",
      "MLP: 0.552262 (0.097959)\n",
      "RF: 0.539286 (0.120284)\n",
      "ET: 0.484524 (0.080751)\n",
      "**********************************************************\n",
      "Statistical tests\n",
      "**********************************************************\n",
      "----------------------------------------------------------\n",
      "Checking parametric conditions \n",
      "----------------------------------------------------------\n",
      "Checking independence \n",
      "Ok\n",
      "Checking normality using Shapiro-Wilk's test for normality, alpha=0.05\n",
      "W: 0.965153, p:0.048511\n",
      "The null hypothesis (normality) is rejected\n",
      "Checking heteroscedasticity using Levene's test, alpha=0.05\n",
      "W: 1.051502, p:0.401148\n",
      "The null hypothesis (heteroscedasticity) is rejected\n",
      "Conditions for a parametric test are not fulfilled, applying a non-parametric test\n",
      "----------------------------------------------------------\n",
      "Working with more than 2 algorithms\n",
      "----------------------------------------------------------\n",
      "----------------------------------------------------------\n",
      "Applying Friedman test\n",
      "----------------------------------------------------------\n",
      "F-value: 1.866753, p-value: 0.10351058167934579\n",
      "Null hypothesis is rejected; hence, models have different performance\n",
      "Technique      Ranking\n",
      "-----------  ---------\n",
      "MLP               5.25\n",
      "RF                5\n",
      "Arbol             4.15\n",
      "KNN               3.8\n",
      "ET                3.6\n",
      "LR                3.55\n",
      "SVM               2.65\n",
      "Winner model: MLP\n",
      "----------------------------------------------------------\n",
      "Applying Holm p-value adjustment procedure and analysing effect size\n",
      "----------------------------------------------------------\n",
      "Comparison      Zvalue     p-value    adjusted p-value\n",
      "------------  --------  ----------  ------------------\n",
      "MLP vs SVM    2.69126   0.00711836           0.0427102\n",
      "MLP vs LR     1.75967   0.0784643            0.392321\n",
      "MLP vs ET     1.70791   0.0876526            0.392321\n",
      "MLP vs KNN    1.50089   0.133383             0.40015\n",
      "MLP vs Arbol  1.13861   0.254867             0.509733\n",
      "MLP vs RF     0.258775  0.795809             0.795809\n",
      "There is a significant difference between the models: MLP (mean: 0.552262, std: 0.097959) and SVM (mean: 0.419048, std: 0.137581) (Cohen's d=1.0582249641009254, Large)\n",
      "There is a significant difference between the models: MLP (mean: 0.552262, std: 0.097959) and LR (mean: 0.472738, std: 0.147863) (Cohen's d=0.6015309029351378, Large)\n",
      "There is a significant difference between the models: MLP (mean: 0.552262, std: 0.097959) and ET (mean: 0.484524, std: 0.080751) (Cohen's d=0.7158667545489722, Large)\n",
      "There is a significant difference between the models: MLP (mean: 0.552262, std: 0.097959) and KNN (mean: 0.487738, std: 0.114013) (Cohen's d=0.5759063645047178, Large)\n",
      "We can't say that there is a significant difference in the performance of the models: MLP (mean: 0.552262, std: 0.097959) and Arbol (mean: 0.519762, std: 0.135031) (Cohen's d=0.261377824282843, Medium)\n",
      "We can't say that there is a significant difference in the performance of the models: MLP (mean: 0.552262, std: 0.097959) and RF (mean: 0.539286, std: 0.120284) (Cohen's d=0.11222713392673565, Small)\n",
      "Eta squared: 0.106768 (Large)\n"
     ]
    },
    {
     "data": {
      "image/png": "[encoded data removed]",
      "text/plain": [
       "<Figure size 432x288 with 1 Axes>"
      ]
     },
     "metadata": {
      "needs_background": "light"
     },
     "output_type": "display_data"
    }
   ],
   "source": [
    "Xtsne3 = TSNE(n_components=3).fit_transform(X)\n",
    "compare_methods(Xtsne3,Y,listAlgorithms,listParams,listNames,metric='auroc')"
   ]
  },
  {
   "cell_type": "code",
   "execution_count": 54,
   "metadata": {},
   "outputs": [
    {
     "name": "stdout",
     "output_type": "stream",
     "text": [
      "temp.csv\n",
      "['Arbol' 'SVM' 'KNN' 'LR' 'MLP' 'RF' 'ET']\n",
      "==========================================================\n",
      "Report\n",
      "==========================================================\n",
      "**********************************************************\n",
      "Mean and std\n",
      "**********************************************************\n",
      "Arbol: 0.415833 (0.191719)\n",
      "SVM: 0.150000 (0.240947)\n",
      "KNN: 0.430000 (0.166300)\n",
      "LR: 0.475000 (0.314135)\n",
      "MLP: 0.525000 (0.369026)\n",
      "RF: 0.436667 (0.237323)\n",
      "ET: 0.216667 (0.350000)\n",
      "**********************************************************\n",
      "Statistical tests\n",
      "**********************************************************\n",
      "----------------------------------------------------------\n",
      "Checking parametric conditions \n",
      "----------------------------------------------------------\n",
      "Checking independence \n",
      "Ok\n",
      "Checking normality using Shapiro-Wilk's test for normality, alpha=0.05\n",
      "W: 0.888695, p:0.000014\n",
      "The null hypothesis (normality) is rejected\n",
      "Checking heteroscedasticity using Levene's test, alpha=0.05\n",
      "W: 0.961984, p:0.458225\n",
      "The null hypothesis (heteroscedasticity) is rejected\n",
      "Conditions for a parametric test are not fulfilled, applying a non-parametric test\n",
      "----------------------------------------------------------\n",
      "Working with more than 2 algorithms\n",
      "----------------------------------------------------------\n",
      "----------------------------------------------------------\n",
      "Applying Friedman test\n",
      "----------------------------------------------------------\n",
      "F-value: 2.170213, p-value: 0.06010910867402053\n",
      "Null hypothesis is rejected; hence, models have different performance\n",
      "Technique      Ranking\n",
      "-----------  ---------\n",
      "MLP               4.95\n",
      "RF                4.75\n",
      "Arbol             4.65\n",
      "LR                4.3\n",
      "KNN               3.95\n",
      "ET                2.9\n",
      "SVM               2.5\n",
      "Winner model: MLP\n",
      "----------------------------------------------------------\n",
      "Applying Holm p-value adjustment procedure and analysing effect size\n",
      "----------------------------------------------------------\n",
      "Comparison      Zvalue    p-value    adjusted p-value\n",
      "------------  --------  ---------  ------------------\n",
      "MLP vs SVM    2.53599   0.011213            0.0672778\n",
      "MLP vs ET     2.12195   0.0338418           0.169209\n",
      "MLP vs KNN    1.0351    0.300623            1\n",
      "MLP vs LR     0.672814  0.501066            1\n",
      "MLP vs Arbol  0.31053   0.756158            1\n",
      "MLP vs RF     0.20702   0.835994            1\n",
      "There is a significant difference between the models: MLP (mean: 0.525000, std: 0.369026) and SVM (mean: 0.150000, std: 0.240947) (Cohen's d=1.1415699631181615, Large)\n",
      "There is a significant difference between the models: MLP (mean: 0.525000, std: 0.369026) and ET (mean: 0.216667, std: 0.350000) (Cohen's d=0.813345069046516, Large)\n",
      "We can't say that there is a significant difference in the performance of the models: MLP (mean: 0.525000, std: 0.369026) and KNN (mean: 0.430000, std: 0.166300) (Cohen's d=0.31488722558422994, Medium)\n",
      "We can't say that there is a significant difference in the performance of the models: MLP (mean: 0.525000, std: 0.369026) and LR (mean: 0.475000, std: 0.314135) (Cohen's d=0.13842059168008383, Small)\n",
      "We can't say that there is a significant difference in the performance of the models: MLP (mean: 0.525000, std: 0.369026) and Arbol (mean: 0.415833, std: 0.191719) (Cohen's d=0.3521945132273824, Medium)\n",
      "We can't say that there is a significant difference in the performance of the models: MLP (mean: 0.525000, std: 0.369026) and RF (mean: 0.436667, std: 0.237323) (Cohen's d=0.2701110626157065, Medium)\n",
      "Eta squared: 0.178636 (Large)\n"
     ]
    },
    {
     "data": {
      "image/png": "[encoded data removed]",
      "text/plain": [
       "<Figure size 432x288 with 1 Axes>"
      ]
     },
     "metadata": {
      "needs_background": "light"
     },
     "output_type": "display_data"
    }
   ],
   "source": [
    "compare_methods(Xtsne3,Y,listAlgorithms,listParams,listNames,metric='precision')"
   ]
  },
  {
   "cell_type": "code",
   "execution_count": 55,
   "metadata": {},
   "outputs": [
    {
     "name": "stdout",
     "output_type": "stream",
     "text": [
      "temp.csv\n",
      "['Arbol' 'SVM' 'KNN' 'LR' 'MLP' 'RF' 'ET']\n",
      "==========================================================\n",
      "Report\n",
      "==========================================================\n",
      "**********************************************************\n",
      "Mean and std\n",
      "**********************************************************\n",
      "Arbol: 0.470000 (0.295409)\n",
      "SVM: 0.216667 (0.350000)\n",
      "KNN: 0.370000 (0.191166)\n",
      "LR: 0.311667 (0.155644)\n",
      "MLP: 0.261667 (0.197491)\n",
      "RF: 0.415000 (0.247257)\n",
      "ET: 0.133333 (0.221108)\n",
      "**********************************************************\n",
      "Statistical tests\n",
      "**********************************************************\n",
      "----------------------------------------------------------\n",
      "Checking parametric conditions \n",
      "----------------------------------------------------------\n",
      "Checking independence \n",
      "Ok\n",
      "Checking normality using Shapiro-Wilk's test for normality, alpha=0.05\n",
      "W: 0.904363, p:0.000058\n",
      "The null hypothesis (normality) is rejected\n",
      "Checking heteroscedasticity using Levene's test, alpha=0.05\n",
      "W: 0.510670, p:0.798046\n",
      "The null hypothesis (heteroscedasticity) is accepted\n",
      "Conditions for a parametric test are not fulfilled, applying a non-parametric test\n",
      "----------------------------------------------------------\n",
      "Working with more than 2 algorithms\n",
      "----------------------------------------------------------\n",
      "----------------------------------------------------------\n",
      "Applying Friedman test\n",
      "----------------------------------------------------------\n",
      "F-value: 1.776139, p-value: 0.12146921436387348\n",
      "Null hypothesis is rejected; hence, models have different performance\n",
      "Technique      Ranking\n",
      "-----------  ---------\n",
      "RF                5\n",
      "Arbol             4.9\n",
      "KNN               4.5\n",
      "LR                4.05\n",
      "MLP               3.7\n",
      "SVM               3.2\n",
      "ET                2.65\n",
      "Winner model: RF\n",
      "----------------------------------------------------------\n",
      "Applying Holm p-value adjustment procedure and analysing effect size\n",
      "----------------------------------------------------------\n",
      "Comparison      Zvalue    p-value    adjusted p-value\n",
      "------------  --------  ---------  ------------------\n",
      "RF vs ET      2.43248   0.0149958           0.0899746\n",
      "RF vs SVM     1.86318   0.0624374           0.312187\n",
      "RF vs MLP     1.34563   0.178423            0.71369\n",
      "RF vs LR      0.983343  0.325438            0.976315\n",
      "RF vs KNN     0.517549  0.604773            1\n",
      "RF vs Arbol   0.10351   0.917558            1\n",
      "There is a significant difference between the models: RF (mean: 0.415000, std: 0.247257) and ET (mean: 0.133333, std: 0.221108) (Cohen's d=1.1392683126096055, Large)\n",
      "There is a significant difference between the models: RF (mean: 0.415000, std: 0.247257) and SVM (mean: 0.216667, std: 0.350000) (Cohen's d=0.6209446935059266, Large)\n",
      "We can't say that there is a significant difference in the performance of the models: RF (mean: 0.415000, std: 0.247257) and MLP (mean: 0.261667, std: 0.197491) (Cohen's d=0.6500869460679773, Large)\n",
      "We can't say that there is a significant difference in the performance of the models: RF (mean: 0.415000, std: 0.247257) and LR (mean: 0.311667, std: 0.155644) (Cohen's d=0.4745114122731734, Medium)\n",
      "We can't say that there is a significant difference in the performance of the models: RF (mean: 0.415000, std: 0.247257) and KNN (mean: 0.370000, std: 0.191166) (Cohen's d=0.19317223554003518, Small)\n",
      "We can't say that there is a significant difference in the performance of the models: RF (mean: 0.415000, std: 0.247257) and Arbol (mean: 0.470000, std: 0.295409) (Cohen's d=0.19154813462993028, Small)\n",
      "Eta squared: 0.164282 (Large)\n"
     ]
    },
    {
     "data": {
      "image/png": "[encoded data removed]",
      "text/plain": [
       "<Figure size 432x288 with 1 Axes>"
      ]
     },
     "metadata": {
      "needs_background": "light"
     },
     "output_type": "display_data"
    }
   ],
   "source": [
    "compare_methods(Xtsne3,Y,listAlgorithms,listParams,listNames,metric='recall')"
   ]
  },
  {
   "cell_type": "code",
   "execution_count": 56,
   "metadata": {},
   "outputs": [
    {
     "name": "stdout",
     "output_type": "stream",
     "text": [
      "temp.csv\n",
      "['Arbol' 'SVM' 'KNN' 'LR' 'MLP' 'RF' 'ET']\n",
      "==========================================================\n",
      "Report\n",
      "==========================================================\n",
      "**********************************************************\n",
      "Mean and std\n",
      "**********************************************************\n",
      "Arbol: 0.556667 (0.132446)\n",
      "SVM: 0.491111 (0.153864)\n",
      "KNN: 0.520000 (0.116089)\n",
      "LR: 0.508889 (0.164939)\n",
      "MLP: 0.563333 (0.121924)\n",
      "RF: 0.563333 (0.091631)\n",
      "ET: 0.574444 (0.125713)\n",
      "**********************************************************\n",
      "Statistical tests\n",
      "**********************************************************\n",
      "----------------------------------------------------------\n",
      "Checking parametric conditions \n",
      "----------------------------------------------------------\n",
      "Checking independence \n",
      "Ok\n",
      "Checking normality using Shapiro-Wilk's test for normality, alpha=0.05\n",
      "W: 0.950456, p:0.007661\n",
      "The null hypothesis (normality) is rejected\n",
      "Checking heteroscedasticity using Levene's test, alpha=0.05\n",
      "W: 0.838012, p:0.545288\n",
      "The null hypothesis (heteroscedasticity) is accepted\n",
      "Conditions for a parametric test are not fulfilled, applying a non-parametric test\n",
      "----------------------------------------------------------\n",
      "Working with more than 2 algorithms\n",
      "----------------------------------------------------------\n",
      "----------------------------------------------------------\n",
      "Applying Friedman test\n",
      "----------------------------------------------------------\n",
      "F-value: 0.709112, p-value: 0.6436554051147882\n",
      "Null hypothesis is accepted; hence, we can't say that there is a significant difference in the performance of the models\n",
      "----------------------------------------------------------\n",
      "Analysing effect size\n",
      "----------------------------------------------------------\n",
      "We take the model with the best mean (ET, mean: 0.574444) and compare it with the other models: \n",
      "Comparing effect size of ET and Arbol: Cohen's d=0.13061526717521246, Small\n",
      "Comparing effect size of ET and SVM: Cohen's d=0.5627022574734515, Large\n",
      "Comparing effect size of ET and KNN: Cohen's d=0.42687670512840986, Medium\n",
      "Comparing effect size of ET and LR: Cohen's d=0.4240996264485861, Medium\n",
      "Comparing effect size of ET and MLP: Cohen's d=0.08512222632414417, Small\n",
      "Comparing effect size of ET and RF: Cohen's d=0.09582659576267782, Small\n",
      "Eta squared: 0.049582 (Medium)\n"
     ]
    },
    {
     "data": {
      "image/png": "[encoded data removed]",
      "text/plain": [
       "<Figure size 432x288 with 1 Axes>"
      ]
     },
     "metadata": {
      "needs_background": "light"
     },
     "output_type": "display_data"
    }
   ],
   "source": [
    "compare_methods(Xtsne3,Y,listAlgorithms,listParams,listNames,metric='accuracy')"
   ]
  },
  {
   "cell_type": "code",
   "execution_count": 57,
   "metadata": {
    "id": "rAl1ayHcKbSF"
   },
   "outputs": [],
   "source": [
    "!mv temp.csv temptsne3.csv"
   ]
  },
  {
   "cell_type": "markdown",
   "metadata": {},
   "source": [
    "# UMAP with 2 components"
   ]
  },
  {
   "cell_type": "code",
   "execution_count": 58,
   "metadata": {
    "id": "T45s4ka649by"
   },
   "outputs": [],
   "source": [
    "from umap import UMAP"
   ]
  },
  {
   "cell_type": "code",
   "execution_count": 59,
   "metadata": {
    "id": "y-O-MGt_5AC4"
   },
   "outputs": [],
   "source": [
    "reducer = UMAP()"
   ]
  },
  {
   "cell_type": "code",
   "execution_count": 60,
   "metadata": {
    "id": "h3U_6qzL5bR_"
   },
   "outputs": [],
   "source": [
    "Xumap = reducer.fit_transform(X)"
   ]
  },
  {
   "cell_type": "code",
   "execution_count": 61,
   "metadata": {
    "id": "PqHq4hZsXPPy",
    "scrolled": true
   },
   "outputs": [
    {
     "name": "stdout",
     "output_type": "stream",
     "text": [
      "temp.csv\n",
      "['Arbol' 'SVM' 'KNN' 'LR' 'MLP' 'RF' 'ET']\n",
      "==========================================================\n",
      "Report\n",
      "==========================================================\n",
      "**********************************************************\n",
      "Mean and std\n",
      "**********************************************************\n",
      "Arbol: 0.543929 (0.117576)\n",
      "SVM: 0.478095 (0.077583)\n",
      "KNN: 0.529881 (0.116735)\n",
      "LR: 0.478095 (0.125961)\n",
      "MLP: 0.492262 (0.117655)\n",
      "RF: 0.458929 (0.103015)\n",
      "ET: 0.476548 (0.106838)\n",
      "**********************************************************\n",
      "Statistical tests\n",
      "**********************************************************\n",
      "----------------------------------------------------------\n",
      "Checking parametric conditions \n",
      "----------------------------------------------------------\n",
      "Checking independence \n",
      "Ok\n",
      "Checking normality using Shapiro-Wilk's test for normality, alpha=0.05\n",
      "W: 0.970029, p:0.091491\n",
      "The null hypothesis (normality) is rejected\n",
      "Checking heteroscedasticity using Levene's test, alpha=0.05\n",
      "W: 0.771693, p:0.595050\n",
      "The null hypothesis (heteroscedasticity) is accepted\n",
      "Conditions for a parametric test are not fulfilled, applying a non-parametric test\n",
      "----------------------------------------------------------\n",
      "Working with more than 2 algorithms\n",
      "----------------------------------------------------------\n",
      "----------------------------------------------------------\n",
      "Applying Friedman test\n",
      "----------------------------------------------------------\n",
      "F-value: 0.934950, p-value: 0.47774970373259407\n",
      "Null hypothesis is rejected; hence, models have different performance\n",
      "Technique      Ranking\n",
      "-----------  ---------\n",
      "Arbol             5.1\n",
      "KNN               4.75\n",
      "MLP               3.9\n",
      "ET                3.8\n",
      "LR                3.55\n",
      "SVM               3.5\n",
      "RF                3.4\n",
      "Winner model: Arbol\n",
      "----------------------------------------------------------\n",
      "Applying Holm p-value adjustment procedure and analysing effect size\n",
      "----------------------------------------------------------\n",
      "Comparison      Zvalue    p-value    adjusted p-value\n",
      "------------  --------  ---------  ------------------\n",
      "Arbol vs RF   1.75967   0.0784643            0.470786\n",
      "Arbol vs SVM  1.65616   0.09769              0.48845\n",
      "Arbol vs LR   1.6044    0.108625             0.48845\n",
      "Arbol vs ET   1.34563   0.178423             0.535268\n",
      "Arbol vs MLP  1.24212   0.214193             0.535268\n",
      "Arbol vs KNN  0.362284  0.71714              0.71714\n",
      "There is a significant difference between the models: Arbol (mean: 0.543929, std: 0.117576) and RF (mean: 0.458929, std: 0.103015) (Cohen's d=0.7295228188204094, Large)\n",
      "There is a significant difference between the models: Arbol (mean: 0.543929, std: 0.117576) and SVM (mean: 0.478095, std: 0.077583) (Cohen's d=0.6270132782989047, Large)\n",
      "There is a significant difference between the models: Arbol (mean: 0.543929, std: 0.117576) and LR (mean: 0.478095, std: 0.125961) (Cohen's d=0.5125948538632088, Large)\n",
      "We can't say that there is a significant difference in the performance of the models: Arbol (mean: 0.543929, std: 0.117576) and ET (mean: 0.476548, std: 0.106838) (Cohen's d=0.569038239591994, Large)\n",
      "We can't say that there is a significant difference in the performance of the models: Arbol (mean: 0.543929, std: 0.117576) and MLP (mean: 0.492262, std: 0.117655) (Cohen's d=0.4167414705647709, Medium)\n",
      "We can't say that there is a significant difference in the performance of the models: Arbol (mean: 0.543929, std: 0.117576) and KNN (mean: 0.529881, std: 0.116735) (Cohen's d=0.11375176865542741, Small)\n",
      "Eta squared: 0.063977 (Large)\n"
     ]
    },
    {
     "data": {
      "image/png": "[encoded data removed]",
      "text/plain": [
       "<Figure size 432x288 with 1 Axes>"
      ]
     },
     "metadata": {
      "needs_background": "light"
     },
     "output_type": "display_data"
    }
   ],
   "source": [
    "compare_methods(Xumap,Y,listAlgorithms,listParams,listNames,metric='auroc')"
   ]
  },
  {
   "cell_type": "code",
   "execution_count": 62,
   "metadata": {},
   "outputs": [
    {
     "name": "stdout",
     "output_type": "stream",
     "text": [
      "temp.csv\n",
      "['Arbol' 'SVM' 'KNN' 'LR' 'MLP' 'RF' 'ET']\n",
      "==========================================================\n",
      "Report\n",
      "==========================================================\n",
      "**********************************************************\n",
      "Mean and std\n",
      "**********************************************************\n",
      "Arbol: 0.497857 (0.262213)\n",
      "SVM: 0.050000 (0.150000)\n",
      "KNN: 0.610000 (0.434626)\n",
      "LR: 0.350000 (0.390512)\n",
      "MLP: 0.275000 (0.333437)\n",
      "RF: 0.400000 (0.292973)\n",
      "ET: 0.350000 (0.435890)\n",
      "**********************************************************\n",
      "Statistical tests\n",
      "**********************************************************\n",
      "----------------------------------------------------------\n",
      "Checking parametric conditions \n",
      "----------------------------------------------------------\n",
      "Checking independence \n",
      "Ok\n",
      "Checking normality using Shapiro-Wilk's test for normality, alpha=0.05\n",
      "W: 0.810638, p:0.000000\n",
      "The null hypothesis (normality) is rejected\n",
      "Checking heteroscedasticity using Levene's test, alpha=0.05\n",
      "W: 2.277941, p:0.047148\n",
      "The null hypothesis (heteroscedasticity) is rejected\n",
      "Conditions for a parametric test are not fulfilled, applying a non-parametric test\n",
      "----------------------------------------------------------\n",
      "Working with more than 2 algorithms\n",
      "----------------------------------------------------------\n",
      "----------------------------------------------------------\n",
      "Applying Friedman test\n",
      "----------------------------------------------------------\n",
      "F-value: 2.444142, p-value: 0.03657274313877257\n",
      "Null hypothesis is rejected; hence, models have different performance\n",
      "Technique      Ranking\n",
      "-----------  ---------\n",
      "KNN               5.4\n",
      "Arbol             5\n",
      "RF                4.05\n",
      "LR                3.95\n",
      "ET                3.7\n",
      "MLP               3.55\n",
      "SVM               2.35\n",
      "Winner model: KNN\n",
      "----------------------------------------------------------\n",
      "Applying Holm p-value adjustment procedure and analysing effect size\n",
      "----------------------------------------------------------\n",
      "Comparison      Zvalue     p-value    adjusted p-value\n",
      "------------  --------  ----------  ------------------\n",
      "KNN vs SVM    3.15705   0.00159374          0.00956244\n",
      "KNN vs MLP    1.91493   0.0555012           0.277506\n",
      "KNN vs ET     1.75967   0.0784643           0.313857\n",
      "KNN vs LR     1.50089   0.133383            0.40015\n",
      "KNN vs RF     1.39738   0.162299            0.40015\n",
      "KNN vs Arbol  0.414039  0.678845            0.678845\n",
      "There is a significant difference between the models: KNN (mean: 0.610000, std: 0.434626) and SVM (mean: 0.050000, std: 0.150000) (Cohen's d=1.6340742564206463, Large)\n",
      "There is a significant difference between the models: KNN (mean: 0.610000, std: 0.434626) and MLP (mean: 0.275000, std: 0.333437) (Cohen's d=0.820468915677209, Large)\n",
      "There is a significant difference between the models: KNN (mean: 0.610000, std: 0.434626) and ET (mean: 0.350000, std: 0.435890) (Cohen's d=0.5666922820348048, Large)\n",
      "There is a significant difference between the models: KNN (mean: 0.610000, std: 0.434626) and LR (mean: 0.350000, std: 0.390512) (Cohen's d=0.5970048263972847, Large)\n",
      "There is a significant difference between the models: KNN (mean: 0.610000, std: 0.434626) and RF (mean: 0.400000, std: 0.292973) (Cohen's d=0.5375264873300777, Large)\n",
      "We can't say that there is a significant difference in the performance of the models: KNN (mean: 0.610000, std: 0.434626) and Arbol (mean: 0.497857, std: 0.262213) (Cohen's d=0.29640673391704037, Medium)\n",
      "Eta squared: 0.185442 (Large)\n"
     ]
    },
    {
     "data": {
      "image/png": "[encoded data removed]",
      "text/plain": [
       "<Figure size 432x288 with 1 Axes>"
      ]
     },
     "metadata": {
      "needs_background": "light"
     },
     "output_type": "display_data"
    }
   ],
   "source": [
    "compare_methods(Xumap,Y,listAlgorithms,listParams,listNames,metric='precision')"
   ]
  },
  {
   "cell_type": "code",
   "execution_count": 63,
   "metadata": {},
   "outputs": [
    {
     "name": "stdout",
     "output_type": "stream",
     "text": [
      "temp.csv\n",
      "['Arbol' 'SVM' 'KNN' 'LR' 'MLP' 'RF' 'ET']\n",
      "==========================================================\n",
      "Report\n",
      "==========================================================\n",
      "**********************************************************\n",
      "Mean and std\n",
      "**********************************************************\n",
      "Arbol: 0.495000 (0.288584)\n",
      "SVM: 0.033333 (0.100000)\n",
      "KNN: 0.211667 (0.162967)\n",
      "LR: 0.128333 (0.137042)\n",
      "MLP: 0.170000 (0.211056)\n",
      "RF: 0.261667 (0.167008)\n",
      "ET: 0.128333 (0.137042)\n",
      "**********************************************************\n",
      "Statistical tests\n",
      "**********************************************************\n",
      "----------------------------------------------------------\n",
      "Checking parametric conditions \n",
      "----------------------------------------------------------\n",
      "Checking independence \n",
      "Ok\n",
      "Checking normality using Shapiro-Wilk's test for normality, alpha=0.05\n",
      "W: 0.827285, p:0.000000\n",
      "The null hypothesis (normality) is rejected\n",
      "Checking heteroscedasticity using Levene's test, alpha=0.05\n",
      "W: 2.726202, p:0.020335\n",
      "The null hypothesis (heteroscedasticity) is rejected\n",
      "Conditions for a parametric test are not fulfilled, applying a non-parametric test\n",
      "----------------------------------------------------------\n",
      "Working with more than 2 algorithms\n",
      "----------------------------------------------------------\n",
      "----------------------------------------------------------\n",
      "Applying Friedman test\n",
      "----------------------------------------------------------\n",
      "F-value: 4.029990, p-value: 0.002085249667236222\n",
      "Null hypothesis is rejected; hence, models have different performance\n",
      "Technique      Ranking\n",
      "-----------  ---------\n",
      "Arbol             6.05\n",
      "RF                4.85\n",
      "KNN               4.15\n",
      "MLP               3.8\n",
      "ET                3.5\n",
      "LR                3.4\n",
      "SVM               2.25\n",
      "Winner model: Arbol\n",
      "----------------------------------------------------------\n",
      "Applying Holm p-value adjustment procedure and analysing effect size\n",
      "----------------------------------------------------------\n",
      "Comparison      Zvalue      p-value    adjusted p-value\n",
      "------------  --------  -----------  ------------------\n",
      "Arbol vs SVM   3.93337  8.37619e-05         0.000502571\n",
      "Arbol vs LR    2.74301  0.00608787          0.0304394\n",
      "Arbol vs ET    2.6395   0.00830282          0.0332113\n",
      "Arbol vs MLP   2.32897  0.0198606           0.0595818\n",
      "Arbol vs KNN   1.96669  0.0492193           0.0984386\n",
      "Arbol vs RF    1.24212  0.214193            0.214193\n",
      "There is a significant difference between the models: Arbol (mean: 0.495000, std: 0.288584) and SVM (mean: 0.033333, std: 0.100000) (Cohen's d=2.0280058771525793, Large)\n",
      "There is a significant difference between the models: Arbol (mean: 0.495000, std: 0.288584) and LR (mean: 0.128333, std: 0.137042) (Cohen's d=1.5398468783958164, Large)\n",
      "There is a significant difference between the models: Arbol (mean: 0.495000, std: 0.288584) and ET (mean: 0.128333, std: 0.137042) (Cohen's d=1.5398468783958164, Large)\n",
      "There is a significant difference between the models: Arbol (mean: 0.495000, std: 0.288584) and MLP (mean: 0.170000, std: 0.211056) (Cohen's d=1.2195839851408543, Large)\n",
      "There is a significant difference between the models: Arbol (mean: 0.495000, std: 0.288584) and KNN (mean: 0.211667, std: 0.162967) (Cohen's d=1.1469800341000915, Large)\n",
      "There is a significant difference between the models: Arbol (mean: 0.495000, std: 0.288584) and RF (mean: 0.261667, std: 0.167008) (Cohen's d=0.9388903911843692, Large)\n",
      "Eta squared: 0.360919 (Large)\n"
     ]
    },
    {
     "data": {
      "image/png": "[encoded data removed]",
      "text/plain": [
       "<Figure size 432x288 with 1 Axes>"
      ]
     },
     "metadata": {
      "needs_background": "light"
     },
     "output_type": "display_data"
    }
   ],
   "source": [
    "compare_methods(Xumap,Y,listAlgorithms,listParams,listNames,metric='recall')"
   ]
  },
  {
   "cell_type": "code",
   "execution_count": 64,
   "metadata": {},
   "outputs": [
    {
     "name": "stdout",
     "output_type": "stream",
     "text": [
      "temp.csv\n",
      "['Arbol' 'SVM' 'KNN' 'LR' 'MLP' 'RF' 'ET']\n",
      "==========================================================\n",
      "Report\n",
      "==========================================================\n",
      "**********************************************************\n",
      "Mean and std\n",
      "**********************************************************\n",
      "Arbol: 0.556667 (0.108007)\n",
      "SVM: 0.518889 (0.130341)\n",
      "KNN: 0.585556 (0.137711)\n",
      "LR: 0.511111 (0.150637)\n",
      "MLP: 0.506667 (0.122040)\n",
      "RF: 0.487778 (0.114875)\n",
      "ET: 0.508889 (0.136879)\n",
      "**********************************************************\n",
      "Statistical tests\n",
      "**********************************************************\n",
      "----------------------------------------------------------\n",
      "Checking parametric conditions \n",
      "----------------------------------------------------------\n",
      "Checking independence \n",
      "Ok\n",
      "Checking normality using Shapiro-Wilk's test for normality, alpha=0.05\n",
      "W: 0.938631, p:0.001925\n",
      "The null hypothesis (normality) is rejected\n",
      "Checking heteroscedasticity using Levene's test, alpha=0.05\n",
      "W: 0.318637, p:0.924918\n",
      "The null hypothesis (heteroscedasticity) is accepted\n",
      "Conditions for a parametric test are not fulfilled, applying a non-parametric test\n",
      "----------------------------------------------------------\n",
      "Working with more than 2 algorithms\n",
      "----------------------------------------------------------\n",
      "----------------------------------------------------------\n",
      "Applying Friedman test\n",
      "----------------------------------------------------------\n",
      "F-value: 1.187993, p-value: 0.32665085537193894\n",
      "Null hypothesis is rejected; hence, models have different performance\n",
      "Technique      Ranking\n",
      "-----------  ---------\n",
      "KNN               5.3\n",
      "Arbol             4.75\n",
      "ET                3.85\n",
      "MLP               3.7\n",
      "SVM               3.6\n",
      "LR                3.5\n",
      "RF                3.3\n",
      "Winner model: KNN\n",
      "----------------------------------------------------------\n",
      "Applying Holm p-value adjustment procedure and analysing effect size\n",
      "----------------------------------------------------------\n",
      "Comparison      Zvalue    p-value    adjusted p-value\n",
      "------------  --------  ---------  ------------------\n",
      "KNN vs RF     2.0702    0.0384339            0.230604\n",
      "KNN vs LR     1.86318   0.0624374            0.312187\n",
      "KNN vs SVM    1.75967   0.0784643            0.313857\n",
      "KNN vs MLP    1.65616   0.09769              0.313857\n",
      "KNN vs ET     1.50089   0.133383             0.313857\n",
      "KNN vs Arbol  0.569304  0.56915              0.56915\n",
      "There is a significant difference between the models: KNN (mean: 0.585556, std: 0.137711) and RF (mean: 0.487778, std: 0.114875) (Cohen's d=0.731501230281967, Large)\n",
      "There is a significant difference between the models: KNN (mean: 0.585556, std: 0.137711) and LR (mean: 0.511111, std: 0.150637) (Cohen's d=0.48936407093122203, Medium)\n",
      "There is a significant difference between the models: KNN (mean: 0.585556, std: 0.137711) and SVM (mean: 0.518889, std: 0.130341) (Cohen's d=0.4717119779026539, Medium)\n",
      "There is a significant difference between the models: KNN (mean: 0.585556, std: 0.137711) and MLP (mean: 0.506667, std: 0.122040) (Cohen's d=0.575203186326902, Large)\n",
      "There is a significant difference between the models: KNN (mean: 0.585556, std: 0.137711) and ET (mean: 0.508889, std: 0.136879) (Cohen's d=0.5297514556606112, Large)\n",
      "We can't say that there is a significant difference in the performance of the models: KNN (mean: 0.585556, std: 0.137711) and Arbol (mean: 0.556667, std: 0.108007) (Cohen's d=0.22146047056796314, Medium)\n",
      "Eta squared: 0.055485 (Medium)\n"
     ]
    },
    {
     "data": {
      "image/png": "[encoded data removed]",
      "text/plain": [
       "<Figure size 432x288 with 1 Axes>"
      ]
     },
     "metadata": {
      "needs_background": "light"
     },
     "output_type": "display_data"
    }
   ],
   "source": [
    "compare_methods(Xumap,Y,listAlgorithms,listParams,listNames,metric='accuracy')"
   ]
  },
  {
   "cell_type": "code",
   "execution_count": 65,
   "metadata": {
    "id": "9NTIJDD2XWW6"
   },
   "outputs": [],
   "source": [
    "!mv temp.csv tempumap2.csv"
   ]
  },
  {
   "cell_type": "markdown",
   "metadata": {},
   "source": [
    "# UMAP with 10 components"
   ]
  },
  {
   "cell_type": "code",
   "execution_count": 66,
   "metadata": {
    "id": "vtZHePZ6XaWK"
   },
   "outputs": [],
   "source": [
    "reducer = UMAP(n_components=10)"
   ]
  },
  {
   "cell_type": "code",
   "execution_count": 67,
   "metadata": {
    "id": "RT32rbaFXsMs"
   },
   "outputs": [],
   "source": [
    "Xumap10 = reducer.fit_transform(X)"
   ]
  },
  {
   "cell_type": "code",
   "execution_count": 68,
   "metadata": {
    "id": "IZhqNI6ZX2L0",
    "scrolled": true
   },
   "outputs": [
    {
     "name": "stdout",
     "output_type": "stream",
     "text": [
      "temp.csv\n",
      "['Arbol' 'SVM' 'KNN' 'LR' 'MLP' 'RF' 'ET']\n",
      "==========================================================\n",
      "Report\n",
      "==========================================================\n",
      "**********************************************************\n",
      "Mean and std\n",
      "**********************************************************\n",
      "Arbol: 0.459167 (0.152907)\n",
      "SVM: 0.500000 (0.000000)\n",
      "KNN: 0.456071 (0.108238)\n",
      "LR: 0.485238 (0.090287)\n",
      "MLP: 0.449048 (0.064980)\n",
      "RF: 0.417976 (0.144862)\n",
      "ET: 0.409643 (0.125637)\n",
      "**********************************************************\n",
      "Statistical tests\n",
      "**********************************************************\n",
      "----------------------------------------------------------\n",
      "Checking parametric conditions \n",
      "----------------------------------------------------------\n",
      "Checking independence \n",
      "Ok\n",
      "Checking normality using Shapiro-Wilk's test for normality, alpha=0.05\n",
      "W: 0.919900, p:0.000261\n",
      "The null hypothesis (normality) is rejected\n",
      "Checking heteroscedasticity using Levene's test, alpha=0.05\n",
      "W: 3.011519, p:0.011876\n",
      "The null hypothesis (heteroscedasticity) is rejected\n",
      "Conditions for a parametric test are not fulfilled, applying a non-parametric test\n",
      "----------------------------------------------------------\n",
      "Working with more than 2 algorithms\n",
      "----------------------------------------------------------\n",
      "----------------------------------------------------------\n",
      "Applying Friedman test\n",
      "----------------------------------------------------------\n",
      "F-value: 1.124548, p-value: 0.36060911710796273\n",
      "Null hypothesis is rejected; hence, models have different performance\n",
      "Technique      Ranking\n",
      "-----------  ---------\n",
      "LR                4.95\n",
      "SVM               4.85\n",
      "KNN               4.1\n",
      "Arbol             3.95\n",
      "MLP               3.85\n",
      "RF                3.2\n",
      "ET                3.1\n",
      "Winner model: LR\n",
      "----------------------------------------------------------\n",
      "Applying Holm p-value adjustment procedure and analysing effect size\n",
      "----------------------------------------------------------\n",
      "Comparison      Zvalue    p-value    adjusted p-value\n",
      "------------  --------  ---------  ------------------\n",
      "LR vs ET      1.91493   0.0555012            0.333007\n",
      "LR vs RF      1.81142   0.0700755            0.350378\n",
      "LR vs MLP     1.13861   0.254867             1\n",
      "LR vs Arbol   1.0351    0.300623             1\n",
      "LR vs KNN     0.879834  0.378949             1\n",
      "LR vs SVM     0.10351   0.917558             1\n",
      "There is a significant difference between the models: LR (mean: 0.485238, std: 0.090287) and ET (mean: 0.409643, std: 0.125637) (Cohen's d=0.6555430172742284, Large)\n",
      "There is a significant difference between the models: LR (mean: 0.485238, std: 0.090287) and RF (mean: 0.417976, std: 0.144862) (Cohen's d=0.5286697320711217, Large)\n",
      "We can't say that there is a significant difference in the performance of the models: LR (mean: 0.485238, std: 0.090287) and MLP (mean: 0.449048, std: 0.064980) (Cohen's d=0.4364885622565136, Medium)\n",
      "We can't say that there is a significant difference in the performance of the models: LR (mean: 0.485238, std: 0.090287) and Arbol (mean: 0.459167, std: 0.152907) (Cohen's d=0.19698113312820173, Small)\n",
      "We can't say that there is a significant difference in the performance of the models: LR (mean: 0.485238, std: 0.090287) and KNN (mean: 0.456071, std: 0.108238) (Cohen's d=0.27762220371872787, Medium)\n",
      "We can't say that there is a significant difference in the performance of the models: LR (mean: 0.485238, std: 0.090287) and SVM (mean: 0.500000, std: 0.000000) (Cohen's d=0.21935853620003573, Medium)\n",
      "Eta squared: 0.070737 (Large)\n"
     ]
    },
    {
     "data": {
      "image/png": "[encoded data removed]",
      "text/plain": [
       "<Figure size 432x288 with 1 Axes>"
      ]
     },
     "metadata": {
      "needs_background": "light"
     },
     "output_type": "display_data"
    }
   ],
   "source": [
    "compare_methods(Xumap10,Y,listAlgorithms,listParams,listNames,metric='auroc')"
   ]
  },
  {
   "cell_type": "code",
   "execution_count": 69,
   "metadata": {},
   "outputs": [
    {
     "name": "stdout",
     "output_type": "stream",
     "text": [
      "temp.csv\n",
      "['Arbol' 'SVM' 'KNN' 'LR' 'MLP' 'RF' 'ET']\n",
      "==========================================================\n",
      "Report\n",
      "==========================================================\n",
      "**********************************************************\n",
      "Mean and std\n",
      "**********************************************************\n",
      "Arbol: 0.382857 (0.314482)\n",
      "SVM: 0.000000 (0.000000)\n",
      "KNN: 0.116667 (0.183333)\n",
      "LR: 0.100000 (0.300000)\n",
      "MLP: 0.033333 (0.100000)\n",
      "RF: 0.238333 (0.249115)\n",
      "ET: 0.128333 (0.172892)\n",
      "**********************************************************\n",
      "Statistical tests\n",
      "**********************************************************\n",
      "----------------------------------------------------------\n",
      "Checking parametric conditions \n",
      "----------------------------------------------------------\n",
      "Checking independence \n",
      "Ok\n",
      "Checking normality using Shapiro-Wilk's test for normality, alpha=0.05\n",
      "W: 0.640660, p:0.000000\n",
      "The null hypothesis (normality) is rejected\n",
      "Checking heteroscedasticity using Levene's test, alpha=0.05\n",
      "W: 2.022853, p:0.075615\n",
      "The null hypothesis (heteroscedasticity) is rejected\n",
      "Conditions for a parametric test are not fulfilled, applying a non-parametric test\n",
      "----------------------------------------------------------\n",
      "Working with more than 2 algorithms\n",
      "----------------------------------------------------------\n",
      "----------------------------------------------------------\n",
      "Applying Friedman test\n",
      "----------------------------------------------------------\n",
      "F-value: 2.023622, p-value: 0.07825353221403708\n",
      "Null hypothesis is rejected; hence, models have different performance\n",
      "Technique      Ranking\n",
      "-----------  ---------\n",
      "Arbol             5.55\n",
      "RF                4.85\n",
      "ET                4.05\n",
      "KNN               3.9\n",
      "LR                3.45\n",
      "MLP               3.3\n",
      "SVM               2.9\n",
      "Winner model: Arbol\n",
      "----------------------------------------------------------\n",
      "Applying Holm p-value adjustment procedure and analysing effect size\n",
      "----------------------------------------------------------\n",
      "Comparison      Zvalue     p-value    adjusted p-value\n",
      "------------  --------  ----------  ------------------\n",
      "Arbol vs SVM  2.74301   0.00608787           0.0365272\n",
      "Arbol vs MLP  2.32897   0.0198606            0.0993029\n",
      "Arbol vs LR   2.17371   0.0297272            0.118909\n",
      "Arbol vs KNN  1.70791   0.0876526            0.262958\n",
      "Arbol vs ET   1.55265   0.120507             0.262958\n",
      "Arbol vs RF   0.724569  0.468717             0.468717\n",
      "There is a significant difference between the models: Arbol (mean: 0.382857, std: 0.314482) and SVM (mean: 0.000000, std: 0.000000) (Cohen's d=1.6333428290149425, Large)\n",
      "There is a significant difference between the models: Arbol (mean: 0.382857, std: 0.314482) and MLP (mean: 0.033333, std: 0.100000) (Cohen's d=1.4210237570744304, Large)\n",
      "There is a significant difference between the models: Arbol (mean: 0.382857, std: 0.314482) and LR (mean: 0.100000, std: 0.300000) (Cohen's d=0.8731497362814669, Large)\n",
      "There is a significant difference between the models: Arbol (mean: 0.382857, std: 0.314482) and KNN (mean: 0.116667, std: 0.183333) (Cohen's d=0.9810801207829342, Large)\n",
      "There is a significant difference between the models: Arbol (mean: 0.382857, std: 0.314482) and ET (mean: 0.128333, std: 0.172892) (Cohen's d=0.9515304643779031, Large)\n",
      "There is a significant difference between the models: Arbol (mean: 0.382857, std: 0.314482) and RF (mean: 0.238333, std: 0.249115) (Cohen's d=0.4833040668431464, Medium)\n",
      "Eta squared: 0.238916 (Large)\n"
     ]
    },
    {
     "data": {
      "image/png": "[encoded data removed]",
      "text/plain": [
       "<Figure size 432x288 with 1 Axes>"
      ]
     },
     "metadata": {
      "needs_background": "light"
     },
     "output_type": "display_data"
    }
   ],
   "source": [
    "compare_methods(Xumap10,Y,listAlgorithms,listParams,listNames,metric='precision')"
   ]
  },
  {
   "cell_type": "code",
   "execution_count": 70,
   "metadata": {},
   "outputs": [
    {
     "name": "stdout",
     "output_type": "stream",
     "text": [
      "temp.csv\n",
      "['Arbol' 'SVM' 'KNN' 'LR' 'MLP' 'RF' 'ET']\n",
      "==========================================================\n",
      "Report\n",
      "==========================================================\n",
      "**********************************************************\n",
      "Mean and std\n",
      "**********************************************************\n",
      "Arbol: 0.368333 (0.275726)\n",
      "SVM: 0.000000 (0.000000)\n",
      "KNN: 0.116667 (0.183333)\n",
      "LR: 0.033333 (0.100000)\n",
      "MLP: 0.033333 (0.100000)\n",
      "RF: 0.250000 (0.247207)\n",
      "ET: 0.125000 (0.154785)\n",
      "**********************************************************\n",
      "Statistical tests\n",
      "**********************************************************\n",
      "----------------------------------------------------------\n",
      "Checking parametric conditions \n",
      "----------------------------------------------------------\n",
      "Checking independence \n",
      "Ok\n",
      "Checking normality using Shapiro-Wilk's test for normality, alpha=0.05\n",
      "W: 0.648422, p:0.000000\n",
      "The null hypothesis (normality) is rejected\n",
      "Checking heteroscedasticity using Levene's test, alpha=0.05\n",
      "W: 4.827747, p:0.000412\n",
      "The null hypothesis (heteroscedasticity) is rejected\n",
      "Conditions for a parametric test are not fulfilled, applying a non-parametric test\n",
      "----------------------------------------------------------\n",
      "Working with more than 2 algorithms\n",
      "----------------------------------------------------------\n",
      "----------------------------------------------------------\n",
      "Applying Friedman test\n",
      "----------------------------------------------------------\n",
      "F-value: 2.647793, p-value: 0.02523516480853283\n",
      "Null hypothesis is rejected; hence, models have different performance\n",
      "Technique      Ranking\n",
      "-----------  ---------\n",
      "Arbol             5.7\n",
      "RF                5\n",
      "ET                4.15\n",
      "KNN               3.8\n",
      "MLP               3.25\n",
      "LR                3.2\n",
      "SVM               2.9\n",
      "Winner model: Arbol\n",
      "----------------------------------------------------------\n",
      "Applying Holm p-value adjustment procedure and analysing effect size\n",
      "----------------------------------------------------------\n",
      "Comparison      Zvalue     p-value    adjusted p-value\n",
      "------------  --------  ----------  ------------------\n",
      "Arbol vs SVM  2.89828   0.00375221           0.0225133\n",
      "Arbol vs LR   2.58775   0.00966062           0.0483031\n",
      "Arbol vs MLP  2.53599   0.011213             0.0483031\n",
      "Arbol vs KNN  1.96669   0.0492193            0.147658\n",
      "Arbol vs ET   1.6044    0.108625             0.217251\n",
      "Arbol vs RF   0.724569  0.468717             0.468717\n",
      "There is a significant difference between the models: Arbol (mean: 0.368333, std: 0.275726) and SVM (mean: 0.000000, std: 0.000000) (Cohen's d=1.7922519494514149, Large)\n",
      "There is a significant difference between the models: Arbol (mean: 0.368333, std: 0.275726) and LR (mean: 0.033333, std: 0.100000) (Cohen's d=1.5323879172252335, Large)\n",
      "There is a significant difference between the models: Arbol (mean: 0.368333, std: 0.275726) and MLP (mean: 0.033333, std: 0.100000) (Cohen's d=1.5323879172252335, Large)\n",
      "There is a significant difference between the models: Arbol (mean: 0.368333, std: 0.275726) and KNN (mean: 0.116667, std: 0.183333) (Cohen's d=1.0197298639414862, Large)\n",
      "There is a significant difference between the models: Arbol (mean: 0.368333, std: 0.275726) and ET (mean: 0.125000, std: 0.154785) (Cohen's d=1.032461942612813, Large)\n",
      "There is a significant difference between the models: Arbol (mean: 0.368333, std: 0.275726) and RF (mean: 0.250000, std: 0.247207) (Cohen's d=0.4287137730466594, Medium)\n",
      "Eta squared: 0.332508 (Large)\n"
     ]
    },
    {
     "data": {
      "image/png": "[encoded data removed]",
      "text/plain": [
       "<Figure size 432x288 with 1 Axes>"
      ]
     },
     "metadata": {
      "needs_background": "light"
     },
     "output_type": "display_data"
    }
   ],
   "source": [
    "compare_methods(Xumap10,Y,listAlgorithms,listParams,listNames,metric='recall')"
   ]
  },
  {
   "cell_type": "code",
   "execution_count": 71,
   "metadata": {},
   "outputs": [
    {
     "name": "stdout",
     "output_type": "stream",
     "text": [
      "temp.csv\n",
      "['Arbol' 'SVM' 'KNN' 'LR' 'MLP' 'RF' 'ET']\n",
      "==========================================================\n",
      "Report\n",
      "==========================================================\n",
      "**********************************************************\n",
      "Mean and std\n",
      "**********************************************************\n",
      "Arbol: 0.488889 (0.171774)\n",
      "SVM: 0.563333 (0.144021)\n",
      "KNN: 0.465556 (0.136486)\n",
      "LR: 0.528889 (0.146667)\n",
      "MLP: 0.487778 (0.121356)\n",
      "RF: 0.433333 (0.149154)\n",
      "ET: 0.411111 (0.127754)\n",
      "**********************************************************\n",
      "Statistical tests\n",
      "**********************************************************\n",
      "----------------------------------------------------------\n",
      "Checking parametric conditions \n",
      "----------------------------------------------------------\n",
      "Checking independence \n",
      "Ok\n",
      "Checking normality using Shapiro-Wilk's test for normality, alpha=0.05\n",
      "W: 0.924334, p:0.000411\n",
      "The null hypothesis (normality) is rejected\n",
      "Checking heteroscedasticity using Levene's test, alpha=0.05\n",
      "W: 0.206436, p:0.973549\n",
      "The null hypothesis (heteroscedasticity) is accepted\n",
      "Conditions for a parametric test are not fulfilled, applying a non-parametric test\n",
      "----------------------------------------------------------\n",
      "Working with more than 2 algorithms\n",
      "----------------------------------------------------------\n",
      "----------------------------------------------------------\n",
      "Applying Friedman test\n",
      "----------------------------------------------------------\n",
      "F-value: 2.602210, p-value: 0.02742207389088258\n",
      "Null hypothesis is rejected; hence, models have different performance\n",
      "Technique      Ranking\n",
      "-----------  ---------\n",
      "SVM               5.45\n",
      "LR                5.1\n",
      "MLP               4.25\n",
      "Arbol             3.9\n",
      "KNN               3.65\n",
      "ET                2.9\n",
      "RF                2.75\n",
      "Winner model: SVM\n",
      "----------------------------------------------------------\n",
      "Applying Holm p-value adjustment procedure and analysing effect size\n",
      "----------------------------------------------------------\n",
      "Comparison      Zvalue     p-value    adjusted p-value\n",
      "------------  --------  ----------  ------------------\n",
      "SVM vs RF     2.79477   0.00519374           0.0311624\n",
      "SVM vs ET     2.6395    0.00830282           0.0415141\n",
      "SVM vs KNN    1.86318   0.0624374            0.249749\n",
      "SVM vs Arbol  1.6044    0.108625             0.325876\n",
      "SVM vs MLP    1.24212   0.214193             0.428386\n",
      "SVM vs LR     0.362284  0.71714              0.71714\n",
      "There is a significant difference between the models: SVM (mean: 0.563333, std: 0.144021) and RF (mean: 0.433333, std: 0.149154) (Cohen's d=0.8412043207373521, Large)\n",
      "There is a significant difference between the models: SVM (mean: 0.563333, std: 0.144021) and ET (mean: 0.411111, std: 0.127754) (Cohen's d=1.060826212639282, Large)\n",
      "There is a significant difference between the models: SVM (mean: 0.563333, std: 0.144021) and KNN (mean: 0.465556, std: 0.136486) (Cohen's d=0.6611373079634706, Large)\n",
      "There is a significant difference between the models: SVM (mean: 0.563333, std: 0.144021) and Arbol (mean: 0.488889, std: 0.171774) (Cohen's d=0.44556238030838613, Medium)\n",
      "There is a significant difference between the models: SVM (mean: 0.563333, std: 0.144021) and MLP (mean: 0.487778, std: 0.121356) (Cohen's d=0.5382417133703344, Large)\n",
      "We can't say that there is a significant difference in the performance of the models: SVM (mean: 0.563333, std: 0.144021) and LR (mean: 0.528889, std: 0.146667) (Cohen's d=0.22481548314322097, Medium)\n",
      "Eta squared: 0.103316 (Large)\n"
     ]
    },
    {
     "data": {
      "image/png": "[encoded data removed]",
      "text/plain": [
       "<Figure size 432x288 with 1 Axes>"
      ]
     },
     "metadata": {
      "needs_background": "light"
     },
     "output_type": "display_data"
    }
   ],
   "source": [
    "compare_methods(Xumap10,Y,listAlgorithms,listParams,listNames,metric='accuracy')"
   ]
  },
  {
   "cell_type": "markdown",
   "metadata": {},
   "source": [
    "# Isomap"
   ]
  },
  {
   "cell_type": "code",
   "execution_count": 72,
   "metadata": {
    "scrolled": true
   },
   "outputs": [
    {
     "name": "stdout",
     "output_type": "stream",
     "text": [
      "temp.csv\n",
      "['Arbol' 'SVM' 'KNN' 'LR' 'MLP' 'RF' 'ET']\n",
      "==========================================================\n",
      "Report\n",
      "==========================================================\n",
      "**********************************************************\n",
      "Mean and std\n",
      "**********************************************************\n",
      "Arbol: 0.268214 (0.167493)\n",
      "SVM: 0.469167 (0.194610)\n",
      "KNN: 0.448214 (0.108198)\n",
      "LR: 0.447857 (0.072550)\n",
      "MLP: 0.482143 (0.102790)\n",
      "RF: 0.328214 (0.066684)\n",
      "ET: 0.471429 (0.074574)\n",
      "**********************************************************\n",
      "Statistical tests\n",
      "**********************************************************\n",
      "----------------------------------------------------------\n",
      "Checking parametric conditions \n",
      "----------------------------------------------------------\n",
      "Checking independence \n",
      "Ok\n",
      "Checking normality using Shapiro-Wilk's test for normality, alpha=0.05\n",
      "W: 0.937446, p:0.001685\n",
      "The null hypothesis (normality) is rejected\n",
      "Checking heteroscedasticity using Levene's test, alpha=0.05\n",
      "W: 2.654360, p:0.023280\n",
      "The null hypothesis (heteroscedasticity) is rejected\n",
      "Conditions for a parametric test are not fulfilled, applying a non-parametric test\n",
      "----------------------------------------------------------\n",
      "Working with more than 2 algorithms\n",
      "----------------------------------------------------------\n",
      "----------------------------------------------------------\n",
      "Applying Friedman test\n",
      "----------------------------------------------------------\n",
      "F-value: 4.522941, p-value: 0.0008795520914764987\n",
      "Null hypothesis is rejected; hence, models have different performance\n",
      "Technique      Ranking\n",
      "-----------  ---------\n",
      "MLP               5.2\n",
      "ET                4.85\n",
      "LR                4.7\n",
      "SVM               4.6\n",
      "KNN               4.2\n",
      "RF                2.3\n",
      "Arbol             2.15\n",
      "Winner model: MLP\n",
      "----------------------------------------------------------\n",
      "Applying Holm p-value adjustment procedure and analysing effect size\n",
      "----------------------------------------------------------\n",
      "Comparison      Zvalue     p-value    adjusted p-value\n",
      "------------  --------  ----------  ------------------\n",
      "MLP vs Arbol  3.15705   0.00159374          0.00956244\n",
      "MLP vs RF     3.00179   0.00268402          0.0134201\n",
      "MLP vs KNN    1.0351    0.300623            1\n",
      "MLP vs SVM    0.621059  0.534561            1\n",
      "MLP vs LR     0.517549  0.604773            1\n",
      "MLP vs ET     0.362284  0.71714             1\n",
      "There is a significant difference between the models: MLP (mean: 0.482143, std: 0.102790) and Arbol (mean: 0.268214, std: 0.167493) (Cohen's d=1.460498101151166, Large)\n",
      "There is a significant difference between the models: MLP (mean: 0.482143, std: 0.102790) and RF (mean: 0.328214, std: 0.066684) (Cohen's d=1.685501666127033, Large)\n",
      "We can't say that there is a significant difference in the performance of the models: MLP (mean: 0.482143, std: 0.102790) and KNN (mean: 0.448214, std: 0.108198) (Cohen's d=0.30501254495633445, Medium)\n",
      "We can't say that there is a significant difference in the performance of the models: MLP (mean: 0.482143, std: 0.102790) and SVM (mean: 0.469167, std: 0.194610) (Cohen's d=0.07910202204443861, Small)\n",
      "We can't say that there is a significant difference in the performance of the models: MLP (mean: 0.482143, std: 0.102790) and LR (mean: 0.447857, std: 0.072550) (Cohen's d=0.3656103521447682, Medium)\n",
      "We can't say that there is a significant difference in the performance of the models: MLP (mean: 0.482143, std: 0.102790) and ET (mean: 0.471429, std: 0.074574) (Cohen's d=0.11319386696530907, Small)\n",
      "Eta squared: 0.288091 (Large)\n"
     ]
    },
    {
     "data": {
      "image/png": "[encoded data removed]",
      "text/plain": [
       "<Figure size 432x288 with 1 Axes>"
      ]
     },
     "metadata": {
      "needs_background": "light"
     },
     "output_type": "display_data"
    }
   ],
   "source": [
    "from sklearn import manifold\n",
    "clf = manifold.Isomap(10, n_components=2)\n",
    "X_iso2 = clf.fit_transform(X)\n",
    "compare_methods(X_iso2,Y,listAlgorithms,listParams,listNames,metric='auroc')\n",
    "!mv temp.csv tempiso2.csv"
   ]
  },
  {
   "cell_type": "code",
   "execution_count": 73,
   "metadata": {},
   "outputs": [
    {
     "name": "stdout",
     "output_type": "stream",
     "text": [
      "temp.csv\n",
      "['Arbol' 'SVM' 'KNN' 'LR' 'MLP' 'RF' 'ET']\n",
      "==========================================================\n",
      "Report\n",
      "==========================================================\n",
      "**********************************************************\n",
      "Mean and std\n",
      "**********************************************************\n",
      "Arbol: 0.133333 (0.193218)\n",
      "SVM: 0.321667 (0.324384)\n",
      "KNN: 0.083333 (0.170783)\n",
      "LR: 0.000000 (0.000000)\n",
      "MLP: 0.196667 (0.180401)\n",
      "RF: 0.200000 (0.194365)\n",
      "ET: 0.020000 (0.060000)\n",
      "**********************************************************\n",
      "Statistical tests\n",
      "**********************************************************\n",
      "----------------------------------------------------------\n",
      "Checking parametric conditions \n",
      "----------------------------------------------------------\n",
      "Checking independence \n",
      "Ok\n",
      "Checking normality using Shapiro-Wilk's test for normality, alpha=0.05\n",
      "W: 0.685692, p:0.000000\n",
      "The null hypothesis (normality) is rejected\n",
      "Checking heteroscedasticity using Levene's test, alpha=0.05\n",
      "W: 4.492142, p:0.000757\n",
      "The null hypothesis (heteroscedasticity) is rejected\n",
      "Conditions for a parametric test are not fulfilled, applying a non-parametric test\n",
      "----------------------------------------------------------\n",
      "Working with more than 2 algorithms\n",
      "----------------------------------------------------------\n",
      "----------------------------------------------------------\n",
      "Applying Friedman test\n",
      "----------------------------------------------------------\n",
      "F-value: 1.909091, p-value: 0.09601389597475196\n",
      "Null hypothesis is rejected; hence, models have different performance\n",
      "Technique      Ranking\n",
      "-----------  ---------\n",
      "SVM               5.1\n",
      "MLP               4.95\n",
      "RF                4.45\n",
      "Arbol             4.1\n",
      "KNN               3.55\n",
      "ET                3.1\n",
      "LR                2.75\n",
      "Winner model: SVM\n",
      "----------------------------------------------------------\n",
      "Applying Holm p-value adjustment procedure and analysing effect size\n",
      "----------------------------------------------------------\n",
      "Comparison      Zvalue    p-value    adjusted p-value\n",
      "------------  --------  ---------  ------------------\n",
      "SVM vs LR     2.43248   0.0149958           0.0899746\n",
      "SVM vs ET     2.0702    0.0384339           0.19217\n",
      "SVM vs KNN    1.6044    0.108625            0.434502\n",
      "SVM vs Arbol  1.0351    0.300623            0.901869\n",
      "SVM vs RF     0.672814  0.501066            1\n",
      "SVM vs MLP    0.155265  0.876613            1\n",
      "There is a significant difference between the models: SVM (mean: 0.321667, std: 0.324384) and LR (mean: 0.000000, std: 0.000000) (Cohen's d=1.330401861771004, Large)\n",
      "There is a significant difference between the models: SVM (mean: 0.321667, std: 0.324384) and ET (mean: 0.020000, std: 0.060000) (Cohen's d=1.2268719551748952, Large)\n",
      "There is a significant difference between the models: SVM (mean: 0.321667, std: 0.324384) and KNN (mean: 0.083333, std: 0.170783) (Cohen's d=0.872237731717242, Large)\n",
      "We can't say that there is a significant difference in the performance of the models: SVM (mean: 0.321667, std: 0.324384) and Arbol (mean: 0.133333, std: 0.193218) (Cohen's d=0.669217271587389, Large)\n",
      "We can't say that there is a significant difference in the performance of the models: SVM (mean: 0.321667, std: 0.324384) and RF (mean: 0.200000, std: 0.194365) (Cohen's d=0.4316538566501144, Medium)\n",
      "We can't say that there is a significant difference in the performance of the models: SVM (mean: 0.321667, std: 0.324384) and MLP (mean: 0.196667, std: 0.180401) (Cohen's d=0.45182453676276624, Medium)\n",
      "Eta squared: 0.238604 (Large)\n"
     ]
    },
    {
     "data": {
      "image/png": "[encoded data removed]",
      "text/plain": [
       "<Figure size 432x288 with 1 Axes>"
      ]
     },
     "metadata": {
      "needs_background": "light"
     },
     "output_type": "display_data"
    }
   ],
   "source": [
    "compare_methods(X_iso2,Y,listAlgorithms,listParams,listNames,metric='precision')"
   ]
  },
  {
   "cell_type": "code",
   "execution_count": 74,
   "metadata": {},
   "outputs": [
    {
     "name": "stdout",
     "output_type": "stream",
     "text": [
      "temp.csv\n",
      "['Arbol' 'SVM' 'KNN' 'LR' 'MLP' 'RF' 'ET']\n",
      "==========================================================\n",
      "Report\n",
      "==========================================================\n",
      "**********************************************************\n",
      "Mean and std\n",
      "**********************************************************\n",
      "Arbol: 0.161667 (0.248780)\n",
      "SVM: 0.340000 (0.305705)\n",
      "KNN: 0.066667 (0.133333)\n",
      "LR: 0.000000 (0.000000)\n",
      "MLP: 0.266667 (0.257660)\n",
      "RF: 0.195000 (0.174809)\n",
      "ET: 0.050000 (0.150000)\n",
      "**********************************************************\n",
      "Statistical tests\n",
      "**********************************************************\n",
      "----------------------------------------------------------\n",
      "Checking parametric conditions \n",
      "----------------------------------------------------------\n",
      "Checking independence \n",
      "Ok\n",
      "Checking normality using Shapiro-Wilk's test for normality, alpha=0.05\n",
      "W: 0.690662, p:0.000000\n",
      "The null hypothesis (normality) is rejected\n",
      "Checking heteroscedasticity using Levene's test, alpha=0.05\n",
      "W: 4.020519, p:0.001799\n",
      "The null hypothesis (heteroscedasticity) is rejected\n",
      "Conditions for a parametric test are not fulfilled, applying a non-parametric test\n",
      "----------------------------------------------------------\n",
      "Working with more than 2 algorithms\n",
      "----------------------------------------------------------\n",
      "----------------------------------------------------------\n",
      "Applying Friedman test\n",
      "----------------------------------------------------------\n",
      "F-value: 2.081794, p-value: 0.0704925383453715\n",
      "Null hypothesis is rejected; hence, models have different performance\n",
      "Technique      Ranking\n",
      "-----------  ---------\n",
      "SVM               5.1\n",
      "MLP               4.9\n",
      "RF                4.65\n",
      "Arbol             4.15\n",
      "KNN               3.35\n",
      "ET                3.1\n",
      "LR                2.75\n",
      "Winner model: SVM\n",
      "----------------------------------------------------------\n",
      "Applying Holm p-value adjustment procedure and analysing effect size\n",
      "----------------------------------------------------------\n",
      "Comparison      Zvalue    p-value    adjusted p-value\n",
      "------------  --------  ---------  ------------------\n",
      "SVM vs LR     2.43248   0.0149958           0.0899746\n",
      "SVM vs ET     2.0702    0.0384339           0.19217\n",
      "SVM vs KNN    1.81142   0.0700755           0.280302\n",
      "SVM vs Arbol  0.983343  0.325438            0.976315\n",
      "SVM vs RF     0.465794  0.641363            1\n",
      "SVM vs MLP    0.20702   0.835994            1\n",
      "There is a significant difference between the models: SVM (mean: 0.340000, std: 0.305705) and LR (mean: 0.000000, std: 0.000000) (Cohen's d=1.4921504279978293, Large)\n",
      "There is a significant difference between the models: SVM (mean: 0.340000, std: 0.305705) and ET (mean: 0.050000, std: 0.150000) (Cohen's d=1.1425848728406605, Large)\n",
      "There is a significant difference between the models: SVM (mean: 0.340000, std: 0.305705) and KNN (mean: 0.066667, std: 0.133333) (Cohen's d=1.099540863669029, Large)\n",
      "We can't say that there is a significant difference in the performance of the models: SVM (mean: 0.340000, std: 0.305705) and Arbol (mean: 0.161667, std: 0.248780) (Cohen's d=0.6070396151181187, Large)\n",
      "We can't say that there is a significant difference in the performance of the models: SVM (mean: 0.340000, std: 0.305705) and RF (mean: 0.195000, std: 0.174809) (Cohen's d=0.5524196158385992, Large)\n",
      "We can't say that there is a significant difference in the performance of the models: SVM (mean: 0.340000, std: 0.305705) and MLP (mean: 0.266667, std: 0.257660) (Cohen's d=0.2460871323041222, Medium)\n",
      "Eta squared: 0.237617 (Large)\n"
     ]
    },
    {
     "data": {
      "image/png": "[encoded data removed]",
      "text/plain": [
       "<Figure size 432x288 with 1 Axes>"
      ]
     },
     "metadata": {
      "needs_background": "light"
     },
     "output_type": "display_data"
    }
   ],
   "source": [
    "compare_methods(X_iso2,Y,listAlgorithms,listParams,listNames,metric='recall')"
   ]
  },
  {
   "cell_type": "code",
   "execution_count": 75,
   "metadata": {},
   "outputs": [
    {
     "name": "stdout",
     "output_type": "stream",
     "text": [
      "temp.csv\n",
      "['Arbol' 'SVM' 'KNN' 'LR' 'MLP' 'RF' 'ET']\n",
      "==========================================================\n",
      "Report\n",
      "==========================================================\n",
      "**********************************************************\n",
      "Mean and std\n",
      "**********************************************************\n",
      "Arbol: 0.283333 (0.159106)\n",
      "SVM: 0.471111 (0.177166)\n",
      "KNN: 0.480000 (0.156252)\n",
      "LR: 0.500000 (0.147489)\n",
      "MLP: 0.455556 (0.131562)\n",
      "RF: 0.348889 (0.070132)\n",
      "ET: 0.500000 (0.142638)\n",
      "**********************************************************\n",
      "Statistical tests\n",
      "**********************************************************\n",
      "----------------------------------------------------------\n",
      "Checking parametric conditions \n",
      "----------------------------------------------------------\n",
      "Checking independence \n",
      "Ok\n",
      "Checking normality using Shapiro-Wilk's test for normality, alpha=0.05\n",
      "W: 0.947559, p:0.005413\n",
      "The null hypothesis (normality) is rejected\n",
      "Checking heteroscedasticity using Levene's test, alpha=0.05\n",
      "W: 1.105856, p:0.369053\n",
      "The null hypothesis (heteroscedasticity) is rejected\n",
      "Conditions for a parametric test are not fulfilled, applying a non-parametric test\n",
      "----------------------------------------------------------\n",
      "Working with more than 2 algorithms\n",
      "----------------------------------------------------------\n",
      "----------------------------------------------------------\n",
      "Applying Friedman test\n",
      "----------------------------------------------------------\n",
      "F-value: 3.334802, p-value: 0.0072347188269660245\n",
      "Null hypothesis is rejected; hence, models have different performance\n",
      "Technique      Ranking\n",
      "-----------  ---------\n",
      "LR                5\n",
      "ET                4.95\n",
      "SVM               4.5\n",
      "MLP               4.35\n",
      "KNN               4.35\n",
      "RF                2.75\n",
      "Arbol             2.1\n",
      "Winner model: LR\n",
      "----------------------------------------------------------\n",
      "Applying Holm p-value adjustment procedure and analysing effect size\n",
      "----------------------------------------------------------\n",
      "Comparison       Zvalue     p-value    adjusted p-value\n",
      "------------  ---------  ----------  ------------------\n",
      "LR vs Arbol   3.00179    0.00268402           0.0161041\n",
      "LR vs RF      2.32897    0.0198606            0.0993029\n",
      "LR vs KNN     0.672814   0.501066             1\n",
      "LR vs MLP     0.672814   0.501066             1\n",
      "LR vs SVM     0.517549   0.604773             1\n",
      "LR vs ET      0.0517549  0.958724             1\n",
      "There is a significant difference between the models: LR (mean: 0.500000, std: 0.147489) and Arbol (mean: 0.283333, std: 0.159106) (Cohen's d=1.3398801022944518, Large)\n",
      "There is a significant difference between the models: LR (mean: 0.500000, std: 0.147489) and RF (mean: 0.348889, std: 0.070132) (Cohen's d=1.2413895255247551, Large)\n",
      "We can't say that there is a significant difference in the performance of the models: LR (mean: 0.500000, std: 0.147489) and KNN (mean: 0.480000, std: 0.156252) (Cohen's d=0.1248809466210346, Small)\n",
      "We can't say that there is a significant difference in the performance of the models: LR (mean: 0.500000, std: 0.147489) and MLP (mean: 0.455556, std: 0.131562) (Cohen's d=0.30170187309256147, Medium)\n",
      "We can't say that there is a significant difference in the performance of the models: LR (mean: 0.500000, std: 0.147489) and SVM (mean: 0.471111, std: 0.177166) (Cohen's d=0.16813312659198607, Small)\n",
      "We can't say that there is a significant difference in the performance of the models: LR (mean: 0.500000, std: 0.147489) and ET (mean: 0.500000, std: 0.142638) (Cohen's d=0.0, Small)\n",
      "Eta squared: 0.226602 (Large)\n"
     ]
    },
    {
     "data": {
      "image/png": "[encoded data removed]",
      "text/plain": [
       "<Figure size 432x288 with 1 Axes>"
      ]
     },
     "metadata": {
      "needs_background": "light"
     },
     "output_type": "display_data"
    }
   ],
   "source": [
    "compare_methods(X_iso2,Y,listAlgorithms,listParams,listNames,metric='accuracy')"
   ]
  },
  {
   "cell_type": "code",
   "execution_count": 76,
   "metadata": {},
   "outputs": [
    {
     "name": "stdout",
     "output_type": "stream",
     "text": [
      "temp.csv\n",
      "['Arbol' 'SVM' 'KNN' 'LR' 'MLP' 'RF' 'ET']\n",
      "==========================================================\n",
      "Report\n",
      "==========================================================\n",
      "**********************************************************\n",
      "Mean and std\n",
      "**********************************************************\n",
      "Arbol: 0.586190 (0.161839)\n",
      "SVM: 0.500000 (0.000000)\n",
      "KNN: 0.467976 (0.172984)\n",
      "LR: 0.504167 (0.199470)\n",
      "MLP: 0.508452 (0.108693)\n",
      "RF: 0.552500 (0.133986)\n",
      "ET: 0.466667 (0.186983)\n",
      "**********************************************************\n",
      "Statistical tests\n",
      "**********************************************************\n",
      "----------------------------------------------------------\n",
      "Checking parametric conditions \n",
      "----------------------------------------------------------\n",
      "Checking independence \n",
      "Ok\n",
      "Checking normality using Shapiro-Wilk's test for normality, alpha=0.05\n",
      "W: 0.965974, p:0.053961\n",
      "The null hypothesis (normality) is rejected\n",
      "Checking heteroscedasticity using Levene's test, alpha=0.05\n",
      "W: 2.777034, p:0.018477\n",
      "The null hypothesis (heteroscedasticity) is rejected\n",
      "Conditions for a parametric test are not fulfilled, applying a non-parametric test\n",
      "----------------------------------------------------------\n",
      "Working with more than 2 algorithms\n",
      "----------------------------------------------------------\n",
      "----------------------------------------------------------\n",
      "Applying Friedman test\n",
      "----------------------------------------------------------\n",
      "F-value: 0.968354, p-value: 0.45544870549439587\n",
      "Null hypothesis is rejected; hence, models have different performance\n",
      "Technique      Ranking\n",
      "-----------  ---------\n",
      "Arbol             5.05\n",
      "RF                4.4\n",
      "MLP               4.1\n",
      "SVM               4\n",
      "LR                3.95\n",
      "KNN               3.65\n",
      "ET                2.85\n",
      "Winner model: Arbol\n",
      "----------------------------------------------------------\n",
      "Applying Holm p-value adjustment procedure and analysing effect size\n",
      "----------------------------------------------------------\n",
      "Comparison      Zvalue    p-value    adjusted p-value\n",
      "------------  --------  ---------  ------------------\n",
      "Arbol vs ET   2.27722   0.0227733            0.13664\n",
      "Arbol vs KNN  1.44914   0.147299             0.736496\n",
      "Arbol vs LR   1.13861   0.254867             1\n",
      "Arbol vs SVM  1.08685   0.277102             1\n",
      "Arbol vs MLP  0.983343  0.325438             1\n",
      "Arbol vs RF   0.672814  0.501066             1\n",
      "There is a significant difference between the models: Arbol (mean: 0.586190, std: 0.161839) and ET (mean: 0.466667, std: 0.186983) (Cohen's d=0.6484497761016366, Large)\n",
      "We can't say that there is a significant difference in the performance of the models: Arbol (mean: 0.586190, std: 0.161839) and KNN (mean: 0.467976, std: 0.172984) (Cohen's d=0.6695216335094265, Large)\n",
      "We can't say that there is a significant difference in the performance of the models: Arbol (mean: 0.586190, std: 0.161839) and LR (mean: 0.504167, std: 0.199470) (Cohen's d=0.42841936248243107, Medium)\n",
      "We can't say that there is a significant difference in the performance of the models: Arbol (mean: 0.586190, std: 0.161839) and SVM (mean: 0.500000, std: 0.000000) (Cohen's d=0.7145154355964793, Large)\n",
      "We can't say that there is a significant difference in the performance of the models: Arbol (mean: 0.586190, std: 0.161839) and MLP (mean: 0.508452, std: 0.108693) (Cohen's d=0.534987069266104, Large)\n",
      "We can't say that there is a significant difference in the performance of the models: Arbol (mean: 0.586190, std: 0.161839) and RF (mean: 0.552500, std: 0.133986) (Cohen's d=0.21513283421967322, Medium)\n",
      "Eta squared: 0.066023 (Large)\n"
     ]
    },
    {
     "data": {
      "image/png": "[encoded data removed]",
      "text/plain": [
       "<Figure size 432x288 with 1 Axes>"
      ]
     },
     "metadata": {
      "needs_background": "light"
     },
     "output_type": "display_data"
    }
   ],
   "source": [
    "clf = manifold.Isomap(10, n_components=10)\n",
    "X_iso10 = clf.fit_transform(X)\n",
    "compare_methods(X_iso10,Y,listAlgorithms,listParams,listNames,metric='auroc')"
   ]
  },
  {
   "cell_type": "code",
   "execution_count": 77,
   "metadata": {},
   "outputs": [
    {
     "name": "stdout",
     "output_type": "stream",
     "text": [
      "temp.csv\n",
      "['Arbol' 'SVM' 'KNN' 'LR' 'MLP' 'RF' 'ET']\n",
      "==========================================================\n",
      "Report\n",
      "==========================================================\n",
      "**********************************************************\n",
      "Mean and std\n",
      "**********************************************************\n",
      "Arbol: 0.483333 (0.266771)\n",
      "SVM: 0.000000 (0.000000)\n",
      "KNN: 0.283333 (0.394757)\n",
      "LR: 0.437857 (0.334512)\n",
      "MLP: 0.408333 (0.419076)\n",
      "RF: 0.496667 (0.175563)\n",
      "ET: 0.300000 (0.458258)\n",
      "**********************************************************\n",
      "Statistical tests\n",
      "**********************************************************\n",
      "----------------------------------------------------------\n",
      "Checking parametric conditions \n",
      "----------------------------------------------------------\n",
      "Checking independence \n",
      "Ok\n",
      "Checking normality using Shapiro-Wilk's test for normality, alpha=0.05\n",
      "W: 0.816976, p:0.000000\n",
      "The null hypothesis (normality) is rejected\n",
      "Checking heteroscedasticity using Levene's test, alpha=0.05\n",
      "W: 1.772169, p:0.119281\n",
      "The null hypothesis (heteroscedasticity) is rejected\n",
      "Conditions for a parametric test are not fulfilled, applying a non-parametric test\n",
      "----------------------------------------------------------\n",
      "Working with more than 2 algorithms\n",
      "----------------------------------------------------------\n",
      "----------------------------------------------------------\n",
      "Applying Friedman test\n",
      "----------------------------------------------------------\n",
      "F-value: 3.212261, p-value: 0.009031860895420518\n",
      "Null hypothesis is rejected; hence, models have different performance\n",
      "Technique      Ranking\n",
      "-----------  ---------\n",
      "Arbol             5.3\n",
      "RF                4.8\n",
      "MLP               4.5\n",
      "LR                4.45\n",
      "KNN               3.6\n",
      "ET                3.35\n",
      "SVM               2\n",
      "Winner model: Arbol\n",
      "----------------------------------------------------------\n",
      "Applying Holm p-value adjustment procedure and analysing effect size\n",
      "----------------------------------------------------------\n",
      "Comparison      Zvalue      p-value    adjusted p-value\n",
      "------------  --------  -----------  ------------------\n",
      "Arbol vs SVM  3.41582   0.000635892          0.00381535\n",
      "Arbol vs ET   2.01844   0.0435453            0.217726\n",
      "Arbol vs KNN  1.75967   0.0784643            0.313857\n",
      "Arbol vs LR   0.879834  0.378949             1\n",
      "Arbol vs MLP  0.828079  0.407626             1\n",
      "Arbol vs RF   0.517549  0.604773             1\n",
      "There is a significant difference between the models: Arbol (mean: 0.483333, std: 0.266771) and SVM (mean: 0.000000, std: 0.000000) (Cohen's d=2.4307745895879393, Large)\n",
      "There is a significant difference between the models: Arbol (mean: 0.483333, std: 0.266771) and ET (mean: 0.300000, std: 0.458258) (Cohen's d=0.463869449982588, Medium)\n",
      "There is a significant difference between the models: Arbol (mean: 0.483333, std: 0.266771) and KNN (mean: 0.283333, std: 0.394757) (Cohen's d=0.5631879053567184, Large)\n",
      "We can't say that there is a significant difference in the performance of the models: Arbol (mean: 0.483333, std: 0.266771) and LR (mean: 0.437857, std: 0.334512) (Cohen's d=0.14259933756772505, Small)\n",
      "We can't say that there is a significant difference in the performance of the models: Arbol (mean: 0.483333, std: 0.266771) and MLP (mean: 0.408333, std: 0.419076) (Cohen's d=0.20255001070785233, Medium)\n",
      "We can't say that there is a significant difference in the performance of the models: Arbol (mean: 0.483333, std: 0.266771) and RF (mean: 0.496667, std: 0.175563) (Cohen's d=0.05601425432952245, Small)\n",
      "Eta squared: 0.192115 (Large)\n"
     ]
    },
    {
     "data": {
      "image/png": "[encoded data removed]",
      "text/plain": [
       "<Figure size 432x288 with 1 Axes>"
      ]
     },
     "metadata": {
      "needs_background": "light"
     },
     "output_type": "display_data"
    }
   ],
   "source": [
    "compare_methods(X_iso10,Y,listAlgorithms,listParams,listNames,metric='precision')"
   ]
  },
  {
   "cell_type": "code",
   "execution_count": 78,
   "metadata": {},
   "outputs": [
    {
     "name": "stdout",
     "output_type": "stream",
     "text": [
      "temp.csv\n",
      "['Arbol' 'SVM' 'KNN' 'LR' 'MLP' 'RF' 'ET']\n",
      "==========================================================\n",
      "Report\n",
      "==========================================================\n",
      "**********************************************************\n",
      "Mean and std\n",
      "**********************************************************\n",
      "Arbol: 0.508333 (0.256715)\n",
      "SVM: 0.000000 (0.000000)\n",
      "KNN: 0.151667 (0.203640)\n",
      "LR: 0.385000 (0.297438)\n",
      "MLP: 0.186667 (0.173973)\n",
      "RF: 0.448333 (0.230633)\n",
      "ET: 0.123333 (0.219114)\n",
      "**********************************************************\n",
      "Statistical tests\n",
      "**********************************************************\n",
      "----------------------------------------------------------\n",
      "Checking parametric conditions \n",
      "----------------------------------------------------------\n",
      "Checking independence \n",
      "Ok\n",
      "Checking normality using Shapiro-Wilk's test for normality, alpha=0.05\n",
      "W: 0.840652, p:0.000000\n",
      "The null hypothesis (normality) is rejected\n",
      "Checking heteroscedasticity using Levene's test, alpha=0.05\n",
      "W: 1.450176, p:0.209996\n",
      "The null hypothesis (heteroscedasticity) is rejected\n",
      "Conditions for a parametric test are not fulfilled, applying a non-parametric test\n",
      "----------------------------------------------------------\n",
      "Working with more than 2 algorithms\n",
      "----------------------------------------------------------\n",
      "----------------------------------------------------------\n",
      "Applying Friedman test\n",
      "----------------------------------------------------------\n",
      "F-value: 7.200579, p-value: 1.1222606718264139e-05\n",
      "Null hypothesis is rejected; hence, models have different performance\n",
      "Technique      Ranking\n",
      "-----------  ---------\n",
      "Arbol             5.7\n",
      "RF                5.55\n",
      "LR                5\n",
      "MLP               3.6\n",
      "KNN               3.45\n",
      "ET                2.7\n",
      "SVM               2\n",
      "Winner model: Arbol\n",
      "----------------------------------------------------------\n",
      "Applying Holm p-value adjustment procedure and analysing effect size\n",
      "----------------------------------------------------------\n",
      "Comparison      Zvalue      p-value    adjusted p-value\n",
      "------------  --------  -----------  ------------------\n",
      "Arbol vs SVM  3.82986   0.000128214         0.000769285\n",
      "Arbol vs ET   3.1053    0.00190089          0.00950447\n",
      "Arbol vs KNN  2.32897   0.0198606           0.0794424\n",
      "Arbol vs MLP  2.17371   0.0297272           0.0891815\n",
      "Arbol vs LR   0.724569  0.468717            0.937433\n",
      "Arbol vs RF   0.155265  0.876613            0.937433\n",
      "There is a significant difference between the models: Arbol (mean: 0.508333, std: 0.256715) and SVM (mean: 0.000000, std: 0.000000) (Cohen's d=2.6566416760134017, Large)\n",
      "There is a significant difference between the models: Arbol (mean: 0.508333, std: 0.256715) and ET (mean: 0.123333, std: 0.219114) (Cohen's d=1.5304129884570759, Large)\n",
      "There is a significant difference between the models: Arbol (mean: 0.508333, std: 0.256715) and KNN (mean: 0.151667, std: 0.203640) (Cohen's d=1.4603360444980624, Large)\n",
      "There is a significant difference between the models: Arbol (mean: 0.508333, std: 0.256715) and MLP (mean: 0.186667, std: 0.173973) (Cohen's d=1.3916299202574163, Large)\n",
      "We can't say that there is a significant difference in the performance of the models: Arbol (mean: 0.508333, std: 0.256715) and LR (mean: 0.385000, std: 0.297438) (Cohen's d=0.4211454799863297, Medium)\n",
      "We can't say that there is a significant difference in the performance of the models: Arbol (mean: 0.508333, std: 0.256715) and RF (mean: 0.448333, std: 0.230633) (Cohen's d=0.2332607950297779, Medium)\n",
      "Eta squared: 0.397691 (Large)\n"
     ]
    },
    {
     "data": {
      "image/png": "[encoded data removed]",
      "text/plain": [
       "<Figure size 432x288 with 1 Axes>"
      ]
     },
     "metadata": {
      "needs_background": "light"
     },
     "output_type": "display_data"
    }
   ],
   "source": [
    "compare_methods(X_iso10,Y,listAlgorithms,listParams,listNames,metric='recall')"
   ]
  },
  {
   "cell_type": "code",
   "execution_count": 79,
   "metadata": {},
   "outputs": [
    {
     "name": "stdout",
     "output_type": "stream",
     "text": [
      "temp.csv\n",
      "['Arbol' 'SVM' 'KNN' 'LR' 'MLP' 'RF' 'ET']\n",
      "==========================================================\n",
      "Report\n",
      "==========================================================\n",
      "**********************************************************\n",
      "Mean and std\n",
      "**********************************************************\n",
      "Arbol: 0.564444 (0.180041)\n",
      "SVM: 0.563333 (0.144021)\n",
      "KNN: 0.497778 (0.155619)\n",
      "LR: 0.482222 (0.181571)\n",
      "MLP: 0.532222 (0.110939)\n",
      "RF: 0.554444 (0.133375)\n",
      "ET: 0.500000 (0.192450)\n",
      "**********************************************************\n",
      "Statistical tests\n",
      "**********************************************************\n",
      "----------------------------------------------------------\n",
      "Checking parametric conditions \n",
      "----------------------------------------------------------\n",
      "Checking independence \n",
      "Ok\n",
      "Checking normality using Shapiro-Wilk's test for normality, alpha=0.05\n",
      "W: 0.965305, p:0.049478\n",
      "The null hypothesis (normality) is rejected\n",
      "Checking heteroscedasticity using Levene's test, alpha=0.05\n",
      "W: 0.641977, p:0.696213\n",
      "The null hypothesis (heteroscedasticity) is accepted\n",
      "Conditions for a parametric test are not fulfilled, applying a non-parametric test\n",
      "----------------------------------------------------------\n",
      "Working with more than 2 algorithms\n",
      "----------------------------------------------------------\n",
      "----------------------------------------------------------\n",
      "Applying Friedman test\n",
      "----------------------------------------------------------\n",
      "F-value: 0.645933, p-value: 0.6930456637574522\n",
      "Null hypothesis is accepted; hence, we can't say that there is a significant difference in the performance of the models\n",
      "----------------------------------------------------------\n",
      "Analysing effect size\n",
      "----------------------------------------------------------\n",
      "We take the model with the best mean (Arbol, mean: 0.564444) and compare it with the other models: \n",
      "Comparing effect size of Arbol and SVM: Cohen's d=0.006465682417266238, Small\n",
      "Comparing effect size of Arbol and KNN: Cohen's d=0.37584923024880496, Medium\n",
      "Comparing effect size of Arbol and LR: Cohen's d=0.4314137512567423, Medium\n",
      "Comparing effect size of Arbol and MLP: Cohen's d=0.20442313928657024, Medium\n",
      "Comparing effect size of Arbol and RF: Cohen's d=0.05987814997116312, Small\n",
      "Comparing effect size of Arbol and ET: Cohen's d=0.32808004933450513, Medium\n",
      "Eta squared: 0.038396 (Medium)\n"
     ]
    },
    {
     "data": {
      "image/png": "[encoded data removed]",
      "text/plain": [
       "<Figure size 432x288 with 1 Axes>"
      ]
     },
     "metadata": {
      "needs_background": "light"
     },
     "output_type": "display_data"
    }
   ],
   "source": [
    "compare_methods(X_iso10,Y,listAlgorithms,listParams,listNames,metric='accuracy')"
   ]
  },
  {
   "cell_type": "markdown",
   "metadata": {},
   "source": [
    "# LLE"
   ]
  },
  {
   "cell_type": "code",
   "execution_count": 16,
   "metadata": {
    "scrolled": true
   },
   "outputs": [
    {
     "name": "stdout",
     "output_type": "stream",
     "text": [
      "temp.csv\n",
      "['Arbol' 'SVM' 'KNN' 'LR' 'MLP' 'RF' 'ET']\n",
      "==========================================================\n",
      "Report\n",
      "==========================================================\n",
      "**********************************************************\n",
      "Mean and std\n",
      "**********************************************************\n",
      "Arbol: 0.537024 (0.176503)\n",
      "SVM: 0.500000 (0.000000)\n",
      "KNN: 0.534643 (0.182418)\n",
      "LR: 0.485714 (0.042857)\n",
      "MLP: 0.485714 (0.042857)\n",
      "RF: 0.590476 (0.118371)\n",
      "ET: 0.514524 (0.159473)\n",
      "**********************************************************\n",
      "Statistical tests\n",
      "**********************************************************\n",
      "----------------------------------------------------------\n",
      "Checking parametric conditions \n",
      "----------------------------------------------------------\n",
      "Checking independence \n",
      "Ok\n",
      "Checking normality using Shapiro-Wilk's test for normality, alpha=0.05\n",
      "W: 0.898035, p:0.000032\n",
      "The null hypothesis (normality) is rejected\n",
      "Checking heteroscedasticity using Levene's test, alpha=0.05\n",
      "W: 6.019495, p:0.000051\n",
      "The null hypothesis (heteroscedasticity) is rejected\n",
      "Conditions for a parametric test are not fulfilled, applying a non-parametric test\n",
      "----------------------------------------------------------\n",
      "Working with more than 2 algorithms\n",
      "----------------------------------------------------------\n",
      "----------------------------------------------------------\n",
      "Applying Friedman test\n",
      "----------------------------------------------------------\n",
      "F-value: 1.065908, p-value: 0.3943498840698153\n",
      "Null hypothesis is rejected; hence, models have different performance\n",
      "Technique      Ranking\n",
      "-----------  ---------\n",
      "RF                5.3\n",
      "KNN               4.35\n",
      "ET                4.2\n",
      "Arbol             3.9\n",
      "SVM               3.65\n",
      "MLP               3.3\n",
      "LR                3.3\n",
      "Winner model: RF\n",
      "----------------------------------------------------------\n",
      "Applying Holm p-value adjustment procedure and analysing effect size\n",
      "----------------------------------------------------------\n",
      "Comparison      Zvalue    p-value    adjusted p-value\n",
      "------------  --------  ---------  ------------------\n",
      "RF vs LR      2.0702    0.0384339            0.230604\n",
      "RF vs MLP     2.0702    0.0384339            0.230604\n",
      "RF vs SVM     1.70791   0.0876526            0.35061\n",
      "RF vs Arbol   1.44914   0.147299             0.441897\n",
      "RF vs ET      1.13861   0.254867             0.509733\n",
      "RF vs KNN     0.983343  0.325438             0.509733\n",
      "There is a significant difference between the models: RF (mean: 0.590476, std: 0.118371) and LR (mean: 0.485714, std: 0.042857) (Cohen's d=1.1164712122287739, Large)\n",
      "There is a significant difference between the models: RF (mean: 0.590476, std: 0.118371) and MLP (mean: 0.485714, std: 0.042857) (Cohen's d=1.1164712122287739, Large)\n",
      "There is a significant difference between the models: RF (mean: 0.590476, std: 0.118371) and SVM (mean: 0.500000, std: 0.000000) (Cohen's d=1.0254780363333205, Large)\n",
      "There is a significant difference between the models: RF (mean: 0.590476, std: 0.118371) and Arbol (mean: 0.537024, std: 0.176503) (Cohen's d=0.3374451676641237, Medium)\n",
      "We can't say that there is a significant difference in the performance of the models: RF (mean: 0.590476, std: 0.118371) and ET (mean: 0.514524, std: 0.159473) (Cohen's d=0.5130873143704837, Large)\n",
      "We can't say that there is a significant difference in the performance of the models: RF (mean: 0.590476, std: 0.118371) and KNN (mean: 0.534643, std: 0.182418) (Cohen's d=0.3444729586731603, Medium)\n",
      "Eta squared: 0.071188 (Large)\n"
     ]
    },
    {
     "data": {
      "image/png": "[encoded data removed]",
      "text/plain": [
       "<Figure size 432x288 with 1 Axes>"
      ]
     },
     "metadata": {
      "needs_background": "light"
     },
     "output_type": "display_data"
    }
   ],
   "source": [
    "from sklearn import manifold\n",
    "clf = manifold.LocallyLinearEmbedding(10, n_components=2,method='standard')\n",
    "X_lle2 = clf.fit_transform(X)\n",
    "compare_methods(X_lle2,Y,listAlgorithms,listParams,listNames,metric='auroc')"
   ]
  },
  {
   "cell_type": "code",
   "execution_count": 17,
   "metadata": {},
   "outputs": [
    {
     "name": "stdout",
     "output_type": "stream",
     "text": [
      "temp.csv\n",
      "['Arbol' 'SVM' 'KNN' 'LR' 'MLP' 'RF' 'ET']\n",
      "==========================================================\n",
      "Report\n",
      "==========================================================\n",
      "**********************************************************\n",
      "Mean and std\n",
      "**********************************************************\n",
      "Arbol: 0.441667 (0.315634)\n",
      "SVM: 0.000000 (0.000000)\n",
      "KNN: 0.330000 (0.316386)\n",
      "LR: 0.000000 (0.000000)\n",
      "MLP: 0.000000 (0.000000)\n",
      "RF: 0.523333 (0.265539)\n",
      "ET: 0.343571 (0.298951)\n",
      "**********************************************************\n",
      "Statistical tests\n",
      "**********************************************************\n",
      "----------------------------------------------------------\n",
      "Checking parametric conditions \n",
      "----------------------------------------------------------\n",
      "Checking independence \n",
      "Ok\n",
      "Checking normality using Shapiro-Wilk's test for normality, alpha=0.05\n",
      "W: 0.752686, p:0.000000\n",
      "The null hypothesis (normality) is rejected\n",
      "Checking heteroscedasticity using Levene's test, alpha=0.05\n",
      "W: 7.732207, p:0.000003\n",
      "The null hypothesis (heteroscedasticity) is rejected\n",
      "Conditions for a parametric test are not fulfilled, applying a non-parametric test\n",
      "----------------------------------------------------------\n",
      "Working with more than 2 algorithms\n",
      "----------------------------------------------------------\n",
      "----------------------------------------------------------\n",
      "Applying Friedman test\n",
      "----------------------------------------------------------\n",
      "F-value: 7.221435, p-value: 1.0871532522882532e-05\n",
      "Null hypothesis is rejected; hence, models have different performance\n",
      "Technique      Ranking\n",
      "-----------  ---------\n",
      "RF                5.75\n",
      "Arbol             5.2\n",
      "KNN               4.85\n",
      "ET                4.7\n",
      "MLP               2.5\n",
      "LR                2.5\n",
      "SVM               2.5\n",
      "Winner model: RF\n",
      "----------------------------------------------------------\n",
      "Applying Holm p-value adjustment procedure and analysing effect size\n",
      "----------------------------------------------------------\n",
      "Comparison      Zvalue      p-value    adjusted p-value\n",
      "------------  --------  -----------  ------------------\n",
      "RF vs SVM     3.36407   0.000768022          0.00460813\n",
      "RF vs LR      3.36407   0.000768022          0.00460813\n",
      "RF vs MLP     3.36407   0.000768022          0.00460813\n",
      "RF vs ET      1.08685   0.277102             0.831305\n",
      "RF vs KNN     0.931589  0.351549             0.831305\n",
      "RF vs Arbol   0.569304  0.56915              0.831305\n",
      "There is a significant difference between the models: RF (mean: 0.523333, std: 0.265539) and SVM (mean: 0.000000, std: 0.000000) (Cohen's d=2.644148675608172, Large)\n",
      "There is a significant difference between the models: RF (mean: 0.523333, std: 0.265539) and LR (mean: 0.000000, std: 0.000000) (Cohen's d=2.644148675608172, Large)\n",
      "There is a significant difference between the models: RF (mean: 0.523333, std: 0.265539) and MLP (mean: 0.000000, std: 0.000000) (Cohen's d=2.644148675608172, Large)\n",
      "We can't say that there is a significant difference in the performance of the models: RF (mean: 0.523333, std: 0.265539) and ET (mean: 0.343571, std: 0.298951) (Cohen's d=0.6031602349455942, Large)\n",
      "We can't say that there is a significant difference in the performance of the models: RF (mean: 0.523333, std: 0.265539) and KNN (mean: 0.330000, std: 0.316386) (Cohen's d=0.6279706348250208, Large)\n",
      "We can't say that there is a significant difference in the performance of the models: RF (mean: 0.523333, std: 0.265539) and Arbol (mean: 0.441667, std: 0.315634) (Cohen's d=0.26563349189966345, Medium)\n",
      "Eta squared: 0.464819 (Large)\n"
     ]
    },
    {
     "data": {
      "image/png": "[encoded data removed]",
      "text/plain": [
       "<Figure size 432x288 with 1 Axes>"
      ]
     },
     "metadata": {
      "needs_background": "light"
     },
     "output_type": "display_data"
    }
   ],
   "source": [
    "compare_methods(X_lle2,Y,listAlgorithms,listParams,listNames,metric='precision')"
   ]
  },
  {
   "cell_type": "code",
   "execution_count": 18,
   "metadata": {},
   "outputs": [
    {
     "name": "stdout",
     "output_type": "stream",
     "text": [
      "temp.csv\n",
      "['Arbol' 'SVM' 'KNN' 'LR' 'MLP' 'RF' 'ET']\n",
      "==========================================================\n",
      "Report\n",
      "==========================================================\n",
      "**********************************************************\n",
      "Mean and std\n",
      "**********************************************************\n",
      "Arbol: 0.431667 (0.288333)\n",
      "SVM: 0.000000 (0.000000)\n",
      "KNN: 0.395000 (0.399726)\n",
      "LR: 0.000000 (0.000000)\n",
      "MLP: 0.000000 (0.000000)\n",
      "RF: 0.481667 (0.200617)\n",
      "ET: 0.416667 (0.298142)\n",
      "**********************************************************\n",
      "Statistical tests\n",
      "**********************************************************\n",
      "----------------------------------------------------------\n",
      "Checking parametric conditions \n",
      "----------------------------------------------------------\n",
      "Checking independence \n",
      "Ok\n",
      "Checking normality using Shapiro-Wilk's test for normality, alpha=0.05\n",
      "W: 0.756682, p:0.000000\n",
      "The null hypothesis (normality) is rejected\n",
      "Checking heteroscedasticity using Levene's test, alpha=0.05\n",
      "W: 9.129305, p:0.000000\n",
      "The null hypothesis (heteroscedasticity) is rejected\n",
      "Conditions for a parametric test are not fulfilled, applying a non-parametric test\n",
      "----------------------------------------------------------\n",
      "Working with more than 2 algorithms\n",
      "----------------------------------------------------------\n",
      "----------------------------------------------------------\n",
      "Applying Friedman test\n",
      "----------------------------------------------------------\n",
      "F-value: 7.211000, p-value: 1.1045742599469222e-05\n",
      "Null hypothesis is rejected; hence, models have different performance\n",
      "Technique      Ranking\n",
      "-----------  ---------\n",
      "RF                5.75\n",
      "Arbol             5.2\n",
      "ET                4.8\n",
      "KNN               4.75\n",
      "MLP               2.5\n",
      "LR                2.5\n",
      "SVM               2.5\n",
      "Winner model: RF\n",
      "----------------------------------------------------------\n",
      "Applying Holm p-value adjustment procedure and analysing effect size\n",
      "----------------------------------------------------------\n",
      "Comparison      Zvalue      p-value    adjusted p-value\n",
      "------------  --------  -----------  ------------------\n",
      "RF vs SVM     3.36407   0.000768022          0.00460813\n",
      "RF vs LR      3.36407   0.000768022          0.00460813\n",
      "RF vs MLP     3.36407   0.000768022          0.00460813\n",
      "RF vs KNN     1.0351    0.300623             0.901869\n",
      "RF vs ET      0.983343  0.325438             0.901869\n",
      "RF vs Arbol   0.569304  0.56915              0.901869\n",
      "There is a significant difference between the models: RF (mean: 0.481667, std: 0.200617) and SVM (mean: 0.000000, std: 0.000000) (Cohen's d=3.221179222405354, Large)\n",
      "There is a significant difference between the models: RF (mean: 0.481667, std: 0.200617) and LR (mean: 0.000000, std: 0.000000) (Cohen's d=3.221179222405354, Large)\n",
      "There is a significant difference between the models: RF (mean: 0.481667, std: 0.200617) and MLP (mean: 0.000000, std: 0.000000) (Cohen's d=3.221179222405354, Large)\n",
      "We can't say that there is a significant difference in the performance of the models: RF (mean: 0.481667, std: 0.200617) and KNN (mean: 0.395000, std: 0.399726) (Cohen's d=0.2599819463250137, Medium)\n",
      "We can't say that there is a significant difference in the performance of the models: RF (mean: 0.481667, std: 0.200617) and ET (mean: 0.416667, std: 0.298142) (Cohen's d=0.24267540180679087, Medium)\n",
      "We can't say that there is a significant difference in the performance of the models: RF (mean: 0.481667, std: 0.200617) and Arbol (mean: 0.431667, std: 0.288333) (Cohen's d=0.19097565463140534, Small)\n",
      "Eta squared: 0.464625 (Large)\n"
     ]
    },
    {
     "data": {
      "image/png": "[encoded data removed]",
      "text/plain": [
       "<Figure size 432x288 with 1 Axes>"
      ]
     },
     "metadata": {
      "needs_background": "light"
     },
     "output_type": "display_data"
    }
   ],
   "source": [
    "compare_methods(X_lle2,Y,listAlgorithms,listParams,listNames,metric='recall')"
   ]
  },
  {
   "cell_type": "code",
   "execution_count": 19,
   "metadata": {},
   "outputs": [
    {
     "name": "stdout",
     "output_type": "stream",
     "text": [
      "temp.csv\n",
      "['Arbol' 'SVM' 'KNN' 'LR' 'MLP' 'RF' 'ET']\n",
      "==========================================================\n",
      "Report\n",
      "==========================================================\n",
      "**********************************************************\n",
      "Mean and std\n",
      "**********************************************************\n",
      "Arbol: 0.535556 (0.143139)\n",
      "SVM: 0.563333 (0.144021)\n",
      "KNN: 0.522222 (0.145806)\n",
      "LR: 0.543333 (0.137387)\n",
      "MLP: 0.543333 (0.137387)\n",
      "RF: 0.595556 (0.103661)\n",
      "ET: 0.500000 (0.155635)\n",
      "**********************************************************\n",
      "Statistical tests\n",
      "**********************************************************\n",
      "----------------------------------------------------------\n",
      "Checking parametric conditions \n",
      "----------------------------------------------------------\n",
      "Checking independence \n",
      "Ok\n",
      "Checking normality using Shapiro-Wilk's test for normality, alpha=0.05\n",
      "W: 0.955234, p:0.013758\n",
      "The null hypothesis (normality) is rejected\n",
      "Checking heteroscedasticity using Levene's test, alpha=0.05\n",
      "W: 0.209651, p:0.972501\n",
      "The null hypothesis (heteroscedasticity) is accepted\n",
      "Conditions for a parametric test are not fulfilled, applying a non-parametric test\n",
      "----------------------------------------------------------\n",
      "Working with more than 2 algorithms\n",
      "----------------------------------------------------------\n",
      "----------------------------------------------------------\n",
      "Applying Friedman test\n",
      "----------------------------------------------------------\n",
      "F-value: 0.556314, p-value: 0.7629254753967308\n",
      "Null hypothesis is accepted; hence, we can't say that there is a significant difference in the performance of the models\n",
      "----------------------------------------------------------\n",
      "Analysing effect size\n",
      "----------------------------------------------------------\n",
      "We take the model with the best mean (RF, mean: 0.595556) and compare it with the other models: \n",
      "Comparing effect size of RF and Arbol: Cohen's d=0.4554804612635823, Medium\n",
      "Comparing effect size of RF and SVM: Cohen's d=0.24362485100226913, Medium\n",
      "Comparing effect size of RF and KNN: Cohen's d=0.5499575666396007, Large\n",
      "Comparing effect size of RF and LR: Cohen's d=0.4070913115911374, Medium\n",
      "Comparing effect size of RF and MLP: Cohen's d=0.4070913115911374, Medium\n",
      "Comparing effect size of RF and ET: Cohen's d=0.6855788495781087, Large\n",
      "Eta squared: 0.039164 (Medium)\n"
     ]
    },
    {
     "data": {
      "image/png": "[encoded data removed]",
      "text/plain": [
       "<Figure size 432x288 with 1 Axes>"
      ]
     },
     "metadata": {
      "needs_background": "light"
     },
     "output_type": "display_data"
    }
   ],
   "source": [
    "compare_methods(X_lle2,Y,listAlgorithms,listParams,listNames,metric='accuracy')"
   ]
  },
  {
   "cell_type": "code",
   "execution_count": 20,
   "metadata": {},
   "outputs": [],
   "source": [
    "from sklearn import manifold\n",
    "clf = manifold.LocallyLinearEmbedding(10, n_components=10,method='standard')\n",
    "X_lle10 = clf.fit_transform(X)"
   ]
  },
  {
   "cell_type": "code",
   "execution_count": 22,
   "metadata": {
    "scrolled": true
   },
   "outputs": [
    {
     "name": "stdout",
     "output_type": "stream",
     "text": [
      "temp.csv\n",
      "['Arbol' 'SVM' 'KNN' 'LR' 'MLP' 'RF' 'ET']\n",
      "==========================================================\n",
      "Report\n",
      "==========================================================\n",
      "**********************************************************\n",
      "Mean and std\n",
      "**********************************************************\n",
      "Arbol: 0.601786 (0.108834)\n",
      "SVM: 0.483333 (0.050000)\n",
      "KNN: 0.537143 (0.103477)\n",
      "LR: 0.488095 (0.024398)\n",
      "MLP: 0.467738 (0.110923)\n",
      "RF: 0.505000 (0.197600)\n",
      "ET: 0.449643 (0.120367)\n",
      "**********************************************************\n",
      "Statistical tests\n",
      "**********************************************************\n",
      "----------------------------------------------------------\n",
      "Checking parametric conditions \n",
      "----------------------------------------------------------\n",
      "Checking independence \n",
      "Ok\n",
      "Checking normality using Shapiro-Wilk's test for normality, alpha=0.05\n",
      "W: 0.945834, p:0.004414\n",
      "The null hypothesis (normality) is rejected\n",
      "Checking heteroscedasticity using Levene's test, alpha=0.05\n",
      "W: 4.551417, p:0.000679\n",
      "The null hypothesis (heteroscedasticity) is rejected\n",
      "Conditions for a parametric test are not fulfilled, applying a non-parametric test\n",
      "----------------------------------------------------------\n",
      "Working with more than 2 algorithms\n",
      "----------------------------------------------------------\n",
      "----------------------------------------------------------\n",
      "Applying Friedman test\n",
      "----------------------------------------------------------\n",
      "F-value: 2.209964, p-value: 0.05594238618016989\n",
      "Null hypothesis is rejected; hence, models have different performance\n",
      "Technique      Ranking\n",
      "-----------  ---------\n",
      "Arbol             5.9\n",
      "KNN               4.65\n",
      "RF                3.75\n",
      "MLP               3.55\n",
      "LR                3.5\n",
      "SVM               3.5\n",
      "ET                3.15\n",
      "Winner model: Arbol\n",
      "----------------------------------------------------------\n",
      "Applying Holm p-value adjustment procedure and analysing effect size\n",
      "----------------------------------------------------------\n",
      "Comparison      Zvalue     p-value    adjusted p-value\n",
      "------------  --------  ----------  ------------------\n",
      "Arbol vs ET    2.84652  0.00441999           0.0265199\n",
      "Arbol vs SVM   2.48424  0.012983             0.0649149\n",
      "Arbol vs LR    2.48424  0.012983             0.0649149\n",
      "Arbol vs MLP   2.43248  0.0149958            0.0649149\n",
      "Arbol vs RF    2.22546  0.0260503            0.0649149\n",
      "Arbol vs KNN   1.29387  0.195709             0.195709\n",
      "There is a significant difference between the models: Arbol (mean: 0.601786, std: 0.108834) and ET (mean: 0.449643, std: 0.120367) (Cohen's d=1.257879025445951, Large)\n",
      "There is a significant difference between the models: Arbol (mean: 0.601786, std: 0.108834) and SVM (mean: 0.483333, std: 0.050000) (Cohen's d=1.3268861943945973, Large)\n",
      "There is a significant difference between the models: Arbol (mean: 0.601786, std: 0.108834) and LR (mean: 0.488095, std: 0.024398) (Cohen's d=1.3675729253878746, Large)\n",
      "There is a significant difference between the models: Arbol (mean: 0.601786, std: 0.108834) and MLP (mean: 0.467738, std: 0.110923) (Cohen's d=1.1573061437347092, Large)\n",
      "There is a significant difference between the models: Arbol (mean: 0.601786, std: 0.108834) and RF (mean: 0.505000, std: 0.197600) (Cohen's d=0.5756121069549791, Large)\n",
      "There is a significant difference between the models: Arbol (mean: 0.601786, std: 0.108834) and KNN (mean: 0.537143, std: 0.103477) (Cohen's d=0.5775141684833542, Large)\n",
      "Eta squared: 0.145742 (Large)\n"
     ]
    },
    {
     "data": {
      "image/png": "[encoded data removed]",
      "text/plain": [
       "<Figure size 432x288 with 1 Axes>"
      ]
     },
     "metadata": {
      "needs_background": "light"
     },
     "output_type": "display_data"
    }
   ],
   "source": [
    "compare_methods(X_lle10,Y,listAlgorithms,listParams,listNames,metric='auroc')"
   ]
  },
  {
   "cell_type": "code",
   "execution_count": 23,
   "metadata": {},
   "outputs": [
    {
     "name": "stdout",
     "output_type": "stream",
     "text": [
      "temp.csv\n",
      "['Arbol' 'SVM' 'KNN' 'LR' 'MLP' 'RF' 'ET']\n",
      "==========================================================\n",
      "Report\n",
      "==========================================================\n",
      "**********************************************************\n",
      "Mean and std\n",
      "**********************************************************\n",
      "Arbol: 0.546667 (0.235443)\n",
      "SVM: 0.028571 (0.085714)\n",
      "KNN: 0.503333 (0.264764)\n",
      "LR: 0.025000 (0.075000)\n",
      "MLP: 0.175000 (0.261964)\n",
      "RF: 0.438333 (0.355985)\n",
      "ET: 0.300000 (0.400000)\n",
      "**********************************************************\n",
      "Statistical tests\n",
      "**********************************************************\n",
      "----------------------------------------------------------\n",
      "Checking parametric conditions \n",
      "----------------------------------------------------------\n",
      "Checking independence \n",
      "Ok\n",
      "Checking normality using Shapiro-Wilk's test for normality, alpha=0.05\n",
      "W: 0.801299, p:0.000000\n",
      "The null hypothesis (normality) is rejected\n",
      "Checking heteroscedasticity using Levene's test, alpha=0.05\n",
      "W: 2.111688, p:0.064195\n",
      "The null hypothesis (heteroscedasticity) is rejected\n",
      "Conditions for a parametric test are not fulfilled, applying a non-parametric test\n",
      "----------------------------------------------------------\n",
      "Working with more than 2 algorithms\n",
      "----------------------------------------------------------\n",
      "----------------------------------------------------------\n",
      "Applying Friedman test\n",
      "----------------------------------------------------------\n",
      "F-value: 9.327273, p-value: 5.159677658461703e-07\n",
      "Null hypothesis is rejected; hence, models have different performance\n",
      "Technique      Ranking\n",
      "-----------  ---------\n",
      "Arbol             6\n",
      "KNN               5.85\n",
      "RF                4.6\n",
      "ET                3.85\n",
      "MLP               3\n",
      "LR                2.35\n",
      "SVM               2.35\n",
      "Winner model: Arbol\n",
      "----------------------------------------------------------\n",
      "Applying Holm p-value adjustment procedure and analysing effect size\n",
      "----------------------------------------------------------\n",
      "Comparison      Zvalue      p-value    adjusted p-value\n",
      "------------  --------  -----------  ------------------\n",
      "Arbol vs SVM  3.77811   0.000158024         0.000948143\n",
      "Arbol vs LR   3.77811   0.000158024         0.000948143\n",
      "Arbol vs MLP  3.1053    0.00190089          0.00760357\n",
      "Arbol vs ET   2.22546   0.0260503           0.0781508\n",
      "Arbol vs RF   1.44914   0.147299            0.294598\n",
      "Arbol vs KNN  0.155265  0.876613            0.876613\n",
      "There is a significant difference between the models: Arbol (mean: 0.546667, std: 0.235443) and SVM (mean: 0.028571, std: 0.085714) (Cohen's d=2.7741775718914883, Large)\n",
      "There is a significant difference between the models: Arbol (mean: 0.546667, std: 0.235443) and LR (mean: 0.025000, std: 0.075000) (Cohen's d=2.8324148780179454, Large)\n",
      "There is a significant difference between the models: Arbol (mean: 0.546667, std: 0.235443) and MLP (mean: 0.175000, std: 0.261964) (Cohen's d=1.4157184569130639, Large)\n",
      "There is a significant difference between the models: Arbol (mean: 0.546667, std: 0.235443) and ET (mean: 0.300000, std: 0.400000) (Cohen's d=0.7130012101456726, Large)\n",
      "There is a significant difference between the models: Arbol (mean: 0.546667, std: 0.235443) and RF (mean: 0.438333, std: 0.355985) (Cohen's d=0.34054447352876144, Medium)\n",
      "We can't say that there is a significant difference in the performance of the models: Arbol (mean: 0.546667, std: 0.235443) and KNN (mean: 0.503333, std: 0.264764) (Cohen's d=0.16408875491689062, Small)\n",
      "Eta squared: 0.366135 (Large)\n"
     ]
    },
    {
     "data": {
      "image/png": "[encoded data removed]",
      "text/plain": [
       "<Figure size 432x288 with 1 Axes>"
      ]
     },
     "metadata": {
      "needs_background": "light"
     },
     "output_type": "display_data"
    }
   ],
   "source": [
    "compare_methods(X_lle10,Y,listAlgorithms,listParams,listNames,metric='precision')"
   ]
  },
  {
   "cell_type": "code",
   "execution_count": 24,
   "metadata": {},
   "outputs": [
    {
     "name": "stdout",
     "output_type": "stream",
     "text": [
      "temp.csv\n",
      "['Arbol' 'SVM' 'KNN' 'LR' 'MLP' 'RF' 'ET']\n",
      "==========================================================\n",
      "Report\n",
      "==========================================================\n",
      "**********************************************************\n",
      "Mean and std\n",
      "**********************************************************\n",
      "Arbol: 0.493333 (0.216307)\n",
      "SVM: 0.050000 (0.150000)\n",
      "KNN: 0.370000 (0.135974)\n",
      "LR: 0.033333 (0.100000)\n",
      "MLP: 0.158333 (0.218740)\n",
      "RF: 0.343333 (0.229879)\n",
      "ET: 0.095000 (0.122939)\n",
      "**********************************************************\n",
      "Statistical tests\n",
      "**********************************************************\n",
      "----------------------------------------------------------\n",
      "Checking parametric conditions \n",
      "----------------------------------------------------------\n",
      "Checking independence \n",
      "Ok\n",
      "Checking normality using Shapiro-Wilk's test for normality, alpha=0.05\n",
      "W: 0.828190, p:0.000000\n",
      "The null hypothesis (normality) is rejected\n",
      "Checking heteroscedasticity using Levene's test, alpha=0.05\n",
      "W: 1.351035, p:0.248338\n",
      "The null hypothesis (heteroscedasticity) is rejected\n",
      "Conditions for a parametric test are not fulfilled, applying a non-parametric test\n",
      "----------------------------------------------------------\n",
      "Working with more than 2 algorithms\n",
      "----------------------------------------------------------\n",
      "----------------------------------------------------------\n",
      "Applying Friedman test\n",
      "----------------------------------------------------------\n",
      "F-value: 7.454456, p-value: 7.639081671118042e-06\n",
      "Null hypothesis is rejected; hence, models have different performance\n",
      "Technique      Ranking\n",
      "-----------  ---------\n",
      "Arbol             5.95\n",
      "KNN               5.4\n",
      "RF                5.1\n",
      "MLP               3.5\n",
      "ET                3.1\n",
      "SVM               2.5\n",
      "LR                2.45\n",
      "Winner model: Arbol\n",
      "----------------------------------------------------------\n",
      "Applying Holm p-value adjustment procedure and analysing effect size\n",
      "----------------------------------------------------------\n",
      "Comparison      Zvalue      p-value    adjusted p-value\n",
      "------------  --------  -----------  ------------------\n",
      "Arbol vs LR   3.62284   0.000291381          0.00174829\n",
      "Arbol vs SVM  3.57109   0.0003555            0.0017775\n",
      "Arbol vs ET   2.95003   0.00317743           0.0127097\n",
      "Arbol vs MLP  2.53599   0.011213             0.0336389\n",
      "Arbol vs RF   0.879834  0.378949             0.757899\n",
      "Arbol vs KNN  0.569304  0.56915              0.757899\n",
      "There is a significant difference between the models: Arbol (mean: 0.493333, std: 0.216307) and LR (mean: 0.033333, std: 0.100000) (Cohen's d=2.589777172493733, Large)\n",
      "There is a significant difference between the models: Arbol (mean: 0.493333, std: 0.216307) and SVM (mean: 0.050000, std: 0.150000) (Cohen's d=2.2596170354484917, Large)\n",
      "There is a significant difference between the models: Arbol (mean: 0.493333, std: 0.216307) and ET (mean: 0.095000, std: 0.122939) (Cohen's d=2.14796813475436, Large)\n",
      "There is a significant difference between the models: Arbol (mean: 0.493333, std: 0.216307) and MLP (mean: 0.158333, std: 0.218740) (Cohen's d=1.4610080768645186, Large)\n",
      "We can't say that there is a significant difference in the performance of the models: Arbol (mean: 0.493333, std: 0.216307) and RF (mean: 0.343333, std: 0.229879) (Cohen's d=0.6375660475891688, Large)\n",
      "We can't say that there is a significant difference in the performance of the models: Arbol (mean: 0.493333, std: 0.216307) and KNN (mean: 0.370000, std: 0.135974) (Cohen's d=0.6476405622506516, Large)\n",
      "Eta squared: 0.478016 (Large)\n"
     ]
    },
    {
     "data": {
      "image/png": "[encoded data removed]",
      "text/plain": [
       "<Figure size 432x288 with 1 Axes>"
      ]
     },
     "metadata": {
      "needs_background": "light"
     },
     "output_type": "display_data"
    }
   ],
   "source": [
    "compare_methods(X_lle10,Y,listAlgorithms,listParams,listNames,metric='recall')"
   ]
  },
  {
   "cell_type": "code",
   "execution_count": 25,
   "metadata": {},
   "outputs": [
    {
     "name": "stdout",
     "output_type": "stream",
     "text": [
      "temp.csv\n",
      "['Arbol' 'SVM' 'KNN' 'LR' 'MLP' 'RF' 'ET']\n",
      "==========================================================\n",
      "Report\n",
      "==========================================================\n",
      "**********************************************************\n",
      "Mean and std\n",
      "**********************************************************\n",
      "Arbol: 0.610000 (0.078638)\n",
      "SVM: 0.533333 (0.163224)\n",
      "KNN: 0.531111 (0.091867)\n",
      "LR: 0.532222 (0.121559)\n",
      "MLP: 0.543333 (0.162119)\n",
      "RF: 0.534444 (0.164238)\n",
      "ET: 0.478889 (0.102132)\n",
      "**********************************************************\n",
      "Statistical tests\n",
      "**********************************************************\n",
      "----------------------------------------------------------\n",
      "Checking parametric conditions \n",
      "----------------------------------------------------------\n",
      "Checking independence \n",
      "Ok\n",
      "Checking normality using Shapiro-Wilk's test for normality, alpha=0.05\n",
      "W: 0.939388, p:0.002097\n",
      "The null hypothesis (normality) is rejected\n",
      "Checking heteroscedasticity using Levene's test, alpha=0.05\n",
      "W: 1.719655, p:0.131041\n",
      "The null hypothesis (heteroscedasticity) is rejected\n",
      "Conditions for a parametric test are not fulfilled, applying a non-parametric test\n",
      "----------------------------------------------------------\n",
      "Working with more than 2 algorithms\n",
      "----------------------------------------------------------\n",
      "----------------------------------------------------------\n",
      "Applying Friedman test\n",
      "----------------------------------------------------------\n",
      "F-value: 0.890110, p-value: 0.5087245827382832\n",
      "Null hypothesis is accepted; hence, we can't say that there is a significant difference in the performance of the models\n",
      "----------------------------------------------------------\n",
      "Analysing effect size\n",
      "----------------------------------------------------------\n",
      "We take the model with the best mean (Arbol, mean: 0.610000) and compare it with the other models: \n",
      "Comparing effect size of Arbol and SVM: Cohen's d=0.5677201923981521, Large\n",
      "Comparing effect size of Arbol and KNN: Cohen's d=0.8752398212021575, Large\n",
      "Comparing effect size of Arbol and LR: Cohen's d=0.720760583077047, Large\n",
      "Comparing effect size of Arbol and MLP: Cohen's d=0.49639356446461896, Medium\n",
      "Comparing effect size of Arbol and RF: Cohen's d=0.5566834761919288, Large\n",
      "Comparing effect size of Arbol and ET: Cohen's d=1.3646711106721536, Large\n",
      "Eta squared: 0.068618 (Large)\n"
     ]
    },
    {
     "data": {
      "image/png": "[encoded data removed]",
      "text/plain": [
       "<Figure size 432x288 with 1 Axes>"
      ]
     },
     "metadata": {
      "needs_background": "light"
     },
     "output_type": "display_data"
    }
   ],
   "source": [
    "compare_methods(X_lle10,Y,listAlgorithms,listParams,listNames,metric='accuracy')"
   ]
  },
  {
   "cell_type": "code",
   "execution_count": 26,
   "metadata": {},
   "outputs": [],
   "source": [
    "clf = manifold.LocallyLinearEmbedding(10, n_components=50,method='standard')\n",
    "X_lle100 = clf.fit_transform(X)"
   ]
  },
  {
   "cell_type": "code",
   "execution_count": 27,
   "metadata": {},
   "outputs": [
    {
     "name": "stdout",
     "output_type": "stream",
     "text": [
      "temp.csv\n",
      "['Arbol' 'SVM' 'KNN' 'LR' 'MLP' 'RF' 'ET']\n",
      "==========================================================\n",
      "Report\n",
      "==========================================================\n",
      "**********************************************************\n",
      "Mean and std\n",
      "**********************************************************\n",
      "Arbol: 0.527024 (0.146150)\n",
      "SVM: 0.500000 (0.000000)\n",
      "KNN: 0.520238 (0.099526)\n",
      "LR: 0.491190 (0.046120)\n",
      "MLP: 0.525595 (0.102322)\n",
      "RF: 0.510952 (0.170104)\n",
      "ET: 0.457381 (0.075476)\n",
      "**********************************************************\n",
      "Statistical tests\n",
      "**********************************************************\n",
      "----------------------------------------------------------\n",
      "Checking parametric conditions \n",
      "----------------------------------------------------------\n",
      "Checking independence \n",
      "Ok\n",
      "Checking normality using Shapiro-Wilk's test for normality, alpha=0.05\n",
      "W: 0.912677, p:0.000128\n",
      "The null hypothesis (normality) is rejected\n",
      "Checking heteroscedasticity using Levene's test, alpha=0.05\n",
      "W: 3.419489, p:0.005513\n",
      "The null hypothesis (heteroscedasticity) is rejected\n",
      "Conditions for a parametric test are not fulfilled, applying a non-parametric test\n",
      "----------------------------------------------------------\n",
      "Working with more than 2 algorithms\n",
      "----------------------------------------------------------\n",
      "----------------------------------------------------------\n",
      "Applying Friedman test\n",
      "----------------------------------------------------------\n",
      "F-value: 0.631187, p-value: 0.7046105610909772\n",
      "Null hypothesis is accepted; hence, we can't say that there is a significant difference in the performance of the models\n",
      "----------------------------------------------------------\n",
      "Analysing effect size\n",
      "----------------------------------------------------------\n",
      "We take the model with the best mean (Arbol, mean: 0.527024) and compare it with the other models: \n",
      "Comparing effect size of Arbol and SVM: Cohen's d=0.24807623809899992, Medium\n",
      "Comparing effect size of Arbol and KNN: Cohen's d=0.05148756458439651, Small\n",
      "Comparing effect size of Arbol and LR: Cohen's d=0.3136981879505271, Medium\n",
      "Comparing effect size of Arbol and MLP: Cohen's d=0.01074295223126224, Small\n",
      "Comparing effect size of Arbol and RF: Cohen's d=0.09614533535721788, Small\n",
      "Comparing effect size of Arbol and ET: Cohen's d=0.5680389566296457, Large\n",
      "Eta squared: 0.044541 (Medium)\n"
     ]
    },
    {
     "data": {
      "image/png": "[encoded data removed]",
      "text/plain": [
       "<Figure size 432x288 with 1 Axes>"
      ]
     },
     "metadata": {
      "needs_background": "light"
     },
     "output_type": "display_data"
    }
   ],
   "source": [
    "compare_methods(X_lle100,Y,listAlgorithms,listParams,listNames,metric='auroc')"
   ]
  },
  {
   "cell_type": "code",
   "execution_count": 28,
   "metadata": {},
   "outputs": [
    {
     "name": "stdout",
     "output_type": "stream",
     "text": [
      "temp.csv\n",
      "['Arbol' 'SVM' 'KNN' 'LR' 'MLP' 'RF' 'ET']\n",
      "==========================================================\n",
      "Report\n",
      "==========================================================\n",
      "**********************************************************\n",
      "Mean and std\n",
      "**********************************************************\n",
      "Arbol: 0.486905 (0.281668)\n",
      "SVM: 0.000000 (0.000000)\n",
      "KNN: 0.316667 (0.345205)\n",
      "LR: 0.050000 (0.150000)\n",
      "MLP: 0.180000 (0.222711)\n",
      "RF: 0.426667 (0.293087)\n",
      "ET: 0.200000 (0.331662)\n",
      "**********************************************************\n",
      "Statistical tests\n",
      "**********************************************************\n",
      "----------------------------------------------------------\n",
      "Checking parametric conditions \n",
      "----------------------------------------------------------\n",
      "Checking independence \n",
      "Ok\n",
      "Checking normality using Shapiro-Wilk's test for normality, alpha=0.05\n",
      "W: 0.752137, p:0.000000\n",
      "The null hypothesis (normality) is rejected\n",
      "Checking heteroscedasticity using Levene's test, alpha=0.05\n",
      "W: 2.533773, p:0.029206\n",
      "The null hypothesis (heteroscedasticity) is rejected\n",
      "Conditions for a parametric test are not fulfilled, applying a non-parametric test\n",
      "----------------------------------------------------------\n",
      "Working with more than 2 algorithms\n",
      "----------------------------------------------------------\n",
      "----------------------------------------------------------\n",
      "Applying Friedman test\n",
      "----------------------------------------------------------\n",
      "F-value: 3.603151, p-value: 0.004461377957179935\n",
      "Null hypothesis is rejected; hence, models have different performance\n",
      "Technique      Ranking\n",
      "-----------  ---------\n",
      "Arbol             5.6\n",
      "RF                5.15\n",
      "KNN               4.5\n",
      "MLP               3.9\n",
      "ET                3.5\n",
      "LR                2.9\n",
      "SVM               2.45\n",
      "Winner model: Arbol\n",
      "----------------------------------------------------------\n",
      "Applying Holm p-value adjustment procedure and analysing effect size\n",
      "----------------------------------------------------------\n",
      "Comparison      Zvalue     p-value    adjusted p-value\n",
      "------------  --------  ----------  ------------------\n",
      "Arbol vs SVM  3.26056   0.00111193          0.00667155\n",
      "Arbol vs LR   2.79477   0.00519374          0.0259687\n",
      "Arbol vs ET   2.17371   0.0297272           0.118909\n",
      "Arbol vs MLP  1.75967   0.0784643           0.235393\n",
      "Arbol vs KNN  1.13861   0.254867            0.509733\n",
      "Arbol vs RF   0.465794  0.641363            0.641363\n",
      "There is a significant difference between the models: Arbol (mean: 0.486905, std: 0.281668) and SVM (mean: 0.000000, std: 0.000000) (Cohen's d=2.319222083492177, Large)\n",
      "There is a significant difference between the models: Arbol (mean: 0.486905, std: 0.281668) and LR (mean: 0.050000, std: 0.150000) (Cohen's d=1.8368352008247748, Large)\n",
      "There is a significant difference between the models: Arbol (mean: 0.486905, std: 0.281668) and ET (mean: 0.200000, std: 0.331662) (Cohen's d=0.8846189582483531, Large)\n",
      "There is a significant difference between the models: Arbol (mean: 0.486905, std: 0.281668) and MLP (mean: 0.180000, std: 0.222711) (Cohen's d=1.146703315932025, Large)\n",
      "We can't say that there is a significant difference in the performance of the models: Arbol (mean: 0.486905, std: 0.281668) and KNN (mean: 0.316667, std: 0.345205) (Cohen's d=0.5126355468689562, Large)\n",
      "We can't say that there is a significant difference in the performance of the models: Arbol (mean: 0.486905, std: 0.281668) and RF (mean: 0.426667, std: 0.293087) (Cohen's d=0.19881713387666514, Small)\n",
      "Eta squared: 0.300628 (Large)\n"
     ]
    },
    {
     "data": {
      "image/png": "[encoded data removed]",
      "text/plain": [
       "<Figure size 432x288 with 1 Axes>"
      ]
     },
     "metadata": {
      "needs_background": "light"
     },
     "output_type": "display_data"
    }
   ],
   "source": [
    "compare_methods(X_lle100,Y,listAlgorithms,listParams,listNames,metric='precision')"
   ]
  },
  {
   "cell_type": "code",
   "execution_count": 29,
   "metadata": {},
   "outputs": [
    {
     "name": "stdout",
     "output_type": "stream",
     "text": [
      "temp.csv\n",
      "['Arbol' 'SVM' 'KNN' 'LR' 'MLP' 'RF' 'ET']\n",
      "==========================================================\n",
      "Report\n",
      "==========================================================\n",
      "**********************************************************\n",
      "Mean and std\n",
      "**********************************************************\n",
      "Arbol: 0.485000 (0.252922)\n",
      "SVM: 0.000000 (0.000000)\n",
      "KNN: 0.161667 (0.206027)\n",
      "LR: 0.033333 (0.100000)\n",
      "MLP: 0.220000 (0.333400)\n",
      "RF: 0.340000 (0.266896)\n",
      "ET: 0.066667 (0.110554)\n",
      "**********************************************************\n",
      "Statistical tests\n",
      "**********************************************************\n",
      "----------------------------------------------------------\n",
      "Checking parametric conditions \n",
      "----------------------------------------------------------\n",
      "Checking independence \n",
      "Ok\n",
      "Checking normality using Shapiro-Wilk's test for normality, alpha=0.05\n",
      "W: 0.728703, p:0.000000\n",
      "The null hypothesis (normality) is rejected\n",
      "Checking heteroscedasticity using Levene's test, alpha=0.05\n",
      "W: 2.352414, p:0.041029\n",
      "The null hypothesis (heteroscedasticity) is rejected\n",
      "Conditions for a parametric test are not fulfilled, applying a non-parametric test\n",
      "----------------------------------------------------------\n",
      "Working with more than 2 algorithms\n",
      "----------------------------------------------------------\n",
      "----------------------------------------------------------\n",
      "Applying Friedman test\n",
      "----------------------------------------------------------\n",
      "F-value: 5.318182, p-value: 0.00022705714150794698\n",
      "Null hypothesis is rejected; hence, models have different performance\n",
      "Technique      Ranking\n",
      "-----------  ---------\n",
      "Arbol             6\n",
      "RF                5.45\n",
      "KNN               4.1\n",
      "MLP               3.85\n",
      "ET                3.35\n",
      "LR                2.8\n",
      "SVM               2.45\n",
      "Winner model: Arbol\n",
      "----------------------------------------------------------\n",
      "Applying Holm p-value adjustment procedure and analysing effect size\n",
      "----------------------------------------------------------\n",
      "Comparison      Zvalue      p-value    adjusted p-value\n",
      "------------  --------  -----------  ------------------\n",
      "Arbol vs SVM  3.6746    0.000238223          0.00142934\n",
      "Arbol vs LR   3.31231   0.000925274          0.00462637\n",
      "Arbol vs ET   2.74301   0.00608787           0.0243515\n",
      "Arbol vs MLP  2.22546   0.0260503            0.0781508\n",
      "Arbol vs KNN  1.96669   0.0492193            0.0984386\n",
      "Arbol vs RF   0.569304  0.56915              0.56915\n",
      "There is a significant difference between the models: Arbol (mean: 0.485000, std: 0.252922) and SVM (mean: 0.000000, std: 0.000000) (Cohen's d=2.5727151362950393, Large)\n",
      "There is a significant difference between the models: Arbol (mean: 0.485000, std: 0.252922) and LR (mean: 0.033333, std: 0.100000) (Cohen's d=2.228066324160282, Large)\n",
      "There is a significant difference between the models: Arbol (mean: 0.485000, std: 0.252922) and ET (mean: 0.066667, std: 0.110554) (Cohen's d=2.033316508902292, Large)\n",
      "There is a significant difference between the models: Arbol (mean: 0.485000, std: 0.252922) and MLP (mean: 0.220000, std: 0.333400) (Cohen's d=0.8495873793809708, Large)\n",
      "There is a significant difference between the models: Arbol (mean: 0.485000, std: 0.252922) and KNN (mean: 0.161667, std: 0.206027) (Cohen's d=1.3297864596208946, Large)\n",
      "We can't say that there is a significant difference in the performance of the models: Arbol (mean: 0.485000, std: 0.252922) and RF (mean: 0.340000, std: 0.266896) (Cohen's d=0.5290679427529282, Large)\n",
      "Eta squared: 0.375488 (Large)\n"
     ]
    },
    {
     "data": {
      "image/png": "[encoded data removed]",
      "text/plain": [
       "<Figure size 432x288 with 1 Axes>"
      ]
     },
     "metadata": {
      "needs_background": "light"
     },
     "output_type": "display_data"
    }
   ],
   "source": [
    "compare_methods(X_lle100,Y,listAlgorithms,listParams,listNames,metric='recall')"
   ]
  },
  {
   "cell_type": "code",
   "execution_count": 30,
   "metadata": {},
   "outputs": [
    {
     "name": "stdout",
     "output_type": "stream",
     "text": [
      "temp.csv\n",
      "['Arbol' 'SVM' 'KNN' 'LR' 'MLP' 'RF' 'ET']\n",
      "==========================================================\n",
      "Report\n",
      "==========================================================\n",
      "**********************************************************\n",
      "Mean and std\n",
      "**********************************************************\n",
      "Arbol: 0.486667 (0.128985)\n",
      "SVM: 0.563333 (0.144021)\n",
      "KNN: 0.554444 (0.123773)\n",
      "LR: 0.541111 (0.134628)\n",
      "MLP: 0.520000 (0.118092)\n",
      "RF: 0.530000 (0.134077)\n",
      "ET: 0.508889 (0.106435)\n",
      "**********************************************************\n",
      "Statistical tests\n",
      "**********************************************************\n",
      "----------------------------------------------------------\n",
      "Checking parametric conditions \n",
      "----------------------------------------------------------\n",
      "Checking independence \n",
      "Ok\n",
      "Checking normality using Shapiro-Wilk's test for normality, alpha=0.05\n",
      "W: 0.948490, p:0.006049\n",
      "The null hypothesis (normality) is rejected\n",
      "Checking heteroscedasticity using Levene's test, alpha=0.05\n",
      "W: 0.202689, p:0.974742\n",
      "The null hypothesis (heteroscedasticity) is accepted\n",
      "Conditions for a parametric test are not fulfilled, applying a non-parametric test\n",
      "----------------------------------------------------------\n",
      "Working with more than 2 algorithms\n",
      "----------------------------------------------------------\n",
      "----------------------------------------------------------\n",
      "Applying Friedman test\n",
      "----------------------------------------------------------\n",
      "F-value: 0.576287, p-value: 0.747486477810169\n",
      "Null hypothesis is accepted; hence, we can't say that there is a significant difference in the performance of the models\n",
      "----------------------------------------------------------\n",
      "Analysing effect size\n",
      "----------------------------------------------------------\n",
      "We take the model with the best mean (SVM, mean: 0.563333) and compare it with the other models: \n",
      "Comparing effect size of SVM and Arbol: Cohen's d=0.5320211809460798, Large\n",
      "Comparing effect size of SVM and KNN: Cohen's d=0.06280011818644436, Small\n",
      "Comparing effect size of SVM and LR: Cohen's d=0.15122900366482836, Small\n",
      "Comparing effect size of SVM and MLP: Cohen's d=0.31215542272526586, Medium\n",
      "Comparing effect size of SVM and RF: Cohen's d=0.22727707528407687, Medium\n",
      "Comparing effect size of SVM and ET: Cohen's d=0.4078850948567558, Medium\n",
      "Eta squared: 0.035928 (Medium)\n"
     ]
    },
    {
     "data": {
      "image/png": "[encoded data removed]",
      "text/plain": [
       "<Figure size 432x288 with 1 Axes>"
      ]
     },
     "metadata": {
      "needs_background": "light"
     },
     "output_type": "display_data"
    }
   ],
   "source": [
    "compare_methods(X_lle100,Y,listAlgorithms,listParams,listNames,metric='accuracy')"
   ]
  },
  {
   "cell_type": "markdown",
   "metadata": {},
   "source": [
    "# MDS"
   ]
  },
  {
   "cell_type": "code",
   "execution_count": 31,
   "metadata": {},
   "outputs": [
    {
     "name": "stdout",
     "output_type": "stream",
     "text": [
      "temp.csv\n",
      "['Arbol' 'SVM' 'KNN' 'LR' 'MLP' 'RF' 'ET']\n",
      "==========================================================\n",
      "Report\n",
      "==========================================================\n",
      "**********************************************************\n",
      "Mean and std\n",
      "**********************************************************\n",
      "Arbol: 0.536905 (0.103666)\n",
      "SVM: 0.489405 (0.129855)\n",
      "KNN: 0.453452 (0.098786)\n",
      "LR: 0.490595 (0.051006)\n",
      "MLP: 0.460238 (0.068595)\n",
      "RF: 0.518571 (0.118379)\n",
      "ET: 0.541190 (0.096938)\n",
      "**********************************************************\n",
      "Statistical tests\n",
      "**********************************************************\n",
      "----------------------------------------------------------\n",
      "Checking parametric conditions \n",
      "----------------------------------------------------------\n",
      "Checking independence \n",
      "Ok\n",
      "Checking normality using Shapiro-Wilk's test for normality, alpha=0.05\n",
      "W: 0.956580, p:0.016268\n",
      "The null hypothesis (normality) is rejected\n",
      "Checking heteroscedasticity using Levene's test, alpha=0.05\n",
      "W: 1.359639, p:0.244786\n",
      "The null hypothesis (heteroscedasticity) is rejected\n",
      "Conditions for a parametric test are not fulfilled, applying a non-parametric test\n",
      "----------------------------------------------------------\n",
      "Working with more than 2 algorithms\n",
      "----------------------------------------------------------\n",
      "----------------------------------------------------------\n",
      "Applying Friedman test\n",
      "----------------------------------------------------------\n",
      "F-value: 0.923213, p-value: 0.48574452014595093\n",
      "Null hypothesis is rejected; hence, models have different performance\n",
      "Technique      Ranking\n",
      "-----------  ---------\n",
      "Arbol             4.8\n",
      "ET                4.4\n",
      "RF                4.4\n",
      "SVM               4.1\n",
      "LR                4.05\n",
      "KNN               3.35\n",
      "MLP               2.9\n",
      "Winner model: Arbol\n",
      "----------------------------------------------------------\n",
      "Applying Holm p-value adjustment procedure and analysing effect size\n",
      "----------------------------------------------------------\n",
      "Comparison      Zvalue    p-value    adjusted p-value\n",
      "------------  --------  ---------  ------------------\n",
      "Arbol vs MLP  1.96669   0.0492193            0.295316\n",
      "Arbol vs KNN  1.50089   0.133383             0.666917\n",
      "Arbol vs LR   0.776324  0.437558             1\n",
      "Arbol vs SVM  0.724569  0.468717             1\n",
      "Arbol vs RF   0.414039  0.678845             1\n",
      "Arbol vs ET   0.414039  0.678845             1\n",
      "There is a significant difference between the models: Arbol (mean: 0.536905, std: 0.103666) and MLP (mean: 0.460238, std: 0.068595) (Cohen's d=0.827470082214626, Large)\n",
      "We can't say that there is a significant difference in the performance of the models: Arbol (mean: 0.536905, std: 0.103666) and KNN (mean: 0.453452, std: 0.098786) (Cohen's d=0.7818846124930308, Large)\n",
      "We can't say that there is a significant difference in the performance of the models: Arbol (mean: 0.536905, std: 0.103666) and LR (mean: 0.490595, std: 0.051006) (Cohen's d=0.537768318856646, Large)\n",
      "We can't say that there is a significant difference in the performance of the models: Arbol (mean: 0.536905, std: 0.103666) and SVM (mean: 0.489405, std: 0.129855) (Cohen's d=0.38353477831667976, Medium)\n",
      "We can't say that there is a significant difference in the performance of the models: Arbol (mean: 0.536905, std: 0.103666) and RF (mean: 0.518571, std: 0.118379) (Cohen's d=0.15631479312359514, Small)\n",
      "We can't say that there is a significant difference in the performance of the models: Arbol (mean: 0.536905, std: 0.103666) and ET (mean: 0.541190, std: 0.096938) (Cohen's d=0.04051279520167068, Small)\n",
      "Eta squared: 0.097299 (Large)\n"
     ]
    },
    {
     "data": {
      "image/png": "[encoded data removed]",
      "text/plain": [
       "<Figure size 432x288 with 1 Axes>"
      ]
     },
     "metadata": {
      "needs_background": "light"
     },
     "output_type": "display_data"
    }
   ],
   "source": [
    "clf = manifold.MDS(n_components=2, n_init=1, max_iter=100)\n",
    "X_mds2 = clf.fit_transform(X)\n",
    "compare_methods(X_mds2,Y,listAlgorithms,listParams,listNames,metric='auroc')"
   ]
  },
  {
   "cell_type": "code",
   "execution_count": 32,
   "metadata": {},
   "outputs": [
    {
     "name": "stdout",
     "output_type": "stream",
     "text": [
      "temp.csv\n",
      "['Arbol' 'SVM' 'KNN' 'LR' 'MLP' 'RF' 'ET']\n",
      "==========================================================\n",
      "Report\n",
      "==========================================================\n",
      "**********************************************************\n",
      "Mean and std\n",
      "**********************************************************\n",
      "Arbol: 0.480000 (0.250422)\n",
      "SVM: 0.383333 (0.211476)\n",
      "KNN: 0.291667 (0.305619)\n",
      "LR: 0.203333 (0.220832)\n",
      "MLP: 0.060000 (0.180000)\n",
      "RF: 0.448333 (0.305728)\n",
      "ET: 0.283333 (0.365529)\n",
      "**********************************************************\n",
      "Statistical tests\n",
      "**********************************************************\n",
      "----------------------------------------------------------\n",
      "Checking parametric conditions \n",
      "----------------------------------------------------------\n",
      "Checking independence \n",
      "Ok\n",
      "Checking normality using Shapiro-Wilk's test for normality, alpha=0.05\n",
      "W: 0.849499, p:0.000001\n",
      "The null hypothesis (normality) is rejected\n",
      "Checking heteroscedasticity using Levene's test, alpha=0.05\n",
      "W: 1.082131, p:0.382821\n",
      "The null hypothesis (heteroscedasticity) is rejected\n",
      "Conditions for a parametric test are not fulfilled, applying a non-parametric test\n",
      "----------------------------------------------------------\n",
      "Working with more than 2 algorithms\n",
      "----------------------------------------------------------\n",
      "----------------------------------------------------------\n",
      "Applying Friedman test\n",
      "----------------------------------------------------------\n",
      "F-value: 2.400136, p-value: 0.03962087711543505\n",
      "Null hypothesis is rejected; hence, models have different performance\n",
      "Technique      Ranking\n",
      "-----------  ---------\n",
      "Arbol             5.2\n",
      "RF                4.75\n",
      "SVM               4.75\n",
      "ET                3.8\n",
      "KNN               3.8\n",
      "LR                3.4\n",
      "MLP               2.3\n",
      "Winner model: Arbol\n",
      "----------------------------------------------------------\n",
      "Applying Holm p-value adjustment procedure and analysing effect size\n",
      "----------------------------------------------------------\n",
      "Comparison      Zvalue     p-value    adjusted p-value\n",
      "------------  --------  ----------  ------------------\n",
      "Arbol vs MLP  3.00179   0.00268402           0.0161041\n",
      "Arbol vs LR   1.86318   0.0624374            0.312187\n",
      "Arbol vs KNN  1.44914   0.147299             0.589197\n",
      "Arbol vs ET   1.44914   0.147299             0.589197\n",
      "Arbol vs SVM  0.465794  0.641363             1\n",
      "Arbol vs RF   0.465794  0.641363             1\n",
      "There is a significant difference between the models: Arbol (mean: 0.480000, std: 0.250422) and MLP (mean: 0.060000, std: 0.180000) (Cohen's d=1.8271319642963038, Large)\n",
      "There is a significant difference between the models: Arbol (mean: 0.480000, std: 0.250422) and LR (mean: 0.203333, std: 0.220832) (Cohen's d=1.1117290107763556, Large)\n",
      "We can't say that there is a significant difference in the performance of the models: Arbol (mean: 0.480000, std: 0.250422) and KNN (mean: 0.291667, std: 0.305619) (Cohen's d=0.6395031300197844, Large)\n",
      "We can't say that there is a significant difference in the performance of the models: Arbol (mean: 0.480000, std: 0.250422) and ET (mean: 0.283333, std: 0.365529) (Cohen's d=0.5955007034259986, Large)\n",
      "We can't say that there is a significant difference in the performance of the models: Arbol (mean: 0.480000, std: 0.250422) and SVM (mean: 0.383333, std: 0.211476) (Cohen's d=0.3956794272159419, Medium)\n",
      "We can't say that there is a significant difference in the performance of the models: Arbol (mean: 0.480000, std: 0.250422) and RF (mean: 0.448333, std: 0.305728) (Cohen's d=0.10750412320052355, Small)\n",
      "Eta squared: 0.201269 (Large)\n"
     ]
    },
    {
     "data": {
      "image/png": "[encoded data removed]",
      "text/plain": [
       "<Figure size 432x288 with 1 Axes>"
      ]
     },
     "metadata": {
      "needs_background": "light"
     },
     "output_type": "display_data"
    }
   ],
   "source": [
    "compare_methods(X_mds2,Y,listAlgorithms,listParams,listNames,metric='precision')"
   ]
  },
  {
   "cell_type": "code",
   "execution_count": 33,
   "metadata": {},
   "outputs": [
    {
     "name": "stdout",
     "output_type": "stream",
     "text": [
      "temp.csv\n",
      "['Arbol' 'SVM' 'KNN' 'LR' 'MLP' 'RF' 'ET']\n",
      "==========================================================\n",
      "Report\n",
      "==========================================================\n",
      "**********************************************************\n",
      "Mean and std\n",
      "**********************************************************\n",
      "Arbol: 0.381667 (0.201170)\n",
      "SVM: 0.311667 (0.202217)\n",
      "KNN: 0.181667 (0.175823)\n",
      "LR: 0.158333 (0.176580)\n",
      "MLP: 0.050000 (0.150000)\n",
      "RF: 0.331667 (0.200062)\n",
      "ET: 0.166667 (0.235702)\n",
      "**********************************************************\n",
      "Statistical tests\n",
      "**********************************************************\n",
      "----------------------------------------------------------\n",
      "Checking parametric conditions \n",
      "----------------------------------------------------------\n",
      "Checking independence \n",
      "Ok\n",
      "Checking normality using Shapiro-Wilk's test for normality, alpha=0.05\n",
      "W: 0.846336, p:0.000001\n",
      "The null hypothesis (normality) is rejected\n",
      "Checking heteroscedasticity using Levene's test, alpha=0.05\n",
      "W: 0.718910, p:0.635803\n",
      "The null hypothesis (heteroscedasticity) is accepted\n",
      "Conditions for a parametric test are not fulfilled, applying a non-parametric test\n",
      "----------------------------------------------------------\n",
      "Working with more than 2 algorithms\n",
      "----------------------------------------------------------\n",
      "----------------------------------------------------------\n",
      "Applying Friedman test\n",
      "----------------------------------------------------------\n",
      "F-value: 3.362031, p-value: 0.006887296436112966\n",
      "Null hypothesis is rejected; hence, models have different performance\n",
      "Technique      Ranking\n",
      "-----------  ---------\n",
      "Arbol             5.5\n",
      "RF                5\n",
      "SVM               4.9\n",
      "KNN               3.7\n",
      "LR                3.2\n",
      "ET                3.15\n",
      "MLP               2.55\n",
      "Winner model: Arbol\n",
      "----------------------------------------------------------\n",
      "Applying Holm p-value adjustment procedure and analysing effect size\n",
      "----------------------------------------------------------\n",
      "Comparison      Zvalue     p-value    adjusted p-value\n",
      "------------  --------  ----------  ------------------\n",
      "Arbol vs MLP  3.05354   0.00226158           0.0135695\n",
      "Arbol vs ET   2.43248   0.0149958            0.0749789\n",
      "Arbol vs LR   2.38073   0.0172786            0.0749789\n",
      "Arbol vs KNN  1.86318   0.0624374            0.187312\n",
      "Arbol vs SVM  0.621059  0.534561             1\n",
      "Arbol vs RF   0.517549  0.604773             1\n",
      "There is a significant difference between the models: Arbol (mean: 0.381667, std: 0.201170) and MLP (mean: 0.050000, std: 0.150000) (Cohen's d=1.7732629809312614, Large)\n",
      "There is a significant difference between the models: Arbol (mean: 0.381667, std: 0.201170) and ET (mean: 0.166667, std: 0.235702) (Cohen's d=0.9308561117353269, Large)\n",
      "There is a significant difference between the models: Arbol (mean: 0.381667, std: 0.201170) and LR (mean: 0.158333, std: 0.176580) (Cohen's d=1.119390722523649, Large)\n",
      "There is a significant difference between the models: Arbol (mean: 0.381667, std: 0.201170) and KNN (mean: 0.181667, std: 0.175823) (Cohen's d=1.004310113747856, Large)\n",
      "We can't say that there is a significant difference in the performance of the models: Arbol (mean: 0.381667, std: 0.201170) and SVM (mean: 0.311667, std: 0.202217) (Cohen's d=0.3292500557032721, Medium)\n",
      "We can't say that there is a significant difference in the performance of the models: Arbol (mean: 0.381667, std: 0.201170) and RF (mean: 0.331667, std: 0.200062) (Cohen's d=0.23644128078685486, Medium)\n",
      "Eta squared: 0.242612 (Large)\n"
     ]
    },
    {
     "data": {
      "image/png": "[encoded data removed]",
      "text/plain": [
       "<Figure size 432x288 with 1 Axes>"
      ]
     },
     "metadata": {
      "needs_background": "light"
     },
     "output_type": "display_data"
    }
   ],
   "source": [
    "compare_methods(X_mds2,Y,listAlgorithms,listParams,listNames,metric='recall')"
   ]
  },
  {
   "cell_type": "code",
   "execution_count": 34,
   "metadata": {},
   "outputs": [
    {
     "name": "stdout",
     "output_type": "stream",
     "text": [
      "temp.csv\n",
      "['Arbol' 'SVM' 'KNN' 'LR' 'MLP' 'RF' 'ET']\n",
      "==========================================================\n",
      "Report\n",
      "==========================================================\n",
      "**********************************************************\n",
      "Mean and std\n",
      "**********************************************************\n",
      "Arbol: 0.554444 (0.123773)\n",
      "SVM: 0.532222 (0.140409)\n",
      "KNN: 0.488889 (0.110554)\n",
      "LR: 0.507778 (0.121721)\n",
      "MLP: 0.530000 (0.118222)\n",
      "RF: 0.545556 (0.101647)\n",
      "ET: 0.575556 (0.134330)\n",
      "**********************************************************\n",
      "Statistical tests\n",
      "**********************************************************\n",
      "----------------------------------------------------------\n",
      "Checking parametric conditions \n",
      "----------------------------------------------------------\n",
      "Checking independence \n",
      "Ok\n",
      "Checking normality using Shapiro-Wilk's test for normality, alpha=0.05\n",
      "W: 0.954515, p:0.012585\n",
      "The null hypothesis (normality) is rejected\n",
      "Checking heteroscedasticity using Levene's test, alpha=0.05\n",
      "W: 0.847293, p:0.538481\n",
      "The null hypothesis (heteroscedasticity) is accepted\n",
      "Conditions for a parametric test are not fulfilled, applying a non-parametric test\n",
      "----------------------------------------------------------\n",
      "Working with more than 2 algorithms\n",
      "----------------------------------------------------------\n",
      "----------------------------------------------------------\n",
      "Applying Friedman test\n",
      "----------------------------------------------------------\n",
      "F-value: 0.475465, p-value: 0.8235927243874541\n",
      "Null hypothesis is accepted; hence, we can't say that there is a significant difference in the performance of the models\n",
      "----------------------------------------------------------\n",
      "Analysing effect size\n",
      "----------------------------------------------------------\n",
      "We take the model with the best mean (ET, mean: 0.575556) and compare it with the other models: \n",
      "Comparing effect size of ET and Arbol: Cohen's d=0.15506257875532042, Small\n",
      "Comparing effect size of ET and SVM: Cohen's d=0.2991896854445528, Medium\n",
      "Comparing effect size of ET and KNN: Cohen's d=0.668353226402245, Large\n",
      "Comparing effect size of ET and LR: Cohen's d=0.5016335040356072, Large\n",
      "Comparing effect size of ET and MLP: Cohen's d=0.3415546782834571, Medium\n",
      "Comparing effect size of ET and RF: Cohen's d=0.23893389490492048, Medium\n",
      "Eta squared: 0.045853 (Medium)\n"
     ]
    },
    {
     "data": {
      "image/png": "[encoded data removed]",
      "text/plain": [
       "<Figure size 432x288 with 1 Axes>"
      ]
     },
     "metadata": {
      "needs_background": "light"
     },
     "output_type": "display_data"
    }
   ],
   "source": [
    "compare_methods(X_mds2,Y,listAlgorithms,listParams,listNames,metric='accuracy')"
   ]
  },
  {
   "cell_type": "code",
   "execution_count": 35,
   "metadata": {
    "scrolled": true
   },
   "outputs": [
    {
     "name": "stdout",
     "output_type": "stream",
     "text": [
      "temp.csv\n",
      "['Arbol' 'SVM' 'KNN' 'LR' 'MLP' 'RF' 'ET']\n",
      "==========================================================\n",
      "Report\n",
      "==========================================================\n",
      "**********************************************************\n",
      "Mean and std\n",
      "**********************************************************\n",
      "Arbol: 0.501548 (0.116812)\n",
      "SVM: 0.477500 (0.059634)\n",
      "KNN: 0.522619 (0.149218)\n",
      "LR: 0.441190 (0.153457)\n",
      "MLP: 0.502500 (0.007500)\n",
      "RF: 0.467381 (0.182358)\n",
      "ET: 0.529048 (0.128120)\n",
      "**********************************************************\n",
      "Statistical tests\n",
      "**********************************************************\n",
      "----------------------------------------------------------\n",
      "Checking parametric conditions \n",
      "----------------------------------------------------------\n",
      "Checking independence \n",
      "Ok\n",
      "Checking normality using Shapiro-Wilk's test for normality, alpha=0.05\n",
      "W: 0.939395, p:0.002099\n",
      "The null hypothesis (normality) is rejected\n",
      "Checking heteroscedasticity using Levene's test, alpha=0.05\n",
      "W: 4.009822, p:0.001834\n",
      "The null hypothesis (heteroscedasticity) is rejected\n",
      "Conditions for a parametric test are not fulfilled, applying a non-parametric test\n",
      "----------------------------------------------------------\n",
      "Working with more than 2 algorithms\n",
      "----------------------------------------------------------\n",
      "----------------------------------------------------------\n",
      "Applying Friedman test\n",
      "----------------------------------------------------------\n",
      "F-value: 0.187022, p-value: 0.9792263182716784\n",
      "Null hypothesis is accepted; hence, we can't say that there is a significant difference in the performance of the models\n",
      "----------------------------------------------------------\n",
      "Analysing effect size\n",
      "----------------------------------------------------------\n",
      "We take the model with the best mean (ET, mean: 0.529048) and compare it with the other models: \n",
      "Comparing effect size of ET and Arbol: Cohen's d=0.21280182036332196, Medium\n",
      "Comparing effect size of ET and SVM: Cohen's d=0.48937871259508, Medium\n",
      "Comparing effect size of ET and KNN: Cohen's d=0.04385347938901608, Small\n",
      "Comparing effect size of ET and LR: Cohen's d=0.5896302618682598, Large\n",
      "Comparing effect size of ET and MLP: Cohen's d=0.2775249211557014, Medium\n",
      "Comparing effect size of ET and RF: Cohen's d=0.3712306364213022, Medium\n",
      "Eta squared: 0.049799 (Medium)\n"
     ]
    },
    {
     "data": {
      "image/png": "[encoded data removed]",
      "text/plain": [
       "<Figure size 432x288 with 1 Axes>"
      ]
     },
     "metadata": {
      "needs_background": "light"
     },
     "output_type": "display_data"
    }
   ],
   "source": [
    "clf = manifold.MDS(n_components=10, n_init=1, max_iter=100)\n",
    "X_mds10 = clf.fit_transform(X)\n",
    "compare_methods(X_mds10,Y,listAlgorithms,listParams,listNames,metric='auroc')"
   ]
  },
  {
   "cell_type": "code",
   "execution_count": 36,
   "metadata": {},
   "outputs": [
    {
     "name": "stdout",
     "output_type": "stream",
     "text": [
      "temp.csv\n",
      "['Arbol' 'SVM' 'KNN' 'LR' 'MLP' 'RF' 'ET']\n",
      "==========================================================\n",
      "Report\n",
      "==========================================================\n",
      "**********************************************************\n",
      "Mean and std\n",
      "**********************************************************\n",
      "Arbol: 0.335000 (0.220000)\n",
      "SVM: 0.050000 (0.150000)\n",
      "KNN: 0.490000 (0.395545)\n",
      "LR: 0.407500 (0.332174)\n",
      "MLP: 0.050000 (0.150000)\n",
      "RF: 0.393333 (0.262276)\n",
      "ET: 0.291667 (0.348110)\n",
      "**********************************************************\n",
      "Statistical tests\n",
      "**********************************************************\n",
      "----------------------------------------------------------\n",
      "Checking parametric conditions \n",
      "----------------------------------------------------------\n",
      "Checking independence \n",
      "Ok\n",
      "Checking normality using Shapiro-Wilk's test for normality, alpha=0.05\n",
      "W: 0.815085, p:0.000000\n",
      "The null hypothesis (normality) is rejected\n",
      "Checking heteroscedasticity using Levene's test, alpha=0.05\n",
      "W: 2.974579, p:0.012733\n",
      "The null hypothesis (heteroscedasticity) is rejected\n",
      "Conditions for a parametric test are not fulfilled, applying a non-parametric test\n",
      "----------------------------------------------------------\n",
      "Working with more than 2 algorithms\n",
      "----------------------------------------------------------\n",
      "----------------------------------------------------------\n",
      "Applying Friedman test\n",
      "----------------------------------------------------------\n",
      "F-value: 3.301684, p-value: 0.007681316871331001\n",
      "Null hypothesis is rejected; hence, models have different performance\n",
      "Technique      Ranking\n",
      "-----------  ---------\n",
      "KNN               5.1\n",
      "Arbol             4.8\n",
      "RF                4.65\n",
      "LR                4.65\n",
      "ET                3.9\n",
      "SVM               2.5\n",
      "MLP               2.4\n",
      "Winner model: KNN\n",
      "----------------------------------------------------------\n",
      "Applying Holm p-value adjustment procedure and analysing effect size\n",
      "----------------------------------------------------------\n",
      "Comparison      Zvalue     p-value    adjusted p-value\n",
      "------------  --------  ----------  ------------------\n",
      "KNN vs MLP    2.79477   0.00519374           0.0311624\n",
      "KNN vs SVM    2.69126   0.00711836           0.0355918\n",
      "KNN vs ET     1.24212   0.214193             0.856772\n",
      "KNN vs LR     0.465794  0.641363             1\n",
      "KNN vs RF     0.465794  0.641363             1\n",
      "KNN vs Arbol  0.31053   0.756158             1\n",
      "There is a significant difference between the models: KNN (mean: 0.490000, std: 0.395545) and MLP (mean: 0.050000, std: 0.150000) (Cohen's d=1.395456607414382, Large)\n",
      "There is a significant difference between the models: KNN (mean: 0.490000, std: 0.395545) and SVM (mean: 0.050000, std: 0.150000) (Cohen's d=1.395456607414382, Large)\n",
      "We can't say that there is a significant difference in the performance of the models: KNN (mean: 0.490000, std: 0.395545) and ET (mean: 0.291667, std: 0.348110) (Cohen's d=0.505003033963955, Large)\n",
      "We can't say that there is a significant difference in the performance of the models: KNN (mean: 0.490000, std: 0.395545) and LR (mean: 0.407500, std: 0.332174) (Cohen's d=0.21428967439481036, Medium)\n",
      "We can't say that there is a significant difference in the performance of the models: KNN (mean: 0.490000, std: 0.395545) and RF (mean: 0.393333, std: 0.262276) (Cohen's d=0.2732662214437826, Medium)\n",
      "We can't say that there is a significant difference in the performance of the models: KNN (mean: 0.490000, std: 0.395545) and Arbol (mean: 0.335000, std: 0.220000) (Cohen's d=0.45945615898893827, Medium)\n",
      "Eta squared: 0.248259 (Large)\n"
     ]
    },
    {
     "data": {
      "image/png": "[encoded data removed]",
      "text/plain": [
       "<Figure size 432x288 with 1 Axes>"
      ]
     },
     "metadata": {
      "needs_background": "light"
     },
     "output_type": "display_data"
    }
   ],
   "source": [
    "compare_methods(X_mds10,Y,listAlgorithms,listParams,listNames,metric='precision')"
   ]
  },
  {
   "cell_type": "code",
   "execution_count": 37,
   "metadata": {},
   "outputs": [
    {
     "name": "stdout",
     "output_type": "stream",
     "text": [
      "temp.csv\n",
      "['Arbol' 'SVM' 'KNN' 'LR' 'MLP' 'RF' 'ET']\n",
      "==========================================================\n",
      "Report\n",
      "==========================================================\n",
      "**********************************************************\n",
      "Mean and std\n",
      "**********************************************************\n",
      "Arbol: 0.481667 (0.331197)\n",
      "SVM: 0.020000 (0.060000)\n",
      "KNN: 0.265000 (0.239959)\n",
      "LR: 0.303333 (0.292575)\n",
      "MLP: 0.025000 (0.075000)\n",
      "RF: 0.386667 (0.329629)\n",
      "ET: 0.203333 (0.255799)\n",
      "**********************************************************\n",
      "Statistical tests\n",
      "**********************************************************\n",
      "----------------------------------------------------------\n",
      "Checking parametric conditions \n",
      "----------------------------------------------------------\n",
      "Checking independence \n",
      "Ok\n",
      "Checking normality using Shapiro-Wilk's test for normality, alpha=0.05\n",
      "W: 0.784968, p:0.000000\n",
      "The null hypothesis (normality) is rejected\n",
      "Checking heteroscedasticity using Levene's test, alpha=0.05\n",
      "W: 2.408301, p:0.036956\n",
      "The null hypothesis (heteroscedasticity) is rejected\n",
      "Conditions for a parametric test are not fulfilled, applying a non-parametric test\n",
      "----------------------------------------------------------\n",
      "Working with more than 2 algorithms\n",
      "----------------------------------------------------------\n",
      "----------------------------------------------------------\n",
      "Applying Friedman test\n",
      "----------------------------------------------------------\n",
      "F-value: 5.854111, p-value: 9.374843964371493e-05\n",
      "Null hypothesis is rejected; hence, models have different performance\n",
      "Technique      Ranking\n",
      "-----------  ---------\n",
      "Arbol             5.8\n",
      "RF                5.2\n",
      "LR                4.6\n",
      "KNN               4.35\n",
      "ET                3.35\n",
      "MLP               2.4\n",
      "SVM               2.3\n",
      "Winner model: Arbol\n",
      "----------------------------------------------------------\n",
      "Applying Holm p-value adjustment procedure and analysing effect size\n",
      "----------------------------------------------------------\n",
      "Comparison      Zvalue      p-value    adjusted p-value\n",
      "------------  --------  -----------  ------------------\n",
      "Arbol vs SVM  3.62284   0.000291381          0.00174829\n",
      "Arbol vs MLP  3.51933   0.000432631          0.00216316\n",
      "Arbol vs ET   2.53599   0.011213             0.0448519\n",
      "Arbol vs KNN  1.50089   0.133383             0.40015\n",
      "Arbol vs LR   1.24212   0.214193             0.428386\n",
      "Arbol vs RF   0.621059  0.534561             0.534561\n",
      "There is a significant difference between the models: Arbol (mean: 0.481667, std: 0.331197) and SVM (mean: 0.020000, std: 0.060000) (Cohen's d=1.8402032284587915, Large)\n",
      "There is a significant difference between the models: Arbol (mean: 0.481667, std: 0.331197) and MLP (mean: 0.025000, std: 0.075000) (Cohen's d=1.8042201336046575, Large)\n",
      "There is a significant difference between the models: Arbol (mean: 0.481667, std: 0.331197) and ET (mean: 0.203333, std: 0.255799) (Cohen's d=0.8923339141925923, Large)\n",
      "There is a significant difference between the models: Arbol (mean: 0.481667, std: 0.331197) and KNN (mean: 0.265000, std: 0.239959) (Cohen's d=0.7107493009026468, Large)\n",
      "There is a significant difference between the models: Arbol (mean: 0.481667, std: 0.331197) and LR (mean: 0.303333, std: 0.292575) (Cohen's d=0.5414108114341505, Large)\n",
      "We can't say that there is a significant difference in the performance of the models: Arbol (mean: 0.481667, std: 0.331197) and RF (mean: 0.386667, std: 0.329629) (Cohen's d=0.2727633540964687, Medium)\n",
      "Eta squared: 0.292712 (Large)\n"
     ]
    },
    {
     "data": {
      "image/png": "[encoded data removed]",
      "text/plain": [
       "<Figure size 432x288 with 1 Axes>"
      ]
     },
     "metadata": {
      "needs_background": "light"
     },
     "output_type": "display_data"
    }
   ],
   "source": [
    "compare_methods(X_mds10,Y,listAlgorithms,listParams,listNames,metric='recall')"
   ]
  },
  {
   "cell_type": "code",
   "execution_count": 38,
   "metadata": {},
   "outputs": [
    {
     "name": "stdout",
     "output_type": "stream",
     "text": [
      "temp.csv\n",
      "['Arbol' 'SVM' 'KNN' 'LR' 'MLP' 'RF' 'ET']\n",
      "==========================================================\n",
      "Report\n",
      "==========================================================\n",
      "**********************************************************\n",
      "Mean and std\n",
      "**********************************************************\n",
      "Arbol: 0.455556 (0.101835)\n",
      "SVM: 0.541111 (0.159788)\n",
      "KNN: 0.543333 (0.154316)\n",
      "LR: 0.421111 (0.120539)\n",
      "MLP: 0.563333 (0.144021)\n",
      "RF: 0.433333 (0.172204)\n",
      "ET: 0.551111 (0.157072)\n",
      "**********************************************************\n",
      "Statistical tests\n",
      "**********************************************************\n",
      "----------------------------------------------------------\n",
      "Checking parametric conditions \n",
      "----------------------------------------------------------\n",
      "Checking independence \n",
      "Ok\n",
      "Checking normality using Shapiro-Wilk's test for normality, alpha=0.05\n",
      "W: 0.964644, p:0.045421\n",
      "The null hypothesis (normality) is rejected\n",
      "Checking heteroscedasticity using Levene's test, alpha=0.05\n",
      "W: 0.594010, p:0.733923\n",
      "The null hypothesis (heteroscedasticity) is accepted\n",
      "Conditions for a parametric test are not fulfilled, applying a non-parametric test\n",
      "----------------------------------------------------------\n",
      "Working with more than 2 algorithms\n",
      "----------------------------------------------------------\n",
      "----------------------------------------------------------\n",
      "Applying Friedman test\n",
      "----------------------------------------------------------\n",
      "F-value: 1.353328, p-value: 0.25020875401998155\n",
      "Null hypothesis is rejected; hence, models have different performance\n",
      "Technique      Ranking\n",
      "-----------  ---------\n",
      "MLP               4.8\n",
      "SVM               4.6\n",
      "ET                4.55\n",
      "KNN               4.5\n",
      "Arbol             3.45\n",
      "RF                3.05\n",
      "LR                3.05\n",
      "Winner model: MLP\n",
      "----------------------------------------------------------\n",
      "Applying Holm p-value adjustment procedure and analysing effect size\n",
      "----------------------------------------------------------\n",
      "Comparison      Zvalue    p-value    adjusted p-value\n",
      "------------  --------  ---------  ------------------\n",
      "MLP vs LR     1.81142   0.0700755            0.420453\n",
      "MLP vs RF     1.81142   0.0700755            0.420453\n",
      "MLP vs Arbol  1.39738   0.162299             0.649194\n",
      "MLP vs KNN    0.31053   0.756158             1\n",
      "MLP vs ET     0.258775  0.795809             1\n",
      "MLP vs SVM    0.20702   0.835994             1\n",
      "There is a significant difference between the models: MLP (mean: 0.563333, std: 0.144021) and LR (mean: 0.421111, std: 0.120539) (Cohen's d=1.0159939036138985, Large)\n",
      "There is a significant difference between the models: MLP (mean: 0.563333, std: 0.144021) and RF (mean: 0.433333, std: 0.172204) (Cohen's d=0.7769271432975574, Large)\n",
      "We can't say that there is a significant difference in the performance of the models: MLP (mean: 0.563333, std: 0.144021) and Arbol (mean: 0.455556, std: 0.101835) (Cohen's d=0.8197833617051308, Large)\n",
      "We can't say that there is a significant difference in the performance of the models: MLP (mean: 0.563333, std: 0.144021) and KNN (mean: 0.543333, std: 0.154316) (Cohen's d=0.12712041927836018, Small)\n",
      "We can't say that there is a significant difference in the performance of the models: MLP (mean: 0.563333, std: 0.144021) and ET (mean: 0.551111, std: 0.157072) (Cohen's d=0.07694733047870729, Small)\n",
      "We can't say that there is a significant difference in the performance of the models: MLP (mean: 0.563333, std: 0.144021) and SVM (mean: 0.541111, std: 0.159788) (Cohen's d=0.13859733195774096, Small)\n",
      "Eta squared: 0.132588 (Large)\n"
     ]
    },
    {
     "data": {
      "image/png": "[encoded data removed]",
      "text/plain": [
       "<Figure size 432x288 with 1 Axes>"
      ]
     },
     "metadata": {
      "needs_background": "light"
     },
     "output_type": "display_data"
    }
   ],
   "source": [
    "compare_methods(X_mds10,Y,listAlgorithms,listParams,listNames,metric='accuracy')"
   ]
  },
  {
   "cell_type": "code",
   "execution_count": 39,
   "metadata": {},
   "outputs": [
    {
     "name": "stdout",
     "output_type": "stream",
     "text": [
      "temp.csv\n",
      "['Arbol' 'SVM' 'KNN' 'LR' 'MLP' 'RF' 'ET']\n",
      "==========================================================\n",
      "Report\n",
      "==========================================================\n",
      "**********************************************************\n",
      "Mean and std\n",
      "**********************************************************\n",
      "Arbol: 0.555357 (0.165813)\n",
      "SVM: 0.533571 (0.087748)\n",
      "KNN: 0.516786 (0.181249)\n",
      "LR: 0.571786 (0.114470)\n",
      "MLP: 0.505833 (0.143406)\n",
      "RF: 0.482738 (0.104055)\n",
      "ET: 0.456905 (0.128604)\n",
      "**********************************************************\n",
      "Statistical tests\n",
      "**********************************************************\n",
      "----------------------------------------------------------\n",
      "Checking parametric conditions \n",
      "----------------------------------------------------------\n",
      "Checking independence \n",
      "Ok\n",
      "Checking normality using Shapiro-Wilk's test for normality, alpha=0.05\n",
      "W: 0.972874, p:0.132479\n",
      "The null hypothesis (normality) is rejected\n",
      "Checking heteroscedasticity using Levene's test, alpha=0.05\n",
      "W: 0.944705, p:0.469827\n",
      "The null hypothesis (heteroscedasticity) is rejected\n",
      "Conditions for a parametric test are not fulfilled, applying a non-parametric test\n",
      "----------------------------------------------------------\n",
      "Working with more than 2 algorithms\n",
      "----------------------------------------------------------\n",
      "----------------------------------------------------------\n",
      "Applying Friedman test\n",
      "----------------------------------------------------------\n",
      "F-value: 0.541840, p-value: 0.7740279878790417\n",
      "Null hypothesis is accepted; hence, we can't say that there is a significant difference in the performance of the models\n",
      "----------------------------------------------------------\n",
      "Analysing effect size\n",
      "----------------------------------------------------------\n",
      "We take the model with the best mean (LR, mean: 0.571786) and compare it with the other models: \n",
      "Comparing effect size of LR and Arbol: Cohen's d=0.10939247254640741, Small\n",
      "Comparing effect size of LR and SVM: Cohen's d=0.3554646781123111, Medium\n",
      "Comparing effect size of LR and KNN: Cohen's d=0.34421903861069786, Medium\n",
      "Comparing effect size of LR and MLP: Cohen's d=0.4822285962571066, Medium\n",
      "Comparing effect size of LR and RF: Cohen's d=0.7722871882953675, Large\n",
      "Comparing effect size of LR and ET: Cohen's d=0.8952135295640716, Large\n",
      "Eta squared: 0.069594 (Large)\n"
     ]
    },
    {
     "data": {
      "image/png": "[encoded data removed]",
      "text/plain": [
       "<Figure size 432x288 with 1 Axes>"
      ]
     },
     "metadata": {
      "needs_background": "light"
     },
     "output_type": "display_data"
    }
   ],
   "source": [
    "clf = manifold.MDS(n_components=50, n_init=1, max_iter=100)\n",
    "X_mds100 = clf.fit_transform(X)\n",
    "compare_methods(X_mds100,Y,listAlgorithms,listParams,listNames,metric='auroc')"
   ]
  },
  {
   "cell_type": "code",
   "execution_count": 40,
   "metadata": {},
   "outputs": [
    {
     "name": "stdout",
     "output_type": "stream",
     "text": [
      "temp.csv\n",
      "['Arbol' 'SVM' 'KNN' 'LR' 'MLP' 'RF' 'ET']\n",
      "==========================================================\n",
      "Report\n",
      "==========================================================\n",
      "**********************************************************\n",
      "Mean and std\n",
      "**********************************************************\n",
      "Arbol: 0.462500 (0.162671)\n",
      "SVM: 0.200000 (0.256038)\n",
      "KNN: 0.340000 (0.384650)\n",
      "LR: 0.466667 (0.248998)\n",
      "MLP: 0.348333 (0.324076)\n",
      "RF: 0.350000 (0.292973)\n",
      "ET: 0.150000 (0.320156)\n",
      "**********************************************************\n",
      "Statistical tests\n",
      "**********************************************************\n",
      "----------------------------------------------------------\n",
      "Checking parametric conditions \n",
      "----------------------------------------------------------\n",
      "Checking independence \n",
      "Ok\n",
      "Checking normality using Shapiro-Wilk's test for normality, alpha=0.05\n",
      "W: 0.871037, p:0.000003\n",
      "The null hypothesis (normality) is rejected\n",
      "Checking heteroscedasticity using Levene's test, alpha=0.05\n",
      "W: 0.566957, p:0.755015\n",
      "The null hypothesis (heteroscedasticity) is accepted\n",
      "Conditions for a parametric test are not fulfilled, applying a non-parametric test\n",
      "----------------------------------------------------------\n",
      "Working with more than 2 algorithms\n",
      "----------------------------------------------------------\n",
      "----------------------------------------------------------\n",
      "Applying Friedman test\n",
      "----------------------------------------------------------\n",
      "F-value: 1.707457, p-value: 0.13699883359852716\n",
      "Null hypothesis is rejected; hence, models have different performance\n",
      "Technique      Ranking\n",
      "-----------  ---------\n",
      "Arbol             5.1\n",
      "LR                5\n",
      "RF                4.35\n",
      "KNN               3.9\n",
      "MLP               3.6\n",
      "SVM               3.2\n",
      "ET                2.85\n",
      "Winner model: Arbol\n",
      "----------------------------------------------------------\n",
      "Applying Holm p-value adjustment procedure and analysing effect size\n",
      "----------------------------------------------------------\n",
      "Comparison      Zvalue    p-value    adjusted p-value\n",
      "------------  --------  ---------  ------------------\n",
      "Arbol vs ET   2.32897   0.0198606            0.119164\n",
      "Arbol vs SVM  1.96669   0.0492193            0.246097\n",
      "Arbol vs MLP  1.55265   0.120507             0.482029\n",
      "Arbol vs KNN  1.24212   0.214193             0.642579\n",
      "Arbol vs RF   0.776324  0.437558             0.875116\n",
      "Arbol vs LR   0.10351   0.917558             0.917558\n",
      "There is a significant difference between the models: Arbol (mean: 0.462500, std: 0.162671) and ET (mean: 0.150000, std: 0.320156) (Cohen's d=1.1674968615276244, Large)\n",
      "There is a significant difference between the models: Arbol (mean: 0.462500, std: 0.162671) and SVM (mean: 0.200000, std: 0.256038) (Cohen's d=1.1609958654404537, Large)\n",
      "There is a significant difference between the models: Arbol (mean: 0.462500, std: 0.162671) and MLP (mean: 0.348333, std: 0.324076) (Cohen's d=0.42241028737428965, Medium)\n",
      "We can't say that there is a significant difference in the performance of the models: Arbol (mean: 0.462500, std: 0.162671) and KNN (mean: 0.340000, std: 0.384650) (Cohen's d=0.39352967376603254, Medium)\n",
      "We can't say that there is a significant difference in the performance of the models: Arbol (mean: 0.462500, std: 0.162671) and RF (mean: 0.350000, std: 0.292973) (Cohen's d=0.4504102826470572, Medium)\n",
      "We can't say that there is a significant difference in the performance of the models: Arbol (mean: 0.462500, std: 0.162671) and LR (mean: 0.466667, std: 0.248998) (Cohen's d=0.01879520691451733, Small)\n",
      "Eta squared: 0.126688 (Large)\n"
     ]
    },
    {
     "data": {
      "image/png": "[encoded data removed]",
      "text/plain": [
       "<Figure size 432x288 with 1 Axes>"
      ]
     },
     "metadata": {
      "needs_background": "light"
     },
     "output_type": "display_data"
    }
   ],
   "source": [
    "compare_methods(X_mds100,Y,listAlgorithms,listParams,listNames,metric='precision')"
   ]
  },
  {
   "cell_type": "code",
   "execution_count": 41,
   "metadata": {},
   "outputs": [
    {
     "name": "stdout",
     "output_type": "stream",
     "text": [
      "temp.csv\n",
      "['Arbol' 'SVM' 'KNN' 'LR' 'MLP' 'RF' 'ET']\n",
      "==========================================================\n",
      "Report\n",
      "==========================================================\n",
      "**********************************************************\n",
      "Mean and std\n",
      "**********************************************************\n",
      "Arbol: 0.543333 (0.298998)\n",
      "SVM: 0.166667 (0.232737)\n",
      "KNN: 0.275000 (0.258333)\n",
      "LR: 0.486667 (0.291909)\n",
      "MLP: 0.395000 (0.339612)\n",
      "RF: 0.228333 (0.181972)\n",
      "ET: 0.066667 (0.152753)\n",
      "**********************************************************\n",
      "Statistical tests\n",
      "**********************************************************\n",
      "----------------------------------------------------------\n",
      "Checking parametric conditions \n",
      "----------------------------------------------------------\n",
      "Checking independence \n",
      "Ok\n",
      "Checking normality using Shapiro-Wilk's test for normality, alpha=0.05\n",
      "W: 0.866361, p:0.000002\n",
      "The null hypothesis (normality) is rejected\n",
      "Checking heteroscedasticity using Levene's test, alpha=0.05\n",
      "W: 2.188294, p:0.055703\n",
      "The null hypothesis (heteroscedasticity) is rejected\n",
      "Conditions for a parametric test are not fulfilled, applying a non-parametric test\n",
      "----------------------------------------------------------\n",
      "Working with more than 2 algorithms\n",
      "----------------------------------------------------------\n",
      "----------------------------------------------------------\n",
      "Applying Friedman test\n",
      "----------------------------------------------------------\n",
      "F-value: 5.301930, p-value: 0.00023331351152389157\n",
      "Null hypothesis is rejected; hence, models have different performance\n",
      "Technique      Ranking\n",
      "-----------  ---------\n",
      "Arbol             5.85\n",
      "LR                5.35\n",
      "MLP               4.45\n",
      "RF                3.7\n",
      "KNN               3.7\n",
      "SVM               2.7\n",
      "ET                2.25\n",
      "Winner model: Arbol\n",
      "----------------------------------------------------------\n",
      "Applying Holm p-value adjustment procedure and analysing effect size\n",
      "----------------------------------------------------------\n",
      "Comparison      Zvalue      p-value    adjusted p-value\n",
      "------------  --------  -----------  ------------------\n",
      "Arbol vs ET   3.72635   0.000194269          0.00116562\n",
      "Arbol vs SVM  3.26056   0.00111193           0.00555963\n",
      "Arbol vs KNN  2.22546   0.0260503            0.104201\n",
      "Arbol vs RF   2.22546   0.0260503            0.104201\n",
      "Arbol vs MLP  1.44914   0.147299             0.294598\n",
      "Arbol vs LR   0.517549  0.604773             0.604773\n",
      "There is a significant difference between the models: Arbol (mean: 0.543333, std: 0.298998) and ET (mean: 0.066667, std: 0.152753) (Cohen's d=1.9046924531845588, Large)\n",
      "There is a significant difference between the models: Arbol (mean: 0.543333, std: 0.298998) and SVM (mean: 0.166667, std: 0.232737) (Cohen's d=1.3337260469566545, Large)\n",
      "There is a significant difference between the models: Arbol (mean: 0.543333, std: 0.298998) and KNN (mean: 0.275000, std: 0.258333) (Cohen's d=0.9110856347934317, Large)\n",
      "There is a significant difference between the models: Arbol (mean: 0.543333, std: 0.298998) and RF (mean: 0.228333, std: 0.181972) (Cohen's d=1.2074082626094689, Large)\n",
      "There is a significant difference between the models: Arbol (mean: 0.543333, std: 0.298998) and MLP (mean: 0.395000, std: 0.339612) (Cohen's d=0.4398228454783282, Medium)\n",
      "We can't say that there is a significant difference in the performance of the models: Arbol (mean: 0.543333, std: 0.298998) and LR (mean: 0.486667, std: 0.291909) (Cohen's d=0.18193991239221072, Small)\n",
      "Eta squared: 0.278660 (Large)\n"
     ]
    },
    {
     "data": {
      "image/png": "[encoded data removed]",
      "text/plain": [
       "<Figure size 432x288 with 1 Axes>"
      ]
     },
     "metadata": {
      "needs_background": "light"
     },
     "output_type": "display_data"
    }
   ],
   "source": [
    "compare_methods(X_mds100,Y,listAlgorithms,listParams,listNames,metric='recall')"
   ]
  },
  {
   "cell_type": "code",
   "execution_count": 42,
   "metadata": {},
   "outputs": [
    {
     "name": "stdout",
     "output_type": "stream",
     "text": [
      "temp.csv\n",
      "['Arbol' 'SVM' 'KNN' 'LR' 'MLP' 'RF' 'ET']\n",
      "==========================================================\n",
      "Report\n",
      "==========================================================\n",
      "**********************************************************\n",
      "Mean and std\n",
      "**********************************************************\n",
      "Arbol: 0.523333 (0.158578)\n",
      "SVM: 0.552222 (0.145216)\n",
      "KNN: 0.507778 (0.196390)\n",
      "LR: 0.563333 (0.091631)\n",
      "MLP: 0.477778 (0.117694)\n",
      "RF: 0.500000 (0.140546)\n",
      "ET: 0.487778 (0.143540)\n",
      "**********************************************************\n",
      "Statistical tests\n",
      "**********************************************************\n",
      "----------------------------------------------------------\n",
      "Checking parametric conditions \n",
      "----------------------------------------------------------\n",
      "Checking independence \n",
      "Ok\n",
      "Checking normality using Shapiro-Wilk's test for normality, alpha=0.05\n",
      "W: 0.964790, p:0.046287\n",
      "The null hypothesis (normality) is rejected\n",
      "Checking heteroscedasticity using Levene's test, alpha=0.05\n",
      "W: 0.766685, p:0.598879\n",
      "The null hypothesis (heteroscedasticity) is accepted\n",
      "Conditions for a parametric test are not fulfilled, applying a non-parametric test\n",
      "----------------------------------------------------------\n",
      "Working with more than 2 algorithms\n",
      "----------------------------------------------------------\n",
      "----------------------------------------------------------\n",
      "Applying Friedman test\n",
      "----------------------------------------------------------\n",
      "F-value: 0.496891, p-value: 0.8078832079441516\n",
      "Null hypothesis is accepted; hence, we can't say that there is a significant difference in the performance of the models\n",
      "----------------------------------------------------------\n",
      "Analysing effect size\n",
      "----------------------------------------------------------\n",
      "We take the model with the best mean (LR, mean: 0.563333) and compare it with the other models: \n",
      "Comparing effect size of LR and Arbol: Cohen's d=0.293017753308806, Medium\n",
      "Comparing effect size of LR and SVM: Cohen's d=0.08681622658172677, Small\n",
      "Comparing effect size of LR and KNN: Cohen's d=0.3439335847357979, Medium\n",
      "Comparing effect size of LR and MLP: Cohen's d=0.7695512259724532, Large\n",
      "Comparing effect size of LR and RF: Cohen's d=0.5064471843079005, Large\n",
      "Comparing effect size of LR and ET: Cohen's d=0.5952558289640754, Large\n",
      "Eta squared: 0.040283 (Medium)\n"
     ]
    },
    {
     "data": {
      "image/png": "[encoded data removed]",
      "text/plain": [
       "<Figure size 432x288 with 1 Axes>"
      ]
     },
     "metadata": {
      "needs_background": "light"
     },
     "output_type": "display_data"
    }
   ],
   "source": [
    "compare_methods(X_mds100,Y,listAlgorithms,listParams,listNames,metric='accuracy')"
   ]
  }
 ],
 "metadata": {
  "colab": {
   "name": "CompareMethods.ipynb",
   "provenance": []
  },
  "kernelspec": {
   "display_name": "Python 3",
   "language": "python",
   "name": "python3"
  },
  "language_info": {
   "codemirror_mode": {
    "name": "ipython",
    "version": 3
   },
   "file_extension": ".py",
   "mimetype": "text/x-python",
   "name": "python",
   "nbconvert_exporter": "python",
   "pygments_lexer": "ipython3",
   "version": "3.6.7"
  }
 },
 "nbformat": 4,
 "nbformat_minor": 1
}
