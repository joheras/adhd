{
 "cells": [
  {
   "cell_type": "code",
   "execution_count": 1,
   "metadata": {
    "id": "9VdC2keIvxIJ"
   },
   "outputs": [],
   "source": [
    "import numpy as np\n",
    "from StatisticalAnalysis import compare_methods"
   ]
  },
  {
   "cell_type": "code",
   "execution_count": 2,
   "metadata": {
    "id": "3iCEO6wXtftF"
   },
   "outputs": [],
   "source": [
    "import warnings\n",
    "warnings.filterwarnings('ignore')"
   ]
  },
  {
   "cell_type": "markdown",
   "metadata": {
    "id": "Zb3btBk5vxIM"
   },
   "source": [
    "First we load the data and process it to have the correct form."
   ]
  },
  {
   "cell_type": "code",
   "execution_count": 3,
   "metadata": {},
   "outputs": [],
   "source": [
    "corr = np.load('corrAutoencoderSparse.npy')"
   ]
  },
  {
   "cell_type": "code",
   "execution_count": 4,
   "metadata": {},
   "outputs": [],
   "source": [
    "corr_hc = corr[0:52]\n",
    "corr_adhd = corr[52:]"
   ]
  },
  {
   "cell_type": "code",
   "execution_count": 5,
   "metadata": {
    "id": "StF6b56QvxIN"
   },
   "outputs": [
    {
     "data": {
      "text/plain": [
       "(52, 32)"
      ]
     },
     "execution_count": 5,
     "metadata": {},
     "output_type": "execute_result"
    }
   ],
   "source": [
    "corr_hc.shape"
   ]
  },
  {
   "cell_type": "code",
   "execution_count": 6,
   "metadata": {
    "id": "qd1nFcAfvxIO"
   },
   "outputs": [],
   "source": [
    "corr_hc = corr_hc.reshape(52,32)"
   ]
  },
  {
   "cell_type": "code",
   "execution_count": 7,
   "metadata": {
    "id": "fc006UE6vxIO"
   },
   "outputs": [],
   "source": [
    "corr_adhd = corr_adhd.reshape(40,32)"
   ]
  },
  {
   "cell_type": "code",
   "execution_count": 8,
   "metadata": {
    "id": "SEhdGg3IvxIP"
   },
   "outputs": [],
   "source": [
    "X = np.append(corr_hc,corr_adhd,axis=0)"
   ]
  },
  {
   "cell_type": "code",
   "execution_count": 9,
   "metadata": {
    "colab": {
     "base_uri": "https://localhost:8080/"
    },
    "id": "8d-RFXoavxIQ",
    "outputId": "a61e1d34-79c6-4f1a-df1f-0b3a74b2c53d"
   },
   "outputs": [
    {
     "data": {
      "text/plain": [
       "(92, 32)"
      ]
     },
     "execution_count": 9,
     "metadata": {},
     "output_type": "execute_result"
    }
   ],
   "source": [
    "X.shape"
   ]
  },
  {
   "cell_type": "code",
   "execution_count": 10,
   "metadata": {
    "colab": {
     "base_uri": "https://localhost:8080/"
    },
    "id": "hnaiAVUvJmgn",
    "outputId": "6cb5c264-f346-4b38-e85b-aa3b8bf8ace6"
   },
   "outputs": [
    {
     "data": {
      "text/plain": [
       "(32,)"
      ]
     },
     "execution_count": 10,
     "metadata": {},
     "output_type": "execute_result"
    }
   ],
   "source": [
    "X[0].shape"
   ]
  },
  {
   "cell_type": "code",
   "execution_count": 13,
   "metadata": {
    "id": "5oh4k1gEvxIR"
   },
   "outputs": [],
   "source": [
    "Y = np.append(np.zeros(52),np.ones(40),axis=0)"
   ]
  },
  {
   "cell_type": "code",
   "execution_count": 14,
   "metadata": {
    "colab": {
     "base_uri": "https://localhost:8080/"
    },
    "id": "PZuBWU5LvxIR",
    "outputId": "21a0987a-b533-41fc-bea5-9f94b3246a66",
    "scrolled": true
   },
   "outputs": [
    {
     "data": {
      "text/plain": [
       "(92,)"
      ]
     },
     "execution_count": 14,
     "metadata": {},
     "output_type": "execute_result"
    }
   ],
   "source": [
    "Y.shape"
   ]
  },
  {
   "cell_type": "markdown",
   "metadata": {
    "id": "w2w8w0VjvxIS"
   },
   "source": [
    "Now, we define the algorithms that we are going to use. "
   ]
  },
  {
   "cell_type": "code",
   "execution_count": 15,
   "metadata": {
    "id": "MEPfV3efvxIS"
   },
   "outputs": [],
   "source": [
    "from sklearn.tree import DecisionTreeClassifier\n",
    "from sklearn.neighbors import KNeighborsClassifier\n",
    "from sklearn.linear_model import LogisticRegression\n",
    "from sklearn.svm import SVC\n",
    "from sklearn.neural_network import MLPClassifier\n",
    "from sklearn.ensemble import ExtraTreesClassifier\n",
    "from sklearn.ensemble import GradientBoostingClassifier\n",
    "from sklearn.ensemble import RandomForestClassifier\n",
    "from sklearn.ensemble import AdaBoostClassifier\n",
    "from scipy.stats import randint as sp_randint"
   ]
  },
  {
   "cell_type": "code",
   "execution_count": 16,
   "metadata": {
    "id": "YwnPEwswvxIU"
   },
   "outputs": [],
   "source": [
    "# Decision tree\n",
    "clfTree = DecisionTreeClassifier(random_state=84)\n",
    "param_distTree = {\"min_samples_split\": sp_randint(3, 30)}\n",
    "# SVM\n",
    "clfSVC = SVC(random_state=84)\n",
    "param_distSVC = {'C': [1, 10, 100, 1000], 'gamma': [0.001, 0.0001],'kernel': ['rbf'], 'class_weight':['balanced', None]}\n",
    "# KNN\n",
    "clfKNN = KNeighborsClassifier()\n",
    "param_distKNN = {'n_neighbors':sp_randint(3, 30)}\n",
    "# Logistic regression\n",
    "clfLR = LogisticRegression(random_state=84)\n",
    "param_distLR = {'C': [0.1,0.5,1, 10, 100, 1000]}\n",
    "# Neural Network\n",
    "clfMLP = MLPClassifier(random_state=84)\n",
    "param_distMLP = {'activation': ['identity', 'logistic', 'tanh', 'relu'], 'solver': ['lbfgs', 'sgd', 'adam'],\n",
    "                 'alpha': sp_randint(0.0001, 1), 'learning_rate': ['constant', 'invscaling', 'adaptive'],\n",
    "                 'hidden_layer_sizes': [(5,2), (3,3,3), (5,3,2), (5,4,3,2)],\n",
    "                 'momentum': [0.9, 0.95, 0.99]}\n",
    "# RandomForest\n",
    "clfRF = RandomForestClassifier(random_state=84)\n",
    "param_distRF =  {'n_estimators': [int(x) for x in np.linspace(start = 200, stop = 2000, num = 10)], 'max_features': ['auto', 'sqrt'],'max_depth': [int(x) for x in np.linspace(10, 110, num = 11)],\n",
    "                 'min_samples_split': [2, 5, 10],'min_samples_leaf': [1, 2, 4],\n",
    "                 'bootstrap': [True, False]}\n",
    "# ExtraTreesClassifier\n",
    "clfET = ExtraTreesClassifier(random_state=84)\n",
    "param_distET =  {'n_estimators': [int(x) for x in np.linspace(start = 200, stop = 2000, num = 10)], 'max_features': ['auto', 'sqrt'],'max_depth': [int(x) for x in np.linspace(10, 110, num = 11)],\n",
    "                 'min_samples_split': [2, 5, 10],'min_samples_leaf': [1, 2, 4],\n",
    "                 'bootstrap': [True, False]}"
   ]
  },
  {
   "cell_type": "code",
   "execution_count": 17,
   "metadata": {
    "id": "GGQcPxBOvxIV"
   },
   "outputs": [],
   "source": [
    "listAlgorithms = [clfTree,clfSVC,clfKNN,clfLR,clfMLP,clfRF,clfET]"
   ]
  },
  {
   "cell_type": "code",
   "execution_count": 18,
   "metadata": {
    "id": "8Nl-1GpjvxIV"
   },
   "outputs": [],
   "source": [
    "listParams = [param_distTree,param_distSVC,param_distKNN,param_distLR,param_distMLP,param_distRF, param_distET]"
   ]
  },
  {
   "cell_type": "code",
   "execution_count": 19,
   "metadata": {
    "id": "IK_8iIWovxIV"
   },
   "outputs": [],
   "source": [
    "listNames = [\"Arbol\", \"SVM\", \"KNN\", \"LR\", \"MLP\",\"RF\",\"ET\"]"
   ]
  },
  {
   "cell_type": "markdown",
   "metadata": {},
   "source": [
    "# Plain comparison"
   ]
  },
  {
   "cell_type": "code",
   "execution_count": 20,
   "metadata": {
    "id": "LSSesjlBvxIV"
   },
   "outputs": [
    {
     "name": "stdout",
     "output_type": "stream",
     "text": [
      "temp.csv\n",
      "['Arbol' 'SVM' 'KNN' 'LR' 'MLP' 'RF' 'ET']\n",
      "==========================================================\n",
      "Report\n",
      "==========================================================\n",
      "**********************************************************\n",
      "Mean and std\n",
      "**********************************************************\n",
      "Arbol: 0.392381 (0.123130)\n",
      "SVM: 0.487500 (0.037500)\n",
      "KNN: 0.492024 (0.083851)\n",
      "LR: 0.485833 (0.075925)\n",
      "MLP: 0.507857 (0.070006)\n",
      "RF: 0.427500 (0.147088)\n",
      "ET: 0.427976 (0.102533)\n",
      "**********************************************************\n",
      "Statistical tests\n",
      "**********************************************************\n",
      "----------------------------------------------------------\n",
      "Checking parametric conditions \n",
      "----------------------------------------------------------\n",
      "Checking independence \n",
      "Ok\n",
      "Checking normality using Shapiro-Wilk's test for normality, alpha=0.05\n",
      "W: 0.929053, p:0.000674\n",
      "The null hypothesis (normality) is rejected\n",
      "Checking heteroscedasticity using Levene's test, alpha=0.05\n",
      "W: 2.555903, p:0.028017\n",
      "The null hypothesis (heteroscedasticity) is rejected\n",
      "Conditions for a parametric test are not fulfilled, applying a non-parametric test\n",
      "----------------------------------------------------------\n",
      "Working with more than 2 algorithms\n",
      "----------------------------------------------------------\n",
      "----------------------------------------------------------\n",
      "Applying Friedman test\n",
      "----------------------------------------------------------\n",
      "F-value: 1.202429, p-value: 0.3192904488676718\n",
      "Null hypothesis is rejected; hence, models have different performance\n",
      "Technique      Ranking\n",
      "-----------  ---------\n",
      "MLP               4.85\n",
      "KNN               4.65\n",
      "SVM               4.4\n",
      "LR                4.3\n",
      "RF                3.6\n",
      "ET                3.35\n",
      "Arbol             2.85\n",
      "Winner model: MLP\n",
      "----------------------------------------------------------\n",
      "Applying Holm p-value adjustment procedure and analysing effect size\n",
      "----------------------------------------------------------\n",
      "Comparison      Zvalue    p-value    adjusted p-value\n",
      "------------  --------  ---------  ------------------\n",
      "MLP vs Arbol  2.0702    0.0384339            0.230604\n",
      "MLP vs ET     1.55265   0.120507             0.602537\n",
      "MLP vs RF     1.29387   0.195709             0.782837\n",
      "MLP vs LR     0.569304  0.56915              1\n",
      "MLP vs SVM    0.465794  0.641363             1\n",
      "MLP vs KNN    0.20702   0.835994             1\n",
      "There is a significant difference between the models: MLP (mean: 0.507857, std: 0.070006) and Arbol (mean: 0.392381, std: 0.123130) (Cohen's d=1.0938118361250762, Large)\n",
      "We can't say that there is a significant difference in the performance of the models: MLP (mean: 0.507857, std: 0.070006) and ET (mean: 0.427976, std: 0.102533) (Cohen's d=0.8632217538267496, Large)\n",
      "We can't say that there is a significant difference in the performance of the models: MLP (mean: 0.507857, std: 0.070006) and RF (mean: 0.427500, std: 0.147088) (Cohen's d=0.6618295589701788, Large)\n",
      "We can't say that there is a significant difference in the performance of the models: MLP (mean: 0.507857, std: 0.070006) and LR (mean: 0.485833, std: 0.075925) (Cohen's d=0.2861142149301133, Medium)\n",
      "We can't say that there is a significant difference in the performance of the models: MLP (mean: 0.507857, std: 0.070006) and SVM (mean: 0.487500, std: 0.037500) (Cohen's d=0.3439047756746111, Medium)\n",
      "We can't say that there is a significant difference in the performance of the models: MLP (mean: 0.507857, std: 0.070006) and KNN (mean: 0.492024, std: 0.083851) (Cohen's d=0.1944716724511931, Small)\n",
      "Eta squared: 0.146435 (Large)\n"
     ]
    },
    {
     "data": {
      "image/png": "[encoded data removed]",
      "text/plain": [
       "<Figure size 432x288 with 1 Axes>"
      ]
     },
     "metadata": {
      "needs_background": "light"
     },
     "output_type": "display_data"
    }
   ],
   "source": [
    "compare_methods(X,Y,listAlgorithms,listParams,listNames,metric='auroc')"
   ]
  },
  {
   "cell_type": "code",
   "execution_count": 21,
   "metadata": {},
   "outputs": [
    {
     "name": "stdout",
     "output_type": "stream",
     "text": [
      "temp.csv\n",
      "['Arbol' 'SVM' 'KNN' 'LR' 'MLP' 'RF' 'ET']\n",
      "==========================================================\n",
      "Report\n",
      "==========================================================\n",
      "**********************************************************\n",
      "Mean and std\n",
      "**********************************************************\n",
      "Arbol: 0.304286 (0.233704)\n",
      "SVM: 0.033333 (0.100000)\n",
      "KNN: 0.208333 (0.314576)\n",
      "LR: 0.183333 (0.320156)\n",
      "MLP: 0.333333 (0.316228)\n",
      "RF: 0.353333 (0.318399)\n",
      "ET: 0.233333 (0.306866)\n",
      "**********************************************************\n",
      "Statistical tests\n",
      "**********************************************************\n",
      "----------------------------------------------------------\n",
      "Checking parametric conditions \n",
      "----------------------------------------------------------\n",
      "Checking independence \n",
      "Ok\n",
      "Checking normality using Shapiro-Wilk's test for normality, alpha=0.05\n",
      "W: 0.772812, p:0.000000\n",
      "The null hypothesis (normality) is rejected\n",
      "Checking heteroscedasticity using Levene's test, alpha=0.05\n",
      "W: 0.950041, p:0.466225\n",
      "The null hypothesis (heteroscedasticity) is rejected\n",
      "Conditions for a parametric test are not fulfilled, applying a non-parametric test\n",
      "----------------------------------------------------------\n",
      "Working with more than 2 algorithms\n",
      "----------------------------------------------------------\n",
      "----------------------------------------------------------\n",
      "Applying Friedman test\n",
      "----------------------------------------------------------\n",
      "F-value: 0.946714, p-value: 0.46981843171685667\n",
      "Null hypothesis is rejected; hence, models have different performance\n",
      "Technique      Ranking\n",
      "-----------  ---------\n",
      "MLP               4.65\n",
      "RF                4.6\n",
      "Arbol             4.3\n",
      "ET                4.1\n",
      "KNN               3.95\n",
      "LR                3.7\n",
      "SVM               2.7\n",
      "Winner model: MLP\n",
      "----------------------------------------------------------\n",
      "Applying Holm p-value adjustment procedure and analysing effect size\n",
      "----------------------------------------------------------\n",
      "Comparison       Zvalue    p-value    adjusted p-value\n",
      "------------  ---------  ---------  ------------------\n",
      "MLP vs SVM    2.01844    0.0435453            0.261272\n",
      "MLP vs LR     0.983343   0.325438             1\n",
      "MLP vs KNN    0.724569   0.468717             1\n",
      "MLP vs ET     0.569304   0.56915              1\n",
      "MLP vs Arbol  0.362284   0.71714              1\n",
      "MLP vs RF     0.0517549  0.958724             1\n",
      "There is a significant difference between the models: MLP (mean: 0.333333, std: 0.316228) and SVM (mean: 0.033333, std: 0.100000) (Cohen's d=1.2135597524338357, Large)\n",
      "We can't say that there is a significant difference in the performance of the models: MLP (mean: 0.333333, std: 0.316228) and LR (mean: 0.183333, std: 0.320156) (Cohen's d=0.4472135954999579, Medium)\n",
      "We can't say that there is a significant difference in the performance of the models: MLP (mean: 0.333333, std: 0.316228) and KNN (mean: 0.208333, std: 0.314576) (Cohen's d=0.37598039382992116, Medium)\n",
      "We can't say that there is a significant difference in the performance of the models: MLP (mean: 0.333333, std: 0.316228) and ET (mean: 0.233333, std: 0.306866) (Cohen's d=0.30447309020822216, Medium)\n",
      "We can't say that there is a significant difference in the performance of the models: MLP (mean: 0.333333, std: 0.316228) and Arbol (mean: 0.304286, std: 0.233704) (Cohen's d=0.09910993849856886, Small)\n",
      "We can't say that there is a significant difference in the performance of the models: MLP (mean: 0.333333, std: 0.316228) and RF (mean: 0.353333, std: 0.318399) (Cohen's d=0.05979439501799741, Small)\n",
      "Eta squared: 0.114364 (Large)\n"
     ]
    },
    {
     "data": {
      "image/png": "[encoded data removed]",
      "text/plain": [
       "<Figure size 432x288 with 1 Axes>"
      ]
     },
     "metadata": {
      "needs_background": "light"
     },
     "output_type": "display_data"
    }
   ],
   "source": [
    "compare_methods(X,Y,listAlgorithms,listParams,listNames,metric='precision')"
   ]
  },
  {
   "cell_type": "code",
   "execution_count": 22,
   "metadata": {},
   "outputs": [
    {
     "name": "stdout",
     "output_type": "stream",
     "text": [
      "temp.csv\n",
      "['Arbol' 'SVM' 'KNN' 'LR' 'MLP' 'RF' 'ET']\n",
      "==========================================================\n",
      "Report\n",
      "==========================================================\n",
      "**********************************************************\n",
      "Mean and std\n",
      "**********************************************************\n",
      "Arbol: 0.275000 (0.166875)\n",
      "SVM: 0.033333 (0.100000)\n",
      "KNN: 0.116667 (0.145297)\n",
      "LR: 0.083333 (0.129099)\n",
      "MLP: 0.158333 (0.136677)\n",
      "RF: 0.283333 (0.163299)\n",
      "ET: 0.133333 (0.140436)\n",
      "**********************************************************\n",
      "Statistical tests\n",
      "**********************************************************\n",
      "----------------------------------------------------------\n",
      "Checking parametric conditions \n",
      "----------------------------------------------------------\n",
      "Checking independence \n",
      "Ok\n",
      "Checking normality using Shapiro-Wilk's test for normality, alpha=0.05\n",
      "W: 0.782302, p:0.000000\n",
      "The null hypothesis (normality) is rejected\n",
      "Checking heteroscedasticity using Levene's test, alpha=0.05\n",
      "W: 0.882904, p:0.512773\n",
      "The null hypothesis (heteroscedasticity) is accepted\n",
      "Conditions for a parametric test are not fulfilled, applying a non-parametric test\n",
      "----------------------------------------------------------\n",
      "Working with more than 2 algorithms\n",
      "----------------------------------------------------------\n",
      "----------------------------------------------------------\n",
      "Applying Friedman test\n",
      "----------------------------------------------------------\n",
      "F-value: 2.535821, p-value: 0.030949306415443134\n",
      "Null hypothesis is rejected; hence, models have different performance\n",
      "Technique      Ranking\n",
      "-----------  ---------\n",
      "RF                5.35\n",
      "Arbol             5.25\n",
      "MLP               4.15\n",
      "ET                3.85\n",
      "KNN               3.55\n",
      "LR                3.25\n",
      "SVM               2.6\n",
      "Winner model: RF\n",
      "----------------------------------------------------------\n",
      "Applying Holm p-value adjustment procedure and analysing effect size\n",
      "----------------------------------------------------------\n",
      "Comparison      Zvalue     p-value    adjusted p-value\n",
      "------------  --------  ----------  ------------------\n",
      "RF vs SVM      2.84652  0.00441999           0.0265199\n",
      "RF vs LR       2.17371  0.0297272            0.148636\n",
      "RF vs KNN      1.86318  0.0624374            0.249749\n",
      "RF vs ET       1.55265  0.120507             0.361522\n",
      "RF vs MLP      1.24212  0.214193             0.428386\n",
      "RF vs Arbol    0.10351  0.917558             0.917558\n",
      "There is a significant difference between the models: RF (mean: 0.283333, std: 0.163299) and SVM (mean: 0.033333, std: 0.100000) (Cohen's d=1.751622624363427, Large)\n",
      "There is a significant difference between the models: RF (mean: 0.283333, std: 0.163299) and LR (mean: 0.083333, std: 0.129099) (Cohen's d=1.2890067732709796, Large)\n",
      "There is a significant difference between the models: RF (mean: 0.283333, std: 0.163299) and KNN (mean: 0.116667, std: 0.145297) (Cohen's d=1.0229915092057105, Large)\n",
      "There is a significant difference between the models: RF (mean: 0.283333, std: 0.163299) and ET (mean: 0.133333, std: 0.140436) (Cohen's d=0.9343735292780767, Large)\n",
      "There is a significant difference between the models: RF (mean: 0.283333, std: 0.163299) and MLP (mean: 0.158333, std: 0.136677) (Cohen's d=0.7875369166582228, Large)\n",
      "We can't say that there is a significant difference in the performance of the models: RF (mean: 0.283333, std: 0.163299) and Arbol (mean: 0.275000, std: 0.166875) (Cohen's d=0.04788521306805716, Small)\n",
      "Eta squared: 0.272718 (Large)\n"
     ]
    },
    {
     "data": {
      "image/png": "[encoded data removed]",
      "text/plain": [
       "<Figure size 432x288 with 1 Axes>"
      ]
     },
     "metadata": {
      "needs_background": "light"
     },
     "output_type": "display_data"
    }
   ],
   "source": [
    "compare_methods(X,Y,listAlgorithms,listParams,listNames,metric='recall')"
   ]
  },
  {
   "cell_type": "code",
   "execution_count": 23,
   "metadata": {},
   "outputs": [
    {
     "name": "stdout",
     "output_type": "stream",
     "text": [
      "temp.csv\n",
      "['Arbol' 'SVM' 'KNN' 'LR' 'MLP' 'RF' 'ET']\n",
      "==========================================================\n",
      "Report\n",
      "==========================================================\n",
      "**********************************************************\n",
      "Mean and std\n",
      "**********************************************************\n",
      "Arbol: 0.390000 (0.134848)\n",
      "SVM: 0.541111 (0.151865)\n",
      "KNN: 0.528889 (0.171428)\n",
      "LR: 0.541111 (0.174558)\n",
      "MLP: 0.552222 (0.156509)\n",
      "RF: 0.432222 (0.133004)\n",
      "ET: 0.453333 (0.138225)\n",
      "**********************************************************\n",
      "Statistical tests\n",
      "**********************************************************\n",
      "----------------------------------------------------------\n",
      "Checking parametric conditions \n",
      "----------------------------------------------------------\n",
      "Checking independence \n",
      "Ok\n",
      "Checking normality using Shapiro-Wilk's test for normality, alpha=0.05\n",
      "W: 0.906380, p:0.000070\n",
      "The null hypothesis (normality) is rejected\n",
      "Checking heteroscedasticity using Levene's test, alpha=0.05\n",
      "W: 0.305060, p:0.932043\n",
      "The null hypothesis (heteroscedasticity) is accepted\n",
      "Conditions for a parametric test are not fulfilled, applying a non-parametric test\n",
      "----------------------------------------------------------\n",
      "Working with more than 2 algorithms\n",
      "----------------------------------------------------------\n",
      "----------------------------------------------------------\n",
      "Applying Friedman test\n",
      "----------------------------------------------------------\n",
      "F-value: 0.792112, p-value: 0.5801211559798809\n",
      "Null hypothesis is accepted; hence, we can't say that there is a significant difference in the performance of the models\n",
      "----------------------------------------------------------\n",
      "Analysing effect size\n",
      "----------------------------------------------------------\n",
      "We take the model with the best mean (MLP, mean: 0.552222) and compare it with the other models: \n",
      "Comparing effect size of MLP and Arbol: Cohen's d=1.0535118344949355, Large\n",
      "Comparing effect size of MLP and SVM: Cohen's d=0.06835681814558968, Small\n",
      "Comparing effect size of MLP and KNN: Cohen's d=0.13486159705737666, Small\n",
      "Comparing effect size of MLP and LR: Cohen's d=0.06358415731036117, Small\n",
      "Comparing effect size of MLP and RF: Cohen's d=0.7838582230123129, Large\n",
      "Comparing effect size of MLP and ET: Cohen's d=0.6353811941099464, Large\n",
      "Eta squared: 0.134700 (Large)\n"
     ]
    },
    {
     "data": {
      "image/png": "[encoded data removed]",
      "text/plain": [
       "<Figure size 432x288 with 1 Axes>"
      ]
     },
     "metadata": {
      "needs_background": "light"
     },
     "output_type": "display_data"
    }
   ],
   "source": [
    "compare_methods(X,Y,listAlgorithms,listParams,listNames,metric='accuracy')"
   ]
  }
 ],
 "metadata": {
  "colab": {
   "name": "CompareMethods.ipynb",
   "provenance": []
  },
  "kernelspec": {
   "display_name": "Python 3",
   "language": "python",
   "name": "python3"
  },
  "language_info": {
   "codemirror_mode": {
    "name": "ipython",
    "version": 3
   },
   "file_extension": ".py",
   "mimetype": "text/x-python",
   "name": "python",
   "nbconvert_exporter": "python",
   "pygments_lexer": "ipython3",
   "version": "3.6.7"
  }
 },
 "nbformat": 4,
 "nbformat_minor": 1
}
